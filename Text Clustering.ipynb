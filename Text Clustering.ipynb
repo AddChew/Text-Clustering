{
 "cells": [
  {
   "cell_type": "markdown",
   "id": "e31a709e",
   "metadata": {},
   "source": [
    "## Note: To view the visualizations, you have to run the entire notebook. Alternatively you may view the visualizations in Text Clustering.html."
   ]
  },
  {
   "cell_type": "markdown",
   "id": "d817ea1d",
   "metadata": {},
   "source": [
    "### Import the necessary libraries"
   ]
  },
  {
   "cell_type": "code",
   "execution_count": null,
   "id": "9cdd810a",
   "metadata": {},
   "outputs": [],
   "source": [
    "# Run this cell if this is the first time you are using nltk\n",
    "import nltk\n",
    "nltk.download('punkt')"
   ]
  },
  {
   "cell_type": "code",
   "execution_count": 56,
   "id": "901ba456",
   "metadata": {},
   "outputs": [],
   "source": [
    "import re\n",
    "\n",
    "import pandas as pd\n",
    "\n",
    "import plotly.express as px\n",
    "import plotly.graph_objects as go\n",
    "\n",
    "from transformers import AutoTokenizer\n",
    "\n",
    "from nltk import ngrams\n",
    "from nltk.tokenize import sent_tokenize\n",
    "from nltk.corpus import stopwords\n",
    "from nltk.stem import PorterStemmer"
   ]
  },
  {
   "cell_type": "markdown",
   "id": "cef5cc98",
   "metadata": {},
   "source": [
    "### Load the dataset"
   ]
  },
  {
   "cell_type": "code",
   "execution_count": 2,
   "id": "0338d606",
   "metadata": {},
   "outputs": [
    {
     "data": {
      "text/html": [
       "<div>\n",
       "<style scoped>\n",
       "    .dataframe tbody tr th:only-of-type {\n",
       "        vertical-align: middle;\n",
       "    }\n",
       "\n",
       "    .dataframe tbody tr th {\n",
       "        vertical-align: top;\n",
       "    }\n",
       "\n",
       "    .dataframe thead th {\n",
       "        text-align: right;\n",
       "    }\n",
       "</style>\n",
       "<table border=\"1\" class=\"dataframe\">\n",
       "  <thead>\n",
       "    <tr style=\"text-align: right;\">\n",
       "      <th></th>\n",
       "      <th>altid</th>\n",
       "      <th>title</th>\n",
       "      <th>content</th>\n",
       "    </tr>\n",
       "  </thead>\n",
       "  <tbody>\n",
       "    <tr>\n",
       "      <th>0</th>\n",
       "      <td>sa1a70ab8ef5</td>\n",
       "      <td>Davenport hits out at Wimbledon</td>\n",
       "      <td>World number one Lindsay Davenport has critic...</td>\n",
       "    </tr>\n",
       "    <tr>\n",
       "      <th>1</th>\n",
       "      <td>ta497aea0e36</td>\n",
       "      <td>Camera phones are 'must-haves'</td>\n",
       "      <td>Four times more mobiles with cameras in them ...</td>\n",
       "    </tr>\n",
       "    <tr>\n",
       "      <th>2</th>\n",
       "      <td>ta0f0fa26a93</td>\n",
       "      <td>US top of supercomputing charts</td>\n",
       "      <td>The US has pushed Japan off the top of the su...</td>\n",
       "    </tr>\n",
       "    <tr>\n",
       "      <th>3</th>\n",
       "      <td>ba23aaa4f4bb</td>\n",
       "      <td>Trial begins of Spain's top banker</td>\n",
       "      <td>The trial of Emilio Botin, the chairman of Sp...</td>\n",
       "    </tr>\n",
       "    <tr>\n",
       "      <th>4</th>\n",
       "      <td>baa126aeb946</td>\n",
       "      <td>Safety alert as GM recalls cars</td>\n",
       "      <td>The world's biggest carmaker General Motors (...</td>\n",
       "    </tr>\n",
       "  </tbody>\n",
       "</table>\n",
       "</div>"
      ],
      "text/plain": [
       "          altid                               title  \\\n",
       "0  sa1a70ab8ef5     Davenport hits out at Wimbledon   \n",
       "1  ta497aea0e36      Camera phones are 'must-haves'   \n",
       "2  ta0f0fa26a93     US top of supercomputing charts   \n",
       "3  ba23aaa4f4bb  Trial begins of Spain's top banker   \n",
       "4  baa126aeb946     Safety alert as GM recalls cars   \n",
       "\n",
       "                                             content  \n",
       "0   World number one Lindsay Davenport has critic...  \n",
       "1   Four times more mobiles with cameras in them ...  \n",
       "2   The US has pushed Japan off the top of the su...  \n",
       "3   The trial of Emilio Botin, the chairman of Sp...  \n",
       "4   The world's biggest carmaker General Motors (...  "
      ]
     },
     "execution_count": 2,
     "metadata": {},
     "output_type": "execute_result"
    }
   ],
   "source": [
    "news_data = pd.read_csv(\"news_data.csv\")\n",
    "news_data.head()"
   ]
  },
  {
   "cell_type": "markdown",
   "id": "03e767ba",
   "metadata": {},
   "source": [
    "### Exploratory Data Analysis"
   ]
  },
  {
   "cell_type": "code",
   "execution_count": 3,
   "id": "89f8e981",
   "metadata": {},
   "outputs": [
    {
     "data": {
      "application/vnd.jupyter.widget-view+json": {
       "model_id": "2733419a8a8646f69d3bab77d4b59ae1",
       "version_major": 2,
       "version_minor": 0
      },
      "text/plain": [
       "Downloading:   0%|          | 0.00/350 [00:00<?, ?B/s]"
      ]
     },
     "metadata": {},
     "output_type": "display_data"
    },
    {
     "data": {
      "application/vnd.jupyter.widget-view+json": {
       "model_id": "a75f45535ea2478797e1f2e14f727946",
       "version_major": 2,
       "version_minor": 0
      },
      "text/plain": [
       "Downloading:   0%|          | 0.00/226k [00:00<?, ?B/s]"
      ]
     },
     "metadata": {},
     "output_type": "display_data"
    },
    {
     "data": {
      "application/vnd.jupyter.widget-view+json": {
       "model_id": "ca01ee0a60d54ee4a40b290b934f86ec",
       "version_major": 2,
       "version_minor": 0
      },
      "text/plain": [
       "Downloading:   0%|          | 0.00/455k [00:00<?, ?B/s]"
      ]
     },
     "metadata": {},
     "output_type": "display_data"
    },
    {
     "data": {
      "application/vnd.jupyter.widget-view+json": {
       "model_id": "568ec4f6273c4ed08ed837eb57521b59",
       "version_major": 2,
       "version_minor": 0
      },
      "text/plain": [
       "Downloading:   0%|          | 0.00/112 [00:00<?, ?B/s]"
      ]
     },
     "metadata": {},
     "output_type": "display_data"
    }
   ],
   "source": [
    "# Load tokenizer\n",
    "tokenizer = AutoTokenizer.from_pretrained(\"sentence-transformers/all-MiniLM-L6-v2\")"
   ]
  },
  {
   "cell_type": "code",
   "execution_count": 7,
   "id": "c5c3255c",
   "metadata": {},
   "outputs": [
    {
     "name": "stderr",
     "output_type": "stream",
     "text": [
      "Token indices sequence length is longer than the specified maximum sequence length for this model (716 > 512). Running this sequence through the model will result in indexing errors\n"
     ]
    }
   ],
   "source": [
    "# Tokenize the content\n",
    "news_data[\"content_tokens\"] = news_data.content.apply(tokenizer.tokenize)"
   ]
  },
  {
   "cell_type": "code",
   "execution_count": 12,
   "id": "49bdc3ac",
   "metadata": {},
   "outputs": [],
   "source": [
    "# Calculate the number of tokens per article\n",
    "news_data[\"num_tokens\"] = news_data.content_tokens.apply(len)"
   ]
  },
  {
   "cell_type": "code",
   "execution_count": 33,
   "id": "ed10dd9e",
   "metadata": {},
   "outputs": [
    {
     "data": {
      "application/vnd.plotly.v1+json": {
       "config": {
        "plotlyServerURL": "https://plot.ly"
       },
       "data": [
        {
         "alignmentgroup": "True",
         "boxpoints": "all",
         "customdata": [
          [
           "Davenport hits out at Wimbledon"
          ],
          [
           "Camera phones are 'must-haves'"
          ],
          [
           "US top of supercomputing charts"
          ],
          [
           "Trial begins of Spain's top banker"
          ],
          [
           "Safety alert as GM recalls cars"
          ],
          [
           "Angry Williams rejects criticism"
          ],
          [
           "E-University 'disgraceful waste'"
          ],
          [
           "India to deport Bollywood actress"
          ],
          [
           "Web radio takes Spanish rap global"
          ],
          [
           "Ailing EuroDisney vows turnaround"
          ],
          [
           "Eminem beats Elvis to number one"
          ],
          [
           "Rapper 50 Cent ends protege feud"
          ],
          [
           "Director Nair's Vanity project"
          ],
          [
           "Fast lifts rise into record books"
          ],
          [
           "GB quartet get cross country call"
          ],
          [
           "Ray DVD beats box office takings"
          ],
          [
           "Singer Ferguson 'facing eviction'"
          ],
          [
           "Sir Paul rocks Super Bowl crowds"
          ],
          [
           "Dementieva prevails in Hong Kong"
          ],
          [
           "Radcliffe proves doubters wrong"
          ],
          [
           "Wenger rules out new keeper"
          ],
          [
           "Fit-again Betsen in France squad"
          ],
          [
           "Double injury blow strikes Wales"
          ],
          [
           "Ref stands by Scotland decisions"
          ],
          [
           "Downing injury mars Uefa victory"
          ],
          [
           "New UKIP defection to 'Veritas'"
          ],
          [
           "Bath faced with Tindall ultimatum"
          ],
          [
           "Paris promise raises Welsh hopes"
          ],
          [
           "Souness delight at Euro progress"
          ],
          [
           "Houllier praises Benitez regime"
          ],
          [
           "Analysis: No pain, no gain?"
          ],
          [
           "Howard denies split over ID cards"
          ],
          [
           "Blair pledges unity to Labour MPs"
          ],
          [
           "Nat Insurance to rise, say Tories"
          ],
          [
           "Lib Dems stress Budget trust gap"
          ],
          [
           "UK needs tax cuts, Tories insist"
          ],
          [
           "Jowell confirms casino climbdown"
          ],
          [
           "PM apology over jailings"
          ],
          [
           "Brown names 16 March for Budget"
          ],
          [
           "Blair to face MPs amid feud talk"
          ],
          [
           "&#163;1.8m indecency fine for Viacom"
          ],
          [
           "Standard Life cuts policy bonuses"
          ],
          [
           "Cars pull down US retail figures"
          ],
          [
           "Broadband soars in 2004"
          ],
          [
           "Brewers' profits lose their fizz"
          ],
          [
           "Chinese exports rise 25% in 2004"
          ],
          [
           "Huge rush for Jet Airways shares"
          ],
          [
           "Tsunami 'to hit Sri Lanka banks'"
          ],
          [
           "Fresh hope after Argentine crisis"
          ],
          [
           "UK interest rates held at 4.75%"
          ],
          [
           "Local net TV takes off in Austria"
          ],
          [
           "Rich pickings for hi-tech thieves"
          ],
          [
           "Apple iPod family expands market"
          ],
          [
           "Iran jails blogger for 14 years"
          ],
          [
           "Yahoo moves into desktop search"
          ],
          [
           "More women turn to net security"
          ],
          [
           "Global digital divide 'narrowing'"
          ],
          [
           "Mobiles get set for visual radio"
          ],
          [
           "Cable offers video-on-demand"
          ],
          [
           "Game makers get Xbox 2 sneak peek"
          ]
         ],
         "hovertemplate": "Number of Tokens=%{y}<br>title=%{customdata[0]}<extra></extra>",
         "legendgroup": "",
         "marker": {
          "color": "#636efa"
         },
         "name": "",
         "notched": false,
         "offsetgroup": "",
         "orientation": "v",
         "showlegend": false,
         "type": "box",
         "x0": " ",
         "xaxis": "x",
         "y": [
          310,
          716,
          482,
          355,
          377,
          373,
          406,
          293,
          943,
          245,
          253,
          454,
          958,
          482,
          242,
          265,
          330,
          499,
          200,
          475,
          302,
          393,
          292,
          214,
          379,
          426,
          228,
          803,
          269,
          497,
          1075,
          645,
          688,
          497,
          619,
          471,
          459,
          520,
          343,
          491,
          314,
          382,
          383,
          946,
          493,
          392,
          283,
          278,
          1068,
          632,
          498,
          749,
          642,
          548,
          482,
          750,
          430,
          803,
          726,
          538
         ],
         "y0": " ",
         "yaxis": "y"
        }
       ],
       "layout": {
        "boxmode": "group",
        "legend": {
         "tracegroupgap": 0
        },
        "margin": {
         "t": 60
        },
        "template": {
         "data": {
          "bar": [
           {
            "error_x": {
             "color": "#2a3f5f"
            },
            "error_y": {
             "color": "#2a3f5f"
            },
            "marker": {
             "line": {
              "color": "#E5ECF6",
              "width": 0.5
             },
             "pattern": {
              "fillmode": "overlay",
              "size": 10,
              "solidity": 0.2
             }
            },
            "type": "bar"
           }
          ],
          "barpolar": [
           {
            "marker": {
             "line": {
              "color": "#E5ECF6",
              "width": 0.5
             },
             "pattern": {
              "fillmode": "overlay",
              "size": 10,
              "solidity": 0.2
             }
            },
            "type": "barpolar"
           }
          ],
          "carpet": [
           {
            "aaxis": {
             "endlinecolor": "#2a3f5f",
             "gridcolor": "white",
             "linecolor": "white",
             "minorgridcolor": "white",
             "startlinecolor": "#2a3f5f"
            },
            "baxis": {
             "endlinecolor": "#2a3f5f",
             "gridcolor": "white",
             "linecolor": "white",
             "minorgridcolor": "white",
             "startlinecolor": "#2a3f5f"
            },
            "type": "carpet"
           }
          ],
          "choropleth": [
           {
            "colorbar": {
             "outlinewidth": 0,
             "ticks": ""
            },
            "type": "choropleth"
           }
          ],
          "contour": [
           {
            "colorbar": {
             "outlinewidth": 0,
             "ticks": ""
            },
            "colorscale": [
             [
              0,
              "#0d0887"
             ],
             [
              0.1111111111111111,
              "#46039f"
             ],
             [
              0.2222222222222222,
              "#7201a8"
             ],
             [
              0.3333333333333333,
              "#9c179e"
             ],
             [
              0.4444444444444444,
              "#bd3786"
             ],
             [
              0.5555555555555556,
              "#d8576b"
             ],
             [
              0.6666666666666666,
              "#ed7953"
             ],
             [
              0.7777777777777778,
              "#fb9f3a"
             ],
             [
              0.8888888888888888,
              "#fdca26"
             ],
             [
              1,
              "#f0f921"
             ]
            ],
            "type": "contour"
           }
          ],
          "contourcarpet": [
           {
            "colorbar": {
             "outlinewidth": 0,
             "ticks": ""
            },
            "type": "contourcarpet"
           }
          ],
          "heatmap": [
           {
            "colorbar": {
             "outlinewidth": 0,
             "ticks": ""
            },
            "colorscale": [
             [
              0,
              "#0d0887"
             ],
             [
              0.1111111111111111,
              "#46039f"
             ],
             [
              0.2222222222222222,
              "#7201a8"
             ],
             [
              0.3333333333333333,
              "#9c179e"
             ],
             [
              0.4444444444444444,
              "#bd3786"
             ],
             [
              0.5555555555555556,
              "#d8576b"
             ],
             [
              0.6666666666666666,
              "#ed7953"
             ],
             [
              0.7777777777777778,
              "#fb9f3a"
             ],
             [
              0.8888888888888888,
              "#fdca26"
             ],
             [
              1,
              "#f0f921"
             ]
            ],
            "type": "heatmap"
           }
          ],
          "heatmapgl": [
           {
            "colorbar": {
             "outlinewidth": 0,
             "ticks": ""
            },
            "colorscale": [
             [
              0,
              "#0d0887"
             ],
             [
              0.1111111111111111,
              "#46039f"
             ],
             [
              0.2222222222222222,
              "#7201a8"
             ],
             [
              0.3333333333333333,
              "#9c179e"
             ],
             [
              0.4444444444444444,
              "#bd3786"
             ],
             [
              0.5555555555555556,
              "#d8576b"
             ],
             [
              0.6666666666666666,
              "#ed7953"
             ],
             [
              0.7777777777777778,
              "#fb9f3a"
             ],
             [
              0.8888888888888888,
              "#fdca26"
             ],
             [
              1,
              "#f0f921"
             ]
            ],
            "type": "heatmapgl"
           }
          ],
          "histogram": [
           {
            "marker": {
             "pattern": {
              "fillmode": "overlay",
              "size": 10,
              "solidity": 0.2
             }
            },
            "type": "histogram"
           }
          ],
          "histogram2d": [
           {
            "colorbar": {
             "outlinewidth": 0,
             "ticks": ""
            },
            "colorscale": [
             [
              0,
              "#0d0887"
             ],
             [
              0.1111111111111111,
              "#46039f"
             ],
             [
              0.2222222222222222,
              "#7201a8"
             ],
             [
              0.3333333333333333,
              "#9c179e"
             ],
             [
              0.4444444444444444,
              "#bd3786"
             ],
             [
              0.5555555555555556,
              "#d8576b"
             ],
             [
              0.6666666666666666,
              "#ed7953"
             ],
             [
              0.7777777777777778,
              "#fb9f3a"
             ],
             [
              0.8888888888888888,
              "#fdca26"
             ],
             [
              1,
              "#f0f921"
             ]
            ],
            "type": "histogram2d"
           }
          ],
          "histogram2dcontour": [
           {
            "colorbar": {
             "outlinewidth": 0,
             "ticks": ""
            },
            "colorscale": [
             [
              0,
              "#0d0887"
             ],
             [
              0.1111111111111111,
              "#46039f"
             ],
             [
              0.2222222222222222,
              "#7201a8"
             ],
             [
              0.3333333333333333,
              "#9c179e"
             ],
             [
              0.4444444444444444,
              "#bd3786"
             ],
             [
              0.5555555555555556,
              "#d8576b"
             ],
             [
              0.6666666666666666,
              "#ed7953"
             ],
             [
              0.7777777777777778,
              "#fb9f3a"
             ],
             [
              0.8888888888888888,
              "#fdca26"
             ],
             [
              1,
              "#f0f921"
             ]
            ],
            "type": "histogram2dcontour"
           }
          ],
          "mesh3d": [
           {
            "colorbar": {
             "outlinewidth": 0,
             "ticks": ""
            },
            "type": "mesh3d"
           }
          ],
          "parcoords": [
           {
            "line": {
             "colorbar": {
              "outlinewidth": 0,
              "ticks": ""
             }
            },
            "type": "parcoords"
           }
          ],
          "pie": [
           {
            "automargin": true,
            "type": "pie"
           }
          ],
          "scatter": [
           {
            "marker": {
             "colorbar": {
              "outlinewidth": 0,
              "ticks": ""
             }
            },
            "type": "scatter"
           }
          ],
          "scatter3d": [
           {
            "line": {
             "colorbar": {
              "outlinewidth": 0,
              "ticks": ""
             }
            },
            "marker": {
             "colorbar": {
              "outlinewidth": 0,
              "ticks": ""
             }
            },
            "type": "scatter3d"
           }
          ],
          "scattercarpet": [
           {
            "marker": {
             "colorbar": {
              "outlinewidth": 0,
              "ticks": ""
             }
            },
            "type": "scattercarpet"
           }
          ],
          "scattergeo": [
           {
            "marker": {
             "colorbar": {
              "outlinewidth": 0,
              "ticks": ""
             }
            },
            "type": "scattergeo"
           }
          ],
          "scattergl": [
           {
            "marker": {
             "colorbar": {
              "outlinewidth": 0,
              "ticks": ""
             }
            },
            "type": "scattergl"
           }
          ],
          "scattermapbox": [
           {
            "marker": {
             "colorbar": {
              "outlinewidth": 0,
              "ticks": ""
             }
            },
            "type": "scattermapbox"
           }
          ],
          "scatterpolar": [
           {
            "marker": {
             "colorbar": {
              "outlinewidth": 0,
              "ticks": ""
             }
            },
            "type": "scatterpolar"
           }
          ],
          "scatterpolargl": [
           {
            "marker": {
             "colorbar": {
              "outlinewidth": 0,
              "ticks": ""
             }
            },
            "type": "scatterpolargl"
           }
          ],
          "scatterternary": [
           {
            "marker": {
             "colorbar": {
              "outlinewidth": 0,
              "ticks": ""
             }
            },
            "type": "scatterternary"
           }
          ],
          "surface": [
           {
            "colorbar": {
             "outlinewidth": 0,
             "ticks": ""
            },
            "colorscale": [
             [
              0,
              "#0d0887"
             ],
             [
              0.1111111111111111,
              "#46039f"
             ],
             [
              0.2222222222222222,
              "#7201a8"
             ],
             [
              0.3333333333333333,
              "#9c179e"
             ],
             [
              0.4444444444444444,
              "#bd3786"
             ],
             [
              0.5555555555555556,
              "#d8576b"
             ],
             [
              0.6666666666666666,
              "#ed7953"
             ],
             [
              0.7777777777777778,
              "#fb9f3a"
             ],
             [
              0.8888888888888888,
              "#fdca26"
             ],
             [
              1,
              "#f0f921"
             ]
            ],
            "type": "surface"
           }
          ],
          "table": [
           {
            "cells": {
             "fill": {
              "color": "#EBF0F8"
             },
             "line": {
              "color": "white"
             }
            },
            "header": {
             "fill": {
              "color": "#C8D4E3"
             },
             "line": {
              "color": "white"
             }
            },
            "type": "table"
           }
          ]
         },
         "layout": {
          "annotationdefaults": {
           "arrowcolor": "#2a3f5f",
           "arrowhead": 0,
           "arrowwidth": 1
          },
          "autotypenumbers": "strict",
          "coloraxis": {
           "colorbar": {
            "outlinewidth": 0,
            "ticks": ""
           }
          },
          "colorscale": {
           "diverging": [
            [
             0,
             "#8e0152"
            ],
            [
             0.1,
             "#c51b7d"
            ],
            [
             0.2,
             "#de77ae"
            ],
            [
             0.3,
             "#f1b6da"
            ],
            [
             0.4,
             "#fde0ef"
            ],
            [
             0.5,
             "#f7f7f7"
            ],
            [
             0.6,
             "#e6f5d0"
            ],
            [
             0.7,
             "#b8e186"
            ],
            [
             0.8,
             "#7fbc41"
            ],
            [
             0.9,
             "#4d9221"
            ],
            [
             1,
             "#276419"
            ]
           ],
           "sequential": [
            [
             0,
             "#0d0887"
            ],
            [
             0.1111111111111111,
             "#46039f"
            ],
            [
             0.2222222222222222,
             "#7201a8"
            ],
            [
             0.3333333333333333,
             "#9c179e"
            ],
            [
             0.4444444444444444,
             "#bd3786"
            ],
            [
             0.5555555555555556,
             "#d8576b"
            ],
            [
             0.6666666666666666,
             "#ed7953"
            ],
            [
             0.7777777777777778,
             "#fb9f3a"
            ],
            [
             0.8888888888888888,
             "#fdca26"
            ],
            [
             1,
             "#f0f921"
            ]
           ],
           "sequentialminus": [
            [
             0,
             "#0d0887"
            ],
            [
             0.1111111111111111,
             "#46039f"
            ],
            [
             0.2222222222222222,
             "#7201a8"
            ],
            [
             0.3333333333333333,
             "#9c179e"
            ],
            [
             0.4444444444444444,
             "#bd3786"
            ],
            [
             0.5555555555555556,
             "#d8576b"
            ],
            [
             0.6666666666666666,
             "#ed7953"
            ],
            [
             0.7777777777777778,
             "#fb9f3a"
            ],
            [
             0.8888888888888888,
             "#fdca26"
            ],
            [
             1,
             "#f0f921"
            ]
           ]
          },
          "colorway": [
           "#636efa",
           "#EF553B",
           "#00cc96",
           "#ab63fa",
           "#FFA15A",
           "#19d3f3",
           "#FF6692",
           "#B6E880",
           "#FF97FF",
           "#FECB52"
          ],
          "font": {
           "color": "#2a3f5f"
          },
          "geo": {
           "bgcolor": "white",
           "lakecolor": "white",
           "landcolor": "#E5ECF6",
           "showlakes": true,
           "showland": true,
           "subunitcolor": "white"
          },
          "hoverlabel": {
           "align": "left"
          },
          "hovermode": "closest",
          "mapbox": {
           "style": "light"
          },
          "paper_bgcolor": "white",
          "plot_bgcolor": "#E5ECF6",
          "polar": {
           "angularaxis": {
            "gridcolor": "white",
            "linecolor": "white",
            "ticks": ""
           },
           "bgcolor": "#E5ECF6",
           "radialaxis": {
            "gridcolor": "white",
            "linecolor": "white",
            "ticks": ""
           }
          },
          "scene": {
           "xaxis": {
            "backgroundcolor": "#E5ECF6",
            "gridcolor": "white",
            "gridwidth": 2,
            "linecolor": "white",
            "showbackground": true,
            "ticks": "",
            "zerolinecolor": "white"
           },
           "yaxis": {
            "backgroundcolor": "#E5ECF6",
            "gridcolor": "white",
            "gridwidth": 2,
            "linecolor": "white",
            "showbackground": true,
            "ticks": "",
            "zerolinecolor": "white"
           },
           "zaxis": {
            "backgroundcolor": "#E5ECF6",
            "gridcolor": "white",
            "gridwidth": 2,
            "linecolor": "white",
            "showbackground": true,
            "ticks": "",
            "zerolinecolor": "white"
           }
          },
          "shapedefaults": {
           "line": {
            "color": "#2a3f5f"
           }
          },
          "ternary": {
           "aaxis": {
            "gridcolor": "white",
            "linecolor": "white",
            "ticks": ""
           },
           "baxis": {
            "gridcolor": "white",
            "linecolor": "white",
            "ticks": ""
           },
           "bgcolor": "#E5ECF6",
           "caxis": {
            "gridcolor": "white",
            "linecolor": "white",
            "ticks": ""
           }
          },
          "title": {
           "x": 0.05
          },
          "xaxis": {
           "automargin": true,
           "gridcolor": "white",
           "linecolor": "white",
           "ticks": "",
           "title": {
            "standoff": 15
           },
           "zerolinecolor": "white",
           "zerolinewidth": 2
          },
          "yaxis": {
           "automargin": true,
           "gridcolor": "white",
           "linecolor": "white",
           "ticks": "",
           "title": {
            "standoff": 15
           },
           "zerolinecolor": "white",
           "zerolinewidth": 2
          }
         }
        },
        "xaxis": {
         "anchor": "y",
         "domain": [
          0,
          1
         ]
        },
        "yaxis": {
         "anchor": "x",
         "domain": [
          0,
          1
         ],
         "title": {
          "text": "Number of Tokens"
         }
        }
       }
      },
      "text/html": [
       "<div>                            <div id=\"91102367-de60-4711-8603-75c703c29292\" class=\"plotly-graph-div\" style=\"height:525px; width:100%;\"></div>            <script type=\"text/javascript\">                require([\"plotly\"], function(Plotly) {                    window.PLOTLYENV=window.PLOTLYENV || {};                                    if (document.getElementById(\"91102367-de60-4711-8603-75c703c29292\")) {                    Plotly.newPlot(                        \"91102367-de60-4711-8603-75c703c29292\",                        [{\"alignmentgroup\":\"True\",\"boxpoints\":\"all\",\"customdata\":[[\"Davenport hits out at Wimbledon\"],[\"Camera phones are 'must-haves'\"],[\"US top of supercomputing charts\"],[\"Trial begins of Spain's top banker\"],[\"Safety alert as GM recalls cars\"],[\"Angry Williams rejects criticism\"],[\"E-University 'disgraceful waste'\"],[\"India to deport Bollywood actress\"],[\"Web radio takes Spanish rap global\"],[\"Ailing EuroDisney vows turnaround\"],[\"Eminem beats Elvis to number one\"],[\"Rapper 50 Cent ends protege feud\"],[\"Director Nair's Vanity project\"],[\"Fast lifts rise into record books\"],[\"GB quartet get cross country call\"],[\"Ray DVD beats box office takings\"],[\"Singer Ferguson 'facing eviction'\"],[\"Sir Paul rocks Super Bowl crowds\"],[\"Dementieva prevails in Hong Kong\"],[\"Radcliffe proves doubters wrong\"],[\"Wenger rules out new keeper\"],[\"Fit-again Betsen in France squad\"],[\"Double injury blow strikes Wales\"],[\"Ref stands by Scotland decisions\"],[\"Downing injury mars Uefa victory\"],[\"New UKIP defection to 'Veritas'\"],[\"Bath faced with Tindall ultimatum\"],[\"Paris promise raises Welsh hopes\"],[\"Souness delight at Euro progress\"],[\"Houllier praises Benitez regime\"],[\"Analysis: No pain, no gain?\"],[\"Howard denies split over ID cards\"],[\"Blair pledges unity to Labour MPs\"],[\"Nat Insurance to rise, say Tories\"],[\"Lib Dems stress Budget trust gap\"],[\"UK needs tax cuts, Tories insist\"],[\"Jowell confirms casino climbdown\"],[\"PM apology over jailings\"],[\"Brown names 16 March for Budget\"],[\"Blair to face MPs amid feud talk\"],[\"&#163;1.8m indecency fine for Viacom\"],[\"Standard Life cuts policy bonuses\"],[\"Cars pull down US retail figures\"],[\"Broadband soars in 2004\"],[\"Brewers' profits lose their fizz\"],[\"Chinese exports rise 25% in 2004\"],[\"Huge rush for Jet Airways shares\"],[\"Tsunami 'to hit Sri Lanka banks'\"],[\"Fresh hope after Argentine crisis\"],[\"UK interest rates held at 4.75%\"],[\"Local net TV takes off in Austria\"],[\"Rich pickings for hi-tech thieves\"],[\"Apple iPod family expands market\"],[\"Iran jails blogger for 14 years\"],[\"Yahoo moves into desktop search\"],[\"More women turn to net security\"],[\"Global digital divide 'narrowing'\"],[\"Mobiles get set for visual radio\"],[\"Cable offers video-on-demand\"],[\"Game makers get Xbox 2 sneak peek\"]],\"hovertemplate\":\"Number of Tokens=%{y}<br>title=%{customdata[0]}<extra></extra>\",\"legendgroup\":\"\",\"marker\":{\"color\":\"#636efa\"},\"name\":\"\",\"notched\":false,\"offsetgroup\":\"\",\"orientation\":\"v\",\"showlegend\":false,\"x0\":\" \",\"xaxis\":\"x\",\"y\":[310,716,482,355,377,373,406,293,943,245,253,454,958,482,242,265,330,499,200,475,302,393,292,214,379,426,228,803,269,497,1075,645,688,497,619,471,459,520,343,491,314,382,383,946,493,392,283,278,1068,632,498,749,642,548,482,750,430,803,726,538],\"y0\":\" \",\"yaxis\":\"y\",\"type\":\"box\"}],                        {\"template\":{\"data\":{\"bar\":[{\"error_x\":{\"color\":\"#2a3f5f\"},\"error_y\":{\"color\":\"#2a3f5f\"},\"marker\":{\"line\":{\"color\":\"#E5ECF6\",\"width\":0.5},\"pattern\":{\"fillmode\":\"overlay\",\"size\":10,\"solidity\":0.2}},\"type\":\"bar\"}],\"barpolar\":[{\"marker\":{\"line\":{\"color\":\"#E5ECF6\",\"width\":0.5},\"pattern\":{\"fillmode\":\"overlay\",\"size\":10,\"solidity\":0.2}},\"type\":\"barpolar\"}],\"carpet\":[{\"aaxis\":{\"endlinecolor\":\"#2a3f5f\",\"gridcolor\":\"white\",\"linecolor\":\"white\",\"minorgridcolor\":\"white\",\"startlinecolor\":\"#2a3f5f\"},\"baxis\":{\"endlinecolor\":\"#2a3f5f\",\"gridcolor\":\"white\",\"linecolor\":\"white\",\"minorgridcolor\":\"white\",\"startlinecolor\":\"#2a3f5f\"},\"type\":\"carpet\"}],\"choropleth\":[{\"colorbar\":{\"outlinewidth\":0,\"ticks\":\"\"},\"type\":\"choropleth\"}],\"contour\":[{\"colorbar\":{\"outlinewidth\":0,\"ticks\":\"\"},\"colorscale\":[[0.0,\"#0d0887\"],[0.1111111111111111,\"#46039f\"],[0.2222222222222222,\"#7201a8\"],[0.3333333333333333,\"#9c179e\"],[0.4444444444444444,\"#bd3786\"],[0.5555555555555556,\"#d8576b\"],[0.6666666666666666,\"#ed7953\"],[0.7777777777777778,\"#fb9f3a\"],[0.8888888888888888,\"#fdca26\"],[1.0,\"#f0f921\"]],\"type\":\"contour\"}],\"contourcarpet\":[{\"colorbar\":{\"outlinewidth\":0,\"ticks\":\"\"},\"type\":\"contourcarpet\"}],\"heatmap\":[{\"colorbar\":{\"outlinewidth\":0,\"ticks\":\"\"},\"colorscale\":[[0.0,\"#0d0887\"],[0.1111111111111111,\"#46039f\"],[0.2222222222222222,\"#7201a8\"],[0.3333333333333333,\"#9c179e\"],[0.4444444444444444,\"#bd3786\"],[0.5555555555555556,\"#d8576b\"],[0.6666666666666666,\"#ed7953\"],[0.7777777777777778,\"#fb9f3a\"],[0.8888888888888888,\"#fdca26\"],[1.0,\"#f0f921\"]],\"type\":\"heatmap\"}],\"heatmapgl\":[{\"colorbar\":{\"outlinewidth\":0,\"ticks\":\"\"},\"colorscale\":[[0.0,\"#0d0887\"],[0.1111111111111111,\"#46039f\"],[0.2222222222222222,\"#7201a8\"],[0.3333333333333333,\"#9c179e\"],[0.4444444444444444,\"#bd3786\"],[0.5555555555555556,\"#d8576b\"],[0.6666666666666666,\"#ed7953\"],[0.7777777777777778,\"#fb9f3a\"],[0.8888888888888888,\"#fdca26\"],[1.0,\"#f0f921\"]],\"type\":\"heatmapgl\"}],\"histogram\":[{\"marker\":{\"pattern\":{\"fillmode\":\"overlay\",\"size\":10,\"solidity\":0.2}},\"type\":\"histogram\"}],\"histogram2d\":[{\"colorbar\":{\"outlinewidth\":0,\"ticks\":\"\"},\"colorscale\":[[0.0,\"#0d0887\"],[0.1111111111111111,\"#46039f\"],[0.2222222222222222,\"#7201a8\"],[0.3333333333333333,\"#9c179e\"],[0.4444444444444444,\"#bd3786\"],[0.5555555555555556,\"#d8576b\"],[0.6666666666666666,\"#ed7953\"],[0.7777777777777778,\"#fb9f3a\"],[0.8888888888888888,\"#fdca26\"],[1.0,\"#f0f921\"]],\"type\":\"histogram2d\"}],\"histogram2dcontour\":[{\"colorbar\":{\"outlinewidth\":0,\"ticks\":\"\"},\"colorscale\":[[0.0,\"#0d0887\"],[0.1111111111111111,\"#46039f\"],[0.2222222222222222,\"#7201a8\"],[0.3333333333333333,\"#9c179e\"],[0.4444444444444444,\"#bd3786\"],[0.5555555555555556,\"#d8576b\"],[0.6666666666666666,\"#ed7953\"],[0.7777777777777778,\"#fb9f3a\"],[0.8888888888888888,\"#fdca26\"],[1.0,\"#f0f921\"]],\"type\":\"histogram2dcontour\"}],\"mesh3d\":[{\"colorbar\":{\"outlinewidth\":0,\"ticks\":\"\"},\"type\":\"mesh3d\"}],\"parcoords\":[{\"line\":{\"colorbar\":{\"outlinewidth\":0,\"ticks\":\"\"}},\"type\":\"parcoords\"}],\"pie\":[{\"automargin\":true,\"type\":\"pie\"}],\"scatter\":[{\"marker\":{\"colorbar\":{\"outlinewidth\":0,\"ticks\":\"\"}},\"type\":\"scatter\"}],\"scatter3d\":[{\"line\":{\"colorbar\":{\"outlinewidth\":0,\"ticks\":\"\"}},\"marker\":{\"colorbar\":{\"outlinewidth\":0,\"ticks\":\"\"}},\"type\":\"scatter3d\"}],\"scattercarpet\":[{\"marker\":{\"colorbar\":{\"outlinewidth\":0,\"ticks\":\"\"}},\"type\":\"scattercarpet\"}],\"scattergeo\":[{\"marker\":{\"colorbar\":{\"outlinewidth\":0,\"ticks\":\"\"}},\"type\":\"scattergeo\"}],\"scattergl\":[{\"marker\":{\"colorbar\":{\"outlinewidth\":0,\"ticks\":\"\"}},\"type\":\"scattergl\"}],\"scattermapbox\":[{\"marker\":{\"colorbar\":{\"outlinewidth\":0,\"ticks\":\"\"}},\"type\":\"scattermapbox\"}],\"scatterpolar\":[{\"marker\":{\"colorbar\":{\"outlinewidth\":0,\"ticks\":\"\"}},\"type\":\"scatterpolar\"}],\"scatterpolargl\":[{\"marker\":{\"colorbar\":{\"outlinewidth\":0,\"ticks\":\"\"}},\"type\":\"scatterpolargl\"}],\"scatterternary\":[{\"marker\":{\"colorbar\":{\"outlinewidth\":0,\"ticks\":\"\"}},\"type\":\"scatterternary\"}],\"surface\":[{\"colorbar\":{\"outlinewidth\":0,\"ticks\":\"\"},\"colorscale\":[[0.0,\"#0d0887\"],[0.1111111111111111,\"#46039f\"],[0.2222222222222222,\"#7201a8\"],[0.3333333333333333,\"#9c179e\"],[0.4444444444444444,\"#bd3786\"],[0.5555555555555556,\"#d8576b\"],[0.6666666666666666,\"#ed7953\"],[0.7777777777777778,\"#fb9f3a\"],[0.8888888888888888,\"#fdca26\"],[1.0,\"#f0f921\"]],\"type\":\"surface\"}],\"table\":[{\"cells\":{\"fill\":{\"color\":\"#EBF0F8\"},\"line\":{\"color\":\"white\"}},\"header\":{\"fill\":{\"color\":\"#C8D4E3\"},\"line\":{\"color\":\"white\"}},\"type\":\"table\"}]},\"layout\":{\"annotationdefaults\":{\"arrowcolor\":\"#2a3f5f\",\"arrowhead\":0,\"arrowwidth\":1},\"autotypenumbers\":\"strict\",\"coloraxis\":{\"colorbar\":{\"outlinewidth\":0,\"ticks\":\"\"}},\"colorscale\":{\"diverging\":[[0,\"#8e0152\"],[0.1,\"#c51b7d\"],[0.2,\"#de77ae\"],[0.3,\"#f1b6da\"],[0.4,\"#fde0ef\"],[0.5,\"#f7f7f7\"],[0.6,\"#e6f5d0\"],[0.7,\"#b8e186\"],[0.8,\"#7fbc41\"],[0.9,\"#4d9221\"],[1,\"#276419\"]],\"sequential\":[[0.0,\"#0d0887\"],[0.1111111111111111,\"#46039f\"],[0.2222222222222222,\"#7201a8\"],[0.3333333333333333,\"#9c179e\"],[0.4444444444444444,\"#bd3786\"],[0.5555555555555556,\"#d8576b\"],[0.6666666666666666,\"#ed7953\"],[0.7777777777777778,\"#fb9f3a\"],[0.8888888888888888,\"#fdca26\"],[1.0,\"#f0f921\"]],\"sequentialminus\":[[0.0,\"#0d0887\"],[0.1111111111111111,\"#46039f\"],[0.2222222222222222,\"#7201a8\"],[0.3333333333333333,\"#9c179e\"],[0.4444444444444444,\"#bd3786\"],[0.5555555555555556,\"#d8576b\"],[0.6666666666666666,\"#ed7953\"],[0.7777777777777778,\"#fb9f3a\"],[0.8888888888888888,\"#fdca26\"],[1.0,\"#f0f921\"]]},\"colorway\":[\"#636efa\",\"#EF553B\",\"#00cc96\",\"#ab63fa\",\"#FFA15A\",\"#19d3f3\",\"#FF6692\",\"#B6E880\",\"#FF97FF\",\"#FECB52\"],\"font\":{\"color\":\"#2a3f5f\"},\"geo\":{\"bgcolor\":\"white\",\"lakecolor\":\"white\",\"landcolor\":\"#E5ECF6\",\"showlakes\":true,\"showland\":true,\"subunitcolor\":\"white\"},\"hoverlabel\":{\"align\":\"left\"},\"hovermode\":\"closest\",\"mapbox\":{\"style\":\"light\"},\"paper_bgcolor\":\"white\",\"plot_bgcolor\":\"#E5ECF6\",\"polar\":{\"angularaxis\":{\"gridcolor\":\"white\",\"linecolor\":\"white\",\"ticks\":\"\"},\"bgcolor\":\"#E5ECF6\",\"radialaxis\":{\"gridcolor\":\"white\",\"linecolor\":\"white\",\"ticks\":\"\"}},\"scene\":{\"xaxis\":{\"backgroundcolor\":\"#E5ECF6\",\"gridcolor\":\"white\",\"gridwidth\":2,\"linecolor\":\"white\",\"showbackground\":true,\"ticks\":\"\",\"zerolinecolor\":\"white\"},\"yaxis\":{\"backgroundcolor\":\"#E5ECF6\",\"gridcolor\":\"white\",\"gridwidth\":2,\"linecolor\":\"white\",\"showbackground\":true,\"ticks\":\"\",\"zerolinecolor\":\"white\"},\"zaxis\":{\"backgroundcolor\":\"#E5ECF6\",\"gridcolor\":\"white\",\"gridwidth\":2,\"linecolor\":\"white\",\"showbackground\":true,\"ticks\":\"\",\"zerolinecolor\":\"white\"}},\"shapedefaults\":{\"line\":{\"color\":\"#2a3f5f\"}},\"ternary\":{\"aaxis\":{\"gridcolor\":\"white\",\"linecolor\":\"white\",\"ticks\":\"\"},\"baxis\":{\"gridcolor\":\"white\",\"linecolor\":\"white\",\"ticks\":\"\"},\"bgcolor\":\"#E5ECF6\",\"caxis\":{\"gridcolor\":\"white\",\"linecolor\":\"white\",\"ticks\":\"\"}},\"title\":{\"x\":0.05},\"xaxis\":{\"automargin\":true,\"gridcolor\":\"white\",\"linecolor\":\"white\",\"ticks\":\"\",\"title\":{\"standoff\":15},\"zerolinecolor\":\"white\",\"zerolinewidth\":2},\"yaxis\":{\"automargin\":true,\"gridcolor\":\"white\",\"linecolor\":\"white\",\"ticks\":\"\",\"title\":{\"standoff\":15},\"zerolinecolor\":\"white\",\"zerolinewidth\":2}}},\"xaxis\":{\"anchor\":\"y\",\"domain\":[0.0,1.0]},\"yaxis\":{\"anchor\":\"x\",\"domain\":[0.0,1.0],\"title\":{\"text\":\"Number of Tokens\"}},\"legend\":{\"tracegroupgap\":0},\"margin\":{\"t\":60},\"boxmode\":\"group\"},                        {\"responsive\": true}                    ).then(function(){\n",
       "                            \n",
       "var gd = document.getElementById('91102367-de60-4711-8603-75c703c29292');\n",
       "var x = new MutationObserver(function (mutations, observer) {{\n",
       "        var display = window.getComputedStyle(gd).display;\n",
       "        if (!display || display === 'none') {{\n",
       "            console.log([gd, 'removed!']);\n",
       "            Plotly.purge(gd);\n",
       "            observer.disconnect();\n",
       "        }}\n",
       "}});\n",
       "\n",
       "// Listen for the removal of the full notebook cells\n",
       "var notebookContainer = gd.closest('#notebook-container');\n",
       "if (notebookContainer) {{\n",
       "    x.observe(notebookContainer, {childList: true});\n",
       "}}\n",
       "\n",
       "// Listen for the clearing of the current output cell\n",
       "var outputEl = gd.closest('.output');\n",
       "if (outputEl) {{\n",
       "    x.observe(outputEl, {childList: true});\n",
       "}}\n",
       "\n",
       "                        })                };                });            </script>        </div>"
      ]
     },
     "metadata": {},
     "output_type": "display_data"
    }
   ],
   "source": [
    "# Visualize the distribution of the number of tokens in each article\n",
    "fig = px.box(news_data, y=\"num_tokens\",\n",
    "            points=\"all\",\n",
    "            labels={\"num_tokens\": \"Number of Tokens\"},\n",
    "            hover_data=[\"title\"])\n",
    "fig.show()"
   ]
  },
  {
   "cell_type": "markdown",
   "id": "23679976",
   "metadata": {},
   "source": [
    "It is observed that the median number of tokens that each article has is 465 which exceeds the maximum sequence length (128) of our chosen model. In fact, even the shortest article \"Dementieva prevails in Hong Kong\" with 200 tokens exceeds the maxium sequence length of 128. By default, the model will truncate our article to its maximum allowed number of tokens of 128 during inference and this would result in information loss, especially so for longer articles.\n",
    "\n",
    "To resolve this, we cluster the news on a sentence level instead of article level. This way, we are not limited by the maximum sequence length (128) constraint as it is very unlikely for a sentence to be longer than 128 tokens."
   ]
  },
  {
   "cell_type": "code",
   "execution_count": 21,
   "id": "64569cc8",
   "metadata": {},
   "outputs": [],
   "source": [
    "# Split content by sentences\n",
    "news_data[\"sentences\"] = news_data.content.apply(sent_tokenize)"
   ]
  },
  {
   "cell_type": "code",
   "execution_count": 23,
   "id": "bf513f65",
   "metadata": {},
   "outputs": [],
   "source": [
    "# Store each sentence in its own row\n",
    "news_data_sentence = news_data[[\"title\", \"sentences\"]].explode(column = \"sentences\", ignore_index = True)"
   ]
  },
  {
   "cell_type": "code",
   "execution_count": 25,
   "id": "ec0a8043",
   "metadata": {},
   "outputs": [],
   "source": [
    "# Tokenize the sentences\n",
    "news_data_sentence[\"sentence_tokens\"] = news_data_sentence.sentences.apply(tokenizer.tokenize)"
   ]
  },
  {
   "cell_type": "code",
   "execution_count": 27,
   "id": "21732908",
   "metadata": {},
   "outputs": [],
   "source": [
    "# Calculate the number of tokens per sentence\n",
    "news_data_sentence[\"num_tokens\"] = news_data_sentence.sentence_tokens.apply(len)"
   ]
  },
  {
   "cell_type": "code",
   "execution_count": 35,
   "id": "1724a876",
   "metadata": {},
   "outputs": [
    {
     "data": {
      "application/vnd.plotly.v1+json": {
       "config": {
        "plotlyServerURL": "https://plot.ly"
       },
       "data": [
        {
         "alignmentgroup": "True",
         "boxpoints": "all",
         "customdata": [
          [
           "Davenport hits out at Wimbledon",
           " World number one Lindsay Davenport has criticised Wimbledon over the issue of equal prize money for women."
          ],
          [
           "Davenport hits out at Wimbledon",
           "Reacting to a disputed comment by All England Club chairman Tim Phillips, the American said: \"I think it is highly insulting if prize money is taken away."
          ],
          [
           "Davenport hits out at Wimbledon",
           "\"Somebody, I think it was Mr Phillips, said they won't have money for flowers at Wimbledon."
          ],
          [
           "Davenport hits out at Wimbledon",
           "That's insulting.\""
          ],
          [
           "Davenport hits out at Wimbledon",
           "An All England club spokesperson denied Phillips made the remark, insisting: \"He definitely didn't say it.\""
          ],
          [
           "Davenport hits out at Wimbledon",
           "The statement added: \"It was said by someone else and was a humorous aside at the end of a radio interview when the conversation had moved to talking about the Wimbledon grounds.\""
          ],
          [
           "Davenport hits out at Wimbledon",
           "Davenport was speaking following the announcement that this week's Dubai Duty Free event will join the US and Australian Opens in offering equal prize money for women."
          ],
          [
           "Davenport hits out at Wimbledon",
           "\"You hear about women playing only three sets while men play five,\" said Daveport."
          ],
          [
           "Davenport hits out at Wimbledon",
           "\"And the best women are never going to beat the best men."
          ],
          [
           "Davenport hits out at Wimbledon",
           "\"But it's a different game you go to watch with the women - it doesn't make it better or worse."
          ],
          [
           "Davenport hits out at Wimbledon",
           "\"Hopefully we will be able to change people's minds.\""
          ],
          [
           "Davenport hits out at Wimbledon",
           "Serena Williams, who is also in Dubai, added: \"I'm obviously for equal prize money."
          ],
          [
           "Davenport hits out at Wimbledon",
           "\"Women's tennis is exciting."
          ],
          [
           "Davenport hits out at Wimbledon",
           "Men's tennis is exciting as well, but the women have it right now."
          ],
          [
           "Davenport hits out at Wimbledon",
           "\"If you are bringing in the spectators you should be able to reap what everyone else is able to reap.\""
          ],
          [
           "Camera phones are 'must-haves'",
           " Four times more mobiles with cameras in them will be sold in Europe by the end of 2004 than last year, says a report from analysts Gartner."
          ],
          [
           "Camera phones are 'must-haves'",
           "Globally, the number sold will reach 159 million, an increase of 104%."
          ],
          [
           "Camera phones are 'must-haves'",
           "The report predicts that nearly 70% of all mobile phones sold will have a built-in camera by 2008."
          ],
          [
           "Camera phones are 'must-haves'",
           "Improving imaging technology in mobiles is making them an increasingly \"must-have\" buy."
          ],
          [
           "Camera phones are 'must-haves'",
           "In Europe, cameras on mobiles can take 1.3 megapixel images."
          ],
          [
           "Camera phones are 'must-haves'",
           "But in Japan and Asia Pacific, where camera phone technology is much more advanced, mobiles have already been released which can take 3.2 megapixel images."
          ],
          [
           "Camera phones are 'must-haves'",
           "Japan still dominates mobile phone technology, and the uptake there is huge."
          ],
          [
           "Camera phones are 'must-haves'",
           "By 2008, according to Gartner, 95% of all mobiles sold there will have cameras on them."
          ],
          [
           "Camera phones are 'must-haves'",
           "Camera phones had some teething problems when they were first launched as people struggled with poor quality images and uses for them, as well as the complexity and expense of sending them via MMS (Multimedia Messaging Services)."
          ],
          [
           "Camera phones are 'must-haves'",
           "This has changed in the last 18 months."
          ],
          [
           "Camera phones are 'must-haves'",
           "Handset makers have concentrated on trying to make phones easier to use."
          ],
          [
           "Camera phones are 'must-haves'",
           "Realising that people like to use their camera phones in different ways, they have introduced more design features, like rotating screens and viewfinders, removable memory cards and easier controls to send picture messages."
          ],
          [
           "Camera phones are 'must-haves'",
           "Mobile companies have introduced more ways for people to share photos with other people."
          ],
          [
           "Camera phones are 'must-haves'",
           "These have included giving people easier ways to publish them on websites, or mobile blogs - moblogs."
          ],
          [
           "Camera phones are 'must-haves'",
           "But the report suggests that until image quality increases more, people will not be interested in printing out pictures at kiosks."
          ],
          [
           "Camera phones are 'must-haves'",
           "Image sensor technology inside cameras phones is improving."
          ],
          [
           "Camera phones are 'must-haves'",
           "The Gartner report suggests that by mid-2005, it is likely that the image resolution of most camera phones will be more than two megapixels."
          ],
          [
           "Camera phones are 'must-haves'",
           "Consumer digital cameras images range from two to four megapixels in quality, and up to six megapixels on a high-end camera."
          ],
          [
           "Camera phones are 'must-haves'",
           "But a lot of work is being done to make camera phones more like digital cameras."
          ],
          [
           "Camera phones are 'must-haves'",
           "Some handsets already feature limited zoom capability, and manufacturers are looking into technological improvements that will let people take more photos in poorly-lit conditions, like nightclubs."
          ],
          [
           "Camera phones are 'must-haves'",
           "Other developments include wide-angle modes, basic editing features, and better sensors and processors for recording film clips."
          ],
          [
           "Camera phones are 'must-haves'",
           "Images from camera phones have even made it into the art world."
          ],
          [
           "Camera phones are 'must-haves'",
           "An exhibition next month in aid of the charity Mencap, will feature snaps taken from the camera phones of top artists."
          ],
          [
           "Camera phones are 'must-haves'",
           "The exhibition, Fonetography, will feature images taken by photographers David Bailey, Rankin and Nan Goldin, and artists Sir Peter Blake, Tracey Emin and Jack Vettriano."
          ],
          [
           "Camera phones are 'must-haves'",
           "But some uses for them have worried many organisations."
          ],
          [
           "Camera phones are 'must-haves'",
           "Intel, Samsung, the UK's Foreign Office and Lawrence Livermore National Laboratories in the US, have decided to ban camera phones from their buildings for fear of sensitive information being snapped and leaked."
          ],
          [
           "Camera phones are 'must-haves'",
           "Many schools, fitness centres and local councils have also banned them over fears about privacy and misuse."
          ],
          [
           "Camera phones are 'must-haves'",
           "Italy's information commissioner has also voiced concern and has issued guidelines on where and how the phones can be used."
          ],
          [
           "Camera phones are 'must-haves'",
           "But camera phone fears have not dampened the manufacturers' profits."
          ],
          [
           "Camera phones are 'must-haves'",
           "According to recent figures, Sony Ericsson's profits tripled in the third-quarter because of new camera phones."
          ],
          [
           "Camera phones are 'must-haves'",
           "Over 60% of mobiles sold during the three months through to September featured integrated cameras, it said."
          ],
          [
           "US top of supercomputing charts",
           " The US has pushed Japan off the top of the supercomputing chart with IBM's prototype Blue Gene/L machine."
          ],
          [
           "US top of supercomputing charts",
           "It is being assembled for the Lawrence Livermore National Laboratory, under the US Department of Energy."
          ],
          [
           "US top of supercomputing charts",
           "IBM test results show that Blue Gene/L has managed speeds of 70.72 teraflops."
          ],
          [
           "US top of supercomputing charts",
           "The previous top machine, Japan's NEC Earth Simulator, clocked up 35.86."
          ],
          [
           "US top of supercomputing charts",
           "The Top 500 list was announced on Monday and officially charts the fastest computers in the world."
          ],
          [
           "US top of supercomputing charts",
           "It is announced every six months and is worked out using an officially recognised mathematical speed test called Linpack which measures calculations per second."
          ],
          [
           "US top of supercomputing charts",
           "Once completed in 2005, Blue Gene/L will be more powerful than its current prototype."
          ],
          [
           "US top of supercomputing charts",
           "\"Next year with the final Blue Gene, four times what it is this year, it is going to be a real step up and will be hard to beat,\" said Erich Strohmaier, one of the co-founders of the Top500 list."
          ],
          [
           "US top of supercomputing charts",
           "It will help scientists work out the safety, security and reliability requirements for the US's nuclear weapons stockpile, without the need for underground nuclear testing."
          ],
          [
           "US top of supercomputing charts",
           "It will also cut down on the amount of heat generated by the massive power, a big problem for supercomputers."
          ],
          [
           "US top of supercomputing charts",
           "In second place was Silicon Graphics' Columbia supercomputer based at the US space agency's (Nasa) Ames Research Center in California."
          ],
          [
           "US top of supercomputing charts",
           "The Linux-based machine was reported to have reached a top speed of 42.7 trillion calculations per second (teraflops) in October."
          ],
          [
           "US top of supercomputing charts",
           "It will be used to model flight missions, climate research, and aerospace engineering."
          ],
          [
           "US top of supercomputing charts",
           "The defeated Japanese contender, the Earth Simulator, which was listed in third place, losing the top spot it had held since June 2002."
          ],
          [
           "US top of supercomputing charts",
           "It is dedicated to climate modelling and simulating seismic activity."
          ],
          [
           "US top of supercomputing charts",
           "Since the first supercomputer, the Cray-1, was installed at Los Alamos National Laboratory, US, in 1976, computational speed has leaped 500,000 times."
          ],
          [
           "US top of supercomputing charts",
           "The Cray-1 was capable of 80 megaflops (80 million operations a second)."
          ],
          [
           "US top of supercomputing charts",
           "The Blue Gene/L machine that will be completed next year will be five million times faster."
          ],
          [
           "US top of supercomputing charts",
           "Started in 1993, the Top 500 list is decided by a group of computer science academics from around the world."
          ],
          [
           "US top of supercomputing charts",
           "It is presented at the International Supercomputer Conference in Pittsburgh."
          ],
          [
           "Trial begins of Spain's top banker",
           " The trial of Emilio Botin, the chairman of Spain's most powerful bank, Santander Central Hispano, has started in Madrid."
          ],
          [
           "Trial begins of Spain's top banker",
           "Mr Botin is accused of misusing the bank's funds after he approved the payment of 160m euros ($208m; £111m) in bonus and pension payouts to two former executives."
          ],
          [
           "Trial begins of Spain's top banker",
           "However, the trial was suspended when Mr Botin's lawyer introduced a new set of documents on the day testimony was set to begin."
          ],
          [
           "Trial begins of Spain's top banker",
           "A three-judge panel gave prosecution lawyers until Monday to study the documents, when the trial will be reconvened."
          ],
          [
           "Trial begins of Spain's top banker",
           "The high-profile case began after two Santander shareholders filed a criminal complaint about the payments to Jose Maria Amusategui and Angel Corcostegui, who stepped down in 2001."
          ],
          [
           "Trial begins of Spain's top banker",
           "Both executives helped Mr Botin orchestrate Spain's biggest bank merger, between Santander and Banco Central Hispano, in 1999."
          ],
          [
           "Trial begins of Spain's top banker",
           "As he arrived at Spain's High Court earlier on Wednesday, Mr Botin greeted the waiting media, saying: \"I have full faith in justice.\""
          ],
          [
           "Trial begins of Spain's top banker",
           "Santander's board of governors strongly reject the charges against their chairman, saying the payouts were legal and made with their unanimous support."
          ],
          [
           "Trial begins of Spain's top banker",
           "But if convicted, Mr Botin could face a prison term of up to six years."
          ],
          [
           "Trial begins of Spain's top banker",
           "Mr Corcostegui, a former CEO at Santander, also asked the court for new evidence to be admitted."
          ],
          [
           "Trial begins of Spain's top banker",
           "In spite of the allegations against him, Mr Botin continues to lead Santander, and was instrumental in the £8.5bn takeover last November of the British bank Abbey National."
          ],
          [
           "Trial begins of Spain's top banker",
           "Since taking over the chairmanship in 1986, he has turned Santander into one of the top ten biggest banks in the world."
          ],
          [
           "Safety alert as GM recalls cars",
           " The world's biggest carmaker General Motors (GM) is recalling nearly 200,000 vehicles in the US on safety grounds, according to federal regulators."
          ],
          [
           "Safety alert as GM recalls cars",
           "The National Highway Traffic Safety Administration (NHTSA) said the largest recall involves 155,465 pickups, vans and sports utility vehicles (SUVs)."
          ],
          [
           "Safety alert as GM recalls cars",
           "This is because of possible malfunctions with the braking systems."
          ],
          [
           "Safety alert as GM recalls cars",
           "The affected vehicles in the product recall are from the 2004 and 2005 model years, GM said."
          ],
          [
           "Safety alert as GM recalls cars",
           "Those vehicles with potential faults are the Chevrolet Avalanche, Express, Kodiak, Silverade and Suburban; the GMC Savana, Sierra and Yukon."
          ],
          [
           "Safety alert as GM recalls cars",
           "The NHTSA said a pressure accumulator in the braking system could crack during normal driving and fragments could injure people if the hood was open."
          ],
          [
           "Safety alert as GM recalls cars",
           "This could allow hydraulic fluid to leak, which could make it harder to brake or steer and could cause a crash, it warned."
          ],
          [
           "Safety alert as GM recalls cars",
           "GM is also recalling 19,924 Cadillac XLR coupes, SRX SUVs and Pontiac Grand Prix sedans from the 2004 model year."
          ],
          [
           "Safety alert as GM recalls cars",
           "This is because the accelerator pedal may not work properly in extremely cold temperatures, requiring more braking."
          ],
          [
           "Safety alert as GM recalls cars",
           "In addition, the car giant is calling back 17,815 Buick Raniers, Chevrolet Trailblazers, GMC Envoys and Isuzu Ascenders from the 2005 model years because the windshield is not properly fitted and could fall out in a crash."
          ],
          [
           "Safety alert as GM recalls cars",
           "However, GM stressed that it did not know of any injuries related to the problems."
          ],
          [
           "Safety alert as GM recalls cars",
           "News of the recall follows an announcement last month that GM expects earnings this year be lower than in 2004."
          ],
          [
           "Safety alert as GM recalls cars",
           "The world's biggest car maker is grappling with losses in its European business, weak US sales and now a product recall."
          ],
          [
           "Safety alert as GM recalls cars",
           "In January, GM said higher healthcare costs in North America, and lower profits at its financial services subsidiary would hurt its performance in 2005."
          ],
          [
           "Angry Williams rejects criticism",
           " Serena Williams has angrily rejected claims that she and sister Venus are a declining force in tennis."
          ],
          [
           "Angry Williams rejects criticism",
           "The sisters ended last year without a Grand Slam title for the first time since 1998."
          ],
          [
           "Angry Williams rejects criticism",
           "But Serena denied their challenge was fading, saying: \"That's not fair - I'm tired of not saying anything."
          ],
          [
           "Angry Williams rejects criticism",
           "\"We've been practising hard."
          ],
          [
           "Angry Williams rejects criticism",
           "We've had serious injuries."
          ],
          [
           "Angry Williams rejects criticism",
           "I've had surgery and after, I got to the Wimbledon final."
          ],
          [
           "Angry Williams rejects criticism",
           "I don't know many who have done that.\""
          ],
          [
           "Angry Williams rejects criticism",
           "While Serena is through to the Australian Open semi-finals, Venus went out in the fourth round, meaning she has not gone further than the last eight in her last five Grand Slam appearances."
          ],
          [
           "Angry Williams rejects criticism",
           "But Serena added: \"Venus had a severe strain in her stomach."
          ],
          [
           "Angry Williams rejects criticism",
           "I actually had the same injury, but I didn't tear it the way she did."
          ],
          [
           "Angry Williams rejects criticism",
           "\"If I would have torn it, I wouldn't have been here."
          ],
          [
           "Angry Williams rejects criticism",
           "\"She played a player (Alicia Molik) that just played out of her mind and Venus made some errors that she probably shouldn't have made.\""
          ],
          [
           "Angry Williams rejects criticism",
           "Serena also said people tended to forget the impact the 2003 murder of sister Yetunde Price had had on the family."
          ],
          [
           "Angry Williams rejects criticism",
           "\"To top it off, we have a very, very, very, very, very close family\" Serena continued."
          ],
          [
           "Angry Williams rejects criticism",
           "\"To be in some situation that we've been placed in in the past little over a year, it's not easy to come out and just perform at your best when you realize there are so many things that are so important."
          ],
          [
           "Angry Williams rejects criticism",
           "\"So, no, we're not declining."
          ],
          [
           "Angry Williams rejects criticism",
           "We're here."
          ],
          [
           "Angry Williams rejects criticism",
           "I don't have to win this tournament to prove anything."
          ],
          [
           "Angry Williams rejects criticism",
           "I know that I'm out here and I know that I'm one of the best players out here.\""
          ],
          [
           "E-University 'disgraceful waste'",
           " A failed government scheme to offer UK university courses online has been branded a \"disgraceful waste\" by MPs."
          ],
          [
           "E-University 'disgraceful waste'",
           "The e-University was scrapped last year, having attracted only 900 students at a cost of £50m."
          ],
          [
           "E-University 'disgraceful waste'",
           "Chief executive John Beaumont was paid a bonus of £44,914, despite a failure to bring in private sector backers."
          ],
          [
           "E-University 'disgraceful waste'",
           "The Commons education select committee called this \"morally indefensible\" but the government said the e-University project had \"improved understanding\"."
          ],
          [
           "E-University 'disgraceful waste'",
           "A Department for Education and Skills spokeswoman said the venture had been \"ambitious and ground-breaking, but take-up had not been \"sufficient to continue with the project\"."
          ],
          [
           "E-University 'disgraceful waste'",
           "She added: \"UK e-Universities was not the only organisation to have lost out on private sector investment in the collapse of the dotcom boom.\""
          ],
          [
           "E-University 'disgraceful waste'",
           "The select committee found that those responsible for founding the e-University in 2000 had been caught up in the \"general atmosphere of enthusiasm\" surrounding the internet."
          ],
          [
           "E-University 'disgraceful waste'",
           "Initial business plans forecast a quarter of a million students joining within a decade, bringing in at least £110m in profit."
          ],
          [
           "E-University 'disgraceful waste'",
           "But virtually no market research was carried out and just £4.2m was spent on worldwide sales and marketing of courses."
          ],
          [
           "E-University 'disgraceful waste'",
           "Some £14m went on developing the technology to make the e-University work."
          ],
          [
           "E-University 'disgraceful waste'",
           "This was used by just 200 students, the rest preferring to work through existing university websites."
          ],
          [
           "E-University 'disgraceful waste'",
           "With no significant private investors and no direct accountability to a government minister, the e-University had had \"too much freedom to spend public money as it wished\", the report found."
          ],
          [
           "E-University 'disgraceful waste'",
           "Committee chairman Barry Sheerman said: \"UK e-University was a terrible waste of public money."
          ],
          [
           "E-University 'disgraceful waste'",
           "\"The senior executives failed to interest any private investors and showed an extraordinary over-confidence in their ability to attract students to the scheme.\""
          ],
          [
           "E-University 'disgraceful waste'",
           "The report warns that the government should not be scared off investment in innovative but potentially risky schemes by the failure of the e-University, but \"should learn the lessons from this disaster\"."
          ],
          [
           "India to deport Bollywood actress",
           " India has ordered the deportation of Iranian-born model and actress Negar Khan to Norway after saying she was working illegally on her visa."
          ],
          [
           "India to deport Bollywood actress",
           "Khan has had raunchy roles in music videos and Bollywood films over the past two years."
          ],
          [
           "India to deport Bollywood actress",
           "The distressed actress told media she was being driven straight to the airport after a routine appointment at the Bombay immigration office."
          ],
          [
           "India to deport Bollywood actress",
           "Immigration officials said she had been warned about her visa last year."
          ],
          [
           "India to deport Bollywood actress",
           "Khan told an Indian news channel on her mobile phone: \"They are not even letting me go home to get my bags."
          ],
          [
           "India to deport Bollywood actress",
           "I have no clothes or money on me."
          ],
          [
           "India to deport Bollywood actress",
           "\"They did not give me any notice."
          ],
          [
           "India to deport Bollywood actress",
           "I don't know why they are taking me away like this."
          ],
          [
           "India to deport Bollywood actress",
           "There is nothing wrong with my visa."
          ],
          [
           "India to deport Bollywood actress",
           "It says I work here..."
          ],
          [
           "India to deport Bollywood actress",
           "They are not allowing me to even call a lawyer.\""
          ],
          [
           "India to deport Bollywood actress",
           "Bipin Bihari, deputy police chief in Bombay, said Khan was being sent back to Norway, from which she holds a passport, on the first available flight."
          ],
          [
           "India to deport Bollywood actress",
           "\"She was on a visitor's visa but she has engaged in several commercial ventures,\" he said."
          ],
          [
           "India to deport Bollywood actress",
           "\"We issued notices last year, in view of which she had gone back to Norway, but she has returned again this year to work.\""
          ],
          [
           "India to deport Bollywood actress",
           "One of Khan's biggest successes was the steamy Hindi song Chadti Jawani (Rising Youth)."
          ],
          [
           "India to deport Bollywood actress",
           "Khan was involved in controversy when topless photos alleged to be of her appeared in a Norwegian magazine."
          ],
          [
           "Web radio takes Spanish rap global",
           " Spin the radio dial in the US and you are likely to find plenty of Spanish-language music."
          ],
          [
           "Web radio takes Spanish rap global",
           "But what you will not find is much Spanish-language hip-hop."
          ],
          [
           "Web radio takes Spanish rap global",
           "Hip-hop and rap are actually quite popular in the Spanish-speaking world, but local artists are having trouble marketing their work abroad."
          ],
          [
           "Web radio takes Spanish rap global",
           "But now, a US company is bringing rap and hip-hop en espanol to computer users everywhere."
          ],
          [
           "Web radio takes Spanish rap global",
           "Los Caballeros de Plan G are one of Mexico's hottest hip-hop acts."
          ],
          [
           "Web radio takes Spanish rap global",
           "They have a devoted fan base in their native Monterrey."
          ],
          [
           "Web radio takes Spanish rap global",
           "But most Mexican hip-hop fans, not to mention fans in most of the Spanish-speaking world, rarely get a chance to hear the group's tracks on the radio."
          ],
          [
           "Web radio takes Spanish rap global",
           "\"You can't really just go on the radio and listen to hip-hop in Spanish... it's just not accessible,\" says Manuel Millan, a native of San Diego, California."
          ],
          [
           "Web radio takes Spanish rap global",
           "\"It's really hard for the Spanish hip-hop scene to get into mainstream radio."
          ],
          [
           "Web radio takes Spanish rap global",
           "You usually have a very commercialised sound and the groups are not really known around the country or around the world.\""
          ],
          [
           "Web radio takes Spanish rap global",
           "Millan and two friends set out to change that - they wanted to make groups like Los Caballeros de Plan G accessible to fans globally."
          ],
          [
           "Web radio takes Spanish rap global",
           "Mainstream radio stations were not going to play this kind of music, and starting their own broadcast station was economically impossible."
          ],
          [
           "Web radio takes Spanish rap global",
           "So, Millan and his friends launched a website called latinohiphopradio.com."
          ],
          [
           "Web radio takes Spanish rap global",
           "The name says it all: it is web-based radio, devoted to the hottest Spanish language rap and hip-hop tracks."
          ],
          [
           "Web radio takes Spanish rap global",
           "The site, which is in both in English and Spanish, is meant to be easy to navigate."
          ],
          [
           "Web radio takes Spanish rap global",
           "All the user has to do is download a media player."
          ],
          [
           "Web radio takes Spanish rap global",
           "There are no DJs."
          ],
          [
           "Web radio takes Spanish rap global",
           "It is just music streamed over the net for free."
          ],
          [
           "Web radio takes Spanish rap global",
           "Suddenly, with the help of the website, Los Caballeros de Plan G are producing \"export quality\" rap."
          ],
          [
           "Web radio takes Spanish rap global",
           "The web might be just the right medium for Spanish language hip-hop right now."
          ],
          [
           "Web radio takes Spanish rap global",
           "The genre is in what Millan calls its \"infant stage\"."
          ],
          [
           "Web radio takes Spanish rap global",
           "But the production values are improving, and artists such as Argentina's Mustafa Yoda are pushing to make it better and better."
          ],
          [
           "Web radio takes Spanish rap global",
           "Mustafa Yoda is currently one of the hottest tracks on latinohiphopradio.com."
          ],
          [
           "Web radio takes Spanish rap global",
           "\"He's considered the Eminem of Argentina, and the Latin American hip-hop scene,\" Millan says."
          ],
          [
           "Web radio takes Spanish rap global",
           "\"He really hasn't had that much exposure as far as anywhere in the world, but he's definitely the one to look out for as far as becoming the next big thing in the Spanish-speaking world.\""
          ],
          [
           "Web radio takes Spanish rap global",
           "Currently, the Chilean group Makisa is also in latinohiphopradio.com's top 10, as is Cuban artist Papo Record."
          ],
          [
           "Web radio takes Spanish rap global",
           "\"Every country's got it's own cultural differences and they try to put those into their own songs,\" Millan says."
          ],
          [
           "Web radio takes Spanish rap global",
           "Latinohiphopradio.com has been up and running for a couple of months now."
          ],
          [
           "Web radio takes Spanish rap global",
           "The site has listeners from across the Spanish speaking world."
          ],
          [
           "Web radio takes Spanish rap global",
           "Right now, Mexico leads the way, accounting for about 50% of listeners."
          ],
          [
           "Web radio takes Spanish rap global",
           "But web surfers in Spain are logging in as well - about 25% of the web station's traffic comes from there."
          ],
          [
           "Web radio takes Spanish rap global",
           "That is not surprising as many consider Spain to be the leader in Spanish-language rap and hip-hop."
          ],
          [
           "Web radio takes Spanish rap global",
           "Millan says that Spain is actually just behind the United States and France in terms of overall rap and hip-hop production."
          ],
          [
           "Web radio takes Spanish rap global",
           "That might be changing, though, as more and more Latin American artists are finding audiences."
          ],
          [
           "Web radio takes Spanish rap global",
           "But one Spaniard is still firmly in latinohiphopradio.com's top 10."
          ],
          [
           "Web radio takes Spanish rap global",
           "His name is Tote King and Manuel Millan says that he is the hip-hop leader in Spain."
          ],
          [
           "Web radio takes Spanish rap global",
           "On his track Uno Contra Veinte Emcees, or One Against 20 Emcees, Tote King shows he is well aware of that fact."
          ],
          [
           "Web radio takes Spanish rap global",
           "\"It's basically him bragging that he's one of the best emcees in Spain right now,\" Millan says."
          ],
          [
           "Web radio takes Spanish rap global",
           "\"And it's pretty much true."
          ],
          [
           "Web radio takes Spanish rap global",
           "He has the tightest productions, and his rap flow is impeccable, it's amazing.\""
          ],
          [
           "Web radio takes Spanish rap global",
           "Latinohiphopradio.com is hoping to expand in the coming year."
          ],
          [
           "Web radio takes Spanish rap global",
           "Millan says they want to include more music and more news from the world of Spanish language hip-hop and rap."
          ],
          [
           "Web radio takes Spanish rap global",
           "Clark Boyd is technology correspondent for The World, a BBC World Service and WGBH-Boston co-production."
          ],
          [
           "Ailing EuroDisney vows turnaround",
           " EuroDisney, the European home of Mickey Mouse and friends, has said it will sell 253m euros (£175m; $328m) of new shares as it looks to avoid insolvency."
          ],
          [
           "Ailing EuroDisney vows turnaround",
           "The sale is the last part of a plan to restructure 2.4bn euros-worth of debts."
          ],
          [
           "Ailing EuroDisney vows turnaround",
           "Despite struggling since it was opened in 1992, EuroDisney has recently made progress in turning its business around and ticket sales have picked up."
          ],
          [
           "Ailing EuroDisney vows turnaround",
           "However, analysts still question whether it attracts enough visitors to stay open, even with the restructuring."
          ],
          [
           "Ailing EuroDisney vows turnaround",
           "EuroDisney remains Europe's largest single tourist attraction, attracting some 12.4 million visitors annually."
          ],
          [
           "Ailing EuroDisney vows turnaround",
           "A new attraction - Walt Disney Studios - has recently opened its site near Paris."
          ],
          [
           "Ailing EuroDisney vows turnaround",
           "The company's currently traded stock tumbled in Paris on the latest news, shedding 15% to 22 euro cents."
          ],
          [
           "Ailing EuroDisney vows turnaround",
           "EuroDisney will sell the new shares priced at 9 euros cents each."
          ],
          [
           "Ailing EuroDisney vows turnaround",
           "The US Disney Corporation and Saudi Arabian prince Al-Walid bin Talal, the firm's two main shareholders, will buy the new stock."
          ],
          [
           "Ailing EuroDisney vows turnaround",
           "The restructuring deal is the second in the firm's troubled financial history; its finances were first reorganised in 1994."
          ],
          [
           "Eminem beats Elvis to number one",
           " Rapper Eminem has denied Elvis his fourth number one of the year, after his song, Like Toy Soldiers, stormed to the top of the singles charts."
          ],
          [
           "Eminem beats Elvis to number one",
           "The track claimed the top spot ahead of The King's latest re-release, Are You Lonesome Tonight."
          ],
          [
           "Eminem beats Elvis to number one",
           "It is the fifth in a series of 18 reissues to mark the 70th anniversary of Presley's birth."
          ],
          [
           "Eminem beats Elvis to number one",
           "Almost Here, the duet from former Westlife star Brian McFadden and Delta Goodrem, went in at number three."
          ],
          [
           "Eminem beats Elvis to number one",
           "Like Toy Soldiers, from Eminem's Encore album, is sampled from Martika's 1980s hit Toy Soldiers."
          ],
          [
           "Eminem beats Elvis to number one",
           "It takes a swipe at hip-hop feuds and follows the success of Just Lose It."
          ],
          [
           "Eminem beats Elvis to number one",
           "Last week's number one, Elvis's It's Now or Never, slipped 13 places to number 14, but all five of his re-released songs are in the Top 40."
          ],
          [
           "Eminem beats Elvis to number one",
           "One World Project Tsunami fundraiser, Grief Never Grows Old, slipped four places to number eight."
          ],
          [
           "Eminem beats Elvis to number one",
           "Featuring Cliff Richard and Boy George, the song was written by former DJ Mike Read."
          ],
          [
           "Eminem beats Elvis to number one",
           "In the album charts, Athlete's latest offering Tourist claimed the top spot, toppling the Chemical Brother's Push The Button Down, which fell to number six."
          ],
          [
           "Rapper 50 Cent ends protege feud",
           " Rapper 50 Cent has ended his public feud with his protege The Game as the pair said they wanted to be good role models for their communities."
          ],
          [
           "Rapper 50 Cent ends protege feud",
           "The row blew up when 50 Cent threw The Game out of his G-Unit crew and accused him of being disloyal."
          ],
          [
           "Rapper 50 Cent ends protege feud",
           "A member of The Game's entourage was reportedly shot outside a radio station where 50 Cent was being interviewed."
          ],
          [
           "Rapper 50 Cent ends protege feud",
           "But the pair shook hands as they handed over money to music projects for New York's deprived areas on Wednesday."
          ],
          [
           "Rapper 50 Cent ends protege feud",
           "The Game, whose real name is Jayceon Taylor, told a news conference: \"I want to apologise."
          ],
          [
           "Rapper 50 Cent ends protege feud",
           "I'm almost ashamed to have participated in the things that went on over the last few weeks.\""
          ],
          [
           "Rapper 50 Cent ends protege feud",
           "Chart-topper 50 Cent, real name Curtis Jackson, said the truce came on the anniversary of the death of the Notorious BIG in 1997, who was part of a volatile feud between the east and west coast rap scenes."
          ],
          [
           "Rapper 50 Cent ends protege feud",
           "\"We're here today to show that people can rise above the most difficult circumstances and together we can put negativity behind us,\" 50 Cent said."
          ],
          [
           "Rapper 50 Cent ends protege feud",
           "\"A lot of people don't want to see it happen, but we're responding to the two most important groups - our family and our fans.\""
          ],
          [
           "Rapper 50 Cent ends protege feud",
           "The Boys Choir of Harlem got a cheque for $150,000 (£77,800) from 50 Cent, while The Game handed over $103,500 (£53,400)."
          ],
          [
           "Rapper 50 Cent ends protege feud",
           "The Game also made a contribution to the Compton schools music programme."
          ],
          [
           "Rapper 50 Cent ends protege feud",
           "50 Cent announced he has launched the G-Unity Foundation \"to help people overcome obstacles and make a chance for the better in their lives\"."
          ],
          [
           "Rapper 50 Cent ends protege feud",
           "\"I realised that if I'm going to be effective at that, I have to overcome some of my own,\" he said."
          ],
          [
           "Rapper 50 Cent ends protege feud",
           "\"Game and I need to set an example in the community.\""
          ],
          [
           "Rapper 50 Cent ends protege feud",
           "50 Cent is no stranger to feuds, with rapper Ja Rule among the targets for ridicule in his songs."
          ],
          [
           "Rapper 50 Cent ends protege feud",
           "On his latest album, released earlier this month, he turned his attentions to Fat Joe and Nas, who have both worked with Ja Rule."
          ],
          [
           "Rapper 50 Cent ends protege feud",
           "Both he and The Game have admitted drug dealing in the past and have both been shot."
          ],
          [
           "Director Nair's Vanity project",
           " Indian film director Mira Nair has said she was thrilled to be given the chance to make William Makepeace Thackeray's novel Vanity Fair - as the book has been a favourite through her life."
          ],
          [
           "Director Nair's Vanity project",
           "The book is one of the classics of English literature - the story of scheming 19th Century social climber Becky Sharp, played in the film by Reese Witherspoon."
          ],
          [
           "Director Nair's Vanity project",
           "Nair said that she jumped at the chance to work on the film, which she has - controversially - made in a Bollywood style, including two song-and-dance routines in the film's second half."
          ],
          [
           "Director Nair's Vanity project",
           "\"It was serendipity really - I was offered Vanity Fair by the studio Focus Features, who had distributed Monsoon Wedding,\" Nair told BBC World Service's Masterpiece programme."
          ],
          [
           "Director Nair's Vanity project",
           "\"They offered me their next-best thing, not realising that Vanity Fair had actually been one of my favourite novels since I was 16 years old in an Irish Catholic boarding school in India.\""
          ],
          [
           "Director Nair's Vanity project",
           "Since her 1988 debut feature Salaam Bombay!"
          ],
          [
           "Director Nair's Vanity project",
           "- nominated for the Best Foreign Language Oscar and winner of Best First Feature at Cannes - Nair has become one of India's most famous and respected directors."
          ],
          [
           "Director Nair's Vanity project",
           "She is not restricted to Bollywood, however - she followed Salaam Bombay!"
          ],
          [
           "Director Nair's Vanity project",
           "with Mississippi Masala, starring Denzel Washington, and The Perez Family, her first Hollywood film."
          ],
          [
           "Director Nair's Vanity project",
           "Her career peaked with Monsoon Wedding in 2001, which won the Golden Lion award at Venice."
          ],
          [
           "Director Nair's Vanity project",
           "Nair's Indian-style adaptation of Vanity Fair, however, has been attacked by critics in the US - where it only reached number eight at the box office in its opening week - who described the Bollywood elements as \"jarring.\""
          ],
          [
           "Director Nair's Vanity project",
           "The film has a new ending, with Becky Sharp running off for a new life in India."
          ],
          [
           "Director Nair's Vanity project",
           "But Nair said that her film had picked up on the way Thackeray - who was born in India but moved to England as a young man - had seen the world."
          ],
          [
           "Director Nair's Vanity project",
           "\"First, when I was 16, it was Becky Sharp, who is a completely memorable character, because I recognised myself in her - I recognised all the ladies who did not want to be ladies, who wanted to buck the system that they were in,\" she said."
          ],
          [
           "Director Nair's Vanity project",
           "\"But it was the sort of novel I somehow kept at the side of my bed for many years, and I would dip into every now and then and suddenly get completely mesmerised again."
          ],
          [
           "Director Nair's Vanity project",
           "\"As I got older and read it, I think it was Thackeray's clarity - his clear-sightedness about his own society, the fact that he was born in India but came to England as a young man - that gave him the eyes of an outsider, and yet he was an insider."
          ],
          [
           "Director Nair's Vanity project",
           "\"That perspective was something I really loved.\""
          ],
          [
           "Director Nair's Vanity project",
           "Nair also defended her decision to cast an American actress - Reese Witherspoon - as Becky Sharp, despite the fact that all the rest of the cast are British or Irish."
          ],
          [
           "Director Nair's Vanity project",
           "\"I cast intuitively - in my films I cast as many non-actors as I cast actors,\" she said."
          ],
          [
           "Director Nair's Vanity project",
           "\"For me, it is intuition - I have to fall in love with an actor."
          ],
          [
           "Director Nair's Vanity project",
           "It is a visceral response."
          ],
          [
           "Director Nair's Vanity project",
           "\"Thackeray describes Becky Sharp as a minx."
          ],
          [
           "Director Nair's Vanity project",
           "Also she's described as someone who's tiny, red-headed and thin."
          ],
          [
           "Director Nair's Vanity project",
           "Reese had that completely minx-like irresistibility about her.\""
          ],
          [
           "Director Nair's Vanity project",
           "Having won the role because she seemed physically perfectly suited to the part, however, Witherspoon then became pregnant."
          ],
          [
           "Director Nair's Vanity project",
           "But Nair said that, though this had created the need for some filming tricks, it had in fact also helped the film."
          ],
          [
           "Director Nair's Vanity project",
           "\"It was a self-fulfilling prophesy - when I first met her husband [actor Ryan Philippe], I said 'knock her up, won't you, I need some flesh on the girl',\" she joked."
          ],
          [
           "Director Nair's Vanity project",
           "\"I'm not a fan of the underfed Los Angeles actor at all."
          ],
          [
           "Director Nair's Vanity project",
           "This was, for me, about Becky Sharp being, eventually, a full-blown woman through the course of the film."
          ],
          [
           "Director Nair's Vanity project",
           "\"I love the luminosity that pregnancy brings, I love the fleshiness, I love the ample bosom - it gave me much more to play with.\""
          ],
          [
           "Director Nair's Vanity project",
           "Nair explained how camera tricks had been used to disguise Witherspoon's \"bump\" in various scenes - including hiring a number of young boys in costumes to stand in front of her."
          ],
          [
           "Director Nair's Vanity project",
           "\"She runs, she gets off coal carts, she jumps off horses - she does everything,\" Nair said."
          ],
          [
           "Director Nair's Vanity project",
           "\"But there's also a certain carriage with horses that is going to wipe the screen at a certain moment, because of the bump.\""
          ],
          [
           "Fast lifts rise into record books",
           " Two high-speed lifts at the world's tallest building have been officially recognised as the planet's fastest."
          ],
          [
           "Fast lifts rise into record books",
           "The lifts take only 30 seconds to whisk passengers to the top of the 508m tall TFC 101 Tower in Taipei, Taiwan."
          ],
          [
           "Fast lifts rise into record books",
           "The Guinness Book of Records has declared the 17m per second speed of the two lifts the swiftest on Earth."
          ],
          [
           "Fast lifts rise into record books",
           "The lifts also have a pressure control system to stop passengers' ears popping as they ascend and descend at high speed."
          ],
          [
           "Fast lifts rise into record books",
           "In total, the TFC Tower has 61 lifts, 34 of them double-deckers, and 50 escalators to shuttle people around its 106 floors."
          ],
          [
           "Fast lifts rise into record books",
           "The TFC 101 Tower is due to be officially opened on 31 December."
          ],
          [
           "Fast lifts rise into record books",
           "The super-fast lifts can speed up to 24 passengers to the tip of the tower in about 30 seconds, while ascending their 382m track."
          ],
          [
           "Fast lifts rise into record books",
           "The 17m/s top speed of the lifts translates to about 38mph (61km/h)."
          ],
          [
           "Fast lifts rise into record books",
           "Curiously the lifts take longer to descend and spend almost a whole minute returning to ground level from the top of the TFC Tower."
          ],
          [
           "Fast lifts rise into record books",
           "The key new technologies applied in the world's fastest elevators include:    - A pressure control system, which adjusts the atmospheric pressure inside a car by using suction and discharge blowers, preventing \"ear popping\"   - An active control system which tries to balance the lift more finely and remove the sources of vibrations   - Streamlined cars to reduce the whistling noise produced by running the lifts at a high speed inside a narrow shaft     \"The certification of our elevators as world record-holders by the authoritative Guinness World Records is a great honour for us,\" said Masayuki Shimono, president of manufacturer Toshiba Elevator and Building Systems which installed the lifts."
          ],
          [
           "Fast lifts rise into record books",
           "The first record for the world's fastest passenger elevators was published in the first edition of the Guinness Book of Records in 1955."
          ],
          [
           "Fast lifts rise into record books",
           "\"As such, it is an interesting indicator of how technology has advanced in the 50 years since that first edition, when the record was 426m per minute, or 25.6 km/h, less than half the speed of the new record,\" said Hein Le Roux, specialist researcher at the Guinness World Records."
          ],
          [
           "Fast lifts rise into record books",
           "Taipei's TFC 101 Tower is more than 50m taller than the Petronas Towers in Kuala Lumpur, Malaysia - formerly the world's tallest skyscraper."
          ],
          [
           "GB quartet get cross country call",
           " Four British athletes have been pre-selected to compete at the World Cross Country Championships in March after impressive starts to the season."
          ],
          [
           "GB quartet get cross country call",
           "Hayley Yelling, Jo Pavey, Karl Keska and Adam Hickey will represent Team GB at the event in France."
          ],
          [
           "GB quartet get cross country call",
           "Yelling clinched the women's European cross country title last month and Pavey followed up with bronze."
          ],
          [
           "GB quartet get cross country call",
           "Keska helped the men's team to overall third place while Hickey finished in 10th place on his junior debut."
          ],
          [
           "GB quartet get cross country call",
           "\"Winning the European cross country title meant so much to me,\" said Yelling."
          ],
          [
           "GB quartet get cross country call",
           "\"And being pre-selected for the Worlds means that I can focus on preparing in the best way possible.\""
          ],
          [
           "GB quartet get cross country call",
           "The 32-year-old will race alongside Olympic 5,000m finalist Pavey in the women's 8km race on 19 March."
          ],
          [
           "GB quartet get cross country call",
           "Keska, who has made a successful return from a long-term injury lay-off, contests the men's 12km race on 20 March, while 16-year-old Hickey goes in the junior men's 8km on the same day."
          ],
          [
           "GB quartet get cross country call",
           "The rest of the team will be named after the trials at Wollaton Park in Nottingham, which take place on 5 March."
          ],
          [
           "Ray DVD beats box office takings",
           " Oscar-nominated film biopic Ray has surpassed its US box office takings with a combined tally of $80m (£43m) from DVD and video sales and rentals."
          ],
          [
           "Ray DVD beats box office takings",
           "Ray's success on DVD outstripped its $74m (£40m) US box office total, earning more than $40m (£22m) on the first day of the DVD's release alone."
          ],
          [
           "Ray DVD beats box office takings",
           "Ray has been nominated in six Oscar categories including best film and best actor for Jamie Foxx."
          ],
          [
           "Ray DVD beats box office takings",
           "The film recounts the life of blues singer Ray Charles, who died in 2004."
          ],
          [
           "Ray DVD beats box office takings",
           "In its first week on home entertainment release the film was the number one selling DVD, with the limited edition version coming in at number 11."
          ],
          [
           "Ray DVD beats box office takings",
           "Sony horror film The Grudge, starring Michelle Gellar, was the US' second best-selling DVD, with Jennifer Lopez and Richard Gere's romantic comedy Shall We Dance?"
          ],
          [
           "Ray DVD beats box office takings",
           "at number three."
          ],
          [
           "Ray DVD beats box office takings",
           "Foxx's critically acclaimed performance as Ray has already earned him a Screen Actors Guild Award for best actor, as well as a prestigious Golden Globe."
          ],
          [
           "Ray DVD beats box office takings",
           "Ray director Taylor Hackford, responsible for the classic 1982 film An Officer and a Gentleman, has also received an Oscar nomination in the best director category."
          ],
          [
           "Ray DVD beats box office takings",
           "The film's three other Oscar nominations are for costume, film editing and sound mixing."
          ],
          [
           "Singer Ferguson 'facing eviction'",
           " Three Degrees star Sheila Ferguson is the favourite to be evicted from ITV's I'm A Celebrity... Get Me Out Of Here on Monday."
          ],
          [
           "Singer Ferguson 'facing eviction'",
           "Bookmakers Ladbrokes says the singer has even odds of being the first contestant to be voted off the show."
          ],
          [
           "Singer Ferguson 'facing eviction'",
           "\"It's going to be close but Sheila is favourite as she has shown herself to be a bit of a troublemaker,\" said Ladbrokes' Warren Lush."
          ],
          [
           "Singer Ferguson 'facing eviction'",
           "Comic Joe Pasquale remains odds on favourite to win the reality show."
          ],
          [
           "Singer Ferguson 'facing eviction'",
           "Mr Lush added that Nancy Sorrell's chances of an early departure had increased since the surprise arrival of husband Vic Reeves in the jungle camp last Wednesday."
          ],
          [
           "Singer Ferguson 'facing eviction'",
           "Notwithstanding, comedian Reeves remains 3/1 favourite to win the show, after Pasquale."
          ],
          [
           "Singer Ferguson 'facing eviction'",
           "Huggy Bear actor Antonio Fargas also remains a contender for eviction having \"done nothing to live up to the pre-show hype\"."
          ],
          [
           "Singer Ferguson 'facing eviction'",
           "\"There has been a big gamble on Natalie [Appleton] to go... but bookies fancy the millions at home will keep piling on the misery by putting her through more bushtucker trials,\" added Mr Lush."
          ],
          [
           "Singer Ferguson 'facing eviction'",
           "The former All Saint star has performed dismally in bushtucker trials which have seen her plunged into glass tanks containing putrid waste and challenged to eat fish eyes."
          ],
          [
           "Singer Ferguson 'facing eviction'",
           "On Friday, Ladbrokes suspended betting after singer Brian Harvey quit the show folllowing a blazing row with Janet Street-Porter."
          ],
          [
           "Singer Ferguson 'facing eviction'",
           "Harvey, who entered the camp a day later than other contestants after learning that his grandmother had died, reached the end of his tether following days of meagre rations and rows."
          ],
          [
           "Sir Paul rocks Super Bowl crowds",
           " Sir Paul McCartney wowed fans with a live mini-concert at American football's Super Bowl - and avoided any Janet Jackson-style controversies."
          ],
          [
           "Sir Paul rocks Super Bowl crowds",
           "The 62-year-old sang Hey Jude and other Beatles songs in a 12-minute set at half-time during the game in Florida."
          ],
          [
           "Sir Paul rocks Super Bowl crowds",
           "Last year, Jackson exposed a breast during a dance routine, causing outrage among millions of TV viewers and landing the CBS TV network a fine."
          ],
          [
           "Sir Paul rocks Super Bowl crowds",
           "Sir Paul, however, did nothing more racy than remove his jacket as he sang."
          ],
          [
           "Sir Paul rocks Super Bowl crowds",
           "Organisers were widely considered to be playing it safe this year by booking 62-year-old Sir Paul for his second Super Bowl show."
          ],
          [
           "Sir Paul rocks Super Bowl crowds",
           "Three years ago, he was invited to perform at the first Super Bowl after the September 11 attacks and performed his specially-written song Freedom."
          ],
          [
           "Sir Paul rocks Super Bowl crowds",
           "This time, he started off the show, at the Alltel Stadium in Jacksonville, Florida, with the Beatles numbers Drive My Car and Get Back."
          ],
          [
           "Sir Paul rocks Super Bowl crowds",
           "He then performed a mellow version of Live And Let Die, the James Bond theme he recorded with the band Wings."
          ],
          [
           "Sir Paul rocks Super Bowl crowds",
           "Finally, he closed the show with a rousing version of Hey Jude."
          ],
          [
           "Sir Paul rocks Super Bowl crowds",
           "The former Beatle resisted any temptation to refer to Janet Jackson's headline-grabbing performance last year, instead keeping banter between songs to a minimum in order to squeeze as much music as he could into his slot."
          ],
          [
           "Sir Paul rocks Super Bowl crowds",
           "The singer removed his black jacket halfway through the show - but any fans hoping for a second \"Nipple-gate\" were to be disappointed as he kept his red sweatshirt on underneath."
          ],
          [
           "Sir Paul rocks Super Bowl crowds",
           "Earlier, the Black Eyed Peas and Alicia Keys had provided the night's other high-profile entertainment by performing in a pre-game show."
          ],
          [
           "Sir Paul rocks Super Bowl crowds",
           "Black Eyed Peas singer Fergie was dressed in a tight orange top and purple hotpants, but nothing in her performance was likely to upset TV watchdogs."
          ],
          [
           "Sir Paul rocks Super Bowl crowds",
           "After the controversy last year - which saw CBS fined a record $550,000 (£292,000) by federal regulators - Super Bowl organisers had turned to producer Don Mischer to oversee this year's half-time show."
          ],
          [
           "Sir Paul rocks Super Bowl crowds",
           "His previous production credits included Olympic opening and closing ceremonies."
          ],
          [
           "Sir Paul rocks Super Bowl crowds",
           "The Super Bowl is watched by an audience of 144.4 million in the US, with many of the people watching are said to tune in specifically to see the entertainment put on around the event."
          ],
          [
           "Sir Paul rocks Super Bowl crowds",
           "Michael Jackson, Aerosmith, Diana Ross, Gloria Estefan and Phil Collins are among the stars who have previously graced the Super Bowl stage."
          ],
          [
           "Dementieva prevails in Hong Kong",
           " Elena Dementieva swept aside defending champion Venus Williams 6-3 6-2 to win Hong Kong's Champions Challenge event."
          ],
          [
           "Dementieva prevails in Hong Kong",
           "The Russian, ranked sixth in the world, broke Williams three times in the first set, while losing her service once."
          ],
          [
           "Dementieva prevails in Hong Kong",
           "Williams saved three championship points before losing the match at the Victoria Park tennis court."
          ],
          [
           "Dementieva prevails in Hong Kong",
           "\"It's really a great start to the year no matter whether it's an exhibition or not."
          ],
          [
           "Dementieva prevails in Hong Kong",
           "I was trying to play my best and I really did it,\" said Dementieva."
          ],
          [
           "Dementieva prevails in Hong Kong",
           "\"This will give me all the confidence before the Grand Slams."
          ],
          [
           "Dementieva prevails in Hong Kong",
           "I was trying so hard to win this tournament.\""
          ],
          [
           "Dementieva prevails in Hong Kong",
           "Williams, 24, was disappointed with her display."
          ],
          [
           "Dementieva prevails in Hong Kong",
           "\"She played some nice points, but it was mostly me committing unforced errors - four or five errors in each game,\" she said."
          ],
          [
           "Dementieva prevails in Hong Kong",
           "Before the match, organizers auctioned off rackets belonging to the players, raising £115,000 for victims of the tsunami disaster."
          ],
          [
           "Radcliffe proves doubters wrong",
           " This won't go down as one of the greatest marathons of Paula's career."
          ],
          [
           "Radcliffe proves doubters wrong",
           "But as a test of character, it was the toughest race she's ever taken part in."
          ],
          [
           "Radcliffe proves doubters wrong",
           "A win in the New York marathon doesn't make up for the disappointment of Athens in any shape or form, but it will offer hope and reassurance for next year."
          ],
          [
           "Radcliffe proves doubters wrong",
           "If Paula's last experience of the year had been Athens, it would have been very difficult to look forward with any optimism."
          ],
          [
           "Radcliffe proves doubters wrong",
           "She can now draw a line under this year and make plans about her future."
          ],
          [
           "Radcliffe proves doubters wrong",
           "Even if she'd lost this race, there would have been a lot of positives to take out of it."
          ],
          [
           "Radcliffe proves doubters wrong",
           "She knows she can dig deep if she needs to."
          ],
          [
           "Radcliffe proves doubters wrong",
           "It was a strong field, with a number of the girls going into the race with expectations of winning."
          ],
          [
           "Radcliffe proves doubters wrong",
           "And although two hours 23 minutes wasn't one of Paula's best times, it wasn't far off the record on a difficult course."
          ],
          [
           "Radcliffe proves doubters wrong",
           "I was speaking to Paula in the lead-up to this race and she said that in many ways she was facing a no-win situation."
          ],
          [
           "Radcliffe proves doubters wrong",
           "She thought that if she won, people would say \"why couldn't she do that in Athens?\""
          ],
          [
           "Radcliffe proves doubters wrong",
           "And if she lost, people would say her career was over."
          ],
          [
           "Radcliffe proves doubters wrong",
           "And a lot of people were wondering what would happen if Paula was forced to drop out of this race, as she did in the marathon and 10,000m in Athens."
          ],
          [
           "Radcliffe proves doubters wrong",
           "But that was never on the cards."
          ],
          [
           "Radcliffe proves doubters wrong",
           "She might have been beaten, but she would have kept running."
          ],
          [
           "Radcliffe proves doubters wrong",
           "The reasons she was forced to pull out in Athens - the niggling injuries, her lack of energy and the oppressive conditions - weren't at play here."
          ],
          [
           "Radcliffe proves doubters wrong",
           "The only question was what position she could finish in."
          ],
          [
           "Radcliffe proves doubters wrong",
           "Most important of all, despite all the hype in the media ahead of this race, there were never doubts in Paula's mind."
          ],
          [
           "Radcliffe proves doubters wrong",
           "If she wasn't confident, she wouldn't have run."
          ],
          [
           "Radcliffe proves doubters wrong",
           "After all, if you're the best in the world at an event, you'll always have expectations of winning."
          ],
          [
           "Radcliffe proves doubters wrong",
           "Now Paula will take part in the Run London 10km race in London at the end of the year, have a well-earned rest over Christmas and go into next year with a lot of optimism."
          ],
          [
           "Wenger rules out new keeper",
           " Arsenal boss Arsene Wenger says he has no plans to sign a new goalkeeper during the January transfer window."
          ],
          [
           "Wenger rules out new keeper",
           "Wenger has brought in Manuel Almunia for the last three games for the out-of-form Jens Lehmann - but the Spaniard himself has been prone to mistakes."
          ],
          [
           "Wenger rules out new keeper",
           "There have been suggestions that Wenger will swoop for a high-quality shot-stopper in the New Year."
          ],
          [
           "Wenger rules out new keeper",
           "But he told the Evening Standard: \"I don't feel it will be necessary to bring in a new goalkeeper in January.\""
          ],
          [
           "Wenger rules out new keeper",
           "The Gunners manager refused to comment on the difficult start that 27-year-old Almunia has made to his career at Highbury."
          ],
          [
           "Wenger rules out new keeper",
           "And he would not be drawn on whether Lehmann would return for the top-of-the table clash with Chelsea on Sunday."
          ],
          [
           "Wenger rules out new keeper",
           "Almunia was at fault for Rosenborg's goal in Arsenal's 5-1 Champions League win on Tuesday and had some hairy moments in last week's win over Birmingham."
          ],
          [
           "Wenger rules out new keeper",
           "But Wenger said earlier this week that his indifferent form was down to pressure caused by being under scrutiny from the media."
          ],
          [
           "Wenger rules out new keeper",
           "\"The debate has gone on too long."
          ],
          [
           "Wenger rules out new keeper",
           "Everyone has an opinion and I do not have to add to it,\" Wenger added."
          ],
          [
           "Wenger rules out new keeper",
           "Arsenal have been linked with Middlesbrough keeper Mark Schwarzer, Fulham's Edwin van der Sar and Parma's Sebastien Frey."
          ],
          [
           "Wenger rules out new keeper",
           "And Wenger has no immediate plans to recall former England Under-21 international Stuart Taylor from his loan spell at Leicester."
          ],
          [
           "Fit-again Betsen in France squad",
           " France have brought flanker Serge Betsen back into their squad to face England at Twickenham on Sunday."
          ],
          [
           "Fit-again Betsen in France squad",
           "But the player, who missed the victory over Scotland through injury, must attend a disciplinary hearing on Wednesday after being cited by Wasps."
          ],
          [
           "Fit-again Betsen in France squad",
           "\"Serge has a good case so we are confident he will play,\" said France coach Bernard Laporte."
          ],
          [
           "Fit-again Betsen in France squad",
           "The inexperienced Nicolas Mas, Jimmy Marlu and Jean-Philippe Grandclaude are also included in a 22-man squad."
          ],
          [
           "Fit-again Betsen in France squad",
           "The trio have been called up after Pieter de Villiers, Ludovic Valbon and Aurelien Rougerie all picked up injuries in France's 16-9 win on Saturday."
          ],
          [
           "Fit-again Betsen in France squad",
           "Laporte said he was confident that Betsen would be cleared by the panel investigating his alleged trip that broke Wasps centre Stuart Abbott's leg."
          ],
          [
           "Fit-again Betsen in France squad",
           "\"If he was to be suspended, we would call up Imanol Harinordoquy or Thomas Lievremont,\" said Laporte, who has dropped Patrick Tabacco."
          ],
          [
           "Fit-again Betsen in France squad",
           "\"We missed Serge badly against Scotland."
          ],
          [
           "Fit-again Betsen in France squad",
           "He has now recovered from his thigh injury and played on Saturday with Biarritz.\""
          ],
          [
           "Fit-again Betsen in France squad",
           "France's regular back-row combination of Betsen, Harinordoquy and Olivier Magne were all missing from France's side at the weekend because of injury."
          ],
          [
           "Fit-again Betsen in France squad",
           "Laporte is expected to announce France's starting line-up on Wednesday."
          ],
          [
           "Fit-again Betsen in France squad",
           "Forwards: Nicolas Mas, Sylvain Marconnet, Olivier Milloud, William Servat, Sebastien Bruno, Fabien Pelous, Jerome Thion, Gregory Lamboley, Serge Betsen, Julien Bonnaire, Sebastien Chabal, Yannick Nyanga."
          ],
          [
           "Fit-again Betsen in France squad",
           "Backs: Dimitri Yachvili, Pierre Mignoni, Frederic Michalak, Yann Delaigue, Damien Traille, Brian Liebenberg, Jean-Philippe Grandclaude, Christophe Dominici, Jimmy Marlu, Pepito Elhorga."
          ],
          [
           "Double injury blow strikes Wales",
           " Wales centre Sonny Parker and number eight Ryan Jones will miss Saturday's game with Italy because of injury."
          ],
          [
           "Double injury blow strikes Wales",
           "Parker has not recovered from a trapped nerve in his neck that kept him out of the win over England, and Tom Shanklin is expected to continue at centre."
          ],
          [
           "Double injury blow strikes Wales",
           "Jones damaged his collar bone after coming on as a replacement against England and joins flanker Colin Charvis (foot injury) on the sidelines."
          ],
          [
           "Double injury blow strikes Wales",
           "Meanwhile, Mike Ruddock may make Gavin Henson his first-choice kicker in Rome."
          ],
          [
           "Double injury blow strikes Wales",
           "The centre was Wales' hero in the 11-9 Six Nations win over England, landing a huge late penalty from wide out to clinch the game."
          ],
          [
           "Double injury blow strikes Wales",
           "First-choice kicker Stephen Jones handed over responsibility because of Henson's greater kicking range, but the fly-half had already missed a number of shots at goal."
          ],
          [
           "Double injury blow strikes Wales",
           "\"Our first aim was to get Gavin settled into the team, but giving him the kicks is something we'll talk about in selection this week,\" Wales coach Mike Ruddock told BBC Sport Wales."
          ],
          [
           "Double injury blow strikes Wales",
           "Henson himself says he is relishing all the media hype that has been heaped on him since last Saturday's game."
          ],
          [
           "Double injury blow strikes Wales",
           "\"I thrive on it and think it makes me perform better,\" he said."
          ],
          [
           "Double injury blow strikes Wales",
           "\"I'm glad it's a short week before the Italy game."
          ],
          [
           "Double injury blow strikes Wales",
           "There was so much build-up before England, but we fly out to Rome on Thursday and we'll be back playing again.\""
          ],
          [
           "Ref stands by Scotland decisions",
           " The referee from Saturday's France v Scotland Six Nations match has defended the officials' handling of the game after criticism by Matt Williams."
          ],
          [
           "Ref stands by Scotland decisions",
           "The Scotland coach said his side were robbed of victory by poor decisions made by the officials."
          ],
          [
           "Ref stands by Scotland decisions",
           "But Nigel Williams said: \"I'm satisfied the game was handled correctly.\""
          ],
          [
           "Ref stands by Scotland decisions",
           "Meanwhile, Matt Williams will not be punished by the Scottish Rugby Union for allegedly using bad language in his comments about the officials."
          ],
          [
           "Ref stands by Scotland decisions",
           "He denies having done so."
          ],
          [
           "Ref stands by Scotland decisions",
           "Nonetheless, he was furious about several decisions that he felt denied his side a famous victory."
          ],
          [
           "Ref stands by Scotland decisions",
           "But Nigel Williams told the Scottish Daily Mail: \"I spoke to Matt Williams at the post-match dinner."
          ],
          [
           "Ref stands by Scotland decisions",
           "\"He made no mention of the disallowed try or any other refereeing decisions whatsoever."
          ],
          [
           "Ref stands by Scotland decisions",
           "\"If Matt has issues with the match officials, then he is very welcome to phone me and discuss them."
          ],
          [
           "Ref stands by Scotland decisions",
           "\"Ultimately there is a match assessor at every international game to give an impartial and objective view of the performance of the officials."
          ],
          [
           "Ref stands by Scotland decisions",
           "\"That is the beginning and end of it.\""
          ],
          [
           "Downing injury mars Uefa victory",
           " Middlesbrough boss Steve McClaren hopes that Stewart Downing did not seriously damage his hamstring during the 2-1 Uefa Cup win over Graz AK."
          ],
          [
           "Downing injury mars Uefa victory",
           "The winger was carried off on a stretcher in the closing stages as Boro booked their place in the last 16."
          ],
          [
           "Downing injury mars Uefa victory",
           "McClaren said: \"Stewart has tweaked a hamstring, which is a blow for us."
          ],
          [
           "Downing injury mars Uefa victory",
           "We will assess it in the morning."
          ],
          [
           "Downing injury mars Uefa victory",
           "\"But I'm delighted with the match result."
          ],
          [
           "Downing injury mars Uefa victory",
           "They say in sport you can win ugly - and we certainly did.\""
          ],
          [
           "Downing injury mars Uefa victory",
           "McClaren was relieved to make it through after a tough encounter at The Riverside."
          ],
          [
           "Downing injury mars Uefa victory",
           "\"To be fair to Graz, they had a gameplan - they knocked the ball forward, especially in the first half, and we struggled to deal with it."
          ],
          [
           "Downing injury mars Uefa victory",
           "\"In the second half we were better but it was frustrating because we got the goal - but one slip and they were back in it.\""
          ],
          [
           "Downing injury mars Uefa victory",
           "Boro face Sporting Lisbon for a place in the quarter-finals after the Portuguese side saw off Feyenoord on Thursday."
          ],
          [
           "Downing injury mars Uefa victory",
           "And McClaren added: \"Sporting are technically very good - Portuguese sides always are."
          ],
          [
           "Downing injury mars Uefa victory",
           "\"But the journey goes on for us and we will now go to their magnificent stadium - after the first game here - we'll look forward to it.\""
          ],
          [
           "Downing injury mars Uefa victory",
           "Goalscorer Jimmy Floyd Hasselbaink added: \"It wasn't a particularly beautiful match to watch - but they made it difficult for us."
          ],
          [
           "Downing injury mars Uefa victory",
           "\"We didn't play well at all."
          ],
          [
           "Downing injury mars Uefa victory",
           "But you need a little bit of luck and I think we got that when my shot went through the legs of their goalkeeper."
          ],
          [
           "Downing injury mars Uefa victory",
           "\"I would have liked to play in Holland - that would have been a little bit special to me."
          ],
          [
           "Downing injury mars Uefa victory",
           "\"But so is going back to Portugal - I'll be playing against some lads I played with at Boavista.\""
          ],
          [
           "New UKIP defection to 'Veritas'",
           " The UK Independence Party has lost one of its two London Assembly members to Robert Kilroy-Silk's new political party, expected to launch on Wednesday."
          ],
          [
           "New UKIP defection to 'Veritas'",
           "Damian Hockney said ex-chatshow host Mr Kilroy-Silk would \"deliver better\" as the leader of a eurosceptic party."
          ],
          [
           "New UKIP defection to 'Veritas'",
           "He said Mr Kilroy-Silk had made him deputy party leader of Veritas, Latin for truth."
          ],
          [
           "New UKIP defection to 'Veritas'",
           "Sources close to Mr Hockney said around eight other members of London UKIP were also planning to jump ship."
          ],
          [
           "New UKIP defection to 'Veritas'",
           "Details of the coming week's events were hammered out at a meeting at Mr Kilroy-Silk's Buckinghamshire home on Sunday, the BBC News Website was told."
          ],
          [
           "New UKIP defection to 'Veritas'",
           "The news came after UKIP suspended a candidate for allegedly suggesting the criminally insane should be killed."
          ],
          [
           "New UKIP defection to 'Veritas'",
           "John Houston, 54, was due to stand in the East Kilbride seat in Lanarkshire at the next election."
          ],
          [
           "New UKIP defection to 'Veritas'",
           "A spokesman for UKIP called on Mr Hockney to quit the London Assembly."
          ],
          [
           "New UKIP defection to 'Veritas'",
           "UKIP asserts that Mr Hockney \"has a moral obligation, if not a legal one\" to stand down."
          ],
          [
           "New UKIP defection to 'Veritas'",
           "Mr Hockney meanwhile told the BBC: \"I believe that Robert Kilroy-Silk can deliver better as a leader of a eurosceptic party than the current leadership of the UK Independence Party.\""
          ],
          [
           "New UKIP defection to 'Veritas'",
           "On the suspension of Mr Houston, UKIP said those who selected him knew nothing of his views."
          ],
          [
           "New UKIP defection to 'Veritas'",
           "Mr Houston is alleged to have said that the organs of the criminally insane should be \"made available to law-abiding members of the community\" and proposed the legalisation of drugs and the sex trade."
          ],
          [
           "New UKIP defection to 'Veritas'",
           "The document reportedly said: \"We're looking for the resurrection of the British Empire."
          ],
          [
           "New UKIP defection to 'Veritas'",
           "\"The problems for the human race - environmental and others - can only be dealt with on a global scale, and that calls for a radical alliance of the English-speaking nations, which they are uniquely able to do.\""
          ],
          [
           "New UKIP defection to 'Veritas'",
           "UKIP spokesman Mark Croucher said the main issue would be that Mr Houston's reported views had been presented as UKIP policy, which they were not."
          ],
          [
           "Bath faced with Tindall ultimatum",
           " Mike Tindall's agent has warned Bath they have until next week to improve their contract offer to the England man or risk losing him to a rival club."
          ],
          [
           "Bath faced with Tindall ultimatum",
           "Dipo Alli says he has received an offer for Tindall which dwarfs Bath's deal and that two other clubs want to talk."
          ],
          [
           "Bath faced with Tindall ultimatum",
           "\"Mike does not want to go into the Six Nations worrying about where he will be playing his club rugby next season,\" Alli told the Guardian newspaper."
          ],
          [
           "Bath faced with Tindall ultimatum",
           "\"It is up to (Bath owner) Andrew Brownsword."
          ],
          [
           "Bath faced with Tindall ultimatum",
           "He has to make it happen.\""
          ],
          [
           "Bath faced with Tindall ultimatum",
           "Tindall is out of contract at the end of the season but it is understood that Brownsword is unwilling to break the club's salary structure to accommodate the 26-year-old's demands."
          ],
          [
           "Bath faced with Tindall ultimatum",
           "But Alli insists the player is worth more than Bath have put on the table."
          ],
          [
           "Bath faced with Tindall ultimatum",
           "\"Mike has been at Bath for eight years and wants to remain with the club and his demands are anything but excessive,\" the agent added."
          ],
          [
           "Bath faced with Tindall ultimatum",
           "\"But Brownsword has to recognise Mike's value and we want to resolve things by the end of next week.\""
          ],
          [
           "Paris promise raises Welsh hopes",
           " Has there been a better Six Nations match than Saturday's epic in Paris?"
          ],
          [
           "Paris promise raises Welsh hopes",
           "And can the Welsh revival continue all the way to a first Grand Slam since 1978?"
          ],
          [
           "Paris promise raises Welsh hopes",
           "Those are the two questions occupying not just Wales supporters but rugby fans as a whole after a scintillating display in Paris."
          ],
          [
           "Paris promise raises Welsh hopes",
           "Welsh legend Mervyn Davies, a member of two of three Grand Slam-winning sides of the 1970s, hailed it as \"one of the great performances of the past three decades\"."
          ],
          [
           "Paris promise raises Welsh hopes",
           "Martyn Williams, Wales' two-try scorer on the day, called it \"one of the most surreal games I have ever played in\"."
          ],
          [
           "Paris promise raises Welsh hopes",
           "A crestfallen France coach, Bernard Laporte, simply observed: \"There was a French half and there was a Welsh half\"."
          ],
          [
           "Paris promise raises Welsh hopes",
           "And what a half it was for the Red Dragonhood, transforming a 15-6 half-time deficit into an 18-15 lead within five mesmerising minutes of the second period."
          ],
          [
           "Paris promise raises Welsh hopes",
           "But while that passage of play showed the swelling self-belief of a side prepared to back its own spirit of adventure, the final quarter told us a whole lot more about this Welsh side."
          ],
          [
           "Paris promise raises Welsh hopes",
           "That they recovered from a battering in the first half-hour to first stem the tide before half-time, then reverse it on the resumption, was remarkable enough."
          ],
          [
           "Paris promise raises Welsh hopes",
           "But in resisting a seemingly unstoppable wave of French pressure in a nail-biting final five minutes, Wales showed not only their physical attributes but their mental resolve."
          ],
          [
           "Paris promise raises Welsh hopes",
           "In international rugby, any of the top seven sides can beat each other on a given day, but the great sides are those that win the close contests on a consistent basis."
          ],
          [
           "Paris promise raises Welsh hopes",
           "England suffered some infamous Six Nations disappointments en route to World Cup glory, the pain of defeat forging bonds that ultimately led to victory when it really mattered."
          ],
          [
           "Paris promise raises Welsh hopes",
           "Wales have some way to go before they can be remotely considered in a similar light."
          ],
          [
           "Paris promise raises Welsh hopes",
           "But the signs are that players previously on the receiving end are learning how to emerge on the right side of the scoreline."
          ],
          [
           "Paris promise raises Welsh hopes",
           "Ten of the 22 on duty on Saturday were also involved when Wales were trounced 33-5 in Paris two years ago."
          ],
          [
           "Paris promise raises Welsh hopes",
           "But since they threw off the shackles against New Zealand in the 2003 World Cup, Wales have rediscovered much of what made them a great rugby nation in the first place."
          ],
          [
           "Paris promise raises Welsh hopes",
           "\"The confidence in the squad has been building and building since the World Cup and we now have young players who are becoming world class,\" noted coach Mike Ruddock."
          ],
          [
           "Paris promise raises Welsh hopes",
           "The likes of Michael Owen, Gethin Jenkins, Dwayne Peel and Gavin Henson are certainly building strong cases for inclusion on this summer's Lions tour to New Zealand."
          ],
          [
           "Paris promise raises Welsh hopes",
           "And players like Stephen Jones, Martyn Williams, Shane Williams and Gareth Thomas are proving it is not only the youngsters that are on an upward curve."
          ],
          [
           "Paris promise raises Welsh hopes",
           "Jones, after his superb man-of-the-match display, observed that \"we are a very happy camp now\"."
          ],
          [
           "Paris promise raises Welsh hopes",
           "Ruddock and Thomas can take much of the credit for that, ensuring the tribal and regional divisions that have often scarred Welsh rugby do not extend to the national squad."
          ],
          [
           "Paris promise raises Welsh hopes",
           "The  joie de vivre  so evident in that magical second-half spell in Paris also stems from a style of play that first wooed supporters the world over in the 1970s."
          ],
          [
           "Paris promise raises Welsh hopes",
           "If England had half the innate attacking exuberance Wales have produced in this championship, they would not be contemplating the debris of three consecutive defeats."
          ],
          [
           "Paris promise raises Welsh hopes",
           "Similarly, Wales have learnt that style alone does not win matches, and that forward power, mental toughness and good decision-making under pressure are equally important."
          ],
          [
           "Paris promise raises Welsh hopes",
           "So on to Murrayfield, where Wales have not won on their last three visits."
          ],
          [
           "Paris promise raises Welsh hopes",
           "While the hype in the Principality will go into overdrive, the players will set about the task of beating Scotland."
          ],
          [
           "Paris promise raises Welsh hopes",
           "Only then - with the visit of Ireland to finish - can they start thinking about emulating the hallowed players of the 1970s, and writing their own names into Welsh legend."
          ],
          [
           "Souness delight at Euro progress",
           " Boss Graeme Souness felt Newcastle were never really in danger of going out of the Uefa Cup against Heerenveen."
          ],
          [
           "Souness delight at Euro progress",
           "An early own goal followed by an Alan Shearer strike earned them a 2-1 win and a place in the Uefa Cup last 16."
          ],
          [
           "Souness delight at Euro progress",
           "\"Obviously with winning in the first leg it gave us a great advantage,\" he said after the 4-2 aggregate victory."
          ],
          [
           "Souness delight at Euro progress",
           "\"We got our goals early and in the minds of some players the job was done but then they got a goal and perhaps made us a bit nervous.\""
          ],
          [
           "Souness delight at Euro progress",
           "Shearer's goal moved him within 12 of Jackie Milburn's club scoring record of 200 for the Magpies."
          ],
          [
           "Souness delight at Euro progress",
           "But Souness said he did not think beating the record would have any bearing on his decision to retire at the end of the season."
          ],
          [
           "Souness delight at Euro progress",
           "\"I think if he got it this year he would want to stay next year anyway,\" he added."
          ],
          [
           "Souness delight at Euro progress",
           "\"He struck the ball very well - he always has done - and I think it was the power and pace that beat the goalkeeper.\""
          ],
          [
           "Souness delight at Euro progress",
           "Souness also paid tribute to Laurent Robert, who was at the heart of much of United's attacking play."
          ],
          [
           "Souness delight at Euro progress",
           "\"In the first half he did really well and did everything you want from a wide player."
          ],
          [
           "Souness delight at Euro progress",
           "More of the same in future please,\" he said."
          ],
          [
           "Houllier praises Benitez regime",
           " Former Liverpool manager Gerard Houllier has praised the work of his Anfield successor Rafael Benitez."
          ],
          [
           "Houllier praises Benitez regime",
           "Houllier was angry at reports that he has been critical of Benitez since the Spaniard took over at Liverpool."
          ],
          [
           "Houllier praises Benitez regime",
           "But Houllier told BBC Sport: \"In private and in public, I have stressed I believe Rafa is doing a good job."
          ],
          [
           "Houllier praises Benitez regime",
           "He is the right man at the right place."
          ],
          [
           "Houllier praises Benitez regime",
           "\"Rafa is a good coach and a good man."
          ],
          [
           "Houllier praises Benitez regime",
           "I've spoken to him since he has been at Liverpool and never criticised him.\""
          ],
          [
           "Houllier praises Benitez regime",
           "Houllier also revealed he is now ready to return to the game after leaving Liverpool in May following six years at Anfield."
          ],
          [
           "Houllier praises Benitez regime",
           "The former France boss has been linked with a host of jobs and pulled out of the race to succeed Mark Hughes as Wales national coach."
          ],
          [
           "Houllier praises Benitez regime",
           "He has been working for Uefa, covering the Premiership for French television and also coaching in Brazil with national coach Carlos Alberto Perreira."
          ],
          [
           "Houllier praises Benitez regime",
           "Houllier said: \"If a good club comes up at the right time then yes, I am ready to come back."
          ],
          [
           "Houllier praises Benitez regime",
           "\"It has been interesting to watch games from a different perspective and I have learned things."
          ],
          [
           "Houllier praises Benitez regime",
           "\"I have been involved in football since leaving Liverpool and my batteries are recharged.\""
          ],
          [
           "Houllier praises Benitez regime",
           "Houllier has been impressed with the quality in the Premiership after watching as a pundit - particularly with Jose Mourinho's work at leaders Chelsea."
          ],
          [
           "Houllier praises Benitez regime",
           "He said: \"Chelsea are doing very well."
          ],
          [
           "Houllier praises Benitez regime",
           "They have some very good creative players in Damien Duff and Arjen Robben and Didier Drogba showed he can change the face of a game when he came on against Newcastle."
          ],
          [
           "Houllier praises Benitez regime",
           "\"They have got a good team spirit and are strong mentally."
          ],
          [
           "Houllier praises Benitez regime",
           "They have shown they can cope with all the pressure put on them because of the expectations and cope well with Jose's principles."
          ],
          [
           "Houllier praises Benitez regime",
           "\"Jose had results before he came to Chelsea and I think he will have an impact in the Premiership because he manages his team very cleverly.\""
          ],
          [
           "Houllier praises Benitez regime",
           "And Houllier, away from his brief at Liverpool, has been hugely impressed with the Premiership."
          ],
          [
           "Houllier praises Benitez regime",
           "He said: \"It is a very exciting league."
          ],
          [
           "Houllier praises Benitez regime",
           "It is entertaining, goals are scored and teams are always trying to win."
          ],
          [
           "Houllier praises Benitez regime",
           "\"It has been very interesting to watch the game from a different perspective."
          ],
          [
           "Houllier praises Benitez regime",
           "\"Games switch from end-to-end and there is more pace to the Premiership than other leagues."
          ],
          [
           "Houllier praises Benitez regime",
           "It is a very good product.\""
          ],
          [
           "Analysis: No pain, no gain?",
           " He called it his \"masochism strategy\" in the run-up to the Iraq war and now Tony Blair has signed up for another dose of pain."
          ],
          [
           "Analysis: No pain, no gain?",
           "The idea is simple - the prime minister goes head to head with an often hostile group of \"real\" voters in the full spotlight of the television cameras."
          ],
          [
           "Analysis: No pain, no gain?",
           "The theory is that talking to the great British public, even if they are the \"great unwashed\", is better than having the media filter what voters hear from politicians."
          ],
          [
           "Analysis: No pain, no gain?",
           "It is also the most effective way of showing that he is aware of real people's concerns and - on occasions - of their outright fury."
          ],
          [
           "Analysis: No pain, no gain?",
           "Mr Blair used the tactic before the Iraq war to try to show he really was engaging with public concerns and you can expect to see it much more in the run-up to the election."
          ],
          [
           "Analysis: No pain, no gain?",
           "Labour knows it has been damaged by accusations of spin, \"control freakery\" and over-slick presentation - sometimes from within the ranks of its own MPs."
          ],
          [
           "Analysis: No pain, no gain?",
           "Tony Blair himself has said people complain he does not listen."
          ],
          [
           "Analysis: No pain, no gain?",
           "Mr Blair's latest bout of flagellation came with a series of questions sessions on Five television throughout Wednesday."
          ],
          [
           "Analysis: No pain, no gain?",
           "The trouble began on the Wright Stuff show, with Maria Hutchings marching up to him, saying \"Tony, that's rubbish\" as she tried to complain about her autistic son's school being threatened with closure."
          ],
          [
           "Analysis: No pain, no gain?",
           "A few \"don't worries\" as Mrs Hutchings was led back to the audience averted a public slanging match - he spoke to her privately after the show."
          ],
          [
           "Analysis: No pain, no gain?",
           "But that was only the start and later sessions produced the type of grilling not even the toughest television interviewer could produce."
          ],
          [
           "Analysis: No pain, no gain?",
           "Writer Neil Coppendale, from West Sussex, asked of the Iraq war: \"Tens of thousands of innocent men, women and children died - how do you manage to sleep at night?\""
          ],
          [
           "Analysis: No pain, no gain?",
           "On immigration, London teacher Diane Granger said: \"Where are you going to put everyone?\""
          ],
          [
           "Analysis: No pain, no gain?",
           "And can you imagine even Jeremy Paxman putting the question posed by Brighton nurse Marion Brown: \"Would you wipe somebody's backside for £5?\""
          ],
          [
           "Analysis: No pain, no gain?",
           "Mr Blair tried to use the questioners' first names - and sometimes threw them off their stride by asking what they would do about the problems."
          ],
          [
           "Analysis: No pain, no gain?",
           "Many of the newspapers have branded the exercise a PR stunt which backfired."
          ],
          [
           "Analysis: No pain, no gain?",
           "Indeed there is a danger Mr Blair simply ends up looking \"embattled\"."
          ],
          [
           "Analysis: No pain, no gain?",
           "Conservative Michael Howard and Liberal Democrat Charles Kennedy are to be offered chances to appear in similar slots on the channel next month."
          ],
          [
           "Analysis: No pain, no gain?",
           "Labour strategists believe more of the sessions will mean the hecklers no longer become a story and the real issues take prominence."
          ],
          [
           "Analysis: No pain, no gain?",
           "James Humphreys, ex-head of corporate communications at Number 10, says the strategy shows frustration with the media."
          ],
          [
           "Analysis: No pain, no gain?",
           "\"They feel they don't get their voice across and going direct to people is clearly their game on this occasion,\" he says."
          ],
          [
           "Analysis: No pain, no gain?",
           "There are risks but the prize is tackling the trend of lower turnouts at the polls, he argues."
          ],
          [
           "Analysis: No pain, no gain?",
           "The prime minister knows full well the potential hazards ."
          ],
          [
           "Analysis: No pain, no gain?",
           "He must remember with gritted teeth his confrontation with Sharron Storer, the Birmingham woman who harangued him over the state of her local hospital in the 2001 election campaign."
          ],
          [
           "Analysis: No pain, no gain?",
           "\"All you do is walk around and make yourself known, you don't do anything to help anybody,\" she told Mr Blair before stomping off, refusing his pleas to discuss the issue privately."
          ],
          [
           "Analysis: No pain, no gain?",
           "Former Downing Street media chief Alastair Campbell has described the episode as a \"bit of a disaster\" as it meant the launch of Labour's election manifesto received little coverage."
          ],
          [
           "Analysis: No pain, no gain?",
           "But it was seen as one of the few moments when that election campaign came alive, not least because it coincided with John Prescott's even more direct contact - when he punched an egg-throwing protester."
          ],
          [
           "Analysis: No pain, no gain?",
           "Former prime ministers too have come to grief at the hands of a persistent member of the public."
          ],
          [
           "Analysis: No pain, no gain?",
           "The undoubted highlight of years of election phone-in shows was Margaret Thatcher discomfort on Nationwide in 1983, when viewer Diana Gould put her on the spot about the sinking of the Belgrano in the Falklands War."
          ],
          [
           "Analysis: No pain, no gain?",
           "John Major reaped the benefits of street campaigning during the 1992 election campaign with his famous soapbox."
          ],
          [
           "Analysis: No pain, no gain?",
           "It may have left him splattered with eggs and engine oil at times but he felt it added \"fizz\" to his campaign."
          ],
          [
           "Analysis: No pain, no gain?",
           "In his memoirs, he also argues the strategy contrasted with Neil Kinnock's \"contrived photo opportunities\" and attempts at an artful campaign."
          ],
          [
           "Analysis: No pain, no gain?",
           "\"He wanted to look like a prime minister."
          ],
          [
           "Analysis: No pain, no gain?",
           "I  was  prime minister and I wanted a flesh and blood fight,\" says Mr Major."
          ],
          [
           "Analysis: No pain, no gain?",
           "Mr Blair told prospective Labour MPs on Thursday that taking part in phone-ins and public meetings could \"enthuse and engage and give the public a sense of empowerment\"."
          ],
          [
           "Analysis: No pain, no gain?",
           "But he also wants to counter complaints that he has spent too much time on international affairs and foreign trips."
          ],
          [
           "Analysis: No pain, no gain?",
           "Mr Blair recalls how Bill Clinton once advised him: \"Always remember that what people see of you in the news in the evening is how they think you spend your day.\""
          ],
          [
           "Analysis: No pain, no gain?",
           "His hope must be that voters watching him on the rack will bear out for Labour the old maxim: \"No pain, no gain.\""
          ],
          [
           "Howard denies split over ID cards",
           " Michael Howard has denied his shadow cabinet was split over its decision to back controversial Labour plans to introduce ID cards."
          ],
          [
           "Howard denies split over ID cards",
           "The Tory leader said his front bench team had reached a \"collective view\" after holding a \"good discussion\", but admitted it was \"not an easy issue\"."
          ],
          [
           "Howard denies split over ID cards",
           "He had decided to support the plans as the police said they would help fight terror, crime and illegal immigration."
          ],
          [
           "Howard denies split over ID cards",
           "The Lib Dems have pledged to oppose the bill when it is debated next Monday."
          ],
          [
           "Howard denies split over ID cards",
           "Tory sources say senior party figures had argued vociferously against the ID card scheme."
          ],
          [
           "Howard denies split over ID cards",
           "Among those reported to have serious reservations over the strategy were senior shadow cabinet members David Davis, Oliver Letwin and Tim Yeo."
          ],
          [
           "Howard denies split over ID cards",
           "But Mr Howard denied Mr Yeo, his transport and environment spokesman, said the plans \"stink\"."
          ],
          [
           "Howard denies split over ID cards",
           "He also said he was confident shadow home secretary Mr Davis would \"set out the position very clearly\" when he stands up to debate the matter next week."
          ],
          [
           "Howard denies split over ID cards",
           "Mr Howard said the police had said ID cards could \"help them foil a terror bomb plot in which people could lose their lives\"."
          ],
          [
           "Howard denies split over ID cards",
           "He added: \"When the police say that you have to take them seriously\"."
          ],
          [
           "Howard denies split over ID cards",
           "He acknowledged there were \"good libertarian arguments\" against the cards, but said the shadow Cabinet had weighed up all the \"conflicting interests\" before reaching its decision."
          ],
          [
           "Howard denies split over ID cards",
           "\"I don't pretend that it is an easy decision but at the end of the day a decision has to be taken.\""
          ],
          [
           "Howard denies split over ID cards",
           "He also denied he was afraid of looking \"soft\" on the issue, compared to Labour."
          ],
          [
           "Howard denies split over ID cards",
           "The Conservatives announced their support for the government plans on Monday evening."
          ],
          [
           "Howard denies split over ID cards",
           "Sources within the party told the BBC Mr Howard had always been in favour of ID cards, and tried to introduce them when he was Home Secretary."
          ],
          [
           "Howard denies split over ID cards",
           "But the Tories insisted they would hold ministers to account over the precise purpose of the scheme."
          ],
          [
           "Howard denies split over ID cards",
           "They said they would also press Labour over whether objectives could be met and whether the Home Office would be able to deliver them."
          ],
          [
           "Howard denies split over ID cards",
           "And they pledged to assess the cost effectiveness of ID cards and whether people's privacy would be properly protected."
          ],
          [
           "Howard denies split over ID cards",
           "\"It is important to remember that this bill will take a decade to come into full effect,\" a spokesman said."
          ],
          [
           "Howard denies split over ID cards",
           "Lib Dem home affairs spokesman Mark Oaten has branded the ID scheme a waste of money and \"deeply flawed\"."
          ],
          [
           "Howard denies split over ID cards",
           "He said: \"This has all the signs of Michael Howard overruling colleagues' concerns over ID cards.\""
          ],
          [
           "Howard denies split over ID cards",
           "The chairman of the Bar Council, Guy Mansfield QC warned there was a real risk that people on the \"margins of society\" would be driven into the hands of extremists."
          ],
          [
           "Howard denies split over ID cards",
           "\"What is going to happen to young Asian men when there has been a bomb gone off somewhere?"
          ],
          [
           "Howard denies split over ID cards",
           "They are going to be stopped."
          ],
          [
           "Howard denies split over ID cards",
           "If they haven't [ID cards] they are going to be detained.\""
          ],
          [
           "Howard denies split over ID cards",
           "Tory ex-minister Douglas Hogg said he opposed the plans for ID cards branding them a \"regressive\" step which would intrude into the lives of ordinary citizens without any counterbalancing benefits."
          ],
          [
           "Howard denies split over ID cards",
           "He predicted ultimately carrying the cards would become compulsory and that would lead to large numbers of Britain's ethnic minorities being stopped by police."
          ],
          [
           "Blair pledges unity to Labour MPs",
           " Tony Blair has sought to reassure Labour backbenchers that nothing will stand in the way of the party's bid for a third term in power."
          ],
          [
           "Blair pledges unity to Labour MPs",
           "Mr Blair was speaking to MPs amid fresh rumours of a rift with Gordon Brown."
          ],
          [
           "Blair pledges unity to Labour MPs",
           "A new book says the prime minister went back on a pledge to Mr Brown to stand down before the next general election."
          ],
          [
           "Blair pledges unity to Labour MPs",
           "The chancellor has said he is focused on winning the poll and is due to join election supremo Alan Milburn for a Labour poster launch this week."
          ],
          [
           "Blair pledges unity to Labour MPs",
           "Mr Blair told the Parliamentary Labour Party (PLP) on Monday: \"I know from everyone here, in Cabinet and government, nothing is going to get in the way of a unified Labour Party with a unified position and winning the third term people desperately need.\""
          ],
          [
           "Blair pledges unity to Labour MPs",
           "The prime minister and his chancellor arrived within seconds of each other and seemingly in good spirits at the start of the meeting which lasted around an hour."
          ],
          [
           "Blair pledges unity to Labour MPs",
           "A new book, Brown's Britain by Sunday Telegraph journalist Robert Peston, says Mr Blair went back on a pledge to make way for Mr Brown after Cabinet allies intervened in June 2004."
          ],
          [
           "Blair pledges unity to Labour MPs",
           "It has caused a new wave of concern among Labour MPs gearing up to defend their seats in an election, widely expected to be held in May, and several members are understood to have lined up to express their discontent at the PLP meeting."
          ],
          [
           "Blair pledges unity to Labour MPs",
           "Health Secretary John Reid earlier warned that Labour members would not easily forgive anybody fuelling damaging speculation."
          ],
          [
           "Blair pledges unity to Labour MPs",
           "He told BBC News: \"Those who co-operate or inspire these books, in my view, have to know that, whatever the short-term political or personal advantage that they think they might secure, they always do it by damaging the record, the unity and the re-election chances of the Labour Party and the government.\""
          ],
          [
           "Blair pledges unity to Labour MPs",
           "Mr Blair on Sunday dismissed claims of broken promises, saying: \"I've dealt with this six months ago."
          ],
          [
           "Blair pledges unity to Labour MPs",
           "I said then you don't do deals over jobs like this - you don't.\""
          ],
          [
           "Blair pledges unity to Labour MPs",
           "In a separate BBC interview, Mr Brown said he and the prime minister would not be distracted by \"gossip\"."
          ],
          [
           "Blair pledges unity to Labour MPs",
           "\"It's very important that we all do what we can in a unified way to ensure the election of a Labour government,\" he said."
          ],
          [
           "Blair pledges unity to Labour MPs",
           "On Monday, Mr Blair's spokesman said: \"The prime minister is determined that he will get on with the business of government because he believes that what people want.\""
          ],
          [
           "Blair pledges unity to Labour MPs",
           "Mr Brown says he discussed the election campaign with Mr Blair on Saturday and promised to play his part."
          ],
          [
           "Blair pledges unity to Labour MPs",
           "Mr Peston said the pair had \"mutual animosity and contempt\"."
          ],
          [
           "Blair pledges unity to Labour MPs",
           "Mr Blair had decided in November 2003 he would quit because he felt he had lost voters' trust because of the Iraq war."
          ],
          [
           "Blair pledges unity to Labour MPs",
           "He had then changed his mind in June 2004, following intervention from Cabinet allies and suspicion that the chancellor was manoeuvring against him."
          ],
          [
           "Blair pledges unity to Labour MPs",
           "Mr Brown allegedly said he could no longer believe anything Mr Blair told him."
          ],
          [
           "Blair pledges unity to Labour MPs",
           "Conservative co-chairman Liam Fox likened the two men to \"self-obsessed schoolboys\"."
          ],
          [
           "Blair pledges unity to Labour MPs",
           "Liberal Democrat parliamentary chairman Matthew Taylor said their personal ambition was \"getting in the way of good government\"."
          ],
          [
           "Blair pledges unity to Labour MPs",
           "Ex-Labour leader Neil Kinnock said Mr Blair and Mr Brown could only deal with the media frenzy by continuing to say they would not allow a row to damage Labour or British interests."
          ],
          [
           "Blair pledges unity to Labour MPs",
           "He told BBC Radio Five Live that Mr Brown would never encourage any kind of insurrection or coup."
          ],
          [
           "Nat Insurance to rise, say Tories",
           " National Insurance will be raised if Labour wins the next election, Tory leader Michael Howard has claimed."
          ],
          [
           "Nat Insurance to rise, say Tories",
           "Tony Blair has said he does not want higher tax rates for top earners but on Wednesday said other tax promises would be left to Labour's manifesto."
          ],
          [
           "Nat Insurance to rise, say Tories",
           "Prime minister's questions also saw Mr Blair predict that new plans would probably cut net immigration."
          ],
          [
           "Nat Insurance to rise, say Tories",
           "He attacked Tory plans to process asylum claims abroad - but Mr Howard said Labour had proposed the idea too."
          ],
          [
           "Nat Insurance to rise, say Tories",
           "The Commons questions session again saw the leaders of the two biggest parties shape up for the forthcoming election campaign."
          ],
          [
           "Nat Insurance to rise, say Tories",
           "The Tories have promised £4bn in tax cuts but have yet to say where they will fall."
          ],
          [
           "Nat Insurance to rise, say Tories",
           "Mr Howard pointed to the Institute for Fiscal Studies' predictions that Labour will need to increase taxes to cover an £11bn gap in its spending plans."
          ],
          [
           "Nat Insurance to rise, say Tories",
           "He accused ministers of wasting money on unsuccessful attempts to curb bad behaviour and truancy in schools and on slow asylum processing."
          ],
          [
           "Nat Insurance to rise, say Tories",
           "It was no good Mr Blair claiming tax pledges were being left to the manifesto as he had given one to MPs on Tuesday about the top rate of income tax, argued Mr Howard."
          ],
          [
           "Nat Insurance to rise, say Tories",
           "Pointing to national insurance, he added: \"Everyone knows tax will go up under Labour: isn't it now clear which tax it would be?\""
          ],
          [
           "Nat Insurance to rise, say Tories",
           "Mr Blair instead hailed Labour's achievement in using a strong economy to invest in public services."
          ],
          [
           "Nat Insurance to rise, say Tories",
           "\"When we have money not only going into extra teachers and nurses but equipment in schools and hospitals, that money is not wasted,\" he said."
          ],
          [
           "Nat Insurance to rise, say Tories",
           "On the tax questions, he added: \"We will make commitments on tax at the time of the manifesto.\""
          ],
          [
           "Nat Insurance to rise, say Tories",
           "Home Secretary Charles Clarke this week published plans for a new points system for economic migrants, with only high-skilled workers allowed into the UK from outside the European Union."
          ],
          [
           "Nat Insurance to rise, say Tories",
           "Mr Blair said abuses would be weeded out and chain migration, where families automatically get the right to settle with immigrant workers, would end."
          ],
          [
           "Nat Insurance to rise, say Tories",
           "That would probably create a fall in the migrant numbers, he said."
          ],
          [
           "Nat Insurance to rise, say Tories",
           "The prime minister ridiculed the Tory plans for asylum quotas and for processing all asylum claims overseas."
          ],
          [
           "Nat Insurance to rise, say Tories",
           "He challenged the Tories on which country would house their processing centres - what he called a \"fantasy island\"."
          ],
          [
           "Nat Insurance to rise, say Tories",
           "Mr Howard read from a letter about the government's own plans at the European Council of Ministers for processing asylum seekers outside the EU."
          ],
          [
           "Nat Insurance to rise, say Tories",
           "But Mr Blair said: \"All the other countries could not agree on the way forward, nor could the UN.\""
          ],
          [
           "Lib Dems stress Budget trust gap",
           " Public trust in the handling of the economy can only be restored if Gordon Brown opens up his books for unbiased inspection, say the Lib Dems."
          ],
          [
           "Lib Dems stress Budget trust gap",
           "City experts say there is a £10bn \"black hole\" in the public finances, a claim denied by the chancellor."
          ],
          [
           "Lib Dems stress Budget trust gap",
           "Lib Dem spokesman Vince Cable said the public did not know who to believe and the National Audit Office should judge."
          ],
          [
           "Lib Dems stress Budget trust gap",
           "Responding to the pre-Budget report, Mr Cable also attacked Labour's \"unfair\" and over-complicated taxes."
          ],
          [
           "Lib Dems stress Budget trust gap",
           "In his report, Mr Brown insisted he was on course to meet his \"golden rule\" of borrowing only to invest, rather than for day-to-day spending, over the course of the economic cycle."
          ],
          [
           "Lib Dems stress Budget trust gap",
           "Mr Cable said people did not know whether to believe the chancellor or the consensus among experts which said the rule would be broken."
          ],
          [
           "Lib Dems stress Budget trust gap",
           "\"There is an issue of credibility and trust,\" he said."
          ],
          [
           "Lib Dems stress Budget trust gap",
           "\"We cannot have a continuation of a situation where the chancellor sets his own tests and then marks them."
          ],
          [
           "Lib Dems stress Budget trust gap",
           "\"What we need is the equivalent of a thorough Ofsted inspection of the government's accounts.\""
          ],
          [
           "Lib Dems stress Budget trust gap",
           "He asked what the government had to hide."
          ],
          [
           "Lib Dems stress Budget trust gap",
           "Mr Cable also accused the chancellor of ducking tough choices."
          ],
          [
           "Lib Dems stress Budget trust gap",
           "He argued: \"There are serious challenges ahead from the falling dollar and from the rapid downturn in the UK housing market and rising personal debt."
          ],
          [
           "Lib Dems stress Budget trust gap",
           "But they have not been confronted.\""
          ],
          [
           "Lib Dems stress Budget trust gap",
           "Mr Brown confirmed he was setting aside another £520m for the conflicts in Iraq and Afghanistan."
          ],
          [
           "Lib Dems stress Budget trust gap",
           "Mr Cable compared that new cost with the £500m needed for Britain's role in the entire first Gulf War - when 80% of the bill had been met through help from European and Arab nations."
          ],
          [
           "Lib Dems stress Budget trust gap",
           "He suggested keeping British troops in Iraq could cost another £1bn with the government also planning to spend at least £3bn for identity cards."
          ],
          [
           "Lib Dems stress Budget trust gap",
           "The current economic climate meant Britain could not afford the \"reckless, George Bush-style tax cutting spree\" planned by the Tories, he said."
          ],
          [
           "Lib Dems stress Budget trust gap",
           "Instead, what was needed was simple and fair taxation rather than the \"complete mess\" produced by Mr Brown's endless tinkering."
          ],
          [
           "Lib Dems stress Budget trust gap",
           "Mr Cable said 40% of all pensioners were now paying marginal tax rates of 50%."
          ],
          [
           "Lib Dems stress Budget trust gap",
           "And one-and-a-half million hard working families were paying 60% marginal tax rates."
          ],
          [
           "Lib Dems stress Budget trust gap",
           "With that record, he asked why ministers attacked Lib Dem plans for a new 50% tax rate for the \"very rich\" - those earning more than £100,000 a year."
          ],
          [
           "Lib Dems stress Budget trust gap",
           "Mr Brown earmarked £1bn to help keep down council tax rises next year."
          ],
          [
           "Lib Dems stress Budget trust gap",
           "But the Lib Dem spokesman questioned whether that money was being found from cuts to education and health."
          ],
          [
           "Lib Dems stress Budget trust gap",
           "He urged the government to scrap the \"grossly unfair\" tax completely."
          ],
          [
           "Lib Dems stress Budget trust gap",
           "The Lib Dems want it replaced with a local income tax."
          ],
          [
           "Lib Dems stress Budget trust gap",
           "In response, Mr Brown stressed the Iraq money came from a reserve funds."
          ],
          [
           "Lib Dems stress Budget trust gap",
           "It was because he had rejected previous Lib Dem proposals, such as scrapping the New Deal, that Britain's economy was successful, claimed Mr Brown."
          ],
          [
           "UK needs tax cuts, Tories insist",
           " A major change of direction is needed in Britain if it is to prosper, the shadow chancellor said as the Tory Party spring conference began."
          ],
          [
           "UK needs tax cuts, Tories insist",
           "Oliver Letwin said the UK could not compete with other countries without the £4bn tax cuts he was promising."
          ],
          [
           "UK needs tax cuts, Tories insist",
           "Tory co-chairman Liam Fox had opened the forum in Brighton with an attack on Labour's record and party leader Michael Howard is due to speak later."
          ],
          [
           "UK needs tax cuts, Tories insist",
           "Tony Blair has said Conservative policies would cause economic failure."
          ],
          [
           "UK needs tax cuts, Tories insist",
           "But Mr Letwin said Britain had fallen from fourth to 11th in the international economic competitiveness league."
          ],
          [
           "UK needs tax cuts, Tories insist",
           "\"Can this country compete, can this country prosper, unless we do something about the burden of regulation and tax on our economy?\""
          ],
          [
           "UK needs tax cuts, Tories insist",
           "he said."
          ],
          [
           "UK needs tax cuts, Tories insist",
           "\"If we are going to take on the great challenges, the challenges like those posed by the Chinese and the Indians, we have got to do something about getting down the burden of regulation and getting down the burden of tax,\" he said."
          ],
          [
           "UK needs tax cuts, Tories insist",
           "\"The fact is the very carefully costed, fully funded plans we have laid out for saving £12bn by 2007-2008 are absolutely crucial to delivering an economy that will prosper and provide people with jobs and indeed provide the public services with the money they need on a sustainable long-term basis.\""
          ],
          [
           "UK needs tax cuts, Tories insist",
           "Mr Letwin said voting for Labour meant choosing higher taxes, borrowing and waste."
          ],
          [
           "UK needs tax cuts, Tories insist",
           "Earlier, Dr Fox had said Labour's rule had been characterised by \"lost trust and failure to deliver\"."
          ],
          [
           "UK needs tax cuts, Tories insist",
           "He also attacked the government's \"failure\" to control immigration and asylum and criticised its record on the NHS, telling delegates Labour cannot be trusted on education or crime."
          ],
          [
           "UK needs tax cuts, Tories insist",
           "A Tory government would sort out the \"shambles\" of immigration, put patients before statistics and bring discipline to schools, he said."
          ],
          [
           "UK needs tax cuts, Tories insist",
           "Michael Howard, who had been due to welcome delegates to the conference on Friday, will address them in a lunchtime speech."
          ],
          [
           "UK needs tax cuts, Tories insist",
           "His welcome address had to be postponed after he stayed in London to lead the party's opposition to the Prevention of Terrorism Bill in its lengthy progress through Parliament."
          ],
          [
           "UK needs tax cuts, Tories insist",
           "The bill was finally passed on Friday evening, after more than 30 hours of debate."
          ],
          [
           "UK needs tax cuts, Tories insist",
           "Mr Howard is likely to defend his party's handling of the bill, which was only passed after the Conservatives accepted Prime Minister Tony Blair's promise that MPs would be able to review it within a year."
          ],
          [
           "Jowell confirms casino climbdown",
           " Tessa Jowell has announced plans to limit the number of new casinos in the UK to 24, in a move branded a \"humiliating retreat\" by the Tories."
          ],
          [
           "Jowell confirms casino climbdown",
           "It puts an end to plans for up to 40 super casinos, originally outlined in the government's Gambling Bill."
          ],
          [
           "Jowell confirms casino climbdown",
           "Instead there will be a cap of eight new casinos in each size category - small, medium and large."
          ],
          [
           "Jowell confirms casino climbdown",
           "The Culture Secretary said the move showed she listened to critics who feared an explosion in gambling."
          ],
          [
           "Jowell confirms casino climbdown",
           "But Conservative shadow culture secretary John Whittingdale said the way the government had handled the bill was a \"shambles\"."
          ],
          [
           "Jowell confirms casino climbdown",
           "\"This announcement is a further humiliating retreat by the government."
          ],
          [
           "Jowell confirms casino climbdown",
           "\"Instead of the initial intention of the gambling bill, to liberalise the rules governing gambling, the bill now imposes a more restrictive regime than exists at present.\""
          ],
          [
           "Jowell confirms casino climbdown",
           "Shares in British casino operators London Clubs International, Rank Group and Stanley Leisure, who had been hoping the bill would pave the way for a big expansion in smaller casinos, fell by between 10 and 25% following the announcement."
          ],
          [
           "Jowell confirms casino climbdown",
           "Ms Jowell's deputy, Richard Caborn, said the government had adopted a cautious approach to the issue, and responded to the concerns raised."
          ],
          [
           "Jowell confirms casino climbdown",
           "\"Limiting the number of regional casinos to eight in the first phase is a cautious move that will allow us to test the impact of a new kind of casino on the levels of problem gambling,\" he said."
          ],
          [
           "Jowell confirms casino climbdown",
           "\"We also believe it's right to apply this same level of caution to small and large casinos.\""
          ],
          [
           "Jowell confirms casino climbdown",
           "He added that local authorities would still be able to stop new casinos coming to their areas."
          ],
          [
           "Jowell confirms casino climbdown",
           "Church groups welcomed the limit on the number of casinos."
          ],
          [
           "Jowell confirms casino climbdown",
           "Salvation Army spokesman Jonathan Lomax said: \"The proliferation of these casinos on high streets across the country was a real concern and the [three year] trial period, which we think should last at least five years, will enable research into the potentially severe social consequences of an increase in hard and addictive forms of gambling.\""
          ],
          [
           "Jowell confirms casino climbdown",
           "But British British Casino Association Chairman Penny Cobham said her members were \"outraged\" by the decision, which followed a campaign in the Daily Mail newspaper."
          ],
          [
           "Jowell confirms casino climbdown",
           "\"There was never going to be a massive explosion of casinos."
          ],
          [
           "Jowell confirms casino climbdown",
           "Talk of a casino on every High Street was just a scaring tactic.\""
          ],
          [
           "PM apology over jailings",
           " Tony Blair has apologised to two families who suffered one of the UK's biggest miscarriages of justice."
          ],
          [
           "PM apology over jailings",
           "The prime minister was commenting on the wrongful jailing of 11 people for IRA bomb attacks on pubs in Guildford and Woolwich in 1974."
          ],
          [
           "PM apology over jailings",
           "Mr Blair said: \"I am very sorry that they were subject to such an ordeal and injustice.\""
          ],
          [
           "PM apology over jailings",
           "He made the apology to members of the Conlon and Maguire families in his private room at Westminster."
          ],
          [
           "PM apology over jailings",
           "In a statement recorded for television, Mr Blair said the families deserved \"to be completely and publicly exonerated\"."
          ],
          [
           "PM apology over jailings",
           "The families had hoped the apology would be made during Prime Minister's Questions in the House of Commons."
          ],
          [
           "PM apology over jailings",
           "However, one of the so-called Guildford Four, Gerry Conlon - who was wrongly convicted of planting the bombs - said the families were delighted with the apology."
          ],
          [
           "PM apology over jailings",
           "He said Mr Blair had spoken with \"such sincerity\", adding: \"He went beyond what we thought he would, he took time to listen to everyone."
          ],
          [
           "PM apology over jailings",
           "\"You could see he was moved by what people were saying."
          ],
          [
           "PM apology over jailings",
           "\"Tony Blair has healed rifts, he is helping to heal wounds."
          ],
          [
           "PM apology over jailings",
           "It's a day I never thought would come.\""
          ],
          [
           "PM apology over jailings",
           "The move followed a huge campaign in Ireland for a public apology after eleven people were wrongly convicted of making and planting the IRA bombs which killed seven people."
          ],
          [
           "PM apology over jailings",
           "Mr Blair's official spokesman said no-one present at the meeting would \"ever forget the strength of feeling of relief that the prime minister's statement brought to them\"."
          ],
          [
           "PM apology over jailings",
           "Most of those convicted were either members or friends of the two families."
          ],
          [
           "PM apology over jailings",
           "All were arrested because of a family connection to Gerry Conlon."
          ],
          [
           "PM apology over jailings",
           "Mr Conlon's father Giuseppe was arrested when travelling to London from Belfast to help his son."
          ],
          [
           "PM apology over jailings",
           "He died while serving his sentence."
          ],
          [
           "PM apology over jailings",
           "Also arrested were Anne Maguire and members of her family."
          ],
          [
           "PM apology over jailings",
           "Mrs Maguire was the relative with whom Giuseppe planned to stay in London, as well as two family friends."
          ],
          [
           "PM apology over jailings",
           "She said it was a \"wonderful feeling\" to have had the apology and that a weight had been lifted off her shoulders."
          ],
          [
           "PM apology over jailings",
           "\"The people who were still doubting us should now believe that we were totally innocent,\" she said."
          ],
          [
           "PM apology over jailings",
           "They were all jailed for handling explosives, based on scientific evidence which was later entirely discredited."
          ],
          [
           "PM apology over jailings",
           "In October 1989 the Court of Appeal quashed the sentences of the Guildford Four, and in June 1991 it overturned the sentences on the Maguire Seven."
          ],
          [
           "PM apology over jailings",
           "Mr Conlon's case was highlighted in the Oscar-nominated film In The Name Of The Father, starring Daniel Day-Lewis."
          ],
          [
           "Brown names 16 March for Budget",
           " Chancellor Gordon Brown will deliver his Budget to the House of Commons on 16 March, the Treasury has announced."
          ],
          [
           "Brown names 16 March for Budget",
           "The Budget, likely to be the last before the General Election, will be at about 1230 GMT on that Wednesday, just after Prime Minister's question time."
          ],
          [
           "Brown names 16 March for Budget",
           "The annual event is when the chancellor outlines the government's taxation and broader economic predictions."
          ],
          [
           "Brown names 16 March for Budget",
           "The Tories say it is likely the Budget will contain measures to attract votes."
          ],
          [
           "Brown names 16 March for Budget",
           "The election is expected on 5 May."
          ],
          [
           "Brown names 16 March for Budget",
           "Next month's Budget will be Mr Brown's ninth since Labour came to power in 1997."
          ],
          [
           "Brown names 16 March for Budget",
           "If a May election is called, there could be as little as 18 days between the Budget and the announcement of a date for the election."
          ],
          [
           "Brown names 16 March for Budget",
           "A shortened Finance Bill would have to be rushed through Parliament with all-party support to allow the Government to continue collecting revenue."
          ],
          [
           "Brown names 16 March for Budget",
           "The full Finance Bill, with the Budget measures in it, would then be returned to the Commons after the election, if Labour secures another term in office."
          ],
          [
           "Brown names 16 March for Budget",
           "Tory shadow chancellor Oliver Letwin said: \"We can be sure of two things: the Budget will contain measures to attract votes, and it will not contain the £8 billion of tax rises which independent experts say are inevitable if Labour wins the election.\""
          ],
          [
           "Brown names 16 March for Budget",
           "As Mr Brown announced the Budget date in a short ministerial statement, accountancy firm Ernst & Young urged him to put politics aside and focus on the long-term requirements of the economy."
          ],
          [
           "Brown names 16 March for Budget",
           "\"In the Budgets that were given immediately before the last six elections, taxes were cut by the incumbent chancellor and, in many cases, taxes were increased soon after the election result,\" said Aidan O'Carroll, E&Y's UK head of tax."
          ],
          [
           "Blair to face MPs amid feud talk",
           " Tony Blair faces his first prime minister's questions of 2005 after a week of renewed speculation about his relationship with Gordon Brown."
          ],
          [
           "Blair to face MPs amid feud talk",
           "Meanwhile, the chancellor is leaving Britain on a high-profile tour of Africa to highlight poverty issues."
          ],
          [
           "Blair to face MPs amid feud talk",
           "But before doing so, he insisted he still trusted Mr Blair, despite claims to the contrary in a new book."
          ],
          [
           "Blair to face MPs amid feud talk",
           "Labour MPs have warned against disunity and Tory leader Michael Howard may well take up the theme in the Commons."
          ],
          [
           "Blair to face MPs amid feud talk",
           "The Tories have already accused the prime minister and his chancellor of behaving like \"schoolboys squabbling in a playground\"."
          ],
          [
           "Blair to face MPs amid feud talk",
           "Michael Howard is likely to want to capitalise further on the spat when he goes head-to-head with the prime minister in the Commons."
          ],
          [
           "Blair to face MPs amid feud talk",
           "At a campaign poster launch on Tuesday, Mr Brown was joined by Alan Milburn, who Mr Blair controversially put in charge of election planning in place of the chancellor."
          ],
          [
           "Blair to face MPs amid feud talk",
           "Later this week the prime minister is due to set out the themes of his party's next election manifesto, which for the past two polls have been drawn up by the chancellor."
          ],
          [
           "Blair to face MPs amid feud talk",
           "Mr Brown, meanwhile, is visiting Tanzania, Mozambique and Kenya to highlight the plight of many Africans hit by Aids, war and famine - issues which Mr Blair has also spoken out on."
          ],
          [
           "Blair to face MPs amid feud talk",
           "The prime minister and chancellor faced backbench discontent at Monday's meeting of the Parliamentary Labour Party over claims made in journalist Robert Peston's new book."
          ],
          [
           "Blair to face MPs amid feud talk",
           "Mr Blair told MPs and peers: \"I know from everyone here, in Cabinet and government, nothing is going to get in the way of a unified Labour Party with a unified position and winning the third term people desperately need.\""
          ],
          [
           "Blair to face MPs amid feud talk",
           "Labour's Paul Flynn said the pair had had a \"scorching\" from MPs."
          ],
          [
           "Blair to face MPs amid feud talk",
           "On Tuesday, Deputy Prime Minister Mr Prescott told BBC News: \"They told us very clearly, it was the troops telling the leaders: get in line.\""
          ],
          [
           "Blair to face MPs amid feud talk",
           "The new book claims Mr Prescott hosted a dinner in November 2003 where the prime minister told Mr Brown he would stand down before the next election because he had lost trust over the Iraq war."
          ],
          [
           "Blair to face MPs amid feud talk",
           "Mr Blair then changed his mind in June 2004, after Cabinet allies intervened and amid suspicion the chancellor was manoeuvring against him, writes Mr Peston."
          ],
          [
           "Blair to face MPs amid feud talk",
           "In Mr Peston's book Mr Brown is alleged to have told the prime minister: \"There is nothing you could ever say to me now that I could ever believe.\""
          ],
          [
           "&#163;1.8m indecency fine for Viacom",
           " Media giant Viacom has paid out $3.5m (£1.8m) to end investigations into indecency in its US radio and TV shows."
          ],
          [
           "&#163;1.8m indecency fine for Viacom",
           "The settlement to the Federal Communications Commission (FCC) ends a long-running saga dating back to 2001."
          ],
          [
           "&#163;1.8m indecency fine for Viacom",
           "The FCC was looking into 50 shows, including those by \"shock jock\" Howard Stern and two New York DJs."
          ],
          [
           "&#163;1.8m indecency fine for Viacom",
           "Stern recently announced he was leaving Viacom while the two DJs were sacked after their show featured a couple purporting to have sex in a church."
          ],
          [
           "&#163;1.8m indecency fine for Viacom",
           "After the church incident two years ago Viacom agreed to install audio delay equipment at its radio stations that broadcast live programming."
          ],
          [
           "&#163;1.8m indecency fine for Viacom",
           "It also agreed to train its broadcasters and employees about indecency laws."
          ],
          [
           "&#163;1.8m indecency fine for Viacom",
           "The agreement cancels investigations into about 50 radio and television shows, said Richard Diamond, FCC deputy secretary of communications."
          ],
          [
           "&#163;1.8m indecency fine for Viacom",
           "The shows were broadcast by Viacom-owned stations across the United States."
          ],
          [
           "&#163;1.8m indecency fine for Viacom",
           "Viacom has five days to pay the $3.5m fine, according to the agreement."
          ],
          [
           "&#163;1.8m indecency fine for Viacom",
           "The payment is not related to the FCC's $550,000 (£293,000) fine levied against Viacom after the exposure of singer Janet Jackson's breast during the CBS Super Bowl halftime show in January."
          ],
          [
           "&#163;1.8m indecency fine for Viacom",
           "Viacom is contesting that fine."
          ],
          [
           "&#163;1.8m indecency fine for Viacom",
           "It is not the first time that Viacom has paid out over indecency charges."
          ],
          [
           "&#163;1.8m indecency fine for Viacom",
           "Infinity Broadcasting, which is owned by Viacom, paid cumulative fines totalling $1.7m (£907,000) in 1995 to settle FCC violations by Stern."
          ],
          [
           "Standard Life cuts policy bonuses",
           " Standard Life, Europe's largest mutual life insurer, has cut bonuses for with-profit policyholders."
          ],
          [
           "Standard Life cuts policy bonuses",
           "Annual bonus rates on its with-profits life policies were cut from 2.5% to 2%, while bonuses on pension policies were reduced from 3.25% to 2.5%."
          ],
          [
           "Standard Life cuts policy bonuses",
           "It is the sixth time in three years Standard Life has made cuts to bonus rates, despite an 8.7% rise in the value of the with-profits fund in 2004."
          ],
          [
           "Standard Life cuts policy bonuses",
           "The insurer blamed the cuts on poor share returns and low interest rates."
          ],
          [
           "Standard Life cuts policy bonuses",
           "With-profits policies are designed to smooth out the peaks and troughs of stock market volatility."
          ],
          [
           "Standard Life cuts policy bonuses",
           "Profits made in good years are kept in reserve to pay investors an annual bonus even when the stock market performs badly."
          ],
          [
           "Standard Life cuts policy bonuses",
           "Slumping share prices throughout 2001 and 2002 forced most firms to trim bonus rates on their policies."
          ],
          [
           "Standard Life cuts policy bonuses",
           "Standard Life came in for criticism for sticking with stock market investments during 2001 and 2002."
          ],
          [
           "Standard Life cuts policy bonuses",
           "The insurer argued that shares outperformed other investments over the long term and that policyholders would feel the benefit when the stock market recovered."
          ],
          [
           "Standard Life cuts policy bonuses",
           "Recently, Norwich Union and Axa Sun Life both cut their with-profit bonus rates."
          ],
          [
           "Standard Life cuts policy bonuses",
           "John Gill, managing director of the insurer's life and pensions division, said that a strong stock market recovery in the past two years had only \"partly compensated for losses during 2001 and 2002\"."
          ],
          [
           "Standard Life cuts policy bonuses",
           "In addition, low interest rates meant that \"long-term investment returns are well below historic levels\", Mr Gill added."
          ],
          [
           "Standard Life cuts policy bonuses",
           "However, Mr Gill maintained that with-profits continued to perform well over the long term."
          ],
          [
           "Standard Life cuts policy bonuses",
           "\"Our payouts continue to stand up well against other types of long-term investments over similar periods,\" he said."
          ],
          [
           "Standard Life cuts policy bonuses",
           "Standard Life has an estimated 2.4 million with-profits policyholders."
          ],
          [
           "Standard Life cuts policy bonuses",
           "Last year, the company announced that it was looking to float on the stock market in 2006."
          ],
          [
           "Cars pull down US retail figures",
           " US retail sales fell 0.3% in January, the biggest monthly decline since last August, driven down by a heavy fall in car sales."
          ],
          [
           "Cars pull down US retail figures",
           "The 3.3% fall in car sales had been expected, coming after December's 4% rise in car sales, fuelled by generous pre-Christmas special offers."
          ],
          [
           "Cars pull down US retail figures",
           "Excluding the car sector, US retail sales were up 0.6% in January, twice what some analysts had been expecting."
          ],
          [
           "Cars pull down US retail figures",
           "US retail spending is expected to rise in 2005, but not as quickly as in 2004."
          ],
          [
           "Cars pull down US retail figures",
           "Steve Gallagher, US chief economist at SG Corporate & Investment Banking, said January's figures were \"decent numbers\"."
          ],
          [
           "Cars pull down US retail figures",
           "\"We are not seeing the numbers that we saw in the second half of 2004, but they are still pretty healthy,\" he added."
          ],
          [
           "Cars pull down US retail figures",
           "Sales at appliance and electronic stores were down 0.6% in January, while sales at hardware stores dropped by 0.3% and furniture store sales dipped 0.1%."
          ],
          [
           "Cars pull down US retail figures",
           "Sales at clothing and clothing accessory stores jumped 1.8%, while sales at general merchandise stores, a category that includes department stores, rose by 0.9%."
          ],
          [
           "Cars pull down US retail figures",
           "These strong gains were in part put down to consumers spending gift vouchers they had been given for Christmas."
          ],
          [
           "Cars pull down US retail figures",
           "Sales at restaurants, bars and coffee houses rose by 0.3%, while grocery store sales were up 0.5%."
          ],
          [
           "Cars pull down US retail figures",
           "In December, overall retail sales rose by 1.1%."
          ],
          [
           "Cars pull down US retail figures",
           "Excluding the car sector, sales rose by just 0.3%."
          ],
          [
           "Cars pull down US retail figures",
           "Parul Jain, deputy chief economist at Nomura Securities International, said consumer spending would continue to rise in 2005, only at a slower rate of growth than in 2004."
          ],
          [
           "Cars pull down US retail figures",
           "\"Consumers continue to retain their strength in the first quarter,\" he said."
          ],
          [
           "Cars pull down US retail figures",
           "Van Rourke, a bond strategist at Popular Securities, agreed that the latest retail sales figures were \"slightly stronger than expected\"."
          ],
          [
           "Broadband soars in 2004",
           " If broadband were a jumbo jet, then 2003 would have seen it taxiing down the runway, firing up its engines and preparing for take-off."
          ],
          [
           "Broadband soars in 2004",
           "But this year has seen it soar."
          ],
          [
           "Broadband soars in 2004",
           "In the spring it literally took to the skies as Lufthansa and British Airways trialled it on flights."
          ],
          [
           "Broadband soars in 2004",
           "This perhaps said more about how indispensable people were beginning to perceive the technology, rather than how useful sky-high broadband would actually be."
          ],
          [
           "Broadband soars in 2004",
           "It was flying high and by the autumn, five million Britons had signed up for high-speed net access at home."
          ],
          [
           "Broadband soars in 2004",
           "Such enthusiasm is unlikely to dampen any time soon and experts predict that by the end of next year the numbers will have risen to more than eight million, or more than 30% of homes."
          ],
          [
           "Broadband soars in 2004",
           "The two key factors in whetting people's appetite were falling prices and a huge marketing push."
          ],
          [
           "Broadband soars in 2004",
           "When operators such as BT and Telewest offered standard 512K broadband for less than £20 at the beginning of the year, it was as if an invisible barrier had been breached - broadband had truly gone mass market."
          ],
          [
           "Broadband soars in 2004",
           "A feeding frenzy followed as firms vied for eyeballs in a price war reminiscent of that following the mass market take-up of dial-up."
          ],
          [
           "Broadband soars in 2004",
           "Broadband for less than £10 was even touted by some firms, although such a low price raised eyebrows among more established companies questioning how they are able to sustain such business models."
          ],
          [
           "Broadband soars in 2004",
           "For those who became broadbanders in 2004 there was no turning back and the days of waiting for the modem to kick in began to seem as outdated an idea as a jungle without celebrities."
          ],
          [
           "Broadband soars in 2004",
           "The rest of the world was also falling in love with the benefits of fast internet access, to the tune of 100 million connections worldwide by April, prompting research firm Point Topic to declare it one of the fastest growing technologies ever."
          ],
          [
           "Broadband soars in 2004",
           "By September, the number of broadband connections in the UK finally overtook dial-up and in December BT announced that it was making a new broadband connection every 10 seconds."
          ],
          [
           "Broadband soars in 2004",
           "Broadband was being mentioned on the 10 O'clock News and in the tabloids; the Sun even carried a cartoon joke about it."
          ],
          [
           "Broadband soars in 2004",
           "But two of the most significant pieces of news for broadband were items that did not make the headlines."
          ],
          [
           "Broadband soars in 2004",
           "In May, BT quietly announced that it was shaving 70% off the cost of allowing other operators access to its telephone exchanges, so-called local loop unbundling."
          ],
          [
           "Broadband soars in 2004",
           "The vital local loop is the crucial link between telephone exchanges and homes."
          ],
          [
           "Broadband soars in 2004",
           "At the moment BT has a stranglehold on more than 80% of these lines making it the key voice in deciding what ADSL products get into homes."
          ],
          [
           "Broadband soars in 2004",
           "With cheaper local loop unbundling, rivals to BT can offer faster services that will leave the broadband of today looking positively tortoise-like."
          ],
          [
           "Broadband soars in 2004",
           "It will mean the UK will finally catch up with countries such as France and the Netherlands, where homes are routinely enjoying speeds of up to 15Mb (megabits per second)."
          ],
          [
           "Broadband soars in 2004",
           "And the major price fall means that, rather than just talk about it, companies are actually starting to get their own equipment into BT's exchanges."
          ],
          [
           "Broadband soars in 2004",
           "It may not seem that exciting but it is a remarkable transition given that just a few years ago the arguments over local loop unbundling bore more than a passing resemblance to the Northern Ireland peace talks - fraught, bitter and with no end in sight."
          ],
          [
           "Broadband soars in 2004",
           "Another big piece of news for broadband users in 2004 was the extension of BT's reach, meaning more than 95% of the population could get broadband, regardless of how far away from the exchange they lived."
          ],
          [
           "Broadband soars in 2004",
           "There was a slight caveat for those wanting to upgrade to 1Mbps broadband, they still have to live within six kilometres of a broadband-enabled exchange."
          ],
          [
           "Broadband soars in 2004",
           "For thousands frustrated by their inability to get the technology, the news meant they could finally join in."
          ],
          [
           "Broadband soars in 2004",
           "Broadband is not just about fast access over the telephone and cable operators NTL and Telewest also had a bumper year."
          ],
          [
           "Broadband soars in 2004",
           "The biggest news for them was increased speeds, introducing 2Mb and 3Mb services for users and offering a free upgrade to those on 512K."
          ],
          [
           "Broadband soars in 2004",
           "The cable operators are limited in their reach and it is perhaps testament to how big a deal local loop unbundling could become that even they are considering extending their range via this route."
          ],
          [
           "Broadband soars in 2004",
           "Broadband can seem confusing for consumers, with the huge amount of operators offering so many different products, some with capped bandwidth and different length contracts and set-up fees."
          ],
          [
           "Broadband soars in 2004",
           "It is unlikely to get any less easy to understand in 2005 but remains a plane worth catching."
          ],
          [
           "Broadband soars in 2004",
           "As it gets faster and offers extras such as cheap telephone calls online, the only real thing to remember for the coming year is to enjoy the ride."
          ],
          [
           "Brewers' profits lose their fizz",
           " Heineken and Carlsberg, two of the world's largest brewers, have reported falling profits after beer sales in western Europe fell flat."
          ],
          [
           "Brewers' profits lose their fizz",
           "Dutch firm Heineken saw its annual profits drop 33% and warned that earnings in 2005 may also slide."
          ],
          [
           "Brewers' profits lose their fizz",
           "Danish brewer Carlsberg suffered a 3% fall in profits due to waning demand and increased marketing costs."
          ],
          [
           "Brewers' profits lose their fizz",
           "Both are looking to Russia and China to provide future growth as western European markets are largely mature."
          ],
          [
           "Brewers' profits lose their fizz",
           "Heineken's net income fell to 537m euros ($701m; £371m) during 2004, from 798m euro a year ago."
          ],
          [
           "Brewers' profits lose their fizz",
           "It blamed weak demand in western Europe and currency losses."
          ],
          [
           "Brewers' profits lose their fizz",
           "It had warned in September that the weakening US dollar, which has cut the value of foreign sales, would knock 125m euros off its operating profits."
          ],
          [
           "Brewers' profits lose their fizz",
           "Despite the dip in profits, Heineken's sales have been improving and total revenue for the year was 10bn euros, up 8.1% from 9.26bn euros in 2003."
          ],
          [
           "Brewers' profits lose their fizz",
           "Heineken said it now plans to invest 100m euros in \"aggressive\" and \"high-impact\" marketing in Europe and the US in 2005."
          ],
          [
           "Brewers' profits lose their fizz",
           "Heineken, which also owns the Amstel and Murphy's stout brands, said it would also seek to cut costs."
          ],
          [
           "Brewers' profits lose their fizz",
           "This may involve closing down breweries."
          ],
          [
           "Brewers' profits lose their fizz",
           "Heineken increased its dividend payment by 25% to 40 euro cents, but warned that the continued impact of a weaker dollar and an increased marketing spend may lead to a drop in 2005 net profit."
          ],
          [
           "Brewers' profits lose their fizz",
           "Carlsberg, the world's fifth-largest brewer, saw annual pre-tax profits fall to 3.4bn Danish kroner (456m euros)."
          ],
          [
           "Brewers' profits lose their fizz",
           "Its beer sales have been affected by the sluggish European economy and by the banning of smoking in pubs in several European countries."
          ],
          [
           "Brewers' profits lose their fizz",
           "Nevertheless, total sales increased 4% to 36bn kroner, thanks to strong sales of Carlsberg lager in Russia and Poland."
          ],
          [
           "Brewers' profits lose their fizz",
           "Carlsberg is more optimistic than Heineken about 2005, projecting a 15% rise in net profits for the year."
          ],
          [
           "Brewers' profits lose their fizz",
           "However, it also plans to cut 200 jobs in Sweden, where sales have been hit by demand for cheap, imported brands."
          ],
          [
           "Brewers' profits lose their fizz",
           "\"We remain cautious about the medium-to-long term outlook for revenue growth across western Europe for a host of economic, social and structural reasons,\" investment bank Merrill Lynch said of Carlsberg."
          ],
          [
           "Chinese exports rise 25% in 2004",
           " Exports from China leapt during 2004 over the previous year as the country continued to show breakneck growth."
          ],
          [
           "Chinese exports rise 25% in 2004",
           "The spurt put China's trade surplus - a sore point with some of its trading partners - at a six-year high."
          ],
          [
           "Chinese exports rise 25% in 2004",
           "It may also increase pressure on China to relax the peg joining its currency, the yuan, with the weakening dollar."
          ],
          [
           "Chinese exports rise 25% in 2004",
           "The figures released by the Ministry of Commerce come as China's tax chief confirmed that growth had topped 9% in 2004 for the second year in a row."
          ],
          [
           "Chinese exports rise 25% in 2004",
           "State Administration of Taxation head Xie Xuren said a tightening of controls on tax evasion had combined with the rapid expansion to produce a 25.7% rise in tax revenues to 2.572 trillion yuan ($311bn; £165bn)."
          ],
          [
           "Chinese exports rise 25% in 2004",
           "According to the Ministry of Commerce, China's exports totalled $63.8bn in December, taking the annual total up 35.4% to $593.4bn."
          ],
          [
           "Chinese exports rise 25% in 2004",
           "With imports rising a similar amount, the deficit rose to $43.4bn."
          ],
          [
           "Chinese exports rise 25% in 2004",
           "The increased tax take comes despite healthy tax rebates for many exporters totalling 420bn yuan in 2004, according to Mr Xie."
          ],
          [
           "Chinese exports rise 25% in 2004",
           "China's exporting success has made the trade deficit of the United States soar even further and made trade with China a sensitive political issue in Washington."
          ],
          [
           "Chinese exports rise 25% in 2004",
           "The peg keeping the yuan around 8.30 to the dollar is often blamed by US lawmakers for job losses at home."
          ],
          [
           "Chinese exports rise 25% in 2004",
           "A US report issued on Tuesday on behalf of a Congressionally-mandated panel said almost 1.5 million posts disappeared between 1989 and 2003."
          ],
          [
           "Chinese exports rise 25% in 2004",
           "The pace accelerated in the final three years of the period, said the report for the US-China Economic and Security Review Commission, moving out of labour-intensive industries and into more hi-tech sectors."
          ],
          [
           "Chinese exports rise 25% in 2004",
           "The US's overall trade deficit with China was $124bn in 2003, and is expected to rise to about $150bn for 2004."
          ],
          [
           "Huge rush for Jet Airways shares",
           " Indian airline Jet Airways' initial public offering was oversubscribed 16.2 times, bankers said on Friday."
          ],
          [
           "Huge rush for Jet Airways shares",
           "Over 85% of the bids were at the higher end of the price range of 1,050-1,125 rupees ($24-$26)."
          ],
          [
           "Huge rush for Jet Airways shares",
           "Jet Airways, a low-fare airline, was founded by London-based ex-travel agent Naresh Goya, and controls 45% of the Indian domestic airline market."
          ],
          [
           "Huge rush for Jet Airways shares",
           "It sold 20% of its equity or 17.2 million shares in a bid to raise up to $443m (£230.8m)."
          ],
          [
           "Huge rush for Jet Airways shares",
           "The price at which its shares will begin trading will be agreed over the weekend, bankers said."
          ],
          [
           "Huge rush for Jet Airways shares",
           "\"The demand for the IPO was impressive."
          ],
          [
           "Huge rush for Jet Airways shares",
           "We believe that over the next two years, the domestic aviation sector promises strong growth, even though fuel prices could be high,\" said Hiten Mehta, manager of merchant banking firm, Fortune Financial Services."
          ],
          [
           "Huge rush for Jet Airways shares",
           "India began to open up its domestic airline market - previously dominated by state-run carrier Indian Airlines - in the 1990s."
          ],
          [
           "Huge rush for Jet Airways shares",
           "Jet began flying in 1993 and now has competitors including Air Deccan and Air Sahara."
          ],
          [
           "Huge rush for Jet Airways shares",
           "Budget carriers Kingfisher Airlines and SpiceJet are planning to launch operations in May this year."
          ],
          [
           "Huge rush for Jet Airways shares",
           "Jet has 42 aircraft and runs 271 scheduled flights daily within India."
          ],
          [
           "Huge rush for Jet Airways shares",
           "It recently won government permission to fly to London, Singapore and Kuala Lumpur."
          ],
          [
           "Tsunami 'to hit Sri Lanka banks'",
           " Sri Lanka's banks face hard times following December's tsunami disaster, officials have warned."
          ],
          [
           "Tsunami 'to hit Sri Lanka banks'",
           "The Sri Lanka Banks Association said the waves which killed more than 30,000 people also washed away huge amounts of property which was securing loans."
          ],
          [
           "Tsunami 'to hit Sri Lanka banks'",
           "According to its estimate, as much as 13.6% of the loans made by private banks to clients in the disaster zone has been written off or damaged."
          ],
          [
           "Tsunami 'to hit Sri Lanka banks'",
           "State-owned lenders may be even worse hit, it said."
          ],
          [
           "Tsunami 'to hit Sri Lanka banks'",
           "The association estimates that the private banking sector has 25bn rupees ($250m; £135m) of loans outstanding in the disaster zone."
          ],
          [
           "Tsunami 'to hit Sri Lanka banks'",
           "On one hand, banks are dealing with the death of their customers, along with damaged or destroyed collateral."
          ],
          [
           "Tsunami 'to hit Sri Lanka banks'",
           "On the other, most are extending cheap loans for rebuilding and recovery, as well as giving their clients more time to repay existing borrowing."
          ],
          [
           "Tsunami 'to hit Sri Lanka banks'",
           "The combination means a revenue shortfall during 2005, SLBA chairman - and Commercial Bank managing director - AL Gooneratne told a news conference."
          ],
          [
           "Tsunami 'to hit Sri Lanka banks'",
           "\"Most banks have given moratoriums and will not be collecting interest, at least in this quarter,\" he said."
          ],
          [
           "Tsunami 'to hit Sri Lanka banks'",
           "In the public sector, more than one in ten of the state-owned People's Bank's customers in the south of Sri Lanka were affected, a bank spokesman told Reuters."
          ],
          [
           "Tsunami 'to hit Sri Lanka banks'",
           "He estimated the bank's loss at 3bn rupees."
          ],
          [
           "Fresh hope after Argentine crisis",
           " Three years after Argentina was hit by a deadly economic crisis, there is fresh hope."
          ],
          [
           "Fresh hope after Argentine crisis",
           "The country's economy is set to grow about 8% this year after seeing 9% growth last year, a sharp turnaround from 2002 when output fell 11%."
          ],
          [
           "Fresh hope after Argentine crisis",
           "The unemployment rate is improving, too: It is set to slip below 13% by the end of the year, down from 20% in May 2002."
          ],
          [
           "Fresh hope after Argentine crisis",
           "True, problems remain, but the overall picture is one of vast improvement."
          ],
          [
           "Fresh hope after Argentine crisis",
           "Even the International Monetary Fund (IMF) admits this."
          ],
          [
           "Fresh hope after Argentine crisis",
           "\"The Argentine authorities are proud, should be proud, of the strong performance of the economy,\" Thomas Dawson, an IMF director, said earlier this month."
          ],
          [
           "Fresh hope after Argentine crisis",
           "Argentina has made a remarkable recovery from a hideous and lengthy recession which in 2001 culminated in the government halting debt repayments to its private creditors."
          ],
          [
           "Fresh hope after Argentine crisis",
           "The debt default sparked a deep and prolonged economic crisis which, at least initially, was made worse by the government's decisions."
          ],
          [
           "Fresh hope after Argentine crisis",
           "Pension payments were halted and bank accounts frozen as part of austerity measures introduced by the government to deal with the country's massive debts."
          ],
          [
           "Fresh hope after Argentine crisis",
           "In response, angry crowds of ordinary Argentines took to the streets where dozens of lives were lost in clashes with the police."
          ],
          [
           "Fresh hope after Argentine crisis",
           "Two presidents and at least three finance minister resigned in less than a month."
          ],
          [
           "Fresh hope after Argentine crisis",
           "Argentina was on the brink of collapse."
          ],
          [
           "Fresh hope after Argentine crisis",
           "The fix was found in the currency markets with the abandonment of the peso's decade-long peg to the US dollar in February 2002."
          ],
          [
           "Fresh hope after Argentine crisis",
           "The subsequent devaluation saw thousands of people's life savings disappear."
          ],
          [
           "Fresh hope after Argentine crisis",
           "Scathes of companies went bust."
          ],
          [
           "Fresh hope after Argentine crisis",
           "\"Three years ago, every sector [of the economy] was hit by the crisis,\" said entrepreneur Drayton Valentine."
          ],
          [
           "Fresh hope after Argentine crisis",
           "It really was dire."
          ],
          [
           "Fresh hope after Argentine crisis",
           "But since then, the general mood on the ground has improved dramatically, in part because the devaluation helped attract fresh direct investment from abroad and stimulate business within Brazil."
          ],
          [
           "Fresh hope after Argentine crisis",
           "\"Agriculture and tourism are helping,\" said entrepreneur Drayton Valentine."
          ],
          [
           "Fresh hope after Argentine crisis",
           "Mr Valentine, who was born in the United States but grew up in Argentina, was fortunate: At the time of the crisis, his savings were held in dollar accounts abroad."
          ],
          [
           "Fresh hope after Argentine crisis",
           "But now he is using his money to help with the start-up a trading company."
          ],
          [
           "Fresh hope after Argentine crisis",
           "He explained that initially, his firm is going to export building materials to Spain and United States."
          ],
          [
           "Fresh hope after Argentine crisis",
           "Then, he would like to diversify to other areas, depending on the market."
          ],
          [
           "Fresh hope after Argentine crisis",
           "\"Locally there is a sense of recovery, many companies are exporting now,\" he said, noting that a lot of firms, which were closed during the crisis, are re-opening."
          ],
          [
           "Fresh hope after Argentine crisis",
           "But not all that shines is gold."
          ],
          [
           "Fresh hope after Argentine crisis",
           "Argentina is still burdened by its failure to pay private creditors at the end of 2001."
          ],
          [
           "Fresh hope after Argentine crisis",
           "President Nestor Kirchner's administration is still trying to hammer out an agreement with the creditors, but with the debts' nominal value standing at around $100bn it is not proving easy."
          ],
          [
           "Fresh hope after Argentine crisis",
           "Debt defaults make further lending agreements both difficult and expensive to negotiate."
          ],
          [
           "Fresh hope after Argentine crisis",
           "Argentina's current offer implies that the creditors would get just 25 cents for each dollar they are owed, according to the creditors."
          ],
          [
           "Fresh hope after Argentine crisis",
           "Understandably, they want more and until they do, both they and others are loath to continue lending."
          ],
          [
           "Fresh hope after Argentine crisis",
           "For President Kirchner, this proves a hopeless challenge."
          ],
          [
           "Fresh hope after Argentine crisis",
           "Real losses have been suffered and somebody has to pay, observed Jack Boorman, adviser to IMF's managing director, Rodrigo Rato."
          ],
          [
           "Fresh hope after Argentine crisis",
           "\"Everyone needs to keep in mind the enormous cost on the part of both creditors and the Argentine society and people that will have been endured by the time a settlement is reached,\" he said."
          ],
          [
           "Fresh hope after Argentine crisis",
           "\"The cost is enormous, and continues to be paid, and will not be reversed by any restructuring.\""
          ],
          [
           "Fresh hope after Argentine crisis",
           "With the international negotiations being troubled, it is of little help to President Kirchner that the domestic situation remains strained as well."
          ],
          [
           "Fresh hope after Argentine crisis",
           "This is partly because there are still bank account holders who are waiting to recover some of their deposits."
          ],
          [
           "Fresh hope after Argentine crisis",
           "\"The situation is bad for those who had previously chosen to save in Argentina, \" said Carlos Baez Silva, president of AARA, an association that represents bank account and bond holders."
          ],
          [
           "Fresh hope after Argentine crisis",
           "Few people have recovered more than about half their savings, Mr Baez Silva estimated, pointing out that many of the savers who have lost out are pensioners or others who once trusted the government, people who set aside money for the future in the belief that their investment would be safe."
          ],
          [
           "Fresh hope after Argentine crisis",
           "\"A lot of them invested in good faith,\" he said."
          ],
          [
           "Fresh hope after Argentine crisis",
           "\"The Argentine state responded by taking most of their investments.\""
          ],
          [
           "Fresh hope after Argentine crisis",
           "The affair has made Mr Baez Silva disillusioned with the country's legal system."
          ],
          [
           "Fresh hope after Argentine crisis",
           "On occasion, the Supreme Court has ruled against the interests of the people he represents, he says, insisting that the system cannot be trusted."
          ],
          [
           "Fresh hope after Argentine crisis",
           "\"People have to deposit their money in the banks, not necessarily because they trust them but because crime is so high that people cannot have their money in their homes beneath their mattresses.\""
          ],
          [
           "Fresh hope after Argentine crisis",
           "Mr Valentine, who was born in the United States but grew up in Argentina, agreed."
          ],
          [
           "Fresh hope after Argentine crisis",
           "\"If I have to save pesos [the local currency] there is not much problem, but I will think twice before I deposit dollars in a bank\"."
          ],
          [
           "UK interest rates held at 4.75%",
           " The Bank of England has left interest rates on hold again at 4.75%, in a widely-predicted move."
          ],
          [
           "UK interest rates held at 4.75%",
           "Rates went up five times from November 2003 - as the bank sought to cool the housing market and consumer debt - but have remained unchanged since August."
          ],
          [
           "UK interest rates held at 4.75%",
           "Recent data has indicated a slowdown in manufacturing and consumer spending, as well as in mortgage approvals."
          ],
          [
           "UK interest rates held at 4.75%",
           "And retail sales disappointed over Christmas, with analysts putting the drop down to less consumer confidence."
          ],
          [
           "UK interest rates held at 4.75%",
           "Rising interest rates and the accompanying slowdown in the housing market have knocked consumers' optimism, causing a sharp fall in demand for expensive goods, according to a report earlier this week from the British Retail Consortium."
          ],
          [
           "UK interest rates held at 4.75%",
           "The BRC said Britain's retailers had endured their worst Christmas in a decade."
          ],
          [
           "UK interest rates held at 4.75%",
           "\"Today's no change decision is correct,\" said David Frost, Director General of the British Chambers of Commerce (BCC)."
          ],
          [
           "UK interest rates held at 4.75%",
           "\"But, if there are clear signs that the economy slows, the MPC should be ready to take quick corrective action and cut rates."
          ],
          [
           "UK interest rates held at 4.75%",
           "\"Dismal reports from the retail trade about Christmas sales are worrying, if they indicate a more general weakening in consumer spending.\""
          ],
          [
           "UK interest rates held at 4.75%",
           "Mr Frost added: \"The housing market outlook remains highly uncertain."
          ],
          [
           "UK interest rates held at 4.75%",
           "\"It is widely accepted that, if house prices start falling more sharply, the risks facing the economy will worsen considerably.\""
          ],
          [
           "UK interest rates held at 4.75%",
           "CBI chief economist Ian McCafferty said the economy had \"slowed in recent months in response to rate rises\" but that it was difficult to gauge from the Christmas period the likely pace of activity through the summer."
          ],
          [
           "UK interest rates held at 4.75%",
           "\"The Bank is having to juggle the emergence of inflationary pressures, driven by a tight labour market and buoyant commodity prices, against the risk of an over-abrupt slowdown in consumer activity,\" he said."
          ],
          [
           "UK interest rates held at 4.75%",
           "\"Interest rates are likely to remain on hold for some time.\""
          ],
          [
           "UK interest rates held at 4.75%",
           "On Thursday there was more gloomy news on the manufacturing front, as the Office for National (ONS) statistics revealed British manufacturing output unexpectedly fell in November - for the fifth month in the past six."
          ],
          [
           "UK interest rates held at 4.75%",
           "The ONS said manufacturing output dropped 0.1% in November, matching a similar unrevised fall in October and confounding economists' expectations of a 0.3% rise."
          ],
          [
           "UK interest rates held at 4.75%",
           "Manufacturers' organisation, the EEF, said it expected the hold in interest rates to continue in the near future."
          ],
          [
           "UK interest rates held at 4.75%",
           "It also said there was evidence that manufacturers' confidence may be waning as the outlook for the world economy becomes more uncertain."
          ],
          [
           "UK interest rates held at 4.75%",
           "\"So far the evidence suggests that last year's rate increases have helped to rebalance the economy without damaging the recovery in manufacturing,\" said EEF chief economist, Steve Radley."
          ],
          [
           "UK interest rates held at 4.75%",
           "\"However, should the business outlook start to deteriorate, the Bank should stand ready to cut rates.\""
          ],
          [
           "UK interest rates held at 4.75%",
           "Some economists have predicted rates will drop later in the year, although others feel the Bank may still think there is a need for a rise to 5% before that happens."
          ],
          [
           "UK interest rates held at 4.75%",
           "The Bank remains concerned about the long-term risks posed by personal debt - which is rising at 15% a year - if economic conditions worsen."
          ],
          [
           "Local net TV takes off in Austria",
           " An Austrian village is testing technology that could represent the future of television."
          ],
          [
           "Local net TV takes off in Austria",
           "The people of Engerwitzdorf are filming, editing and producing their own regional news channel."
          ],
          [
           "Local net TV takes off in Austria",
           "The channel covers local politics, sports, events and anything that residents want to film and are prepared to upload for others to watch on PCs."
          ],
          [
           "Local net TV takes off in Austria",
           "The pilot has been so successful that Telekom Austria is now considering setting up other projects elsewhere."
          ],
          [
           "Local net TV takes off in Austria",
           "\"It's growing unbelievably fast,\" said Rudolf Fischer, head of Telekom Austria's fixed line division."
          ],
          [
           "Local net TV takes off in Austria",
           "The trial of Buntes Fernsehen (Multi-Coloured TV) was started in late 2004 and creates a net-based TV station run by the 8,000 residents of Engerwitzdorf."
          ],
          [
           "Local net TV takes off in Austria",
           "The hardware and software to turn video footage into edited programmes has been provided by Telekom Austria but this equipment, following training, has been turned over to the villagers."
          ],
          [
           "Local net TV takes off in Austria",
           "Any video programme created by the villagers is uploaded to a Buntes Fernsehen portal that lets people browse and download what they want to watch."
          ],
          [
           "Local net TV takes off in Austria",
           "Most people watch the TV on their home PC and a broadband connection is needed to get broadcast quality programmes."
          ],
          [
           "Local net TV takes off in Austria",
           "In the first four months of the project villagers have created 60 films and put together regular reports on local news items."
          ],
          [
           "Local net TV takes off in Austria",
           "\"They have adopted it very quickly,\" said Mr Fischer."
          ],
          [
           "Local net TV takes off in Austria",
           "\"They like the possibility to create their own content and see what's going on in the area.\""
          ],
          [
           "Local net TV takes off in Austria",
           "\"It's kind of the democratisation of local TV,\" he said, \"because none of the bigger broadcasters would ever do anything like this for that region.\""
          ],
          [
           "Local net TV takes off in Austria",
           "The Buntes Fernsehen project has been such a success that Telekom Austria is now considering setting up other schemes in similarly rural areas."
          ],
          [
           "Local net TV takes off in Austria",
           "Mr Fischer said it was taking the roll-out to other areas slowly because of the work involved in setting up the scheme, getting backers from local government and educating people how to make programmes."
          ],
          [
           "Local net TV takes off in Austria",
           "The Engerwitzdorf scheme is an outgrowth of Telekom Austria's online TV channel Aon which lets people watch programmes on their PC."
          ],
          [
           "Local net TV takes off in Austria",
           "Aon streams a couple of live channels, plus sports, news and music programmes on to the net and has a pay-for-download section that lets people watch what they want when they want to watch it."
          ],
          [
           "Local net TV takes off in Austria",
           "In October a larger TV-on-demand project is due to launch in Vienna that will let people download many programmes from the net."
          ],
          [
           "Rich pickings for hi-tech thieves",
           " Viruses, trojans and other malicious programs sent on to the net to catch you out are undergoing a subtle change."
          ],
          [
           "Rich pickings for hi-tech thieves",
           "The shift is happening as tech savvy criminals turn to technology to help them con people out of cash, steal valuable data or take over home PCs."
          ],
          [
           "Rich pickings for hi-tech thieves",
           "Viruses written to make headlines by infecting millions are getting rarer."
          ],
          [
           "Rich pickings for hi-tech thieves",
           "Instead programs are now crafted for directly criminal ends and firms are tightening up networks with defences to combat the new wave of malicious code."
          ],
          [
           "Rich pickings for hi-tech thieves",
           "The growing criminal use of malware has meant the end of the neat categorisation of different sorts of viruses and malicious programs."
          ],
          [
           "Rich pickings for hi-tech thieves",
           "Before now it has been broadly possible to name and categorise viruses by the method they use to spread and how they infect machines."
          ],
          [
           "Rich pickings for hi-tech thieves",
           "But many of the viruses written by criminals roll lots of technical tricks together into one nasty package."
          ],
          [
           "Rich pickings for hi-tech thieves",
           "\"You cannot put them in to the neat little box that you used to,\" said Pete Simpson, head of the threat laboratory at security firm Clearswift."
          ],
          [
           "Rich pickings for hi-tech thieves",
           "Now viruses are just as likely to spread by themselves like worms, or to exploit loopholes in browsers or hide in e-mail message attachments."
          ],
          [
           "Rich pickings for hi-tech thieves",
           "\"It's about outright criminality now,\" said Mr Simpson, explaining why this change has come about."
          ],
          [
           "Rich pickings for hi-tech thieves",
           "He said many of the criminal programs came from Eastern Europe where cash-rich organised gangs can find a ready supply of technical experts that will crank out code to order."
          ],
          [
           "Rich pickings for hi-tech thieves",
           "Former virus writer Marek Strihavka, aka Benny from the 29A virus writing group, recently quit the malware scene partly because it was being taken over by spyware writers, phishing gangs, and spammers who are more interested in money rather than the technology."
          ],
          [
           "Rich pickings for hi-tech thieves",
           "No longer do virus writers produce programs to show off their technical prowess to rivals in the underground world of malware authors."
          ],
          [
           "Rich pickings for hi-tech thieves",
           "Not least, said Paul King, principal security consultant at Cisco, because the defences against such attacks are so common."
          ],
          [
           "Rich pickings for hi-tech thieves",
           "\"In many ways the least likely way to do it is e-mail because most of us have got anti-virus and firewalls now,\" he said."
          ],
          [
           "Rich pickings for hi-tech thieves",
           "Few of the malicious programs written by hi-tech thieves are cleverly written, many are much more pragmatic and use tried and tested techniques to infect machines or to trick users into installing a program or handing over important data."
          ],
          [
           "Rich pickings for hi-tech thieves",
           "\"If you think of criminals they do not do clever,\" said Mr King, \"they just do what works.\""
          ],
          [
           "Rich pickings for hi-tech thieves",
           "As the tactics used by malicious programs change, said Mr King, so many firms were changing the way they defend themselves."
          ],
          [
           "Rich pickings for hi-tech thieves",
           "Now many scan machines that connect to the corporate networks to ensure they have not been compromised while off the core network."
          ],
          [
           "Rich pickings for hi-tech thieves",
           "Many will not let a machine connect and a worker get on with their job before the latest patches and settings have been uploaded."
          ],
          [
           "Rich pickings for hi-tech thieves",
           "As well as using different tactics, criminals also use technology for reasons that are much more transparent."
          ],
          [
           "Rich pickings for hi-tech thieves",
           "\"The main motivation now is money,\" said Gary Stowell, spokesman for St Bernard software."
          ],
          [
           "Rich pickings for hi-tech thieves",
           "Mr Stowell said organised crime gangs were turning to computer crime because the risks of being caught were low and the rates of return were very high."
          ],
          [
           "Rich pickings for hi-tech thieves",
           "With almost any phishing or spyware attack, criminals are guaranteed to catch some people out and have the contacts to exploit what they recover."
          ],
          [
           "Rich pickings for hi-tech thieves",
           "So-called spyware was proving very popular with criminals because it allowed them to take over machines for their own ends, to steal key data from users or to hijack web browsing sessions to point people at particular sites."
          ],
          [
           "Rich pickings for hi-tech thieves",
           "In some cases spyware was being written that searched for rival malicious programs on PCs it infects and then trying to erase them so it has sole ownership of that machine."
          ],
          [
           "Apple iPod family expands market",
           " Apple has expanded its iPod family with the release of its next generation of the digital music players."
          ],
          [
           "Apple iPod family expands market",
           "Its latest challenges to the growing digital music gadget market include an iPod mini model which can hold 6GB compared to a previous 4GB."
          ],
          [
           "Apple iPod family expands market",
           "The company, which hopes to keep its dominant place in the digital music market, also said the gold coloured version of the mini would be dropped."
          ],
          [
           "Apple iPod family expands market",
           "A 30GB version has also been added to the iPod Photo family."
          ],
          [
           "Apple iPod family expands market",
           "The latest models have a longer battery life and their prices have been cut by an average of £40."
          ],
          [
           "Apple iPod family expands market",
           "The original iPod took an early lead in the digital music player market thanks to its large storage capacity and simple design."
          ],
          [
           "Apple iPod family expands market",
           "During 2004 about 25 million portable players were sold, 10 million of which were Apple iPods."
          ],
          [
           "Apple iPod family expands market",
           "But analysts agree that the success is also down to its integration with the iTunes online store, which has given the company a 70% share of the legal download music market."
          ],
          [
           "Apple iPod family expands market",
           "Mike McGuire, a research director at analyst Gartner, told the BBC News website that Apple had done a good job in \"sealing off the market from competition\" so far."
          ],
          [
           "Apple iPod family expands market",
           "\"They have created a very seamless package which I think is the idea of the product - the design, function and the software are very impressive,\" he said."
          ],
          [
           "Apple iPod family expands market",
           "He added that the threat from others was always present, however."
          ],
          [
           "Apple iPod family expands market",
           "\"Creative, other Microsoft-partnered devices, Real, Sony and so on, are ratcheting up the marketing message and advertising,\" he said."
          ],
          [
           "Apple iPod family expands market",
           "Creative was very upbeat about how many of its Creative Zen players it had shipped by the end of last year, he said."
          ],
          [
           "Apple iPod family expands market",
           "Its second-generation models, like the Creative Zen Micro Photo, is due out in the summer."
          ],
          [
           "Apple iPod family expands market",
           "It will have 5GB of memory on board."
          ],
          [
           "Apple iPod family expands market",
           "Digital music players are now the gadget of choice among young Americans, according to recent research by the Pew Internet and American Life Project."
          ],
          [
           "Apple iPod family expands market",
           "One in 10 US adults - 22 million people - now owns a digital music player of some sort."
          ],
          [
           "Apple iPod family expands market",
           "Sales of legally downloaded songs also rose more than tenfold in 2004, according to the record industry, with 200 million tracks bought online in the US and Europe in 12 months."
          ],
          [
           "Apple iPod family expands market",
           "The IFPI industry body said that the popularity of portable music players was behind the growth."
          ],
          [
           "Apple iPod family expands market",
           "Analysts say that the ease of use and growth of music services available on the net will continue to drive the trend towards portable music players."
          ],
          [
           "Apple iPod family expands market",
           "People are also starting to use them in novel ways."
          ],
          [
           "Apple iPod family expands market",
           "Some are combining automatic syncing functions many of them have with other net functions to automatically distribute DIY radio shows, called podcasts."
          ],
          [
           "Apple iPod family expands market",
           "But 2005 will also see more competition from mobile phone operators who are keen to offer streaming services on much more powerful and sophisticated handsets."
          ],
          [
           "Apple iPod family expands market",
           "According to Mr McGuire, research suggests that people like the idea of building up huge libraries of music, which they can do with high-capacity storage devices, like iPods and Creative Zens."
          ],
          [
           "Apple iPod family expands market",
           "Mobiles do not yet have this capacity though, and there are issues about the ease of portability of mobile music."
          ],
          [
           "Apple iPod family expands market",
           "Mr McGuire said Apple was ensuring it kept a foot in the mobile music door with its recent deal with Motorola to produce a version of iTunes for Motorola phones."
          ],
          [
           "Iran jails blogger for 14 years",
           " An Iranian weblogger has been jailed for 14 years on charges of spying and aiding foreign counter-revolutionaries."
          ],
          [
           "Iran jails blogger for 14 years",
           "Arash Sigarchi was arrested last month after using his blog to criticise the arrest of other online journalists."
          ],
          [
           "Iran jails blogger for 14 years",
           "Mr Sigarchi, who also edits a newspaper in northern Iran, was sentenced by a revolutionary court in the Gilan area."
          ],
          [
           "Iran jails blogger for 14 years",
           "His sentence, criticised by human rights watchdog Reporters Without Borders, comes a day after an online \"day of action\" to secure his release."
          ],
          [
           "Iran jails blogger for 14 years",
           "Iranian authorities have recently clamped down on the growing popularity of weblogs, restricting access to major blogging sites from within Iran."
          ],
          [
           "Iran jails blogger for 14 years",
           "A second Iranian blogger, Motjaba Saminejad, who also used his website to report on bloggers' arrests, is still being held."
          ],
          [
           "Iran jails blogger for 14 years",
           "A spokesman for Reporters Without Borders, which tracks press freedom across the globe, described Mr Sigarchi's sentence as \"harsh\" and called on Iranian President Mohammed Khatami to work to secure his immediate release."
          ],
          [
           "Iran jails blogger for 14 years",
           "\"The authorities are trying to make an example of him,\" the organisation said in a statement."
          ],
          [
           "Iran jails blogger for 14 years",
           "\"By handing down this harsh sentence against a weblogger, their aim is to dissuade journalists and internet-users from expressing themselves online or contacting foreign media.\""
          ],
          [
           "Iran jails blogger for 14 years",
           "In the days before his arrest Mr Sigarchi gave interviews to the BBC Persian Service and the US-funded Radio Farda."
          ],
          [
           "Iran jails blogger for 14 years",
           "Iranian authorities have arrested about 20 online journalists during the current crackdown."
          ],
          [
           "Iran jails blogger for 14 years",
           "They accused Mr Sigarchi of a string of crimes against Iranian state, including espionage, insulting the founder of Iran's Islamic Republic, Ayatollah Ruhollah Khomenei, and current Supreme Leader Ayatollah Ali Khamenei."
          ],
          [
           "Iran jails blogger for 14 years",
           "Mr Sigarchi's lawyer labelled the revolutionary court \"illegal and incompetent\" and called for a retrial in a public court."
          ],
          [
           "Iran jails blogger for 14 years",
           "Mr Sigarchi was sentenced one day after an online campaign highlighted his case in a day of action in defence of bloggers around the world."
          ],
          [
           "Iran jails blogger for 14 years",
           "The Committee to Protect Bloggers designated 22 February 2005 as Free Mojtaba and Arash Day."
          ],
          [
           "Iran jails blogger for 14 years",
           "Around 10,000 people visited the campaign's website during the day."
          ],
          [
           "Iran jails blogger for 14 years",
           "About 12% of users were based in Iran, the campaign's director told the BBC News website."
          ],
          [
           "Iran jails blogger for 14 years",
           "Curt Hopkins said Mr Sigarchi's sentence would not dent the resolve of bloggers joining the campaign to help highlight the case."
          ],
          [
           "Iran jails blogger for 14 years",
           "\"The eyes of 8 million bloggers are going to be more focused on Iran since Sigarchi's sentence, not less."
          ],
          [
           "Iran jails blogger for 14 years",
           "\"The mullahs won't be able to make a move without it be spread across the blogosphere.\""
          ],
          [
           "Yahoo moves into desktop search",
           " Internet giant Yahoo has launched software to allow people to search e-mail and other files on their PCs."
          ],
          [
           "Yahoo moves into desktop search",
           "The firm is following in the footsteps of Microsoft, Google and Ask Jeeves, which have offered similar services."
          ],
          [
           "Yahoo moves into desktop search",
           "Search has become a lucrative and hotly-contested area of expansion for net firms, looking to extend loyalty beyond the web."
          ],
          [
           "Yahoo moves into desktop search",
           "With hard drives providing bigger storage, users could need more help to locate important files, such as photos."
          ],
          [
           "Yahoo moves into desktop search",
           "The desktop search technology has been licensed from a US-based firm X1 Technologies."
          ],
          [
           "Yahoo moves into desktop search",
           "It is designed to work alongside Microsoft's Outlook and Outlook Express e-mail programs."
          ],
          [
           "Yahoo moves into desktop search",
           "Searching e-mail effectively is becoming increasingly important, especially as the amount of spam increases."
          ],
          [
           "Yahoo moves into desktop search",
           "According to research from message analysts the Radicati Group, up to 45% of businesses' critical information is stored in e-mail and attachments."
          ],
          [
           "Yahoo moves into desktop search",
           "Yahoo's software can also work separately on the desktop, searching for music, photos and other files."
          ],
          [
           "Yahoo moves into desktop search",
           "Users can search under a variety of criteria, including file name, size, date and time."
          ],
          [
           "Yahoo moves into desktop search",
           "It doesn't yet incorporate web searching, although Yahoo has promised that future versions will allow users to search both web-based and desktop data."
          ],
          [
           "Yahoo moves into desktop search",
           "\"We are all getting more and more files on our desktop but the real commercial opportunity lies with linking this through to web content,\" said Julian Smith, an analyst with research firm Jupiter."
          ],
          [
           "Yahoo moves into desktop search",
           "\"It is all about extending the idea of search and getting a closer relationship with consumers by organising not just how they search on the internet but the files on your computer as well,\" he said."
          ],
          [
           "Yahoo moves into desktop search",
           "Search engines are often the first port of call for users when they go onto the web."
          ],
          [
           "Yahoo moves into desktop search",
           "The new foray into desktop search has rung alarm bells for human rights groups, concerned about the implications to privacy."
          ],
          [
           "Yahoo moves into desktop search",
           "And not everyone is impressed with the functionality of such services."
          ],
          [
           "Yahoo moves into desktop search",
           "Alexander Linden, vice president of emerging technologies at analyst firm Gartner,downloaded the Google product but has since removed it."
          ],
          [
           "Yahoo moves into desktop search",
           "\"It was just not very interesting,\" he said."
          ],
          [
           "Yahoo moves into desktop search",
           "He believes the rush to enter the desktop business is just a way of keeping up with rivals."
          ],
          [
           "Yahoo moves into desktop search",
           "\"Desktop search is just one of many features people would like but I'm suspicious of its usefulness,\" he said."
          ],
          [
           "Yahoo moves into desktop search",
           "More useful would be tools that can combine internet, intranet and desktop search alongside improvements to key word searching, he said."
          ],
          [
           "More women turn to net security",
           " Older people and women are increasingly taking charge of protecting home computers against malicious net attacks, according to a two-year study."
          ],
          [
           "More women turn to net security",
           "The number of women buying programs to protect PCs from virus, spam and spyware attacks rose by 11.2% each year between 2002 and 2004."
          ],
          [
           "More women turn to net security",
           "The study, for net security firm Preventon, shows that security messages are reaching a diversity of surfers."
          ],
          [
           "More women turn to net security",
           "It is thought that 40% of those buying home net security programs are retired."
          ],
          [
           "More women turn to net security",
           "For the last three years, that has gone up by an average of 13.2%."
          ],
          [
           "More women turn to net security",
           "But more retired women (53%) were buying security software than retired men."
          ],
          [
           "More women turn to net security",
           "The research reflects the changing stereotype and demographics of web users, as well as growing awareness of the greater risks that high-speed broadband net connections can pose to surfers."
          ],
          [
           "More women turn to net security",
           "The study predicts that 40% of all home PC net security buyers will be women in 2005."
          ],
          [
           "More women turn to net security",
           "They could even overtake men as the main buyers by 2007, if current rates persist, according to the research."
          ],
          [
           "More women turn to net security",
           "\"I think older people have become more vigilant about protecting their PCs as we tend to be more cautious and want an insurance policy in case something does go wrong\", said one over-60 woman who took part in the research."
          ],
          [
           "More women turn to net security",
           "\"You started off with young male stereotype computer users for last 10 years,\" Paul Goosens, head of Preventon told the BBC News website."
          ],
          [
           "More women turn to net security",
           "\"Now we are seeing real people - both sexes and very often it is women who have more access at home.\""
          ],
          [
           "More women turn to net security",
           "But net service providers still need to take more responsibility in making sure people are educated about net threats before they go online, particuarly if they are new to broadband, he said."
          ],
          [
           "More women turn to net security",
           "Programs also need to be tailored so that they can be installed by dial-up users with a slower connection too, said Mr Goosens."
          ],
          [
           "More women turn to net security",
           "Security software should be easy to use, with simple interfaces and instructions written in non-technical language, he added."
          ],
          [
           "More women turn to net security",
           "The nature of the security threats are also becoming more than just about e-mail viruses."
          ],
          [
           "More women turn to net security",
           "High-profile complaints about rogue diallers, and spyware or other programs that surreptitiously install themselves on computers, have also raised awareness about the need to have a combination of anti-virus, firewall and spyware-removal programs too."
          ],
          [
           "More women turn to net security",
           "Without protection, these kinds of programs can be picked up just through surfing the web normally."
          ],
          [
           "More women turn to net security",
           "More than 30,000 PCs a day globally are being recruited into networks that spread spam and viruses, a study from security from Symantec showed last year."
          ],
          [
           "More women turn to net security",
           "Viruses written to make headlines by infecting millions are also getting rarer, according to net security experts."
          ],
          [
           "More women turn to net security",
           "Programs are being unleashed to directly profit criminal gangs, many based in Eastern Europe, over those which are designed to show off technical skills or cause nuisance."
          ],
          [
           "More women turn to net security",
           "The research shows that more people are taking these criminal net threats more seriously because, said Mr Goosens, they are reported in the press much more."
          ],
          [
           "More women turn to net security",
           "\"You are seeing older users being educated by the media and are seeing them picking up on this threat."
          ],
          [
           "More women turn to net security",
           "They are asking the right questions,\" he explained."
          ],
          [
           "More women turn to net security",
           "\"It is more likely the younger users who naively assume that because they are using a reputable service provider, that they are safe to connect to the net.\""
          ],
          [
           "More women turn to net security",
           "An unprotected computer on a broadband connection can be breached and infected with viruses or spyware within minutes."
          ],
          [
           "More women turn to net security",
           "By the end of the year it is thought that more than 30% of UK homes will have broadband net access."
          ],
          [
           "More women turn to net security",
           "In July last year, the number of UK households accessing the net via broadband surpassed those using dial-up for the first time, according to the Office of National Statistics."
          ],
          [
           "Global digital divide 'narrowing'",
           " The \"digital divide\" between rich and poor nations is narrowing fast, according to a World Bank report."
          ],
          [
           "Global digital divide 'narrowing'",
           "The World Bank questioned a United Nation's campaign to increase usage and access to technology in poorer nations."
          ],
          [
           "Global digital divide 'narrowing'",
           "\"People in the developing world are getting more access at an incredible rate - far faster than... in the past,\" said the report."
          ],
          [
           "Global digital divide 'narrowing'",
           "But a spokesman for the UN's World Summit on the Information Society said the digital divide remained very real."
          ],
          [
           "Global digital divide 'narrowing'",
           "\"The digital divide is rapidly closing,\" the World Bank report said."
          ],
          [
           "Global digital divide 'narrowing'",
           "Half the world's population now has access to a fixed-line telephone, the report said, and 77% to a mobile network."
          ],
          [
           "Global digital divide 'narrowing'",
           "The report's figures surpass a WSIS campaign goal that calls for 50% access to telephones by 2015."
          ],
          [
           "Global digital divide 'narrowing'",
           "The UN hopes that widening access to technology such as mobile phones and the net will help eradicate poverty."
          ],
          [
           "Global digital divide 'narrowing'",
           "\"Developing countries are catching up with the rich world in terms of access [to mobile networks],\" the report said."
          ],
          [
           "Global digital divide 'narrowing'",
           "\"Africa is part of a worldwide trend of rapid rollout... this applies to countries rich and poor, reformed or not, African, Asian, European and Latin American.\""
          ],
          [
           "Global digital divide 'narrowing'",
           "A spokesman for the World Summit for the Information Society (WSIS), which is meeting this week in Geneva, told the BBC News website: \"The digital divide is very much real and needs to be addressed."
          ],
          [
           "Global digital divide 'narrowing'",
           "\"Some financing has to be found to help narrow the divide.\""
          ],
          [
           "Global digital divide 'narrowing'",
           "On Tuesday, a meeting of the WSIS in Geneva agreed to the creation of a Digital Solitary Fund."
          ],
          [
           "Global digital divide 'narrowing'",
           "\"The fund is voluntary and will help finance local community-based projects,\" said the WSIS spokesman."
          ],
          [
           "Global digital divide 'narrowing'",
           "Under the proposals agreed, voluntary contribution of 1% on contracts obtained by private technology service providers could be made to the Digital Solidarity Fund."
          ],
          [
           "Global digital divide 'narrowing'",
           "The exact financing mechanism of the fund is to be ironed out in the coming days, said the WSIS."
          ],
          [
           "Global digital divide 'narrowing'",
           "Sixty percent of resources collected by the fund will be made available for projects in least developed countries, 30% for projects in developing countries, and 10% for projects in developed countries."
          ],
          [
           "Mobiles get set for visual radio",
           " The growth in the mobile phone market in the past decade has been nothing less than astonishing, but the ability to communicate on the go is not the only reason we are hooked."
          ],
          [
           "Mobiles get set for visual radio",
           "Games, cameras and music players have all been added to our handsets in the last few years, but 2005 could see another big innovation that won't just see a change in our mobile phone habits - it might alter the way we listen to the radio."
          ],
          [
           "Mobiles get set for visual radio",
           "Finnish handset giant Nokia has been working on a technology called Visual Radio, which takes an existing FM signal from a radio station and enables that station to add enhancements such as information and pictures."
          ],
          [
           "Mobiles get set for visual radio",
           "It is not the first time that such an idea has been suggested - the early days of DAB Digital Radio had similar intentions that never really saw the light of day."
          ],
          [
           "Mobiles get set for visual radio",
           "One problem is that the name Visual Radio leads people to think of television but Reidar Wasenius, a senior project manager at Nokia, was adamant that Visual Radio should not be confused with the more traditional medium."
          ],
          [
           "Mobiles get set for visual radio",
           "He said: \"I'm very happy to say it's not television, what we're talking about is an enhancement of radio as we know it today."
          ],
          [
           "Mobiles get set for visual radio",
           "\"If you have a Visual Radio enabled handset, when you hear an artist you don't know, or there's a competition or vote that you'd like to participate in, you pull out your handset and with one click you turn on a visual channel parallel to the on-air broadcast you've just been listening to.\""
          ],
          [
           "Mobiles get set for visual radio",
           "That visual channel is run from a computer within the radio station, and sends out different kinds of information to the handset depending on what you are listening to."
          ],
          [
           "Mobiles get set for visual radio",
           "As well as details on the track or artist of a particular song, there is also the ability to interact immediately with the radio station itself, in a similar way to digital television's \"red button\" content."
          ],
          [
           "Mobiles get set for visual radio",
           "Possible interactive content includes competitions, votes and even the chance to rate the song that is playing."
          ],
          [
           "Mobiles get set for visual radio",
           "But the interactive aspect will make the service especially attractive to radio stations, who will be able to track the number of people taking part in such activities on a real-time basis."
          ],
          [
           "Mobiles get set for visual radio",
           "This in turn should lead to an additional source of revenue, as it is very likely that advertisers will be keen to exploit new opportunities to reach listeners."
          ],
          [
           "Mobiles get set for visual radio",
           "As the Visual Radio content is transmitted by existing GPRS technology you would need to have that service enabled by your network."
          ],
          [
           "Mobiles get set for visual radio",
           "And there will be a cost for the service as well, although it may depend on your usage."
          ],
          [
           "Mobiles get set for visual radio",
           "\"If you enjoy the visual channel occasionally and interact it'll be two or three pounds per month,\" said Mr Wasenius."
          ],
          [
           "Mobiles get set for visual radio",
           "\"But typically what we see happening is the operator offering a package deal for an 'all you can eat' arrangement per month.\""
          ],
          [
           "Mobiles get set for visual radio",
           "The payment system could therefore be similar to the way that broadband internet works versus dial-up connections."
          ],
          [
           "Mobiles get set for visual radio",
           "One thing that is for sure - assuming that Nokia retains its market share in handsets, it is estimating that there will be 100 million Visual Radio-enabled mobile phones in circulation by the end of 2006."
          ],
          [
           "Mobiles get set for visual radio",
           "\"Basically, Visual Radio is not really revolutionary, but rather an evolution where we are providing tools with which people can participate in radio much more easily than ever before.\""
          ],
          [
           "Mobiles get set for visual radio",
           "The first Visual Radio service in the UK will begin in a few months time with Virgin Radio, who are positive about the impact it could have on their listeners."
          ],
          [
           "Mobiles get set for visual radio",
           "Station manager Steve Taylor commented: \"Listeners can interact with the radio station in a new way."
          ],
          [
           "Mobiles get set for visual radio",
           "\"Not only does this give listeners more information on the music we play but means they can instantly purchase things they like; mp3 music downloads and the latest gig tickets.\""
          ],
          [
           "Mobiles get set for visual radio",
           "Initially Visual Radio functionality will be limited to two Nokia handsets due out soon - the 3230 and 7710 - but if successful, it is very likely that other manufacturers will want to join them."
          ],
          [
           "Mobiles get set for visual radio",
           "Listen again to the interview on the Radio Five Live website."
          ],
          [
           "Cable offers video-on-demand",
           " Cable firms NTL and Telewest have both launched video-on-demand services as the battle between satellite and cable TV heats up."
          ],
          [
           "Cable offers video-on-demand",
           "Movies from Sony Pictures, Walt Disney, Touchstone, Miramax, Columbia and Buena Vista will be among those on offer."
          ],
          [
           "Cable offers video-on-demand",
           "The service is similar to Sky Plus, as users can pause, fast forward and rewind content, but they cannot store programmes on their set top box - yet."
          ],
          [
           "Cable offers video-on-demand",
           "It could sound the death knell for some TV channels, Telewest predicts."
          ],
          [
           "Cable offers video-on-demand",
           "\"It allows us to demonstrate a clear competitive advantage over Sky for the first time in many years,\" said Telewest chief executive Eric Tveter."
          ],
          [
           "Cable offers video-on-demand",
           "\"Video-on-demand will offer a deeper range of content than currently exists on TV."
          ],
          [
           "Cable offers video-on-demand",
           "There will be less compromising around the TV schedule and some of the less popular channels may go by the wayside,\" said Philip Snalune, director of products at Telewest."
          ],
          [
           "Cable offers video-on-demand",
           "Telewest customers in Bristol and NTL viewers in Glasgow will be the first to test the new service, which sees a raft of movies on offer for 24 hour rental."
          ],
          [
           "Cable offers video-on-demand",
           "During the year, the service will be extended to all cable regions."
          ],
          [
           "Cable offers video-on-demand",
           "Films will range in price from £1 or £2 for archived movies to £3.50 for current releases."
          ],
          [
           "Cable offers video-on-demand",
           "New releases initially on offer will include 50 First dates, Kill Bill: Volume 2, Gothika and The Station Agent."
          ],
          [
           "Cable offers video-on-demand",
           "In addition, NTL is offering children's programmes, adult content, music video and concerts."
          ],
          [
           "Cable offers video-on-demand",
           "Telewest will launch similar services later in the year."
          ],
          [
           "Cable offers video-on-demand",
           "NTL is also offering viewers the chance to catch up with programmes they have missed."
          ],
          [
           "Cable offers video-on-demand",
           "Its pick of the week service will offer a selection of BBC programmes from the previous seven days such as Eastenders, Casualty, Top Gear and Antiques Roadshow."
          ],
          [
           "Cable offers video-on-demand",
           "The BBC is trialling a similar service, offering broadband users the chance to watch programmes already broadcast on their PC."
          ],
          [
           "Cable offers video-on-demand",
           "For Telewest it is the beginning of a £20m investment in TV-on-demand which will also see the launch of a personal video recorder (PVR)."
          ],
          [
           "Cable offers video-on-demand",
           "PVR has been a big success for Sky because it gives customers control over programmes."
          ],
          [
           "Cable offers video-on-demand",
           "Satellite customers without PVR cannot pause, rewind or fast forward their programmes."
          ],
          [
           "Cable offers video-on-demand",
           "With both services on offer from Telewest, Mr Tveter is confident the cable firm can dent not just the viewing figures for terrestrial TV but also gain a huge competitive advantage over Sky."
          ],
          [
           "Cable offers video-on-demand",
           "\"We offer the best of both worlds and most households have an interest in having both video-on-demand and PVR,\" he said."
          ],
          [
           "Cable offers video-on-demand",
           "Video rental stores may also have to watch their back."
          ],
          [
           "Cable offers video-on-demand",
           "\"Video-on-demand is better than having a video-store in your living room and is more convenient,\" he said."
          ],
          [
           "Cable offers video-on-demand",
           "NTL said it had not ruled out the possibility of offering a PVR but for the moment is concentrating on video-on-demand."
          ],
          [
           "Cable offers video-on-demand",
           "\"PVR is a recording mechanism whereas what we are offering is truly on demand,\" said a spokesman for the company."
          ],
          [
           "Cable offers video-on-demand",
           "Video-on-demand has the added advantage of not requiring a separate set-top box or extra remote controls, he added."
          ],
          [
           "Cable offers video-on-demand",
           "Adam Thomas, an analyst at research firm Informa Media believes the time is ripe for video-on-demand to flourish."
          ],
          [
           "Cable offers video-on-demand",
           "\"While Sky will remain the dominant force in UK pay TV for some time to come, NTL and Telewest seem well placed to successfully ride this second wave of VOD enthusiasm and, if marketed correctly, this could help them eat into Sky's lead,\" he said."
          ],
          [
           "Game makers get Xbox 2 sneak peek",
           " Microsoft has given game makers a glimpse of the new Xbox 2 console."
          ],
          [
           "Game makers get Xbox 2 sneak peek",
           "Some details of the Xbox's performance and what gaming will be like with the device were given at the annual Game Developers Conference in the US."
          ],
          [
           "Game makers get Xbox 2 sneak peek",
           "Xbox frontman J. Allard said the console looked set to be capable of one trillion calculations per second."
          ],
          [
           "Game makers get Xbox 2 sneak peek",
           "Also all titles for the new Xbox will have the same interface to make it easy to play online and buy extras for characters or other add-ons for games."
          ],
          [
           "Game makers get Xbox 2 sneak peek",
           "Microsoft is saving the official unveiling of the Xbox 2, codenamed Xenon, for the E3 show in May and the device could be on shop shelves by November."
          ],
          [
           "Game makers get Xbox 2 sneak peek",
           "However, during his keynote speech at GDC Mr Allard, who heads development of game-making tools for the console, gave a glimpse into how some of its core software will work."
          ],
          [
           "Game makers get Xbox 2 sneak peek",
           "He said gaming was entering a \"high-definition\" era that demanded detailed and convincing graphics that could adequately compete with the HDTV people were starting to watch as well as the HD DVDs that will soon start to appear."
          ],
          [
           "Game makers get Xbox 2 sneak peek",
           "Industry watchers took this to mean that the Xbox 2 will push for HDTV quality graphics as standard as well as multi-channel audio to give gamers an authentic experience."
          ],
          [
           "Game makers get Xbox 2 sneak peek",
           "Mr Allard said Microsoft had to work hard to ensure that it was easy for game makers to produce titles for the Xbox 2 and for players to get playing."
          ],
          [
           "Game makers get Xbox 2 sneak peek",
           "To this end Microsoft was building in to Xbox hardware systems to support headset chat, buddy list controls and custom soundtracks so developers were free to concentrate on the games."
          ],
          [
           "Game makers get Xbox 2 sneak peek",
           "The Xbox would also support well-known industry specifications, such as DirectX, to make it simple for game studios to make titles for the console."
          ],
          [
           "Game makers get Xbox 2 sneak peek",
           "For gamers this emphasis on ease of use would mean every Xbox title uses the same interface to set up online play and get at music stored on the hardware."
          ],
          [
           "Game makers get Xbox 2 sneak peek",
           "This interface will hold details of a player's statistics and skill level on a \"gamer card\" as well as give access to a store where people can spend small amounts of cash to buy extras for their avatars or add-ons, such as new maps or vehicles, for games they possess."
          ],
          [
           "Game makers get Xbox 2 sneak peek",
           "This ability to personalise games and in-game characters would be key in the future, said Mr Allard."
          ],
          [
           "Game makers get Xbox 2 sneak peek",
           "Only with such consistency would the Xbox be able to support the 10-20 million subscribers that it was aiming for, said Mr Allard."
          ],
          [
           "Game makers get Xbox 2 sneak peek",
           "During his speech Mr Allard took several swipes at the Playstation and said processors for consoles had to be made with developers, not just engineers, in mind."
          ],
          [
           "Game makers get Xbox 2 sneak peek",
           "\"Our approach is Bruce Lee, not brute force,\" he said."
          ]
         ],
         "hovertemplate": "Number of Tokens in Sentence=%{y}<br>title=%{customdata[0]}<br>sentences=%{customdata[1]}<extra></extra>",
         "legendgroup": "",
         "marker": {
          "color": "#636efa"
         },
         "name": "",
         "notched": false,
         "offsetgroup": "",
         "orientation": "v",
         "showlegend": false,
         "type": "box",
         "x0": " ",
         "xaxis": "x",
         "y": [
          18,
          31,
          22,
          6,
          23,
          36,
          30,
          19,
          14,
          26,
          14,
          21,
          8,
          17,
          25,
          32,
          16,
          23,
          18,
          18,
          34,
          15,
          23,
          43,
          9,
          14,
          40,
          15,
          21,
          25,
          9,
          33,
          31,
          17,
          33,
          22,
          13,
          24,
          38,
          10,
          39,
          20,
          23,
          13,
          24,
          21,
          26,
          19,
          21,
          19,
          18,
          26,
          18,
          53,
          31,
          25,
          29,
          30,
          16,
          27,
          12,
          37,
          20,
          19,
          22,
          14,
          29,
          42,
          28,
          25,
          38,
          28,
          32,
          28,
          18,
          24,
          37,
          26,
          31,
          32,
          14,
          19,
          31,
          30,
          26,
          30,
          19,
          53,
          17,
          21,
          27,
          27,
          18,
          17,
          26,
          10,
          7,
          15,
          12,
          38,
          14,
          19,
          16,
          32,
          24,
          24,
          48,
          11,
          5,
          13,
          24,
          22,
          22,
          26,
          29,
          37,
          31,
          31,
          25,
          25,
          17,
          18,
          37,
          20,
          28,
          38,
          27,
          19,
          23,
          13,
          25,
          9,
          9,
          14,
          8,
          8,
          12,
          33,
          22,
          29,
          22,
          20,
          20,
          15,
          27,
          22,
          19,
          11,
          36,
          43,
          19,
          24,
          29,
          23,
          19,
          26,
          20,
          12,
          5,
          11,
          24,
          17,
          14,
          26,
          19,
          25,
          45,
          31,
          28,
          19,
          11,
          16,
          26,
          22,
          25,
          18,
          20,
          22,
          31,
          29,
          9,
          22,
          16,
          24,
          23,
          43,
          23,
          28,
          19,
          21,
          16,
          24,
          15,
          30,
          26,
          31,
          23,
          22,
          25,
          24,
          20,
          39,
          18,
          17,
          34,
          28,
          27,
          22,
          23,
          26,
          21,
          45,
          33,
          33,
          41,
          13,
          29,
          28,
          14,
          24,
          29,
          18,
          41,
          36,
          43,
          37,
          39,
          10,
          31,
          16,
          20,
          18,
          48,
          19,
          35,
          55,
          40,
          63,
          10,
          36,
          25,
          18,
          8,
          12,
          18,
          16,
          24,
          25,
          48,
          17,
          25,
          34,
          39,
          23,
          29,
          23,
          29,
          23,
          24,
          32,
          15,
          30,
          23,
          26,
          131,
          26,
          67,
          33,
          25,
          25,
          20,
          24,
          17,
          23,
          29,
          53,
          26,
          37,
          46,
          19,
          16,
          28,
          37,
          4,
          30,
          30,
          18,
          31,
          23,
          35,
          15,
          31,
          19,
          30,
          47,
          34,
          28,
          37,
          29,
          29,
          28,
          18,
          28,
          28,
          30,
          24,
          15,
          44,
          36,
          29,
          33,
          49,
          11,
          39,
          29,
          27,
          24,
          16,
          22,
          20,
          13,
          11,
          10,
          30,
          27,
          19,
          21,
          36,
          26,
          16,
          24,
          11,
          21,
          30,
          29,
          22,
          13,
          35,
          8,
          13,
          33,
          11,
          28,
          14,
          25,
          40,
          22,
          36,
          24,
          27,
          28,
          26,
          38,
          24,
          9,
          19,
          25,
          24,
          22,
          26,
          23,
          26,
          37,
          30,
          40,
          8,
          19,
          36,
          17,
          55,
          54,
          21,
          33,
          29,
          17,
          30,
          33,
          41,
          27,
          17,
          16,
          28,
          27,
          18,
          17,
          25,
          6,
          18,
          22,
          20,
          22,
          28,
          11,
          30,
          24,
          24,
          8,
          11,
          15,
          17,
          34,
          29,
          25,
          18,
          33,
          29,
          10,
          25,
          21,
          26,
          32,
          31,
          23,
          22,
          35,
          20,
          25,
          16,
          23,
          41,
          20,
          43,
          18,
          45,
          32,
          33,
          29,
          32,
          13,
          8,
          42,
          17,
          29,
          25,
          16,
          17,
          26,
          37,
          30,
          29,
          39,
          38,
          36,
          34,
          35,
          32,
          17,
          25,
          26,
          34,
          34,
          35,
          31,
          26,
          33,
          36,
          29,
          32,
          17,
          24,
          35,
          25,
          28,
          26,
          32,
          25,
          28,
          22,
          28,
          24,
          19,
          12,
          21,
          25,
          28,
          10,
          12,
          18,
          26,
          27,
          27,
          26,
          18,
          19,
          33,
          10,
          38,
          13,
          26,
          30,
          20,
          11,
          15,
          15,
          21,
          8,
          32,
          31,
          35,
          29,
          38,
          32,
          12,
          23,
          47,
          36,
          26,
          39,
          20,
          31,
          29,
          16,
          17,
          24,
          27,
          23,
          28,
          22,
          10,
          37,
          42,
          36,
          42,
          19,
          45,
          21,
          28,
          31,
          10,
          18,
          35,
          21,
          35,
          28,
          22,
          34,
          22,
          18,
          18,
          26,
          21,
          31,
          27,
          17,
          32,
          27,
          19,
          13,
          29,
          19,
          25,
          22,
          24,
          25,
          23,
          37,
          20,
          7,
          17,
          43,
          27,
          30,
          16,
          24,
          31,
          53,
          29,
          38,
          49,
          19,
          67,
          23,
          20,
          23,
          30,
          35,
          20,
          16,
          25,
          29,
          15,
          19,
          21,
          37,
          19,
          19,
          31,
          19,
          21,
          21,
          21,
          30,
          25,
          37,
          31,
          19,
          30,
          23,
          33,
          28,
          14,
          21,
          23,
          27,
          24,
          32,
          24,
          23,
          24,
          42,
          25,
          14,
          21,
          21,
          9,
          12,
          29,
          8,
          19,
          41,
          27,
          31,
          28,
          19,
          20,
          37,
          17,
          20,
          15,
          14,
          15,
          32,
          28,
          23,
          31,
          11,
          20,
          28,
          3,
          49,
          62,
          16,
          23,
          34,
          27,
          25,
          32,
          17,
          42,
          33,
          23,
          21,
          18,
          26,
          12,
          34,
          45,
          30,
          42,
          22,
          18,
          11,
          65,
          30,
          13,
          16,
          25,
          28,
          21,
          20,
          24,
          21,
          33,
          32,
          13,
          15,
          12,
          30,
          36,
          14,
          13,
          20,
          7,
          11,
          21,
          25,
          22,
          20,
          30,
          27,
          21,
          34,
          18,
          16,
          8,
          20,
          28,
          25,
          32,
          51,
          37,
          53,
          25,
          20,
          23,
          23,
          28,
          29,
          34,
          36,
          37,
          33,
          46,
          19,
          32,
          37,
          33,
          36,
          33,
          21,
          23,
          31,
          24,
          15,
          23,
          15,
          20,
          47,
          8,
          18,
          36,
          22,
          39,
          36,
          15,
          21,
          23,
          19,
          17,
          29,
          18,
          41,
          25,
          18,
          25,
          15,
          19,
          29,
          35,
          25,
          18,
          24,
          28,
          38,
          34,
          22,
          26,
          13,
          14,
          34,
          16,
          27,
          31,
          9,
          23,
          30,
          25,
          39,
          21,
          44,
          30,
          35,
          38,
          45,
          33,
          27,
          20,
          35,
          14,
          32,
          30,
          37,
          30,
          51,
          42,
          32,
          20,
          25,
          29,
          37,
          33,
          19,
          30,
          29,
          22,
          21,
          19,
          36,
          11,
          30,
          40,
          31,
          27,
          8,
          41,
          35,
          26,
          28,
          24,
          25,
          40,
          20,
          27,
          23,
          32,
          52,
          38,
          17,
          29,
          31,
          25,
          28,
          41,
          29,
          23,
          34,
          35,
          32,
          19,
          10,
          42,
          24,
          17,
          19,
          13,
          15,
          19,
          28,
          32,
          14,
          31,
          21,
          27,
          30,
          25,
          37,
          14,
          17,
          34,
          31,
          15,
          12,
          33,
          29,
          26,
          29,
          25,
          15,
          8,
          29,
          15,
          8,
          25,
          5,
          34,
          14,
          35,
          18,
          19,
          17,
          39,
          9,
          18,
          39,
          14,
          26,
          22,
          12,
          29,
          39,
          22,
          26,
          20,
          38,
          58,
          14,
          13,
          20,
          28,
          38,
          18,
          33,
          24,
          29,
          21,
          18,
          41,
          17,
          28,
          30,
          27,
          13,
          26,
          44,
          46,
          14,
          41,
          40,
          23,
          25,
          38,
          23,
          34,
          30,
          14,
          19,
          29,
          20,
          29,
          40,
          34,
          30,
          21,
          23,
          13,
          22,
          35,
          29,
          39,
          31,
          43,
          27,
          23,
          31,
          15,
          26,
          27,
          28,
          19,
          33,
          31,
          23,
          33,
          57,
          24,
          23,
          34,
          47,
          25,
          24,
          23,
          25,
          19,
          21,
          30,
          28,
          45,
          35,
          19,
          28,
          29,
          14,
          21,
          23,
          19,
          34,
          36,
          34,
          13,
          31,
          25,
          20,
          10,
          27,
          20,
          35,
          18,
          27,
          11,
          27,
          27,
          39,
          24,
          31,
          22,
          23,
          27,
          29,
          26,
          31,
          44,
          20,
          37,
          26,
          14,
          54,
          31,
          29,
          21,
          15,
          21,
          27,
          27,
          24,
          21,
          22,
          25,
          21,
          17,
          18,
          19,
          31,
          21,
          19,
          29,
          38,
          40,
          18,
          24,
          12,
          25,
          12,
          19,
          26,
          25,
          25,
          31,
          22,
          16,
          19,
          16,
          35,
          20,
          23,
          48,
          31,
          24,
          38,
          28,
          23,
          18,
          52,
          18,
          33,
          22,
          31,
          30,
          21,
          11,
          34,
          23,
          23,
          35,
          21,
          21,
          30,
          22,
          15,
          28,
          24,
          21,
          25,
          37,
          43,
          14,
          21,
          22,
          27,
          23,
          36,
          35,
          52,
          39,
          34,
          43,
          34,
          71,
          32,
          43,
          19,
          36,
          33,
          24,
          20,
          28,
          27,
          20,
          42,
          34,
          32,
          19,
          34,
          40,
          12,
          28,
          25,
          33,
          18,
          31,
          19,
          39,
          35,
          14,
          20,
          24,
          20,
          12,
          17,
          31,
          23,
          36,
          17,
          16,
          38,
          30,
          11,
          27,
          28,
          25,
          26,
          25,
          58,
          14,
          29,
          21,
          33,
          38,
          38,
          44,
          35,
          32,
          33,
          30,
          32,
          61,
          23,
          28,
          32,
          15
         ],
         "y0": " ",
         "yaxis": "y"
        }
       ],
       "layout": {
        "boxmode": "group",
        "legend": {
         "tracegroupgap": 0
        },
        "margin": {
         "t": 60
        },
        "template": {
         "data": {
          "bar": [
           {
            "error_x": {
             "color": "#2a3f5f"
            },
            "error_y": {
             "color": "#2a3f5f"
            },
            "marker": {
             "line": {
              "color": "#E5ECF6",
              "width": 0.5
             },
             "pattern": {
              "fillmode": "overlay",
              "size": 10,
              "solidity": 0.2
             }
            },
            "type": "bar"
           }
          ],
          "barpolar": [
           {
            "marker": {
             "line": {
              "color": "#E5ECF6",
              "width": 0.5
             },
             "pattern": {
              "fillmode": "overlay",
              "size": 10,
              "solidity": 0.2
             }
            },
            "type": "barpolar"
           }
          ],
          "carpet": [
           {
            "aaxis": {
             "endlinecolor": "#2a3f5f",
             "gridcolor": "white",
             "linecolor": "white",
             "minorgridcolor": "white",
             "startlinecolor": "#2a3f5f"
            },
            "baxis": {
             "endlinecolor": "#2a3f5f",
             "gridcolor": "white",
             "linecolor": "white",
             "minorgridcolor": "white",
             "startlinecolor": "#2a3f5f"
            },
            "type": "carpet"
           }
          ],
          "choropleth": [
           {
            "colorbar": {
             "outlinewidth": 0,
             "ticks": ""
            },
            "type": "choropleth"
           }
          ],
          "contour": [
           {
            "colorbar": {
             "outlinewidth": 0,
             "ticks": ""
            },
            "colorscale": [
             [
              0,
              "#0d0887"
             ],
             [
              0.1111111111111111,
              "#46039f"
             ],
             [
              0.2222222222222222,
              "#7201a8"
             ],
             [
              0.3333333333333333,
              "#9c179e"
             ],
             [
              0.4444444444444444,
              "#bd3786"
             ],
             [
              0.5555555555555556,
              "#d8576b"
             ],
             [
              0.6666666666666666,
              "#ed7953"
             ],
             [
              0.7777777777777778,
              "#fb9f3a"
             ],
             [
              0.8888888888888888,
              "#fdca26"
             ],
             [
              1,
              "#f0f921"
             ]
            ],
            "type": "contour"
           }
          ],
          "contourcarpet": [
           {
            "colorbar": {
             "outlinewidth": 0,
             "ticks": ""
            },
            "type": "contourcarpet"
           }
          ],
          "heatmap": [
           {
            "colorbar": {
             "outlinewidth": 0,
             "ticks": ""
            },
            "colorscale": [
             [
              0,
              "#0d0887"
             ],
             [
              0.1111111111111111,
              "#46039f"
             ],
             [
              0.2222222222222222,
              "#7201a8"
             ],
             [
              0.3333333333333333,
              "#9c179e"
             ],
             [
              0.4444444444444444,
              "#bd3786"
             ],
             [
              0.5555555555555556,
              "#d8576b"
             ],
             [
              0.6666666666666666,
              "#ed7953"
             ],
             [
              0.7777777777777778,
              "#fb9f3a"
             ],
             [
              0.8888888888888888,
              "#fdca26"
             ],
             [
              1,
              "#f0f921"
             ]
            ],
            "type": "heatmap"
           }
          ],
          "heatmapgl": [
           {
            "colorbar": {
             "outlinewidth": 0,
             "ticks": ""
            },
            "colorscale": [
             [
              0,
              "#0d0887"
             ],
             [
              0.1111111111111111,
              "#46039f"
             ],
             [
              0.2222222222222222,
              "#7201a8"
             ],
             [
              0.3333333333333333,
              "#9c179e"
             ],
             [
              0.4444444444444444,
              "#bd3786"
             ],
             [
              0.5555555555555556,
              "#d8576b"
             ],
             [
              0.6666666666666666,
              "#ed7953"
             ],
             [
              0.7777777777777778,
              "#fb9f3a"
             ],
             [
              0.8888888888888888,
              "#fdca26"
             ],
             [
              1,
              "#f0f921"
             ]
            ],
            "type": "heatmapgl"
           }
          ],
          "histogram": [
           {
            "marker": {
             "pattern": {
              "fillmode": "overlay",
              "size": 10,
              "solidity": 0.2
             }
            },
            "type": "histogram"
           }
          ],
          "histogram2d": [
           {
            "colorbar": {
             "outlinewidth": 0,
             "ticks": ""
            },
            "colorscale": [
             [
              0,
              "#0d0887"
             ],
             [
              0.1111111111111111,
              "#46039f"
             ],
             [
              0.2222222222222222,
              "#7201a8"
             ],
             [
              0.3333333333333333,
              "#9c179e"
             ],
             [
              0.4444444444444444,
              "#bd3786"
             ],
             [
              0.5555555555555556,
              "#d8576b"
             ],
             [
              0.6666666666666666,
              "#ed7953"
             ],
             [
              0.7777777777777778,
              "#fb9f3a"
             ],
             [
              0.8888888888888888,
              "#fdca26"
             ],
             [
              1,
              "#f0f921"
             ]
            ],
            "type": "histogram2d"
           }
          ],
          "histogram2dcontour": [
           {
            "colorbar": {
             "outlinewidth": 0,
             "ticks": ""
            },
            "colorscale": [
             [
              0,
              "#0d0887"
             ],
             [
              0.1111111111111111,
              "#46039f"
             ],
             [
              0.2222222222222222,
              "#7201a8"
             ],
             [
              0.3333333333333333,
              "#9c179e"
             ],
             [
              0.4444444444444444,
              "#bd3786"
             ],
             [
              0.5555555555555556,
              "#d8576b"
             ],
             [
              0.6666666666666666,
              "#ed7953"
             ],
             [
              0.7777777777777778,
              "#fb9f3a"
             ],
             [
              0.8888888888888888,
              "#fdca26"
             ],
             [
              1,
              "#f0f921"
             ]
            ],
            "type": "histogram2dcontour"
           }
          ],
          "mesh3d": [
           {
            "colorbar": {
             "outlinewidth": 0,
             "ticks": ""
            },
            "type": "mesh3d"
           }
          ],
          "parcoords": [
           {
            "line": {
             "colorbar": {
              "outlinewidth": 0,
              "ticks": ""
             }
            },
            "type": "parcoords"
           }
          ],
          "pie": [
           {
            "automargin": true,
            "type": "pie"
           }
          ],
          "scatter": [
           {
            "marker": {
             "colorbar": {
              "outlinewidth": 0,
              "ticks": ""
             }
            },
            "type": "scatter"
           }
          ],
          "scatter3d": [
           {
            "line": {
             "colorbar": {
              "outlinewidth": 0,
              "ticks": ""
             }
            },
            "marker": {
             "colorbar": {
              "outlinewidth": 0,
              "ticks": ""
             }
            },
            "type": "scatter3d"
           }
          ],
          "scattercarpet": [
           {
            "marker": {
             "colorbar": {
              "outlinewidth": 0,
              "ticks": ""
             }
            },
            "type": "scattercarpet"
           }
          ],
          "scattergeo": [
           {
            "marker": {
             "colorbar": {
              "outlinewidth": 0,
              "ticks": ""
             }
            },
            "type": "scattergeo"
           }
          ],
          "scattergl": [
           {
            "marker": {
             "colorbar": {
              "outlinewidth": 0,
              "ticks": ""
             }
            },
            "type": "scattergl"
           }
          ],
          "scattermapbox": [
           {
            "marker": {
             "colorbar": {
              "outlinewidth": 0,
              "ticks": ""
             }
            },
            "type": "scattermapbox"
           }
          ],
          "scatterpolar": [
           {
            "marker": {
             "colorbar": {
              "outlinewidth": 0,
              "ticks": ""
             }
            },
            "type": "scatterpolar"
           }
          ],
          "scatterpolargl": [
           {
            "marker": {
             "colorbar": {
              "outlinewidth": 0,
              "ticks": ""
             }
            },
            "type": "scatterpolargl"
           }
          ],
          "scatterternary": [
           {
            "marker": {
             "colorbar": {
              "outlinewidth": 0,
              "ticks": ""
             }
            },
            "type": "scatterternary"
           }
          ],
          "surface": [
           {
            "colorbar": {
             "outlinewidth": 0,
             "ticks": ""
            },
            "colorscale": [
             [
              0,
              "#0d0887"
             ],
             [
              0.1111111111111111,
              "#46039f"
             ],
             [
              0.2222222222222222,
              "#7201a8"
             ],
             [
              0.3333333333333333,
              "#9c179e"
             ],
             [
              0.4444444444444444,
              "#bd3786"
             ],
             [
              0.5555555555555556,
              "#d8576b"
             ],
             [
              0.6666666666666666,
              "#ed7953"
             ],
             [
              0.7777777777777778,
              "#fb9f3a"
             ],
             [
              0.8888888888888888,
              "#fdca26"
             ],
             [
              1,
              "#f0f921"
             ]
            ],
            "type": "surface"
           }
          ],
          "table": [
           {
            "cells": {
             "fill": {
              "color": "#EBF0F8"
             },
             "line": {
              "color": "white"
             }
            },
            "header": {
             "fill": {
              "color": "#C8D4E3"
             },
             "line": {
              "color": "white"
             }
            },
            "type": "table"
           }
          ]
         },
         "layout": {
          "annotationdefaults": {
           "arrowcolor": "#2a3f5f",
           "arrowhead": 0,
           "arrowwidth": 1
          },
          "autotypenumbers": "strict",
          "coloraxis": {
           "colorbar": {
            "outlinewidth": 0,
            "ticks": ""
           }
          },
          "colorscale": {
           "diverging": [
            [
             0,
             "#8e0152"
            ],
            [
             0.1,
             "#c51b7d"
            ],
            [
             0.2,
             "#de77ae"
            ],
            [
             0.3,
             "#f1b6da"
            ],
            [
             0.4,
             "#fde0ef"
            ],
            [
             0.5,
             "#f7f7f7"
            ],
            [
             0.6,
             "#e6f5d0"
            ],
            [
             0.7,
             "#b8e186"
            ],
            [
             0.8,
             "#7fbc41"
            ],
            [
             0.9,
             "#4d9221"
            ],
            [
             1,
             "#276419"
            ]
           ],
           "sequential": [
            [
             0,
             "#0d0887"
            ],
            [
             0.1111111111111111,
             "#46039f"
            ],
            [
             0.2222222222222222,
             "#7201a8"
            ],
            [
             0.3333333333333333,
             "#9c179e"
            ],
            [
             0.4444444444444444,
             "#bd3786"
            ],
            [
             0.5555555555555556,
             "#d8576b"
            ],
            [
             0.6666666666666666,
             "#ed7953"
            ],
            [
             0.7777777777777778,
             "#fb9f3a"
            ],
            [
             0.8888888888888888,
             "#fdca26"
            ],
            [
             1,
             "#f0f921"
            ]
           ],
           "sequentialminus": [
            [
             0,
             "#0d0887"
            ],
            [
             0.1111111111111111,
             "#46039f"
            ],
            [
             0.2222222222222222,
             "#7201a8"
            ],
            [
             0.3333333333333333,
             "#9c179e"
            ],
            [
             0.4444444444444444,
             "#bd3786"
            ],
            [
             0.5555555555555556,
             "#d8576b"
            ],
            [
             0.6666666666666666,
             "#ed7953"
            ],
            [
             0.7777777777777778,
             "#fb9f3a"
            ],
            [
             0.8888888888888888,
             "#fdca26"
            ],
            [
             1,
             "#f0f921"
            ]
           ]
          },
          "colorway": [
           "#636efa",
           "#EF553B",
           "#00cc96",
           "#ab63fa",
           "#FFA15A",
           "#19d3f3",
           "#FF6692",
           "#B6E880",
           "#FF97FF",
           "#FECB52"
          ],
          "font": {
           "color": "#2a3f5f"
          },
          "geo": {
           "bgcolor": "white",
           "lakecolor": "white",
           "landcolor": "#E5ECF6",
           "showlakes": true,
           "showland": true,
           "subunitcolor": "white"
          },
          "hoverlabel": {
           "align": "left"
          },
          "hovermode": "closest",
          "mapbox": {
           "style": "light"
          },
          "paper_bgcolor": "white",
          "plot_bgcolor": "#E5ECF6",
          "polar": {
           "angularaxis": {
            "gridcolor": "white",
            "linecolor": "white",
            "ticks": ""
           },
           "bgcolor": "#E5ECF6",
           "radialaxis": {
            "gridcolor": "white",
            "linecolor": "white",
            "ticks": ""
           }
          },
          "scene": {
           "xaxis": {
            "backgroundcolor": "#E5ECF6",
            "gridcolor": "white",
            "gridwidth": 2,
            "linecolor": "white",
            "showbackground": true,
            "ticks": "",
            "zerolinecolor": "white"
           },
           "yaxis": {
            "backgroundcolor": "#E5ECF6",
            "gridcolor": "white",
            "gridwidth": 2,
            "linecolor": "white",
            "showbackground": true,
            "ticks": "",
            "zerolinecolor": "white"
           },
           "zaxis": {
            "backgroundcolor": "#E5ECF6",
            "gridcolor": "white",
            "gridwidth": 2,
            "linecolor": "white",
            "showbackground": true,
            "ticks": "",
            "zerolinecolor": "white"
           }
          },
          "shapedefaults": {
           "line": {
            "color": "#2a3f5f"
           }
          },
          "ternary": {
           "aaxis": {
            "gridcolor": "white",
            "linecolor": "white",
            "ticks": ""
           },
           "baxis": {
            "gridcolor": "white",
            "linecolor": "white",
            "ticks": ""
           },
           "bgcolor": "#E5ECF6",
           "caxis": {
            "gridcolor": "white",
            "linecolor": "white",
            "ticks": ""
           }
          },
          "title": {
           "x": 0.05
          },
          "xaxis": {
           "automargin": true,
           "gridcolor": "white",
           "linecolor": "white",
           "ticks": "",
           "title": {
            "standoff": 15
           },
           "zerolinecolor": "white",
           "zerolinewidth": 2
          },
          "yaxis": {
           "automargin": true,
           "gridcolor": "white",
           "linecolor": "white",
           "ticks": "",
           "title": {
            "standoff": 15
           },
           "zerolinecolor": "white",
           "zerolinewidth": 2
          }
         }
        },
        "xaxis": {
         "anchor": "y",
         "domain": [
          0,
          1
         ]
        },
        "yaxis": {
         "anchor": "x",
         "domain": [
          0,
          1
         ],
         "title": {
          "text": "Number of Tokens in Sentence"
         }
        }
       }
      },
      "text/html": [
       "<div>                            <div id=\"017fae1d-1a88-4564-a867-4e8bdd5b7502\" class=\"plotly-graph-div\" style=\"height:525px; width:100%;\"></div>            <script type=\"text/javascript\">                require([\"plotly\"], function(Plotly) {                    window.PLOTLYENV=window.PLOTLYENV || {};                                    if (document.getElementById(\"017fae1d-1a88-4564-a867-4e8bdd5b7502\")) {                    Plotly.newPlot(                        \"017fae1d-1a88-4564-a867-4e8bdd5b7502\",                        [{\"alignmentgroup\":\"True\",\"boxpoints\":\"all\",\"customdata\":[[\"Davenport hits out at Wimbledon\",\" World number one Lindsay Davenport has criticised Wimbledon over the issue of equal prize money for women.\"],[\"Davenport hits out at Wimbledon\",\"Reacting to a disputed comment by All England Club chairman Tim Phillips, the American said: \\\"I think it is highly insulting if prize money is taken away.\"],[\"Davenport hits out at Wimbledon\",\"\\\"Somebody, I think it was Mr Phillips, said they won't have money for flowers at Wimbledon.\"],[\"Davenport hits out at Wimbledon\",\"That's insulting.\\\"\"],[\"Davenport hits out at Wimbledon\",\"An All England club spokesperson denied Phillips made the remark, insisting: \\\"He definitely didn't say it.\\\"\"],[\"Davenport hits out at Wimbledon\",\"The statement added: \\\"It was said by someone else and was a humorous aside at the end of a radio interview when the conversation had moved to talking about the Wimbledon grounds.\\\"\"],[\"Davenport hits out at Wimbledon\",\"Davenport was speaking following the announcement that this week's Dubai Duty Free event will join the US and Australian Opens in offering equal prize money for women.\"],[\"Davenport hits out at Wimbledon\",\"\\\"You hear about women playing only three sets while men play five,\\\" said Daveport.\"],[\"Davenport hits out at Wimbledon\",\"\\\"And the best women are never going to beat the best men.\"],[\"Davenport hits out at Wimbledon\",\"\\\"But it's a different game you go to watch with the women - it doesn't make it better or worse.\"],[\"Davenport hits out at Wimbledon\",\"\\\"Hopefully we will be able to change people's minds.\\\"\"],[\"Davenport hits out at Wimbledon\",\"Serena Williams, who is also in Dubai, added: \\\"I'm obviously for equal prize money.\"],[\"Davenport hits out at Wimbledon\",\"\\\"Women's tennis is exciting.\"],[\"Davenport hits out at Wimbledon\",\"Men's tennis is exciting as well, but the women have it right now.\"],[\"Davenport hits out at Wimbledon\",\"\\\"If you are bringing in the spectators you should be able to reap what everyone else is able to reap.\\\"\"],[\"Camera phones are 'must-haves'\",\" Four times more mobiles with cameras in them will be sold in Europe by the end of 2004 than last year, says a report from analysts Gartner.\"],[\"Camera phones are 'must-haves'\",\"Globally, the number sold will reach 159 million, an increase of 104%.\"],[\"Camera phones are 'must-haves'\",\"The report predicts that nearly 70% of all mobile phones sold will have a built-in camera by 2008.\"],[\"Camera phones are 'must-haves'\",\"Improving imaging technology in mobiles is making them an increasingly \\\"must-have\\\" buy.\"],[\"Camera phones are 'must-haves'\",\"In Europe, cameras on mobiles can take 1.3 megapixel images.\"],[\"Camera phones are 'must-haves'\",\"But in Japan and Asia Pacific, where camera phone technology is much more advanced, mobiles have already been released which can take 3.2 megapixel images.\"],[\"Camera phones are 'must-haves'\",\"Japan still dominates mobile phone technology, and the uptake there is huge.\"],[\"Camera phones are 'must-haves'\",\"By 2008, according to Gartner, 95% of all mobiles sold there will have cameras on them.\"],[\"Camera phones are 'must-haves'\",\"Camera phones had some teething problems when they were first launched as people struggled with poor quality images and uses for them, as well as the complexity and expense of sending them via MMS (Multimedia Messaging Services).\"],[\"Camera phones are 'must-haves'\",\"This has changed in the last 18 months.\"],[\"Camera phones are 'must-haves'\",\"Handset makers have concentrated on trying to make phones easier to use.\"],[\"Camera phones are 'must-haves'\",\"Realising that people like to use their camera phones in different ways, they have introduced more design features, like rotating screens and viewfinders, removable memory cards and easier controls to send picture messages.\"],[\"Camera phones are 'must-haves'\",\"Mobile companies have introduced more ways for people to share photos with other people.\"],[\"Camera phones are 'must-haves'\",\"These have included giving people easier ways to publish them on websites, or mobile blogs - moblogs.\"],[\"Camera phones are 'must-haves'\",\"But the report suggests that until image quality increases more, people will not be interested in printing out pictures at kiosks.\"],[\"Camera phones are 'must-haves'\",\"Image sensor technology inside cameras phones is improving.\"],[\"Camera phones are 'must-haves'\",\"The Gartner report suggests that by mid-2005, it is likely that the image resolution of most camera phones will be more than two megapixels.\"],[\"Camera phones are 'must-haves'\",\"Consumer digital cameras images range from two to four megapixels in quality, and up to six megapixels on a high-end camera.\"],[\"Camera phones are 'must-haves'\",\"But a lot of work is being done to make camera phones more like digital cameras.\"],[\"Camera phones are 'must-haves'\",\"Some handsets already feature limited zoom capability, and manufacturers are looking into technological improvements that will let people take more photos in poorly-lit conditions, like nightclubs.\"],[\"Camera phones are 'must-haves'\",\"Other developments include wide-angle modes, basic editing features, and better sensors and processors for recording film clips.\"],[\"Camera phones are 'must-haves'\",\"Images from camera phones have even made it into the art world.\"],[\"Camera phones are 'must-haves'\",\"An exhibition next month in aid of the charity Mencap, will feature snaps taken from the camera phones of top artists.\"],[\"Camera phones are 'must-haves'\",\"The exhibition, Fonetography, will feature images taken by photographers David Bailey, Rankin and Nan Goldin, and artists Sir Peter Blake, Tracey Emin and Jack Vettriano.\"],[\"Camera phones are 'must-haves'\",\"But some uses for them have worried many organisations.\"],[\"Camera phones are 'must-haves'\",\"Intel, Samsung, the UK's Foreign Office and Lawrence Livermore National Laboratories in the US, have decided to ban camera phones from their buildings for fear of sensitive information being snapped and leaked.\"],[\"Camera phones are 'must-haves'\",\"Many schools, fitness centres and local councils have also banned them over fears about privacy and misuse.\"],[\"Camera phones are 'must-haves'\",\"Italy's information commissioner has also voiced concern and has issued guidelines on where and how the phones can be used.\"],[\"Camera phones are 'must-haves'\",\"But camera phone fears have not dampened the manufacturers' profits.\"],[\"Camera phones are 'must-haves'\",\"According to recent figures, Sony Ericsson's profits tripled in the third-quarter because of new camera phones.\"],[\"Camera phones are 'must-haves'\",\"Over 60% of mobiles sold during the three months through to September featured integrated cameras, it said.\"],[\"US top of supercomputing charts\",\" The US has pushed Japan off the top of the supercomputing chart with IBM's prototype Blue Gene/L machine.\"],[\"US top of supercomputing charts\",\"It is being assembled for the Lawrence Livermore National Laboratory, under the US Department of Energy.\"],[\"US top of supercomputing charts\",\"IBM test results show that Blue Gene/L has managed speeds of 70.72 teraflops.\"],[\"US top of supercomputing charts\",\"The previous top machine, Japan's NEC Earth Simulator, clocked up 35.86.\"],[\"US top of supercomputing charts\",\"The Top 500 list was announced on Monday and officially charts the fastest computers in the world.\"],[\"US top of supercomputing charts\",\"It is announced every six months and is worked out using an officially recognised mathematical speed test called Linpack which measures calculations per second.\"],[\"US top of supercomputing charts\",\"Once completed in 2005, Blue Gene/L will be more powerful than its current prototype.\"],[\"US top of supercomputing charts\",\"\\\"Next year with the final Blue Gene, four times what it is this year, it is going to be a real step up and will be hard to beat,\\\" said Erich Strohmaier, one of the co-founders of the Top500 list.\"],[\"US top of supercomputing charts\",\"It will help scientists work out the safety, security and reliability requirements for the US's nuclear weapons stockpile, without the need for underground nuclear testing.\"],[\"US top of supercomputing charts\",\"It will also cut down on the amount of heat generated by the massive power, a big problem for supercomputers.\"],[\"US top of supercomputing charts\",\"In second place was Silicon Graphics' Columbia supercomputer based at the US space agency's (Nasa) Ames Research Center in California.\"],[\"US top of supercomputing charts\",\"The Linux-based machine was reported to have reached a top speed of 42.7 trillion calculations per second (teraflops) in October.\"],[\"US top of supercomputing charts\",\"It will be used to model flight missions, climate research, and aerospace engineering.\"],[\"US top of supercomputing charts\",\"The defeated Japanese contender, the Earth Simulator, which was listed in third place, losing the top spot it had held since June 2002.\"],[\"US top of supercomputing charts\",\"It is dedicated to climate modelling and simulating seismic activity.\"],[\"US top of supercomputing charts\",\"Since the first supercomputer, the Cray-1, was installed at Los Alamos National Laboratory, US, in 1976, computational speed has leaped 500,000 times.\"],[\"US top of supercomputing charts\",\"The Cray-1 was capable of 80 megaflops (80 million operations a second).\"],[\"US top of supercomputing charts\",\"The Blue Gene/L machine that will be completed next year will be five million times faster.\"],[\"US top of supercomputing charts\",\"Started in 1993, the Top 500 list is decided by a group of computer science academics from around the world.\"],[\"US top of supercomputing charts\",\"It is presented at the International Supercomputer Conference in Pittsburgh.\"],[\"Trial begins of Spain's top banker\",\" The trial of Emilio Botin, the chairman of Spain's most powerful bank, Santander Central Hispano, has started in Madrid.\"],[\"Trial begins of Spain's top banker\",\"Mr Botin is accused of misusing the bank's funds after he approved the payment of 160m euros ($208m; \\u00a3111m) in bonus and pension payouts to two former executives.\"],[\"Trial begins of Spain's top banker\",\"However, the trial was suspended when Mr Botin's lawyer introduced a new set of documents on the day testimony was set to begin.\"],[\"Trial begins of Spain's top banker\",\"A three-judge panel gave prosecution lawyers until Monday to study the documents, when the trial will be reconvened.\"],[\"Trial begins of Spain's top banker\",\"The high-profile case began after two Santander shareholders filed a criminal complaint about the payments to Jose Maria Amusategui and Angel Corcostegui, who stepped down in 2001.\"],[\"Trial begins of Spain's top banker\",\"Both executives helped Mr Botin orchestrate Spain's biggest bank merger, between Santander and Banco Central Hispano, in 1999.\"],[\"Trial begins of Spain's top banker\",\"As he arrived at Spain's High Court earlier on Wednesday, Mr Botin greeted the waiting media, saying: \\\"I have full faith in justice.\\\"\"],[\"Trial begins of Spain's top banker\",\"Santander's board of governors strongly reject the charges against their chairman, saying the payouts were legal and made with their unanimous support.\"],[\"Trial begins of Spain's top banker\",\"But if convicted, Mr Botin could face a prison term of up to six years.\"],[\"Trial begins of Spain's top banker\",\"Mr Corcostegui, a former CEO at Santander, also asked the court for new evidence to be admitted.\"],[\"Trial begins of Spain's top banker\",\"In spite of the allegations against him, Mr Botin continues to lead Santander, and was instrumental in the \\u00a38.5bn takeover last November of the British bank Abbey National.\"],[\"Trial begins of Spain's top banker\",\"Since taking over the chairmanship in 1986, he has turned Santander into one of the top ten biggest banks in the world.\"],[\"Safety alert as GM recalls cars\",\" The world's biggest carmaker General Motors (GM) is recalling nearly 200,000 vehicles in the US on safety grounds, according to federal regulators.\"],[\"Safety alert as GM recalls cars\",\"The National Highway Traffic Safety Administration (NHTSA) said the largest recall involves 155,465 pickups, vans and sports utility vehicles (SUVs).\"],[\"Safety alert as GM recalls cars\",\"This is because of possible malfunctions with the braking systems.\"],[\"Safety alert as GM recalls cars\",\"The affected vehicles in the product recall are from the 2004 and 2005 model years, GM said.\"],[\"Safety alert as GM recalls cars\",\"Those vehicles with potential faults are the Chevrolet Avalanche, Express, Kodiak, Silverade and Suburban; the GMC Savana, Sierra and Yukon.\"],[\"Safety alert as GM recalls cars\",\"The NHTSA said a pressure accumulator in the braking system could crack during normal driving and fragments could injure people if the hood was open.\"],[\"Safety alert as GM recalls cars\",\"This could allow hydraulic fluid to leak, which could make it harder to brake or steer and could cause a crash, it warned.\"],[\"Safety alert as GM recalls cars\",\"GM is also recalling 19,924 Cadillac XLR coupes, SRX SUVs and Pontiac Grand Prix sedans from the 2004 model year.\"],[\"Safety alert as GM recalls cars\",\"This is because the accelerator pedal may not work properly in extremely cold temperatures, requiring more braking.\"],[\"Safety alert as GM recalls cars\",\"In addition, the car giant is calling back 17,815 Buick Raniers, Chevrolet Trailblazers, GMC Envoys and Isuzu Ascenders from the 2005 model years because the windshield is not properly fitted and could fall out in a crash.\"],[\"Safety alert as GM recalls cars\",\"However, GM stressed that it did not know of any injuries related to the problems.\"],[\"Safety alert as GM recalls cars\",\"News of the recall follows an announcement last month that GM expects earnings this year be lower than in 2004.\"],[\"Safety alert as GM recalls cars\",\"The world's biggest car maker is grappling with losses in its European business, weak US sales and now a product recall.\"],[\"Safety alert as GM recalls cars\",\"In January, GM said higher healthcare costs in North America, and lower profits at its financial services subsidiary would hurt its performance in 2005.\"],[\"Angry Williams rejects criticism\",\" Serena Williams has angrily rejected claims that she and sister Venus are a declining force in tennis.\"],[\"Angry Williams rejects criticism\",\"The sisters ended last year without a Grand Slam title for the first time since 1998.\"],[\"Angry Williams rejects criticism\",\"But Serena denied their challenge was fading, saying: \\\"That's not fair - I'm tired of not saying anything.\"],[\"Angry Williams rejects criticism\",\"\\\"We've been practising hard.\"],[\"Angry Williams rejects criticism\",\"We've had serious injuries.\"],[\"Angry Williams rejects criticism\",\"I've had surgery and after, I got to the Wimbledon final.\"],[\"Angry Williams rejects criticism\",\"I don't know many who have done that.\\\"\"],[\"Angry Williams rejects criticism\",\"While Serena is through to the Australian Open semi-finals, Venus went out in the fourth round, meaning she has not gone further than the last eight in her last five Grand Slam appearances.\"],[\"Angry Williams rejects criticism\",\"But Serena added: \\\"Venus had a severe strain in her stomach.\"],[\"Angry Williams rejects criticism\",\"I actually had the same injury, but I didn't tear it the way she did.\"],[\"Angry Williams rejects criticism\",\"\\\"If I would have torn it, I wouldn't have been here.\"],[\"Angry Williams rejects criticism\",\"\\\"She played a player (Alicia Molik) that just played out of her mind and Venus made some errors that she probably shouldn't have made.\\\"\"],[\"Angry Williams rejects criticism\",\"Serena also said people tended to forget the impact the 2003 murder of sister Yetunde Price had had on the family.\"],[\"Angry Williams rejects criticism\",\"\\\"To top it off, we have a very, very, very, very, very close family\\\" Serena continued.\"],[\"Angry Williams rejects criticism\",\"\\\"To be in some situation that we've been placed in in the past little over a year, it's not easy to come out and just perform at your best when you realize there are so many things that are so important.\"],[\"Angry Williams rejects criticism\",\"\\\"So, no, we're not declining.\"],[\"Angry Williams rejects criticism\",\"We're here.\"],[\"Angry Williams rejects criticism\",\"I don't have to win this tournament to prove anything.\"],[\"Angry Williams rejects criticism\",\"I know that I'm out here and I know that I'm one of the best players out here.\\\"\"],[\"E-University 'disgraceful waste'\",\" A failed government scheme to offer UK university courses online has been branded a \\\"disgraceful waste\\\" by MPs.\"],[\"E-University 'disgraceful waste'\",\"The e-University was scrapped last year, having attracted only 900 students at a cost of \\u00a350m.\"],[\"E-University 'disgraceful waste'\",\"Chief executive John Beaumont was paid a bonus of \\u00a344,914, despite a failure to bring in private sector backers.\"],[\"E-University 'disgraceful waste'\",\"The Commons education select committee called this \\\"morally indefensible\\\" but the government said the e-University project had \\\"improved understanding\\\".\"],[\"E-University 'disgraceful waste'\",\"A Department for Education and Skills spokeswoman said the venture had been \\\"ambitious and ground-breaking, but take-up had not been \\\"sufficient to continue with the project\\\".\"],[\"E-University 'disgraceful waste'\",\"She added: \\\"UK e-Universities was not the only organisation to have lost out on private sector investment in the collapse of the dotcom boom.\\\"\"],[\"E-University 'disgraceful waste'\",\"The select committee found that those responsible for founding the e-University in 2000 had been caught up in the \\\"general atmosphere of enthusiasm\\\" surrounding the internet.\"],[\"E-University 'disgraceful waste'\",\"Initial business plans forecast a quarter of a million students joining within a decade, bringing in at least \\u00a3110m in profit.\"],[\"E-University 'disgraceful waste'\",\"But virtually no market research was carried out and just \\u00a34.2m was spent on worldwide sales and marketing of courses.\"],[\"E-University 'disgraceful waste'\",\"Some \\u00a314m went on developing the technology to make the e-University work.\"],[\"E-University 'disgraceful waste'\",\"This was used by just 200 students, the rest preferring to work through existing university websites.\"],[\"E-University 'disgraceful waste'\",\"With no significant private investors and no direct accountability to a government minister, the e-University had had \\\"too much freedom to spend public money as it wished\\\", the report found.\"],[\"E-University 'disgraceful waste'\",\"Committee chairman Barry Sheerman said: \\\"UK e-University was a terrible waste of public money.\"],[\"E-University 'disgraceful waste'\",\"\\\"The senior executives failed to interest any private investors and showed an extraordinary over-confidence in their ability to attract students to the scheme.\\\"\"],[\"E-University 'disgraceful waste'\",\"The report warns that the government should not be scared off investment in innovative but potentially risky schemes by the failure of the e-University, but \\\"should learn the lessons from this disaster\\\".\"],[\"India to deport Bollywood actress\",\" India has ordered the deportation of Iranian-born model and actress Negar Khan to Norway after saying she was working illegally on her visa.\"],[\"India to deport Bollywood actress\",\"Khan has had raunchy roles in music videos and Bollywood films over the past two years.\"],[\"India to deport Bollywood actress\",\"The distressed actress told media she was being driven straight to the airport after a routine appointment at the Bombay immigration office.\"],[\"India to deport Bollywood actress\",\"Immigration officials said she had been warned about her visa last year.\"],[\"India to deport Bollywood actress\",\"Khan told an Indian news channel on her mobile phone: \\\"They are not even letting me go home to get my bags.\"],[\"India to deport Bollywood actress\",\"I have no clothes or money on me.\"],[\"India to deport Bollywood actress\",\"\\\"They did not give me any notice.\"],[\"India to deport Bollywood actress\",\"I don't know why they are taking me away like this.\"],[\"India to deport Bollywood actress\",\"There is nothing wrong with my visa.\"],[\"India to deport Bollywood actress\",\"It says I work here...\"],[\"India to deport Bollywood actress\",\"They are not allowing me to even call a lawyer.\\\"\"],[\"India to deport Bollywood actress\",\"Bipin Bihari, deputy police chief in Bombay, said Khan was being sent back to Norway, from which she holds a passport, on the first available flight.\"],[\"India to deport Bollywood actress\",\"\\\"She was on a visitor's visa but she has engaged in several commercial ventures,\\\" he said.\"],[\"India to deport Bollywood actress\",\"\\\"We issued notices last year, in view of which she had gone back to Norway, but she has returned again this year to work.\\\"\"],[\"India to deport Bollywood actress\",\"One of Khan's biggest successes was the steamy Hindi song Chadti Jawani (Rising Youth).\"],[\"India to deport Bollywood actress\",\"Khan was involved in controversy when topless photos alleged to be of her appeared in a Norwegian magazine.\"],[\"Web radio takes Spanish rap global\",\" Spin the radio dial in the US and you are likely to find plenty of Spanish-language music.\"],[\"Web radio takes Spanish rap global\",\"But what you will not find is much Spanish-language hip-hop.\"],[\"Web radio takes Spanish rap global\",\"Hip-hop and rap are actually quite popular in the Spanish-speaking world, but local artists are having trouble marketing their work abroad.\"],[\"Web radio takes Spanish rap global\",\"But now, a US company is bringing rap and hip-hop en espanol to computer users everywhere.\"],[\"Web radio takes Spanish rap global\",\"Los Caballeros de Plan G are one of Mexico's hottest hip-hop acts.\"],[\"Web radio takes Spanish rap global\",\"They have a devoted fan base in their native Monterrey.\"],[\"Web radio takes Spanish rap global\",\"But most Mexican hip-hop fans, not to mention fans in most of the Spanish-speaking world, rarely get a chance to hear the group's tracks on the radio.\"],[\"Web radio takes Spanish rap global\",\"\\\"You can't really just go on the radio and listen to hip-hop in Spanish... it's just not accessible,\\\" says Manuel Millan, a native of San Diego, California.\"],[\"Web radio takes Spanish rap global\",\"\\\"It's really hard for the Spanish hip-hop scene to get into mainstream radio.\"],[\"Web radio takes Spanish rap global\",\"You usually have a very commercialised sound and the groups are not really known around the country or around the world.\\\"\"],[\"Web radio takes Spanish rap global\",\"Millan and two friends set out to change that - they wanted to make groups like Los Caballeros de Plan G accessible to fans globally.\"],[\"Web radio takes Spanish rap global\",\"Mainstream radio stations were not going to play this kind of music, and starting their own broadcast station was economically impossible.\"],[\"Web radio takes Spanish rap global\",\"So, Millan and his friends launched a website called latinohiphopradio.com.\"],[\"Web radio takes Spanish rap global\",\"The name says it all: it is web-based radio, devoted to the hottest Spanish language rap and hip-hop tracks.\"],[\"Web radio takes Spanish rap global\",\"The site, which is in both in English and Spanish, is meant to be easy to navigate.\"],[\"Web radio takes Spanish rap global\",\"All the user has to do is download a media player.\"],[\"Web radio takes Spanish rap global\",\"There are no DJs.\"],[\"Web radio takes Spanish rap global\",\"It is just music streamed over the net for free.\"],[\"Web radio takes Spanish rap global\",\"Suddenly, with the help of the website, Los Caballeros de Plan G are producing \\\"export quality\\\" rap.\"],[\"Web radio takes Spanish rap global\",\"The web might be just the right medium for Spanish language hip-hop right now.\"],[\"Web radio takes Spanish rap global\",\"The genre is in what Millan calls its \\\"infant stage\\\".\"],[\"Web radio takes Spanish rap global\",\"But the production values are improving, and artists such as Argentina's Mustafa Yoda are pushing to make it better and better.\"],[\"Web radio takes Spanish rap global\",\"Mustafa Yoda is currently one of the hottest tracks on latinohiphopradio.com.\"],[\"Web radio takes Spanish rap global\",\"\\\"He's considered the Eminem of Argentina, and the Latin American hip-hop scene,\\\" Millan says.\"],[\"Web radio takes Spanish rap global\",\"\\\"He really hasn't had that much exposure as far as anywhere in the world, but he's definitely the one to look out for as far as becoming the next big thing in the Spanish-speaking world.\\\"\"],[\"Web radio takes Spanish rap global\",\"Currently, the Chilean group Makisa is also in latinohiphopradio.com's top 10, as is Cuban artist Papo Record.\"],[\"Web radio takes Spanish rap global\",\"\\\"Every country's got it's own cultural differences and they try to put those into their own songs,\\\" Millan says.\"],[\"Web radio takes Spanish rap global\",\"Latinohiphopradio.com has been up and running for a couple of months now.\"],[\"Web radio takes Spanish rap global\",\"The site has listeners from across the Spanish speaking world.\"],[\"Web radio takes Spanish rap global\",\"Right now, Mexico leads the way, accounting for about 50% of listeners.\"],[\"Web radio takes Spanish rap global\",\"But web surfers in Spain are logging in as well - about 25% of the web station's traffic comes from there.\"],[\"Web radio takes Spanish rap global\",\"That is not surprising as many consider Spain to be the leader in Spanish-language rap and hip-hop.\"],[\"Web radio takes Spanish rap global\",\"Millan says that Spain is actually just behind the United States and France in terms of overall rap and hip-hop production.\"],[\"Web radio takes Spanish rap global\",\"That might be changing, though, as more and more Latin American artists are finding audiences.\"],[\"Web radio takes Spanish rap global\",\"But one Spaniard is still firmly in latinohiphopradio.com's top 10.\"],[\"Web radio takes Spanish rap global\",\"His name is Tote King and Manuel Millan says that he is the hip-hop leader in Spain.\"],[\"Web radio takes Spanish rap global\",\"On his track Uno Contra Veinte Emcees, or One Against 20 Emcees, Tote King shows he is well aware of that fact.\"],[\"Web radio takes Spanish rap global\",\"\\\"It's basically him bragging that he's one of the best emcees in Spain right now,\\\" Millan says.\"],[\"Web radio takes Spanish rap global\",\"\\\"And it's pretty much true.\"],[\"Web radio takes Spanish rap global\",\"He has the tightest productions, and his rap flow is impeccable, it's amazing.\\\"\"],[\"Web radio takes Spanish rap global\",\"Latinohiphopradio.com is hoping to expand in the coming year.\"],[\"Web radio takes Spanish rap global\",\"Millan says they want to include more music and more news from the world of Spanish language hip-hop and rap.\"],[\"Web radio takes Spanish rap global\",\"Clark Boyd is technology correspondent for The World, a BBC World Service and WGBH-Boston co-production.\"],[\"Ailing EuroDisney vows turnaround\",\" EuroDisney, the European home of Mickey Mouse and friends, has said it will sell 253m euros (\\u00a3175m; $328m) of new shares as it looks to avoid insolvency.\"],[\"Ailing EuroDisney vows turnaround\",\"The sale is the last part of a plan to restructure 2.4bn euros-worth of debts.\"],[\"Ailing EuroDisney vows turnaround\",\"Despite struggling since it was opened in 1992, EuroDisney has recently made progress in turning its business around and ticket sales have picked up.\"],[\"Ailing EuroDisney vows turnaround\",\"However, analysts still question whether it attracts enough visitors to stay open, even with the restructuring.\"],[\"Ailing EuroDisney vows turnaround\",\"EuroDisney remains Europe's largest single tourist attraction, attracting some 12.4 million visitors annually.\"],[\"Ailing EuroDisney vows turnaround\",\"A new attraction - Walt Disney Studios - has recently opened its site near Paris.\"],[\"Ailing EuroDisney vows turnaround\",\"The company's currently traded stock tumbled in Paris on the latest news, shedding 15% to 22 euro cents.\"],[\"Ailing EuroDisney vows turnaround\",\"EuroDisney will sell the new shares priced at 9 euros cents each.\"],[\"Ailing EuroDisney vows turnaround\",\"The US Disney Corporation and Saudi Arabian prince Al-Walid bin Talal, the firm's two main shareholders, will buy the new stock.\"],[\"Ailing EuroDisney vows turnaround\",\"The restructuring deal is the second in the firm's troubled financial history; its finances were first reorganised in 1994.\"],[\"Eminem beats Elvis to number one\",\" Rapper Eminem has denied Elvis his fourth number one of the year, after his song, Like Toy Soldiers, stormed to the top of the singles charts.\"],[\"Eminem beats Elvis to number one\",\"The track claimed the top spot ahead of The King's latest re-release, Are You Lonesome Tonight.\"],[\"Eminem beats Elvis to number one\",\"It is the fifth in a series of 18 reissues to mark the 70th anniversary of Presley's birth.\"],[\"Eminem beats Elvis to number one\",\"Almost Here, the duet from former Westlife star Brian McFadden and Delta Goodrem, went in at number three.\"],[\"Eminem beats Elvis to number one\",\"Like Toy Soldiers, from Eminem's Encore album, is sampled from Martika's 1980s hit Toy Soldiers.\"],[\"Eminem beats Elvis to number one\",\"It takes a swipe at hip-hop feuds and follows the success of Just Lose It.\"],[\"Eminem beats Elvis to number one\",\"Last week's number one, Elvis's It's Now or Never, slipped 13 places to number 14, but all five of his re-released songs are in the Top 40.\"],[\"Eminem beats Elvis to number one\",\"One World Project Tsunami fundraiser, Grief Never Grows Old, slipped four places to number eight.\"],[\"Eminem beats Elvis to number one\",\"Featuring Cliff Richard and Boy George, the song was written by former DJ Mike Read.\"],[\"Eminem beats Elvis to number one\",\"In the album charts, Athlete's latest offering Tourist claimed the top spot, toppling the Chemical Brother's Push The Button Down, which fell to number six.\"],[\"Rapper 50 Cent ends protege feud\",\" Rapper 50 Cent has ended his public feud with his protege The Game as the pair said they wanted to be good role models for their communities.\"],[\"Rapper 50 Cent ends protege feud\",\"The row blew up when 50 Cent threw The Game out of his G-Unit crew and accused him of being disloyal.\"],[\"Rapper 50 Cent ends protege feud\",\"A member of The Game's entourage was reportedly shot outside a radio station where 50 Cent was being interviewed.\"],[\"Rapper 50 Cent ends protege feud\",\"But the pair shook hands as they handed over money to music projects for New York's deprived areas on Wednesday.\"],[\"Rapper 50 Cent ends protege feud\",\"The Game, whose real name is Jayceon Taylor, told a news conference: \\\"I want to apologise.\"],[\"Rapper 50 Cent ends protege feud\",\"I'm almost ashamed to have participated in the things that went on over the last few weeks.\\\"\"],[\"Rapper 50 Cent ends protege feud\",\"Chart-topper 50 Cent, real name Curtis Jackson, said the truce came on the anniversary of the death of the Notorious BIG in 1997, who was part of a volatile feud between the east and west coast rap scenes.\"],[\"Rapper 50 Cent ends protege feud\",\"\\\"We're here today to show that people can rise above the most difficult circumstances and together we can put negativity behind us,\\\" 50 Cent said.\"],[\"Rapper 50 Cent ends protege feud\",\"\\\"A lot of people don't want to see it happen, but we're responding to the two most important groups - our family and our fans.\\\"\"],[\"Rapper 50 Cent ends protege feud\",\"The Boys Choir of Harlem got a cheque for $150,000 (\\u00a377,800) from 50 Cent, while The Game handed over $103,500 (\\u00a353,400).\"],[\"Rapper 50 Cent ends protege feud\",\"The Game also made a contribution to the Compton schools music programme.\"],[\"Rapper 50 Cent ends protege feud\",\"50 Cent announced he has launched the G-Unity Foundation \\\"to help people overcome obstacles and make a chance for the better in their lives\\\".\"],[\"Rapper 50 Cent ends protege feud\",\"\\\"I realised that if I'm going to be effective at that, I have to overcome some of my own,\\\" he said.\"],[\"Rapper 50 Cent ends protege feud\",\"\\\"Game and I need to set an example in the community.\\\"\"],[\"Rapper 50 Cent ends protege feud\",\"50 Cent is no stranger to feuds, with rapper Ja Rule among the targets for ridicule in his songs.\"],[\"Rapper 50 Cent ends protege feud\",\"On his latest album, released earlier this month, he turned his attentions to Fat Joe and Nas, who have both worked with Ja Rule.\"],[\"Rapper 50 Cent ends protege feud\",\"Both he and The Game have admitted drug dealing in the past and have both been shot.\"],[\"Director Nair's Vanity project\",\" Indian film director Mira Nair has said she was thrilled to be given the chance to make William Makepeace Thackeray's novel Vanity Fair - as the book has been a favourite through her life.\"],[\"Director Nair's Vanity project\",\"The book is one of the classics of English literature - the story of scheming 19th Century social climber Becky Sharp, played in the film by Reese Witherspoon.\"],[\"Director Nair's Vanity project\",\"Nair said that she jumped at the chance to work on the film, which she has - controversially - made in a Bollywood style, including two song-and-dance routines in the film's second half.\"],[\"Director Nair's Vanity project\",\"\\\"It was serendipity really - I was offered Vanity Fair by the studio Focus Features, who had distributed Monsoon Wedding,\\\" Nair told BBC World Service's Masterpiece programme.\"],[\"Director Nair's Vanity project\",\"\\\"They offered me their next-best thing, not realising that Vanity Fair had actually been one of my favourite novels since I was 16 years old in an Irish Catholic boarding school in India.\\\"\"],[\"Director Nair's Vanity project\",\"Since her 1988 debut feature Salaam Bombay!\"],[\"Director Nair's Vanity project\",\"- nominated for the Best Foreign Language Oscar and winner of Best First Feature at Cannes - Nair has become one of India's most famous and respected directors.\"],[\"Director Nair's Vanity project\",\"She is not restricted to Bollywood, however - she followed Salaam Bombay!\"],[\"Director Nair's Vanity project\",\"with Mississippi Masala, starring Denzel Washington, and The Perez Family, her first Hollywood film.\"],[\"Director Nair's Vanity project\",\"Her career peaked with Monsoon Wedding in 2001, which won the Golden Lion award at Venice.\"],[\"Director Nair's Vanity project\",\"Nair's Indian-style adaptation of Vanity Fair, however, has been attacked by critics in the US - where it only reached number eight at the box office in its opening week - who described the Bollywood elements as \\\"jarring.\\\"\"],[\"Director Nair's Vanity project\",\"The film has a new ending, with Becky Sharp running off for a new life in India.\"],[\"Director Nair's Vanity project\",\"But Nair said that her film had picked up on the way Thackeray - who was born in India but moved to England as a young man - had seen the world.\"],[\"Director Nair's Vanity project\",\"\\\"First, when I was 16, it was Becky Sharp, who is a completely memorable character, because I recognised myself in her - I recognised all the ladies who did not want to be ladies, who wanted to buck the system that they were in,\\\" she said.\"],[\"Director Nair's Vanity project\",\"\\\"But it was the sort of novel I somehow kept at the side of my bed for many years, and I would dip into every now and then and suddenly get completely mesmerised again.\"],[\"Director Nair's Vanity project\",\"\\\"As I got older and read it, I think it was Thackeray's clarity - his clear-sightedness about his own society, the fact that he was born in India but came to England as a young man - that gave him the eyes of an outsider, and yet he was an insider.\"],[\"Director Nair's Vanity project\",\"\\\"That perspective was something I really loved.\\\"\"],[\"Director Nair's Vanity project\",\"Nair also defended her decision to cast an American actress - Reese Witherspoon - as Becky Sharp, despite the fact that all the rest of the cast are British or Irish.\"],[\"Director Nair's Vanity project\",\"\\\"I cast intuitively - in my films I cast as many non-actors as I cast actors,\\\" she said.\"],[\"Director Nair's Vanity project\",\"\\\"For me, it is intuition - I have to fall in love with an actor.\"],[\"Director Nair's Vanity project\",\"It is a visceral response.\"],[\"Director Nair's Vanity project\",\"\\\"Thackeray describes Becky Sharp as a minx.\"],[\"Director Nair's Vanity project\",\"Also she's described as someone who's tiny, red-headed and thin.\"],[\"Director Nair's Vanity project\",\"Reese had that completely minx-like irresistibility about her.\\\"\"],[\"Director Nair's Vanity project\",\"Having won the role because she seemed physically perfectly suited to the part, however, Witherspoon then became pregnant.\"],[\"Director Nair's Vanity project\",\"But Nair said that, though this had created the need for some filming tricks, it had in fact also helped the film.\"],[\"Director Nair's Vanity project\",\"\\\"It was a self-fulfilling prophesy - when I first met her husband [actor Ryan Philippe], I said 'knock her up, won't you, I need some flesh on the girl',\\\" she joked.\"],[\"Director Nair's Vanity project\",\"\\\"I'm not a fan of the underfed Los Angeles actor at all.\"],[\"Director Nair's Vanity project\",\"This was, for me, about Becky Sharp being, eventually, a full-blown woman through the course of the film.\"],[\"Director Nair's Vanity project\",\"\\\"I love the luminosity that pregnancy brings, I love the fleshiness, I love the ample bosom - it gave me much more to play with.\\\"\"],[\"Director Nair's Vanity project\",\"Nair explained how camera tricks had been used to disguise Witherspoon's \\\"bump\\\" in various scenes - including hiring a number of young boys in costumes to stand in front of her.\"],[\"Director Nair's Vanity project\",\"\\\"She runs, she gets off coal carts, she jumps off horses - she does everything,\\\" Nair said.\"],[\"Director Nair's Vanity project\",\"\\\"But there's also a certain carriage with horses that is going to wipe the screen at a certain moment, because of the bump.\\\"\"],[\"Fast lifts rise into record books\",\" Two high-speed lifts at the world's tallest building have been officially recognised as the planet's fastest.\"],[\"Fast lifts rise into record books\",\"The lifts take only 30 seconds to whisk passengers to the top of the 508m tall TFC 101 Tower in Taipei, Taiwan.\"],[\"Fast lifts rise into record books\",\"The Guinness Book of Records has declared the 17m per second speed of the two lifts the swiftest on Earth.\"],[\"Fast lifts rise into record books\",\"The lifts also have a pressure control system to stop passengers' ears popping as they ascend and descend at high speed.\"],[\"Fast lifts rise into record books\",\"In total, the TFC Tower has 61 lifts, 34 of them double-deckers, and 50 escalators to shuttle people around its 106 floors.\"],[\"Fast lifts rise into record books\",\"The TFC 101 Tower is due to be officially opened on 31 December.\"],[\"Fast lifts rise into record books\",\"The super-fast lifts can speed up to 24 passengers to the tip of the tower in about 30 seconds, while ascending their 382m track.\"],[\"Fast lifts rise into record books\",\"The 17m/s top speed of the lifts translates to about 38mph (61km/h).\"],[\"Fast lifts rise into record books\",\"Curiously the lifts take longer to descend and spend almost a whole minute returning to ground level from the top of the TFC Tower.\"],[\"Fast lifts rise into record books\",\"The key new technologies applied in the world's fastest elevators include:    - A pressure control system, which adjusts the atmospheric pressure inside a car by using suction and discharge blowers, preventing \\\"ear popping\\\"   - An active control system which tries to balance the lift more finely and remove the sources of vibrations   - Streamlined cars to reduce the whistling noise produced by running the lifts at a high speed inside a narrow shaft     \\\"The certification of our elevators as world record-holders by the authoritative Guinness World Records is a great honour for us,\\\" said Masayuki Shimono, president of manufacturer Toshiba Elevator and Building Systems which installed the lifts.\"],[\"Fast lifts rise into record books\",\"The first record for the world's fastest passenger elevators was published in the first edition of the Guinness Book of Records in 1955.\"],[\"Fast lifts rise into record books\",\"\\\"As such, it is an interesting indicator of how technology has advanced in the 50 years since that first edition, when the record was 426m per minute, or 25.6 km/h, less than half the speed of the new record,\\\" said Hein Le Roux, specialist researcher at the Guinness World Records.\"],[\"Fast lifts rise into record books\",\"Taipei's TFC 101 Tower is more than 50m taller than the Petronas Towers in Kuala Lumpur, Malaysia - formerly the world's tallest skyscraper.\"],[\"GB quartet get cross country call\",\" Four British athletes have been pre-selected to compete at the World Cross Country Championships in March after impressive starts to the season.\"],[\"GB quartet get cross country call\",\"Hayley Yelling, Jo Pavey, Karl Keska and Adam Hickey will represent Team GB at the event in France.\"],[\"GB quartet get cross country call\",\"Yelling clinched the women's European cross country title last month and Pavey followed up with bronze.\"],[\"GB quartet get cross country call\",\"Keska helped the men's team to overall third place while Hickey finished in 10th place on his junior debut.\"],[\"GB quartet get cross country call\",\"\\\"Winning the European cross country title meant so much to me,\\\" said Yelling.\"],[\"GB quartet get cross country call\",\"\\\"And being pre-selected for the Worlds means that I can focus on preparing in the best way possible.\\\"\"],[\"GB quartet get cross country call\",\"The 32-year-old will race alongside Olympic 5,000m finalist Pavey in the women's 8km race on 19 March.\"],[\"GB quartet get cross country call\",\"Keska, who has made a successful return from a long-term injury lay-off, contests the men's 12km race on 20 March, while 16-year-old Hickey goes in the junior men's 8km on the same day.\"],[\"GB quartet get cross country call\",\"The rest of the team will be named after the trials at Wollaton Park in Nottingham, which take place on 5 March.\"],[\"Ray DVD beats box office takings\",\" Oscar-nominated film biopic Ray has surpassed its US box office takings with a combined tally of $80m (\\u00a343m) from DVD and video sales and rentals.\"],[\"Ray DVD beats box office takings\",\"Ray's success on DVD outstripped its $74m (\\u00a340m) US box office total, earning more than $40m (\\u00a322m) on the first day of the DVD's release alone.\"],[\"Ray DVD beats box office takings\",\"Ray has been nominated in six Oscar categories including best film and best actor for Jamie Foxx.\"],[\"Ray DVD beats box office takings\",\"The film recounts the life of blues singer Ray Charles, who died in 2004.\"],[\"Ray DVD beats box office takings\",\"In its first week on home entertainment release the film was the number one selling DVD, with the limited edition version coming in at number 11.\"],[\"Ray DVD beats box office takings\",\"Sony horror film The Grudge, starring Michelle Gellar, was the US' second best-selling DVD, with Jennifer Lopez and Richard Gere's romantic comedy Shall We Dance?\"],[\"Ray DVD beats box office takings\",\"at number three.\"],[\"Ray DVD beats box office takings\",\"Foxx's critically acclaimed performance as Ray has already earned him a Screen Actors Guild Award for best actor, as well as a prestigious Golden Globe.\"],[\"Ray DVD beats box office takings\",\"Ray director Taylor Hackford, responsible for the classic 1982 film An Officer and a Gentleman, has also received an Oscar nomination in the best director category.\"],[\"Ray DVD beats box office takings\",\"The film's three other Oscar nominations are for costume, film editing and sound mixing.\"],[\"Singer Ferguson 'facing eviction'\",\" Three Degrees star Sheila Ferguson is the favourite to be evicted from ITV's I'm A Celebrity... Get Me Out Of Here on Monday.\"],[\"Singer Ferguson 'facing eviction'\",\"Bookmakers Ladbrokes says the singer has even odds of being the first contestant to be voted off the show.\"],[\"Singer Ferguson 'facing eviction'\",\"\\\"It's going to be close but Sheila is favourite as she has shown herself to be a bit of a troublemaker,\\\" said Ladbrokes' Warren Lush.\"],[\"Singer Ferguson 'facing eviction'\",\"Comic Joe Pasquale remains odds on favourite to win the reality show.\"],[\"Singer Ferguson 'facing eviction'\",\"Mr Lush added that Nancy Sorrell's chances of an early departure had increased since the surprise arrival of husband Vic Reeves in the jungle camp last Wednesday.\"],[\"Singer Ferguson 'facing eviction'\",\"Notwithstanding, comedian Reeves remains 3/1 favourite to win the show, after Pasquale.\"],[\"Singer Ferguson 'facing eviction'\",\"Huggy Bear actor Antonio Fargas also remains a contender for eviction having \\\"done nothing to live up to the pre-show hype\\\".\"],[\"Singer Ferguson 'facing eviction'\",\"\\\"There has been a big gamble on Natalie [Appleton] to go... but bookies fancy the millions at home will keep piling on the misery by putting her through more bushtucker trials,\\\" added Mr Lush.\"],[\"Singer Ferguson 'facing eviction'\",\"The former All Saint star has performed dismally in bushtucker trials which have seen her plunged into glass tanks containing putrid waste and challenged to eat fish eyes.\"],[\"Singer Ferguson 'facing eviction'\",\"On Friday, Ladbrokes suspended betting after singer Brian Harvey quit the show folllowing a blazing row with Janet Street-Porter.\"],[\"Singer Ferguson 'facing eviction'\",\"Harvey, who entered the camp a day later than other contestants after learning that his grandmother had died, reached the end of his tether following days of meagre rations and rows.\"],[\"Sir Paul rocks Super Bowl crowds\",\" Sir Paul McCartney wowed fans with a live mini-concert at American football's Super Bowl - and avoided any Janet Jackson-style controversies.\"],[\"Sir Paul rocks Super Bowl crowds\",\"The 62-year-old sang Hey Jude and other Beatles songs in a 12-minute set at half-time during the game in Florida.\"],[\"Sir Paul rocks Super Bowl crowds\",\"Last year, Jackson exposed a breast during a dance routine, causing outrage among millions of TV viewers and landing the CBS TV network a fine.\"],[\"Sir Paul rocks Super Bowl crowds\",\"Sir Paul, however, did nothing more racy than remove his jacket as he sang.\"],[\"Sir Paul rocks Super Bowl crowds\",\"Organisers were widely considered to be playing it safe this year by booking 62-year-old Sir Paul for his second Super Bowl show.\"],[\"Sir Paul rocks Super Bowl crowds\",\"Three years ago, he was invited to perform at the first Super Bowl after the September 11 attacks and performed his specially-written song Freedom.\"],[\"Sir Paul rocks Super Bowl crowds\",\"This time, he started off the show, at the Alltel Stadium in Jacksonville, Florida, with the Beatles numbers Drive My Car and Get Back.\"],[\"Sir Paul rocks Super Bowl crowds\",\"He then performed a mellow version of Live And Let Die, the James Bond theme he recorded with the band Wings.\"],[\"Sir Paul rocks Super Bowl crowds\",\"Finally, he closed the show with a rousing version of Hey Jude.\"],[\"Sir Paul rocks Super Bowl crowds\",\"The former Beatle resisted any temptation to refer to Janet Jackson's headline-grabbing performance last year, instead keeping banter between songs to a minimum in order to squeeze as much music as he could into his slot.\"],[\"Sir Paul rocks Super Bowl crowds\",\"The singer removed his black jacket halfway through the show - but any fans hoping for a second \\\"Nipple-gate\\\" were to be disappointed as he kept his red sweatshirt on underneath.\"],[\"Sir Paul rocks Super Bowl crowds\",\"Earlier, the Black Eyed Peas and Alicia Keys had provided the night's other high-profile entertainment by performing in a pre-game show.\"],[\"Sir Paul rocks Super Bowl crowds\",\"Black Eyed Peas singer Fergie was dressed in a tight orange top and purple hotpants, but nothing in her performance was likely to upset TV watchdogs.\"],[\"Sir Paul rocks Super Bowl crowds\",\"After the controversy last year - which saw CBS fined a record $550,000 (\\u00a3292,000) by federal regulators - Super Bowl organisers had turned to producer Don Mischer to oversee this year's half-time show.\"],[\"Sir Paul rocks Super Bowl crowds\",\"His previous production credits included Olympic opening and closing ceremonies.\"],[\"Sir Paul rocks Super Bowl crowds\",\"The Super Bowl is watched by an audience of 144.4 million in the US, with many of the people watching are said to tune in specifically to see the entertainment put on around the event.\"],[\"Sir Paul rocks Super Bowl crowds\",\"Michael Jackson, Aerosmith, Diana Ross, Gloria Estefan and Phil Collins are among the stars who have previously graced the Super Bowl stage.\"],[\"Dementieva prevails in Hong Kong\",\" Elena Dementieva swept aside defending champion Venus Williams 6-3 6-2 to win Hong Kong's Champions Challenge event.\"],[\"Dementieva prevails in Hong Kong\",\"The Russian, ranked sixth in the world, broke Williams three times in the first set, while losing her service once.\"],[\"Dementieva prevails in Hong Kong\",\"Williams saved three championship points before losing the match at the Victoria Park tennis court.\"],[\"Dementieva prevails in Hong Kong\",\"\\\"It's really a great start to the year no matter whether it's an exhibition or not.\"],[\"Dementieva prevails in Hong Kong\",\"I was trying to play my best and I really did it,\\\" said Dementieva.\"],[\"Dementieva prevails in Hong Kong\",\"\\\"This will give me all the confidence before the Grand Slams.\"],[\"Dementieva prevails in Hong Kong\",\"I was trying so hard to win this tournament.\\\"\"],[\"Dementieva prevails in Hong Kong\",\"Williams, 24, was disappointed with her display.\"],[\"Dementieva prevails in Hong Kong\",\"\\\"She played some nice points, but it was mostly me committing unforced errors - four or five errors in each game,\\\" she said.\"],[\"Dementieva prevails in Hong Kong\",\"Before the match, organizers auctioned off rackets belonging to the players, raising \\u00a3115,000 for victims of the tsunami disaster.\"],[\"Radcliffe proves doubters wrong\",\" This won't go down as one of the greatest marathons of Paula's career.\"],[\"Radcliffe proves doubters wrong\",\"But as a test of character, it was the toughest race she's ever taken part in.\"],[\"Radcliffe proves doubters wrong\",\"A win in the New York marathon doesn't make up for the disappointment of Athens in any shape or form, but it will offer hope and reassurance for next year.\"],[\"Radcliffe proves doubters wrong\",\"If Paula's last experience of the year had been Athens, it would have been very difficult to look forward with any optimism.\"],[\"Radcliffe proves doubters wrong\",\"She can now draw a line under this year and make plans about her future.\"],[\"Radcliffe proves doubters wrong\",\"Even if she'd lost this race, there would have been a lot of positives to take out of it.\"],[\"Radcliffe proves doubters wrong\",\"She knows she can dig deep if she needs to.\"],[\"Radcliffe proves doubters wrong\",\"It was a strong field, with a number of the girls going into the race with expectations of winning.\"],[\"Radcliffe proves doubters wrong\",\"And although two hours 23 minutes wasn't one of Paula's best times, it wasn't far off the record on a difficult course.\"],[\"Radcliffe proves doubters wrong\",\"I was speaking to Paula in the lead-up to this race and she said that in many ways she was facing a no-win situation.\"],[\"Radcliffe proves doubters wrong\",\"She thought that if she won, people would say \\\"why couldn't she do that in Athens?\\\"\"],[\"Radcliffe proves doubters wrong\",\"And if she lost, people would say her career was over.\"],[\"Radcliffe proves doubters wrong\",\"And a lot of people were wondering what would happen if Paula was forced to drop out of this race, as she did in the marathon and 10,000m in Athens.\"],[\"Radcliffe proves doubters wrong\",\"But that was never on the cards.\"],[\"Radcliffe proves doubters wrong\",\"She might have been beaten, but she would have kept running.\"],[\"Radcliffe proves doubters wrong\",\"The reasons she was forced to pull out in Athens - the niggling injuries, her lack of energy and the oppressive conditions - weren't at play here.\"],[\"Radcliffe proves doubters wrong\",\"The only question was what position she could finish in.\"],[\"Radcliffe proves doubters wrong\",\"Most important of all, despite all the hype in the media ahead of this race, there were never doubts in Paula's mind.\"],[\"Radcliffe proves doubters wrong\",\"If she wasn't confident, she wouldn't have run.\"],[\"Radcliffe proves doubters wrong\",\"After all, if you're the best in the world at an event, you'll always have expectations of winning.\"],[\"Radcliffe proves doubters wrong\",\"Now Paula will take part in the Run London 10km race in London at the end of the year, have a well-earned rest over Christmas and go into next year with a lot of optimism.\"],[\"Wenger rules out new keeper\",\" Arsenal boss Arsene Wenger says he has no plans to sign a new goalkeeper during the January transfer window.\"],[\"Wenger rules out new keeper\",\"Wenger has brought in Manuel Almunia for the last three games for the out-of-form Jens Lehmann - but the Spaniard himself has been prone to mistakes.\"],[\"Wenger rules out new keeper\",\"There have been suggestions that Wenger will swoop for a high-quality shot-stopper in the New Year.\"],[\"Wenger rules out new keeper\",\"But he told the Evening Standard: \\\"I don't feel it will be necessary to bring in a new goalkeeper in January.\\\"\"],[\"Wenger rules out new keeper\",\"The Gunners manager refused to comment on the difficult start that 27-year-old Almunia has made to his career at Highbury.\"],[\"Wenger rules out new keeper\",\"And he would not be drawn on whether Lehmann would return for the top-of-the table clash with Chelsea on Sunday.\"],[\"Wenger rules out new keeper\",\"Almunia was at fault for Rosenborg's goal in Arsenal's 5-1 Champions League win on Tuesday and had some hairy moments in last week's win over Birmingham.\"],[\"Wenger rules out new keeper\",\"But Wenger said earlier this week that his indifferent form was down to pressure caused by being under scrutiny from the media.\"],[\"Wenger rules out new keeper\",\"\\\"The debate has gone on too long.\"],[\"Wenger rules out new keeper\",\"Everyone has an opinion and I do not have to add to it,\\\" Wenger added.\"],[\"Wenger rules out new keeper\",\"Arsenal have been linked with Middlesbrough keeper Mark Schwarzer, Fulham's Edwin van der Sar and Parma's Sebastien Frey.\"],[\"Wenger rules out new keeper\",\"And Wenger has no immediate plans to recall former England Under-21 international Stuart Taylor from his loan spell at Leicester.\"],[\"Fit-again Betsen in France squad\",\" France have brought flanker Serge Betsen back into their squad to face England at Twickenham on Sunday.\"],[\"Fit-again Betsen in France squad\",\"But the player, who missed the victory over Scotland through injury, must attend a disciplinary hearing on Wednesday after being cited by Wasps.\"],[\"Fit-again Betsen in France squad\",\"\\\"Serge has a good case so we are confident he will play,\\\" said France coach Bernard Laporte.\"],[\"Fit-again Betsen in France squad\",\"The inexperienced Nicolas Mas, Jimmy Marlu and Jean-Philippe Grandclaude are also included in a 22-man squad.\"],[\"Fit-again Betsen in France squad\",\"The trio have been called up after Pieter de Villiers, Ludovic Valbon and Aurelien Rougerie all picked up injuries in France's 16-9 win on Saturday.\"],[\"Fit-again Betsen in France squad\",\"Laporte said he was confident that Betsen would be cleared by the panel investigating his alleged trip that broke Wasps centre Stuart Abbott's leg.\"],[\"Fit-again Betsen in France squad\",\"\\\"If he was to be suspended, we would call up Imanol Harinordoquy or Thomas Lievremont,\\\" said Laporte, who has dropped Patrick Tabacco.\"],[\"Fit-again Betsen in France squad\",\"\\\"We missed Serge badly against Scotland.\"],[\"Fit-again Betsen in France squad\",\"He has now recovered from his thigh injury and played on Saturday with Biarritz.\\\"\"],[\"Fit-again Betsen in France squad\",\"France's regular back-row combination of Betsen, Harinordoquy and Olivier Magne were all missing from France's side at the weekend because of injury.\"],[\"Fit-again Betsen in France squad\",\"Laporte is expected to announce France's starting line-up on Wednesday.\"],[\"Fit-again Betsen in France squad\",\"Forwards: Nicolas Mas, Sylvain Marconnet, Olivier Milloud, William Servat, Sebastien Bruno, Fabien Pelous, Jerome Thion, Gregory Lamboley, Serge Betsen, Julien Bonnaire, Sebastien Chabal, Yannick Nyanga.\"],[\"Fit-again Betsen in France squad\",\"Backs: Dimitri Yachvili, Pierre Mignoni, Frederic Michalak, Yann Delaigue, Damien Traille, Brian Liebenberg, Jean-Philippe Grandclaude, Christophe Dominici, Jimmy Marlu, Pepito Elhorga.\"],[\"Double injury blow strikes Wales\",\" Wales centre Sonny Parker and number eight Ryan Jones will miss Saturday's game with Italy because of injury.\"],[\"Double injury blow strikes Wales\",\"Parker has not recovered from a trapped nerve in his neck that kept him out of the win over England, and Tom Shanklin is expected to continue at centre.\"],[\"Double injury blow strikes Wales\",\"Jones damaged his collar bone after coming on as a replacement against England and joins flanker Colin Charvis (foot injury) on the sidelines.\"],[\"Double injury blow strikes Wales\",\"Meanwhile, Mike Ruddock may make Gavin Henson his first-choice kicker in Rome.\"],[\"Double injury blow strikes Wales\",\"The centre was Wales' hero in the 11-9 Six Nations win over England, landing a huge late penalty from wide out to clinch the game.\"],[\"Double injury blow strikes Wales\",\"First-choice kicker Stephen Jones handed over responsibility because of Henson's greater kicking range, but the fly-half had already missed a number of shots at goal.\"],[\"Double injury blow strikes Wales\",\"\\\"Our first aim was to get Gavin settled into the team, but giving him the kicks is something we'll talk about in selection this week,\\\" Wales coach Mike Ruddock told BBC Sport Wales.\"],[\"Double injury blow strikes Wales\",\"Henson himself says he is relishing all the media hype that has been heaped on him since last Saturday's game.\"],[\"Double injury blow strikes Wales\",\"\\\"I thrive on it and think it makes me perform better,\\\" he said.\"],[\"Double injury blow strikes Wales\",\"\\\"I'm glad it's a short week before the Italy game.\"],[\"Double injury blow strikes Wales\",\"There was so much build-up before England, but we fly out to Rome on Thursday and we'll be back playing again.\\\"\"],[\"Ref stands by Scotland decisions\",\" The referee from Saturday's France v Scotland Six Nations match has defended the officials' handling of the game after criticism by Matt Williams.\"],[\"Ref stands by Scotland decisions\",\"The Scotland coach said his side were robbed of victory by poor decisions made by the officials.\"],[\"Ref stands by Scotland decisions\",\"But Nigel Williams said: \\\"I'm satisfied the game was handled correctly.\\\"\"],[\"Ref stands by Scotland decisions\",\"Meanwhile, Matt Williams will not be punished by the Scottish Rugby Union for allegedly using bad language in his comments about the officials.\"],[\"Ref stands by Scotland decisions\",\"He denies having done so.\"],[\"Ref stands by Scotland decisions\",\"Nonetheless, he was furious about several decisions that he felt denied his side a famous victory.\"],[\"Ref stands by Scotland decisions\",\"But Nigel Williams told the Scottish Daily Mail: \\\"I spoke to Matt Williams at the post-match dinner.\"],[\"Ref stands by Scotland decisions\",\"\\\"He made no mention of the disallowed try or any other refereeing decisions whatsoever.\"],[\"Ref stands by Scotland decisions\",\"\\\"If Matt has issues with the match officials, then he is very welcome to phone me and discuss them.\"],[\"Ref stands by Scotland decisions\",\"\\\"Ultimately there is a match assessor at every international game to give an impartial and objective view of the performance of the officials.\"],[\"Ref stands by Scotland decisions\",\"\\\"That is the beginning and end of it.\\\"\"],[\"Downing injury mars Uefa victory\",\" Middlesbrough boss Steve McClaren hopes that Stewart Downing did not seriously damage his hamstring during the 2-1 Uefa Cup win over Graz AK.\"],[\"Downing injury mars Uefa victory\",\"The winger was carried off on a stretcher in the closing stages as Boro booked their place in the last 16.\"],[\"Downing injury mars Uefa victory\",\"McClaren said: \\\"Stewart has tweaked a hamstring, which is a blow for us.\"],[\"Downing injury mars Uefa victory\",\"We will assess it in the morning.\"],[\"Downing injury mars Uefa victory\",\"\\\"But I'm delighted with the match result.\"],[\"Downing injury mars Uefa victory\",\"They say in sport you can win ugly - and we certainly did.\\\"\"],[\"Downing injury mars Uefa victory\",\"McClaren was relieved to make it through after a tough encounter at The Riverside.\"],[\"Downing injury mars Uefa victory\",\"\\\"To be fair to Graz, they had a gameplan - they knocked the ball forward, especially in the first half, and we struggled to deal with it.\"],[\"Downing injury mars Uefa victory\",\"\\\"In the second half we were better but it was frustrating because we got the goal - but one slip and they were back in it.\\\"\"],[\"Downing injury mars Uefa victory\",\"Boro face Sporting Lisbon for a place in the quarter-finals after the Portuguese side saw off Feyenoord on Thursday.\"],[\"Downing injury mars Uefa victory\",\"And McClaren added: \\\"Sporting are technically very good - Portuguese sides always are.\"],[\"Downing injury mars Uefa victory\",\"\\\"But the journey goes on for us and we will now go to their magnificent stadium - after the first game here - we'll look forward to it.\\\"\"],[\"Downing injury mars Uefa victory\",\"Goalscorer Jimmy Floyd Hasselbaink added: \\\"It wasn't a particularly beautiful match to watch - but they made it difficult for us.\"],[\"Downing injury mars Uefa victory\",\"\\\"We didn't play well at all.\"],[\"Downing injury mars Uefa victory\",\"But you need a little bit of luck and I think we got that when my shot went through the legs of their goalkeeper.\"],[\"Downing injury mars Uefa victory\",\"\\\"I would have liked to play in Holland - that would have been a little bit special to me.\"],[\"Downing injury mars Uefa victory\",\"\\\"But so is going back to Portugal - I'll be playing against some lads I played with at Boavista.\\\"\"],[\"New UKIP defection to 'Veritas'\",\" The UK Independence Party has lost one of its two London Assembly members to Robert Kilroy-Silk's new political party, expected to launch on Wednesday.\"],[\"New UKIP defection to 'Veritas'\",\"Damian Hockney said ex-chatshow host Mr Kilroy-Silk would \\\"deliver better\\\" as the leader of a eurosceptic party.\"],[\"New UKIP defection to 'Veritas'\",\"He said Mr Kilroy-Silk had made him deputy party leader of Veritas, Latin for truth.\"],[\"New UKIP defection to 'Veritas'\",\"Sources close to Mr Hockney said around eight other members of London UKIP were also planning to jump ship.\"],[\"New UKIP defection to 'Veritas'\",\"Details of the coming week's events were hammered out at a meeting at Mr Kilroy-Silk's Buckinghamshire home on Sunday, the BBC News Website was told.\"],[\"New UKIP defection to 'Veritas'\",\"The news came after UKIP suspended a candidate for allegedly suggesting the criminally insane should be killed.\"],[\"New UKIP defection to 'Veritas'\",\"John Houston, 54, was due to stand in the East Kilbride seat in Lanarkshire at the next election.\"],[\"New UKIP defection to 'Veritas'\",\"A spokesman for UKIP called on Mr Hockney to quit the London Assembly.\"],[\"New UKIP defection to 'Veritas'\",\"UKIP asserts that Mr Hockney \\\"has a moral obligation, if not a legal one\\\" to stand down.\"],[\"New UKIP defection to 'Veritas'\",\"Mr Hockney meanwhile told the BBC: \\\"I believe that Robert Kilroy-Silk can deliver better as a leader of a eurosceptic party than the current leadership of the UK Independence Party.\\\"\"],[\"New UKIP defection to 'Veritas'\",\"On the suspension of Mr Houston, UKIP said those who selected him knew nothing of his views.\"],[\"New UKIP defection to 'Veritas'\",\"Mr Houston is alleged to have said that the organs of the criminally insane should be \\\"made available to law-abiding members of the community\\\" and proposed the legalisation of drugs and the sex trade.\"],[\"New UKIP defection to 'Veritas'\",\"The document reportedly said: \\\"We're looking for the resurrection of the British Empire.\"],[\"New UKIP defection to 'Veritas'\",\"\\\"The problems for the human race - environmental and others - can only be dealt with on a global scale, and that calls for a radical alliance of the English-speaking nations, which they are uniquely able to do.\\\"\"],[\"New UKIP defection to 'Veritas'\",\"UKIP spokesman Mark Croucher said the main issue would be that Mr Houston's reported views had been presented as UKIP policy, which they were not.\"],[\"Bath faced with Tindall ultimatum\",\" Mike Tindall's agent has warned Bath they have until next week to improve their contract offer to the England man or risk losing him to a rival club.\"],[\"Bath faced with Tindall ultimatum\",\"Dipo Alli says he has received an offer for Tindall which dwarfs Bath's deal and that two other clubs want to talk.\"],[\"Bath faced with Tindall ultimatum\",\"\\\"Mike does not want to go into the Six Nations worrying about where he will be playing his club rugby next season,\\\" Alli told the Guardian newspaper.\"],[\"Bath faced with Tindall ultimatum\",\"\\\"It is up to (Bath owner) Andrew Brownsword.\"],[\"Bath faced with Tindall ultimatum\",\"He has to make it happen.\\\"\"],[\"Bath faced with Tindall ultimatum\",\"Tindall is out of contract at the end of the season but it is understood that Brownsword is unwilling to break the club's salary structure to accommodate the 26-year-old's demands.\"],[\"Bath faced with Tindall ultimatum\",\"But Alli insists the player is worth more than Bath have put on the table.\"],[\"Bath faced with Tindall ultimatum\",\"\\\"Mike has been at Bath for eight years and wants to remain with the club and his demands are anything but excessive,\\\" the agent added.\"],[\"Bath faced with Tindall ultimatum\",\"\\\"But Brownsword has to recognise Mike's value and we want to resolve things by the end of next week.\\\"\"],[\"Paris promise raises Welsh hopes\",\" Has there been a better Six Nations match than Saturday's epic in Paris?\"],[\"Paris promise raises Welsh hopes\",\"And can the Welsh revival continue all the way to a first Grand Slam since 1978?\"],[\"Paris promise raises Welsh hopes\",\"Those are the two questions occupying not just Wales supporters but rugby fans as a whole after a scintillating display in Paris.\"],[\"Paris promise raises Welsh hopes\",\"Welsh legend Mervyn Davies, a member of two of three Grand Slam-winning sides of the 1970s, hailed it as \\\"one of the great performances of the past three decades\\\".\"],[\"Paris promise raises Welsh hopes\",\"Martyn Williams, Wales' two-try scorer on the day, called it \\\"one of the most surreal games I have ever played in\\\".\"],[\"Paris promise raises Welsh hopes\",\"A crestfallen France coach, Bernard Laporte, simply observed: \\\"There was a French half and there was a Welsh half\\\".\"],[\"Paris promise raises Welsh hopes\",\"And what a half it was for the Red Dragonhood, transforming a 15-6 half-time deficit into an 18-15 lead within five mesmerising minutes of the second period.\"],[\"Paris promise raises Welsh hopes\",\"But while that passage of play showed the swelling self-belief of a side prepared to back its own spirit of adventure, the final quarter told us a whole lot more about this Welsh side.\"],[\"Paris promise raises Welsh hopes\",\"That they recovered from a battering in the first half-hour to first stem the tide before half-time, then reverse it on the resumption, was remarkable enough.\"],[\"Paris promise raises Welsh hopes\",\"But in resisting a seemingly unstoppable wave of French pressure in a nail-biting final five minutes, Wales showed not only their physical attributes but their mental resolve.\"],[\"Paris promise raises Welsh hopes\",\"In international rugby, any of the top seven sides can beat each other on a given day, but the great sides are those that win the close contests on a consistent basis.\"],[\"Paris promise raises Welsh hopes\",\"England suffered some infamous Six Nations disappointments en route to World Cup glory, the pain of defeat forging bonds that ultimately led to victory when it really mattered.\"],[\"Paris promise raises Welsh hopes\",\"Wales have some way to go before they can be remotely considered in a similar light.\"],[\"Paris promise raises Welsh hopes\",\"But the signs are that players previously on the receiving end are learning how to emerge on the right side of the scoreline.\"],[\"Paris promise raises Welsh hopes\",\"Ten of the 22 on duty on Saturday were also involved when Wales were trounced 33-5 in Paris two years ago.\"],[\"Paris promise raises Welsh hopes\",\"But since they threw off the shackles against New Zealand in the 2003 World Cup, Wales have rediscovered much of what made them a great rugby nation in the first place.\"],[\"Paris promise raises Welsh hopes\",\"\\\"The confidence in the squad has been building and building since the World Cup and we now have young players who are becoming world class,\\\" noted coach Mike Ruddock.\"],[\"Paris promise raises Welsh hopes\",\"The likes of Michael Owen, Gethin Jenkins, Dwayne Peel and Gavin Henson are certainly building strong cases for inclusion on this summer's Lions tour to New Zealand.\"],[\"Paris promise raises Welsh hopes\",\"And players like Stephen Jones, Martyn Williams, Shane Williams and Gareth Thomas are proving it is not only the youngsters that are on an upward curve.\"],[\"Paris promise raises Welsh hopes\",\"Jones, after his superb man-of-the-match display, observed that \\\"we are a very happy camp now\\\".\"],[\"Paris promise raises Welsh hopes\",\"Ruddock and Thomas can take much of the credit for that, ensuring the tribal and regional divisions that have often scarred Welsh rugby do not extend to the national squad.\"],[\"Paris promise raises Welsh hopes\",\"The  joie de vivre  so evident in that magical second-half spell in Paris also stems from a style of play that first wooed supporters the world over in the 1970s.\"],[\"Paris promise raises Welsh hopes\",\"If England had half the innate attacking exuberance Wales have produced in this championship, they would not be contemplating the debris of three consecutive defeats.\"],[\"Paris promise raises Welsh hopes\",\"Similarly, Wales have learnt that style alone does not win matches, and that forward power, mental toughness and good decision-making under pressure are equally important.\"],[\"Paris promise raises Welsh hopes\",\"So on to Murrayfield, where Wales have not won on their last three visits.\"],[\"Paris promise raises Welsh hopes\",\"While the hype in the Principality will go into overdrive, the players will set about the task of beating Scotland.\"],[\"Paris promise raises Welsh hopes\",\"Only then - with the visit of Ireland to finish - can they start thinking about emulating the hallowed players of the 1970s, and writing their own names into Welsh legend.\"],[\"Souness delight at Euro progress\",\" Boss Graeme Souness felt Newcastle were never really in danger of going out of the Uefa Cup against Heerenveen.\"],[\"Souness delight at Euro progress\",\"An early own goal followed by an Alan Shearer strike earned them a 2-1 win and a place in the Uefa Cup last 16.\"],[\"Souness delight at Euro progress\",\"\\\"Obviously with winning in the first leg it gave us a great advantage,\\\" he said after the 4-2 aggregate victory.\"],[\"Souness delight at Euro progress\",\"\\\"We got our goals early and in the minds of some players the job was done but then they got a goal and perhaps made us a bit nervous.\\\"\"],[\"Souness delight at Euro progress\",\"Shearer's goal moved him within 12 of Jackie Milburn's club scoring record of 200 for the Magpies.\"],[\"Souness delight at Euro progress\",\"But Souness said he did not think beating the record would have any bearing on his decision to retire at the end of the season.\"],[\"Souness delight at Euro progress\",\"\\\"I think if he got it this year he would want to stay next year anyway,\\\" he added.\"],[\"Souness delight at Euro progress\",\"\\\"He struck the ball very well - he always has done - and I think it was the power and pace that beat the goalkeeper.\\\"\"],[\"Souness delight at Euro progress\",\"Souness also paid tribute to Laurent Robert, who was at the heart of much of United's attacking play.\"],[\"Souness delight at Euro progress\",\"\\\"In the first half he did really well and did everything you want from a wide player.\"],[\"Souness delight at Euro progress\",\"More of the same in future please,\\\" he said.\"],[\"Houllier praises Benitez regime\",\" Former Liverpool manager Gerard Houllier has praised the work of his Anfield successor Rafael Benitez.\"],[\"Houllier praises Benitez regime\",\"Houllier was angry at reports that he has been critical of Benitez since the Spaniard took over at Liverpool.\"],[\"Houllier praises Benitez regime\",\"But Houllier told BBC Sport: \\\"In private and in public, I have stressed I believe Rafa is doing a good job.\"],[\"Houllier praises Benitez regime\",\"He is the right man at the right place.\"],[\"Houllier praises Benitez regime\",\"\\\"Rafa is a good coach and a good man.\"],[\"Houllier praises Benitez regime\",\"I've spoken to him since he has been at Liverpool and never criticised him.\\\"\"],[\"Houllier praises Benitez regime\",\"Houllier also revealed he is now ready to return to the game after leaving Liverpool in May following six years at Anfield.\"],[\"Houllier praises Benitez regime\",\"The former France boss has been linked with a host of jobs and pulled out of the race to succeed Mark Hughes as Wales national coach.\"],[\"Houllier praises Benitez regime\",\"He has been working for Uefa, covering the Premiership for French television and also coaching in Brazil with national coach Carlos Alberto Perreira.\"],[\"Houllier praises Benitez regime\",\"Houllier said: \\\"If a good club comes up at the right time then yes, I am ready to come back.\"],[\"Houllier praises Benitez regime\",\"\\\"It has been interesting to watch games from a different perspective and I have learned things.\"],[\"Houllier praises Benitez regime\",\"\\\"I have been involved in football since leaving Liverpool and my batteries are recharged.\\\"\"],[\"Houllier praises Benitez regime\",\"Houllier has been impressed with the quality in the Premiership after watching as a pundit - particularly with Jose Mourinho's work at leaders Chelsea.\"],[\"Houllier praises Benitez regime\",\"He said: \\\"Chelsea are doing very well.\"],[\"Houllier praises Benitez regime\",\"They have some very good creative players in Damien Duff and Arjen Robben and Didier Drogba showed he can change the face of a game when he came on against Newcastle.\"],[\"Houllier praises Benitez regime\",\"\\\"They have got a good team spirit and are strong mentally.\"],[\"Houllier praises Benitez regime\",\"They have shown they can cope with all the pressure put on them because of the expectations and cope well with Jose's principles.\"],[\"Houllier praises Benitez regime\",\"\\\"Jose had results before he came to Chelsea and I think he will have an impact in the Premiership because he manages his team very cleverly.\\\"\"],[\"Houllier praises Benitez regime\",\"And Houllier, away from his brief at Liverpool, has been hugely impressed with the Premiership.\"],[\"Houllier praises Benitez regime\",\"He said: \\\"It is a very exciting league.\"],[\"Houllier praises Benitez regime\",\"It is entertaining, goals are scored and teams are always trying to win.\"],[\"Houllier praises Benitez regime\",\"\\\"It has been very interesting to watch the game from a different perspective.\"],[\"Houllier praises Benitez regime\",\"\\\"Games switch from end-to-end and there is more pace to the Premiership than other leagues.\"],[\"Houllier praises Benitez regime\",\"It is a very good product.\\\"\"],[\"Analysis: No pain, no gain?\",\" He called it his \\\"masochism strategy\\\" in the run-up to the Iraq war and now Tony Blair has signed up for another dose of pain.\"],[\"Analysis: No pain, no gain?\",\"The idea is simple - the prime minister goes head to head with an often hostile group of \\\"real\\\" voters in the full spotlight of the television cameras.\"],[\"Analysis: No pain, no gain?\",\"The theory is that talking to the great British public, even if they are the \\\"great unwashed\\\", is better than having the media filter what voters hear from politicians.\"],[\"Analysis: No pain, no gain?\",\"It is also the most effective way of showing that he is aware of real people's concerns and - on occasions - of their outright fury.\"],[\"Analysis: No pain, no gain?\",\"Mr Blair used the tactic before the Iraq war to try to show he really was engaging with public concerns and you can expect to see it much more in the run-up to the election.\"],[\"Analysis: No pain, no gain?\",\"Labour knows it has been damaged by accusations of spin, \\\"control freakery\\\" and over-slick presentation - sometimes from within the ranks of its own MPs.\"],[\"Analysis: No pain, no gain?\",\"Tony Blair himself has said people complain he does not listen.\"],[\"Analysis: No pain, no gain?\",\"Mr Blair's latest bout of flagellation came with a series of questions sessions on Five television throughout Wednesday.\"],[\"Analysis: No pain, no gain?\",\"The trouble began on the Wright Stuff show, with Maria Hutchings marching up to him, saying \\\"Tony, that's rubbish\\\" as she tried to complain about her autistic son's school being threatened with closure.\"],[\"Analysis: No pain, no gain?\",\"A few \\\"don't worries\\\" as Mrs Hutchings was led back to the audience averted a public slanging match - he spoke to her privately after the show.\"],[\"Analysis: No pain, no gain?\",\"But that was only the start and later sessions produced the type of grilling not even the toughest television interviewer could produce.\"],[\"Analysis: No pain, no gain?\",\"Writer Neil Coppendale, from West Sussex, asked of the Iraq war: \\\"Tens of thousands of innocent men, women and children died - how do you manage to sleep at night?\\\"\"],[\"Analysis: No pain, no gain?\",\"On immigration, London teacher Diane Granger said: \\\"Where are you going to put everyone?\\\"\"],[\"Analysis: No pain, no gain?\",\"And can you imagine even Jeremy Paxman putting the question posed by Brighton nurse Marion Brown: \\\"Would you wipe somebody's backside for \\u00a35?\\\"\"],[\"Analysis: No pain, no gain?\",\"Mr Blair tried to use the questioners' first names - and sometimes threw them off their stride by asking what they would do about the problems.\"],[\"Analysis: No pain, no gain?\",\"Many of the newspapers have branded the exercise a PR stunt which backfired.\"],[\"Analysis: No pain, no gain?\",\"Indeed there is a danger Mr Blair simply ends up looking \\\"embattled\\\".\"],[\"Analysis: No pain, no gain?\",\"Conservative Michael Howard and Liberal Democrat Charles Kennedy are to be offered chances to appear in similar slots on the channel next month.\"],[\"Analysis: No pain, no gain?\",\"Labour strategists believe more of the sessions will mean the hecklers no longer become a story and the real issues take prominence.\"],[\"Analysis: No pain, no gain?\",\"James Humphreys, ex-head of corporate communications at Number 10, says the strategy shows frustration with the media.\"],[\"Analysis: No pain, no gain?\",\"\\\"They feel they don't get their voice across and going direct to people is clearly their game on this occasion,\\\" he says.\"],[\"Analysis: No pain, no gain?\",\"There are risks but the prize is tackling the trend of lower turnouts at the polls, he argues.\"],[\"Analysis: No pain, no gain?\",\"The prime minister knows full well the potential hazards .\"],[\"Analysis: No pain, no gain?\",\"He must remember with gritted teeth his confrontation with Sharron Storer, the Birmingham woman who harangued him over the state of her local hospital in the 2001 election campaign.\"],[\"Analysis: No pain, no gain?\",\"\\\"All you do is walk around and make yourself known, you don't do anything to help anybody,\\\" she told Mr Blair before stomping off, refusing his pleas to discuss the issue privately.\"],[\"Analysis: No pain, no gain?\",\"Former Downing Street media chief Alastair Campbell has described the episode as a \\\"bit of a disaster\\\" as it meant the launch of Labour's election manifesto received little coverage.\"],[\"Analysis: No pain, no gain?\",\"But it was seen as one of the few moments when that election campaign came alive, not least because it coincided with John Prescott's even more direct contact - when he punched an egg-throwing protester.\"],[\"Analysis: No pain, no gain?\",\"Former prime ministers too have come to grief at the hands of a persistent member of the public.\"],[\"Analysis: No pain, no gain?\",\"The undoubted highlight of years of election phone-in shows was Margaret Thatcher discomfort on Nationwide in 1983, when viewer Diana Gould put her on the spot about the sinking of the Belgrano in the Falklands War.\"],[\"Analysis: No pain, no gain?\",\"John Major reaped the benefits of street campaigning during the 1992 election campaign with his famous soapbox.\"],[\"Analysis: No pain, no gain?\",\"It may have left him splattered with eggs and engine oil at times but he felt it added \\\"fizz\\\" to his campaign.\"],[\"Analysis: No pain, no gain?\",\"In his memoirs, he also argues the strategy contrasted with Neil Kinnock's \\\"contrived photo opportunities\\\" and attempts at an artful campaign.\"],[\"Analysis: No pain, no gain?\",\"\\\"He wanted to look like a prime minister.\"],[\"Analysis: No pain, no gain?\",\"I  was  prime minister and I wanted a flesh and blood fight,\\\" says Mr Major.\"],[\"Analysis: No pain, no gain?\",\"Mr Blair told prospective Labour MPs on Thursday that taking part in phone-ins and public meetings could \\\"enthuse and engage and give the public a sense of empowerment\\\".\"],[\"Analysis: No pain, no gain?\",\"But he also wants to counter complaints that he has spent too much time on international affairs and foreign trips.\"],[\"Analysis: No pain, no gain?\",\"Mr Blair recalls how Bill Clinton once advised him: \\\"Always remember that what people see of you in the news in the evening is how they think you spend your day.\\\"\"],[\"Analysis: No pain, no gain?\",\"His hope must be that voters watching him on the rack will bear out for Labour the old maxim: \\\"No pain, no gain.\\\"\"],[\"Howard denies split over ID cards\",\" Michael Howard has denied his shadow cabinet was split over its decision to back controversial Labour plans to introduce ID cards.\"],[\"Howard denies split over ID cards\",\"The Tory leader said his front bench team had reached a \\\"collective view\\\" after holding a \\\"good discussion\\\", but admitted it was \\\"not an easy issue\\\".\"],[\"Howard denies split over ID cards\",\"He had decided to support the plans as the police said they would help fight terror, crime and illegal immigration.\"],[\"Howard denies split over ID cards\",\"The Lib Dems have pledged to oppose the bill when it is debated next Monday.\"],[\"Howard denies split over ID cards\",\"Tory sources say senior party figures had argued vociferously against the ID card scheme.\"],[\"Howard denies split over ID cards\",\"Among those reported to have serious reservations over the strategy were senior shadow cabinet members David Davis, Oliver Letwin and Tim Yeo.\"],[\"Howard denies split over ID cards\",\"But Mr Howard denied Mr Yeo, his transport and environment spokesman, said the plans \\\"stink\\\".\"],[\"Howard denies split over ID cards\",\"He also said he was confident shadow home secretary Mr Davis would \\\"set out the position very clearly\\\" when he stands up to debate the matter next week.\"],[\"Howard denies split over ID cards\",\"Mr Howard said the police had said ID cards could \\\"help them foil a terror bomb plot in which people could lose their lives\\\".\"],[\"Howard denies split over ID cards\",\"He added: \\\"When the police say that you have to take them seriously\\\".\"],[\"Howard denies split over ID cards\",\"He acknowledged there were \\\"good libertarian arguments\\\" against the cards, but said the shadow Cabinet had weighed up all the \\\"conflicting interests\\\" before reaching its decision.\"],[\"Howard denies split over ID cards\",\"\\\"I don't pretend that it is an easy decision but at the end of the day a decision has to be taken.\\\"\"],[\"Howard denies split over ID cards\",\"He also denied he was afraid of looking \\\"soft\\\" on the issue, compared to Labour.\"],[\"Howard denies split over ID cards\",\"The Conservatives announced their support for the government plans on Monday evening.\"],[\"Howard denies split over ID cards\",\"Sources within the party told the BBC Mr Howard had always been in favour of ID cards, and tried to introduce them when he was Home Secretary.\"],[\"Howard denies split over ID cards\",\"But the Tories insisted they would hold ministers to account over the precise purpose of the scheme.\"],[\"Howard denies split over ID cards\",\"They said they would also press Labour over whether objectives could be met and whether the Home Office would be able to deliver them.\"],[\"Howard denies split over ID cards\",\"And they pledged to assess the cost effectiveness of ID cards and whether people's privacy would be properly protected.\"],[\"Howard denies split over ID cards\",\"\\\"It is important to remember that this bill will take a decade to come into full effect,\\\" a spokesman said.\"],[\"Howard denies split over ID cards\",\"Lib Dem home affairs spokesman Mark Oaten has branded the ID scheme a waste of money and \\\"deeply flawed\\\".\"],[\"Howard denies split over ID cards\",\"He said: \\\"This has all the signs of Michael Howard overruling colleagues' concerns over ID cards.\\\"\"],[\"Howard denies split over ID cards\",\"The chairman of the Bar Council, Guy Mansfield QC warned there was a real risk that people on the \\\"margins of society\\\" would be driven into the hands of extremists.\"],[\"Howard denies split over ID cards\",\"\\\"What is going to happen to young Asian men when there has been a bomb gone off somewhere?\"],[\"Howard denies split over ID cards\",\"They are going to be stopped.\"],[\"Howard denies split over ID cards\",\"If they haven't [ID cards] they are going to be detained.\\\"\"],[\"Howard denies split over ID cards\",\"Tory ex-minister Douglas Hogg said he opposed the plans for ID cards branding them a \\\"regressive\\\" step which would intrude into the lives of ordinary citizens without any counterbalancing benefits.\"],[\"Howard denies split over ID cards\",\"He predicted ultimately carrying the cards would become compulsory and that would lead to large numbers of Britain's ethnic minorities being stopped by police.\"],[\"Blair pledges unity to Labour MPs\",\" Tony Blair has sought to reassure Labour backbenchers that nothing will stand in the way of the party's bid for a third term in power.\"],[\"Blair pledges unity to Labour MPs\",\"Mr Blair was speaking to MPs amid fresh rumours of a rift with Gordon Brown.\"],[\"Blair pledges unity to Labour MPs\",\"A new book says the prime minister went back on a pledge to Mr Brown to stand down before the next general election.\"],[\"Blair pledges unity to Labour MPs\",\"The chancellor has said he is focused on winning the poll and is due to join election supremo Alan Milburn for a Labour poster launch this week.\"],[\"Blair pledges unity to Labour MPs\",\"Mr Blair told the Parliamentary Labour Party (PLP) on Monday: \\\"I know from everyone here, in Cabinet and government, nothing is going to get in the way of a unified Labour Party with a unified position and winning the third term people desperately need.\\\"\"],[\"Blair pledges unity to Labour MPs\",\"The prime minister and his chancellor arrived within seconds of each other and seemingly in good spirits at the start of the meeting which lasted around an hour.\"],[\"Blair pledges unity to Labour MPs\",\"A new book, Brown's Britain by Sunday Telegraph journalist Robert Peston, says Mr Blair went back on a pledge to make way for Mr Brown after Cabinet allies intervened in June 2004.\"],[\"Blair pledges unity to Labour MPs\",\"It has caused a new wave of concern among Labour MPs gearing up to defend their seats in an election, widely expected to be held in May, and several members are understood to have lined up to express their discontent at the PLP meeting.\"],[\"Blair pledges unity to Labour MPs\",\"Health Secretary John Reid earlier warned that Labour members would not easily forgive anybody fuelling damaging speculation.\"],[\"Blair pledges unity to Labour MPs\",\"He told BBC News: \\\"Those who co-operate or inspire these books, in my view, have to know that, whatever the short-term political or personal advantage that they think they might secure, they always do it by damaging the record, the unity and the re-election chances of the Labour Party and the government.\\\"\"],[\"Blair pledges unity to Labour MPs\",\"Mr Blair on Sunday dismissed claims of broken promises, saying: \\\"I've dealt with this six months ago.\"],[\"Blair pledges unity to Labour MPs\",\"I said then you don't do deals over jobs like this - you don't.\\\"\"],[\"Blair pledges unity to Labour MPs\",\"In a separate BBC interview, Mr Brown said he and the prime minister would not be distracted by \\\"gossip\\\".\"],[\"Blair pledges unity to Labour MPs\",\"\\\"It's very important that we all do what we can in a unified way to ensure the election of a Labour government,\\\" he said.\"],[\"Blair pledges unity to Labour MPs\",\"On Monday, Mr Blair's spokesman said: \\\"The prime minister is determined that he will get on with the business of government because he believes that what people want.\\\"\"],[\"Blair pledges unity to Labour MPs\",\"Mr Brown says he discussed the election campaign with Mr Blair on Saturday and promised to play his part.\"],[\"Blair pledges unity to Labour MPs\",\"Mr Peston said the pair had \\\"mutual animosity and contempt\\\".\"],[\"Blair pledges unity to Labour MPs\",\"Mr Blair had decided in November 2003 he would quit because he felt he had lost voters' trust because of the Iraq war.\"],[\"Blair pledges unity to Labour MPs\",\"He had then changed his mind in June 2004, following intervention from Cabinet allies and suspicion that the chancellor was manoeuvring against him.\"],[\"Blair pledges unity to Labour MPs\",\"Mr Brown allegedly said he could no longer believe anything Mr Blair told him.\"],[\"Blair pledges unity to Labour MPs\",\"Conservative co-chairman Liam Fox likened the two men to \\\"self-obsessed schoolboys\\\".\"],[\"Blair pledges unity to Labour MPs\",\"Liberal Democrat parliamentary chairman Matthew Taylor said their personal ambition was \\\"getting in the way of good government\\\".\"],[\"Blair pledges unity to Labour MPs\",\"Ex-Labour leader Neil Kinnock said Mr Blair and Mr Brown could only deal with the media frenzy by continuing to say they would not allow a row to damage Labour or British interests.\"],[\"Blair pledges unity to Labour MPs\",\"He told BBC Radio Five Live that Mr Brown would never encourage any kind of insurrection or coup.\"],[\"Nat Insurance to rise, say Tories\",\" National Insurance will be raised if Labour wins the next election, Tory leader Michael Howard has claimed.\"],[\"Nat Insurance to rise, say Tories\",\"Tony Blair has said he does not want higher tax rates for top earners but on Wednesday said other tax promises would be left to Labour's manifesto.\"],[\"Nat Insurance to rise, say Tories\",\"Prime minister's questions also saw Mr Blair predict that new plans would probably cut net immigration.\"],[\"Nat Insurance to rise, say Tories\",\"He attacked Tory plans to process asylum claims abroad - but Mr Howard said Labour had proposed the idea too.\"],[\"Nat Insurance to rise, say Tories\",\"The Commons questions session again saw the leaders of the two biggest parties shape up for the forthcoming election campaign.\"],[\"Nat Insurance to rise, say Tories\",\"The Tories have promised \\u00a34bn in tax cuts but have yet to say where they will fall.\"],[\"Nat Insurance to rise, say Tories\",\"Mr Howard pointed to the Institute for Fiscal Studies' predictions that Labour will need to increase taxes to cover an \\u00a311bn gap in its spending plans.\"],[\"Nat Insurance to rise, say Tories\",\"He accused ministers of wasting money on unsuccessful attempts to curb bad behaviour and truancy in schools and on slow asylum processing.\"],[\"Nat Insurance to rise, say Tories\",\"It was no good Mr Blair claiming tax pledges were being left to the manifesto as he had given one to MPs on Tuesday about the top rate of income tax, argued Mr Howard.\"],[\"Nat Insurance to rise, say Tories\",\"Pointing to national insurance, he added: \\\"Everyone knows tax will go up under Labour: isn't it now clear which tax it would be?\\\"\"],[\"Nat Insurance to rise, say Tories\",\"Mr Blair instead hailed Labour's achievement in using a strong economy to invest in public services.\"],[\"Nat Insurance to rise, say Tories\",\"\\\"When we have money not only going into extra teachers and nurses but equipment in schools and hospitals, that money is not wasted,\\\" he said.\"],[\"Nat Insurance to rise, say Tories\",\"On the tax questions, he added: \\\"We will make commitments on tax at the time of the manifesto.\\\"\"],[\"Nat Insurance to rise, say Tories\",\"Home Secretary Charles Clarke this week published plans for a new points system for economic migrants, with only high-skilled workers allowed into the UK from outside the European Union.\"],[\"Nat Insurance to rise, say Tories\",\"Mr Blair said abuses would be weeded out and chain migration, where families automatically get the right to settle with immigrant workers, would end.\"],[\"Nat Insurance to rise, say Tories\",\"That would probably create a fall in the migrant numbers, he said.\"],[\"Nat Insurance to rise, say Tories\",\"The prime minister ridiculed the Tory plans for asylum quotas and for processing all asylum claims overseas.\"],[\"Nat Insurance to rise, say Tories\",\"He challenged the Tories on which country would house their processing centres - what he called a \\\"fantasy island\\\".\"],[\"Nat Insurance to rise, say Tories\",\"Mr Howard read from a letter about the government's own plans at the European Council of Ministers for processing asylum seekers outside the EU.\"],[\"Nat Insurance to rise, say Tories\",\"But Mr Blair said: \\\"All the other countries could not agree on the way forward, nor could the UN.\\\"\"],[\"Lib Dems stress Budget trust gap\",\" Public trust in the handling of the economy can only be restored if Gordon Brown opens up his books for unbiased inspection, say the Lib Dems.\"],[\"Lib Dems stress Budget trust gap\",\"City experts say there is a \\u00a310bn \\\"black hole\\\" in the public finances, a claim denied by the chancellor.\"],[\"Lib Dems stress Budget trust gap\",\"Lib Dem spokesman Vince Cable said the public did not know who to believe and the National Audit Office should judge.\"],[\"Lib Dems stress Budget trust gap\",\"Responding to the pre-Budget report, Mr Cable also attacked Labour's \\\"unfair\\\" and over-complicated taxes.\"],[\"Lib Dems stress Budget trust gap\",\"In his report, Mr Brown insisted he was on course to meet his \\\"golden rule\\\" of borrowing only to invest, rather than for day-to-day spending, over the course of the economic cycle.\"],[\"Lib Dems stress Budget trust gap\",\"Mr Cable said people did not know whether to believe the chancellor or the consensus among experts which said the rule would be broken.\"],[\"Lib Dems stress Budget trust gap\",\"\\\"There is an issue of credibility and trust,\\\" he said.\"],[\"Lib Dems stress Budget trust gap\",\"\\\"We cannot have a continuation of a situation where the chancellor sets his own tests and then marks them.\"],[\"Lib Dems stress Budget trust gap\",\"\\\"What we need is the equivalent of a thorough Ofsted inspection of the government's accounts.\\\"\"],[\"Lib Dems stress Budget trust gap\",\"He asked what the government had to hide.\"],[\"Lib Dems stress Budget trust gap\",\"Mr Cable also accused the chancellor of ducking tough choices.\"],[\"Lib Dems stress Budget trust gap\",\"He argued: \\\"There are serious challenges ahead from the falling dollar and from the rapid downturn in the UK housing market and rising personal debt.\"],[\"Lib Dems stress Budget trust gap\",\"But they have not been confronted.\\\"\"],[\"Lib Dems stress Budget trust gap\",\"Mr Brown confirmed he was setting aside another \\u00a3520m for the conflicts in Iraq and Afghanistan.\"],[\"Lib Dems stress Budget trust gap\",\"Mr Cable compared that new cost with the \\u00a3500m needed for Britain's role in the entire first Gulf War - when 80% of the bill had been met through help from European and Arab nations.\"],[\"Lib Dems stress Budget trust gap\",\"He suggested keeping British troops in Iraq could cost another \\u00a31bn with the government also planning to spend at least \\u00a33bn for identity cards.\"],[\"Lib Dems stress Budget trust gap\",\"The current economic climate meant Britain could not afford the \\\"reckless, George Bush-style tax cutting spree\\\" planned by the Tories, he said.\"],[\"Lib Dems stress Budget trust gap\",\"Instead, what was needed was simple and fair taxation rather than the \\\"complete mess\\\" produced by Mr Brown's endless tinkering.\"],[\"Lib Dems stress Budget trust gap\",\"Mr Cable said 40% of all pensioners were now paying marginal tax rates of 50%.\"],[\"Lib Dems stress Budget trust gap\",\"And one-and-a-half million hard working families were paying 60% marginal tax rates.\"],[\"Lib Dems stress Budget trust gap\",\"With that record, he asked why ministers attacked Lib Dem plans for a new 50% tax rate for the \\\"very rich\\\" - those earning more than \\u00a3100,000 a year.\"],[\"Lib Dems stress Budget trust gap\",\"Mr Brown earmarked \\u00a31bn to help keep down council tax rises next year.\"],[\"Lib Dems stress Budget trust gap\",\"But the Lib Dem spokesman questioned whether that money was being found from cuts to education and health.\"],[\"Lib Dems stress Budget trust gap\",\"He urged the government to scrap the \\\"grossly unfair\\\" tax completely.\"],[\"Lib Dems stress Budget trust gap\",\"The Lib Dems want it replaced with a local income tax.\"],[\"Lib Dems stress Budget trust gap\",\"In response, Mr Brown stressed the Iraq money came from a reserve funds.\"],[\"Lib Dems stress Budget trust gap\",\"It was because he had rejected previous Lib Dem proposals, such as scrapping the New Deal, that Britain's economy was successful, claimed Mr Brown.\"],[\"UK needs tax cuts, Tories insist\",\" A major change of direction is needed in Britain if it is to prosper, the shadow chancellor said as the Tory Party spring conference began.\"],[\"UK needs tax cuts, Tories insist\",\"Oliver Letwin said the UK could not compete with other countries without the \\u00a34bn tax cuts he was promising.\"],[\"UK needs tax cuts, Tories insist\",\"Tory co-chairman Liam Fox had opened the forum in Brighton with an attack on Labour's record and party leader Michael Howard is due to speak later.\"],[\"UK needs tax cuts, Tories insist\",\"Tony Blair has said Conservative policies would cause economic failure.\"],[\"UK needs tax cuts, Tories insist\",\"But Mr Letwin said Britain had fallen from fourth to 11th in the international economic competitiveness league.\"],[\"UK needs tax cuts, Tories insist\",\"\\\"Can this country compete, can this country prosper, unless we do something about the burden of regulation and tax on our economy?\\\"\"],[\"UK needs tax cuts, Tories insist\",\"he said.\"],[\"UK needs tax cuts, Tories insist\",\"\\\"If we are going to take on the great challenges, the challenges like those posed by the Chinese and the Indians, we have got to do something about getting down the burden of regulation and getting down the burden of tax,\\\" he said.\"],[\"UK needs tax cuts, Tories insist\",\"\\\"The fact is the very carefully costed, fully funded plans we have laid out for saving \\u00a312bn by 2007-2008 are absolutely crucial to delivering an economy that will prosper and provide people with jobs and indeed provide the public services with the money they need on a sustainable long-term basis.\\\"\"],[\"UK needs tax cuts, Tories insist\",\"Mr Letwin said voting for Labour meant choosing higher taxes, borrowing and waste.\"],[\"UK needs tax cuts, Tories insist\",\"Earlier, Dr Fox had said Labour's rule had been characterised by \\\"lost trust and failure to deliver\\\".\"],[\"UK needs tax cuts, Tories insist\",\"He also attacked the government's \\\"failure\\\" to control immigration and asylum and criticised its record on the NHS, telling delegates Labour cannot be trusted on education or crime.\"],[\"UK needs tax cuts, Tories insist\",\"A Tory government would sort out the \\\"shambles\\\" of immigration, put patients before statistics and bring discipline to schools, he said.\"],[\"UK needs tax cuts, Tories insist\",\"Michael Howard, who had been due to welcome delegates to the conference on Friday, will address them in a lunchtime speech.\"],[\"UK needs tax cuts, Tories insist\",\"His welcome address had to be postponed after he stayed in London to lead the party's opposition to the Prevention of Terrorism Bill in its lengthy progress through Parliament.\"],[\"UK needs tax cuts, Tories insist\",\"The bill was finally passed on Friday evening, after more than 30 hours of debate.\"],[\"UK needs tax cuts, Tories insist\",\"Mr Howard is likely to defend his party's handling of the bill, which was only passed after the Conservatives accepted Prime Minister Tony Blair's promise that MPs would be able to review it within a year.\"],[\"Jowell confirms casino climbdown\",\" Tessa Jowell has announced plans to limit the number of new casinos in the UK to 24, in a move branded a \\\"humiliating retreat\\\" by the Tories.\"],[\"Jowell confirms casino climbdown\",\"It puts an end to plans for up to 40 super casinos, originally outlined in the government's Gambling Bill.\"],[\"Jowell confirms casino climbdown\",\"Instead there will be a cap of eight new casinos in each size category - small, medium and large.\"],[\"Jowell confirms casino climbdown\",\"The Culture Secretary said the move showed she listened to critics who feared an explosion in gambling.\"],[\"Jowell confirms casino climbdown\",\"But Conservative shadow culture secretary John Whittingdale said the way the government had handled the bill was a \\\"shambles\\\".\"],[\"Jowell confirms casino climbdown\",\"\\\"This announcement is a further humiliating retreat by the government.\"],[\"Jowell confirms casino climbdown\",\"\\\"Instead of the initial intention of the gambling bill, to liberalise the rules governing gambling, the bill now imposes a more restrictive regime than exists at present.\\\"\"],[\"Jowell confirms casino climbdown\",\"Shares in British casino operators London Clubs International, Rank Group and Stanley Leisure, who had been hoping the bill would pave the way for a big expansion in smaller casinos, fell by between 10 and 25% following the announcement.\"],[\"Jowell confirms casino climbdown\",\"Ms Jowell's deputy, Richard Caborn, said the government had adopted a cautious approach to the issue, and responded to the concerns raised.\"],[\"Jowell confirms casino climbdown\",\"\\\"Limiting the number of regional casinos to eight in the first phase is a cautious move that will allow us to test the impact of a new kind of casino on the levels of problem gambling,\\\" he said.\"],[\"Jowell confirms casino climbdown\",\"\\\"We also believe it's right to apply this same level of caution to small and large casinos.\\\"\"],[\"Jowell confirms casino climbdown\",\"He added that local authorities would still be able to stop new casinos coming to their areas.\"],[\"Jowell confirms casino climbdown\",\"Church groups welcomed the limit on the number of casinos.\"],[\"Jowell confirms casino climbdown\",\"Salvation Army spokesman Jonathan Lomax said: \\\"The proliferation of these casinos on high streets across the country was a real concern and the [three year] trial period, which we think should last at least five years, will enable research into the potentially severe social consequences of an increase in hard and addictive forms of gambling.\\\"\"],[\"Jowell confirms casino climbdown\",\"But British British Casino Association Chairman Penny Cobham said her members were \\\"outraged\\\" by the decision, which followed a campaign in the Daily Mail newspaper.\"],[\"Jowell confirms casino climbdown\",\"\\\"There was never going to be a massive explosion of casinos.\"],[\"Jowell confirms casino climbdown\",\"Talk of a casino on every High Street was just a scaring tactic.\\\"\"],[\"PM apology over jailings\",\" Tony Blair has apologised to two families who suffered one of the UK's biggest miscarriages of justice.\"],[\"PM apology over jailings\",\"The prime minister was commenting on the wrongful jailing of 11 people for IRA bomb attacks on pubs in Guildford and Woolwich in 1974.\"],[\"PM apology over jailings\",\"Mr Blair said: \\\"I am very sorry that they were subject to such an ordeal and injustice.\\\"\"],[\"PM apology over jailings\",\"He made the apology to members of the Conlon and Maguire families in his private room at Westminster.\"],[\"PM apology over jailings\",\"In a statement recorded for television, Mr Blair said the families deserved \\\"to be completely and publicly exonerated\\\".\"],[\"PM apology over jailings\",\"The families had hoped the apology would be made during Prime Minister's Questions in the House of Commons.\"],[\"PM apology over jailings\",\"However, one of the so-called Guildford Four, Gerry Conlon - who was wrongly convicted of planting the bombs - said the families were delighted with the apology.\"],[\"PM apology over jailings\",\"He said Mr Blair had spoken with \\\"such sincerity\\\", adding: \\\"He went beyond what we thought he would, he took time to listen to everyone.\"],[\"PM apology over jailings\",\"\\\"You could see he was moved by what people were saying.\"],[\"PM apology over jailings\",\"\\\"Tony Blair has healed rifts, he is helping to heal wounds.\"],[\"PM apology over jailings\",\"It's a day I never thought would come.\\\"\"],[\"PM apology over jailings\",\"The move followed a huge campaign in Ireland for a public apology after eleven people were wrongly convicted of making and planting the IRA bombs which killed seven people.\"],[\"PM apology over jailings\",\"Mr Blair's official spokesman said no-one present at the meeting would \\\"ever forget the strength of feeling of relief that the prime minister's statement brought to them\\\".\"],[\"PM apology over jailings\",\"Most of those convicted were either members or friends of the two families.\"],[\"PM apology over jailings\",\"All were arrested because of a family connection to Gerry Conlon.\"],[\"PM apology over jailings\",\"Mr Conlon's father Giuseppe was arrested when travelling to London from Belfast to help his son.\"],[\"PM apology over jailings\",\"He died while serving his sentence.\"],[\"PM apology over jailings\",\"Also arrested were Anne Maguire and members of her family.\"],[\"PM apology over jailings\",\"Mrs Maguire was the relative with whom Giuseppe planned to stay in London, as well as two family friends.\"],[\"PM apology over jailings\",\"She said it was a \\\"wonderful feeling\\\" to have had the apology and that a weight had been lifted off her shoulders.\"],[\"PM apology over jailings\",\"\\\"The people who were still doubting us should now believe that we were totally innocent,\\\" she said.\"],[\"PM apology over jailings\",\"They were all jailed for handling explosives, based on scientific evidence which was later entirely discredited.\"],[\"PM apology over jailings\",\"In October 1989 the Court of Appeal quashed the sentences of the Guildford Four, and in June 1991 it overturned the sentences on the Maguire Seven.\"],[\"PM apology over jailings\",\"Mr Conlon's case was highlighted in the Oscar-nominated film In The Name Of The Father, starring Daniel Day-Lewis.\"],[\"Brown names 16 March for Budget\",\" Chancellor Gordon Brown will deliver his Budget to the House of Commons on 16 March, the Treasury has announced.\"],[\"Brown names 16 March for Budget\",\"The Budget, likely to be the last before the General Election, will be at about 1230 GMT on that Wednesday, just after Prime Minister's question time.\"],[\"Brown names 16 March for Budget\",\"The annual event is when the chancellor outlines the government's taxation and broader economic predictions.\"],[\"Brown names 16 March for Budget\",\"The Tories say it is likely the Budget will contain measures to attract votes.\"],[\"Brown names 16 March for Budget\",\"The election is expected on 5 May.\"],[\"Brown names 16 March for Budget\",\"Next month's Budget will be Mr Brown's ninth since Labour came to power in 1997.\"],[\"Brown names 16 March for Budget\",\"If a May election is called, there could be as little as 18 days between the Budget and the announcement of a date for the election.\"],[\"Brown names 16 March for Budget\",\"A shortened Finance Bill would have to be rushed through Parliament with all-party support to allow the Government to continue collecting revenue.\"],[\"Brown names 16 March for Budget\",\"The full Finance Bill, with the Budget measures in it, would then be returned to the Commons after the election, if Labour secures another term in office.\"],[\"Brown names 16 March for Budget\",\"Tory shadow chancellor Oliver Letwin said: \\\"We can be sure of two things: the Budget will contain measures to attract votes, and it will not contain the \\u00a38 billion of tax rises which independent experts say are inevitable if Labour wins the election.\\\"\"],[\"Brown names 16 March for Budget\",\"As Mr Brown announced the Budget date in a short ministerial statement, accountancy firm Ernst & Young urged him to put politics aside and focus on the long-term requirements of the economy.\"],[\"Brown names 16 March for Budget\",\"\\\"In the Budgets that were given immediately before the last six elections, taxes were cut by the incumbent chancellor and, in many cases, taxes were increased soon after the election result,\\\" said Aidan O'Carroll, E&Y's UK head of tax.\"],[\"Blair to face MPs amid feud talk\",\" Tony Blair faces his first prime minister's questions of 2005 after a week of renewed speculation about his relationship with Gordon Brown.\"],[\"Blair to face MPs amid feud talk\",\"Meanwhile, the chancellor is leaving Britain on a high-profile tour of Africa to highlight poverty issues.\"],[\"Blair to face MPs amid feud talk\",\"But before doing so, he insisted he still trusted Mr Blair, despite claims to the contrary in a new book.\"],[\"Blair to face MPs amid feud talk\",\"Labour MPs have warned against disunity and Tory leader Michael Howard may well take up the theme in the Commons.\"],[\"Blair to face MPs amid feud talk\",\"The Tories have already accused the prime minister and his chancellor of behaving like \\\"schoolboys squabbling in a playground\\\".\"],[\"Blair to face MPs amid feud talk\",\"Michael Howard is likely to want to capitalise further on the spat when he goes head-to-head with the prime minister in the Commons.\"],[\"Blair to face MPs amid feud talk\",\"At a campaign poster launch on Tuesday, Mr Brown was joined by Alan Milburn, who Mr Blair controversially put in charge of election planning in place of the chancellor.\"],[\"Blair to face MPs amid feud talk\",\"Later this week the prime minister is due to set out the themes of his party's next election manifesto, which for the past two polls have been drawn up by the chancellor.\"],[\"Blair to face MPs amid feud talk\",\"Mr Brown, meanwhile, is visiting Tanzania, Mozambique and Kenya to highlight the plight of many Africans hit by Aids, war and famine - issues which Mr Blair has also spoken out on.\"],[\"Blair to face MPs amid feud talk\",\"The prime minister and chancellor faced backbench discontent at Monday's meeting of the Parliamentary Labour Party over claims made in journalist Robert Peston's new book.\"],[\"Blair to face MPs amid feud talk\",\"Mr Blair told MPs and peers: \\\"I know from everyone here, in Cabinet and government, nothing is going to get in the way of a unified Labour Party with a unified position and winning the third term people desperately need.\\\"\"],[\"Blair to face MPs amid feud talk\",\"Labour's Paul Flynn said the pair had had a \\\"scorching\\\" from MPs.\"],[\"Blair to face MPs amid feud talk\",\"On Tuesday, Deputy Prime Minister Mr Prescott told BBC News: \\\"They told us very clearly, it was the troops telling the leaders: get in line.\\\"\"],[\"Blair to face MPs amid feud talk\",\"The new book claims Mr Prescott hosted a dinner in November 2003 where the prime minister told Mr Brown he would stand down before the next election because he had lost trust over the Iraq war.\"],[\"Blair to face MPs amid feud talk\",\"Mr Blair then changed his mind in June 2004, after Cabinet allies intervened and amid suspicion the chancellor was manoeuvring against him, writes Mr Peston.\"],[\"Blair to face MPs amid feud talk\",\"In Mr Peston's book Mr Brown is alleged to have told the prime minister: \\\"There is nothing you could ever say to me now that I could ever believe.\\\"\"],[\"&#163;1.8m indecency fine for Viacom\",\" Media giant Viacom has paid out $3.5m (\\u00a31.8m) to end investigations into indecency in its US radio and TV shows.\"],[\"&#163;1.8m indecency fine for Viacom\",\"The settlement to the Federal Communications Commission (FCC) ends a long-running saga dating back to 2001.\"],[\"&#163;1.8m indecency fine for Viacom\",\"The FCC was looking into 50 shows, including those by \\\"shock jock\\\" Howard Stern and two New York DJs.\"],[\"&#163;1.8m indecency fine for Viacom\",\"Stern recently announced he was leaving Viacom while the two DJs were sacked after their show featured a couple purporting to have sex in a church.\"],[\"&#163;1.8m indecency fine for Viacom\",\"After the church incident two years ago Viacom agreed to install audio delay equipment at its radio stations that broadcast live programming.\"],[\"&#163;1.8m indecency fine for Viacom\",\"It also agreed to train its broadcasters and employees about indecency laws.\"],[\"&#163;1.8m indecency fine for Viacom\",\"The agreement cancels investigations into about 50 radio and television shows, said Richard Diamond, FCC deputy secretary of communications.\"],[\"&#163;1.8m indecency fine for Viacom\",\"The shows were broadcast by Viacom-owned stations across the United States.\"],[\"&#163;1.8m indecency fine for Viacom\",\"Viacom has five days to pay the $3.5m fine, according to the agreement.\"],[\"&#163;1.8m indecency fine for Viacom\",\"The payment is not related to the FCC's $550,000 (\\u00a3293,000) fine levied against Viacom after the exposure of singer Janet Jackson's breast during the CBS Super Bowl halftime show in January.\"],[\"&#163;1.8m indecency fine for Viacom\",\"Viacom is contesting that fine.\"],[\"&#163;1.8m indecency fine for Viacom\",\"It is not the first time that Viacom has paid out over indecency charges.\"],[\"&#163;1.8m indecency fine for Viacom\",\"Infinity Broadcasting, which is owned by Viacom, paid cumulative fines totalling $1.7m (\\u00a3907,000) in 1995 to settle FCC violations by Stern.\"],[\"Standard Life cuts policy bonuses\",\" Standard Life, Europe's largest mutual life insurer, has cut bonuses for with-profit policyholders.\"],[\"Standard Life cuts policy bonuses\",\"Annual bonus rates on its with-profits life policies were cut from 2.5% to 2%, while bonuses on pension policies were reduced from 3.25% to 2.5%.\"],[\"Standard Life cuts policy bonuses\",\"It is the sixth time in three years Standard Life has made cuts to bonus rates, despite an 8.7% rise in the value of the with-profits fund in 2004.\"],[\"Standard Life cuts policy bonuses\",\"The insurer blamed the cuts on poor share returns and low interest rates.\"],[\"Standard Life cuts policy bonuses\",\"With-profits policies are designed to smooth out the peaks and troughs of stock market volatility.\"],[\"Standard Life cuts policy bonuses\",\"Profits made in good years are kept in reserve to pay investors an annual bonus even when the stock market performs badly.\"],[\"Standard Life cuts policy bonuses\",\"Slumping share prices throughout 2001 and 2002 forced most firms to trim bonus rates on their policies.\"],[\"Standard Life cuts policy bonuses\",\"Standard Life came in for criticism for sticking with stock market investments during 2001 and 2002.\"],[\"Standard Life cuts policy bonuses\",\"The insurer argued that shares outperformed other investments over the long term and that policyholders would feel the benefit when the stock market recovered.\"],[\"Standard Life cuts policy bonuses\",\"Recently, Norwich Union and Axa Sun Life both cut their with-profit bonus rates.\"],[\"Standard Life cuts policy bonuses\",\"John Gill, managing director of the insurer's life and pensions division, said that a strong stock market recovery in the past two years had only \\\"partly compensated for losses during 2001 and 2002\\\".\"],[\"Standard Life cuts policy bonuses\",\"In addition, low interest rates meant that \\\"long-term investment returns are well below historic levels\\\", Mr Gill added.\"],[\"Standard Life cuts policy bonuses\",\"However, Mr Gill maintained that with-profits continued to perform well over the long term.\"],[\"Standard Life cuts policy bonuses\",\"\\\"Our payouts continue to stand up well against other types of long-term investments over similar periods,\\\" he said.\"],[\"Standard Life cuts policy bonuses\",\"Standard Life has an estimated 2.4 million with-profits policyholders.\"],[\"Standard Life cuts policy bonuses\",\"Last year, the company announced that it was looking to float on the stock market in 2006.\"],[\"Cars pull down US retail figures\",\" US retail sales fell 0.3% in January, the biggest monthly decline since last August, driven down by a heavy fall in car sales.\"],[\"Cars pull down US retail figures\",\"The 3.3% fall in car sales had been expected, coming after December's 4% rise in car sales, fuelled by generous pre-Christmas special offers.\"],[\"Cars pull down US retail figures\",\"Excluding the car sector, US retail sales were up 0.6% in January, twice what some analysts had been expecting.\"],[\"Cars pull down US retail figures\",\"US retail spending is expected to rise in 2005, but not as quickly as in 2004.\"],[\"Cars pull down US retail figures\",\"Steve Gallagher, US chief economist at SG Corporate & Investment Banking, said January's figures were \\\"decent numbers\\\".\"],[\"Cars pull down US retail figures\",\"\\\"We are not seeing the numbers that we saw in the second half of 2004, but they are still pretty healthy,\\\" he added.\"],[\"Cars pull down US retail figures\",\"Sales at appliance and electronic stores were down 0.6% in January, while sales at hardware stores dropped by 0.3% and furniture store sales dipped 0.1%.\"],[\"Cars pull down US retail figures\",\"Sales at clothing and clothing accessory stores jumped 1.8%, while sales at general merchandise stores, a category that includes department stores, rose by 0.9%.\"],[\"Cars pull down US retail figures\",\"These strong gains were in part put down to consumers spending gift vouchers they had been given for Christmas.\"],[\"Cars pull down US retail figures\",\"Sales at restaurants, bars and coffee houses rose by 0.3%, while grocery store sales were up 0.5%.\"],[\"Cars pull down US retail figures\",\"In December, overall retail sales rose by 1.1%.\"],[\"Cars pull down US retail figures\",\"Excluding the car sector, sales rose by just 0.3%.\"],[\"Cars pull down US retail figures\",\"Parul Jain, deputy chief economist at Nomura Securities International, said consumer spending would continue to rise in 2005, only at a slower rate of growth than in 2004.\"],[\"Cars pull down US retail figures\",\"\\\"Consumers continue to retain their strength in the first quarter,\\\" he said.\"],[\"Cars pull down US retail figures\",\"Van Rourke, a bond strategist at Popular Securities, agreed that the latest retail sales figures were \\\"slightly stronger than expected\\\".\"],[\"Broadband soars in 2004\",\" If broadband were a jumbo jet, then 2003 would have seen it taxiing down the runway, firing up its engines and preparing for take-off.\"],[\"Broadband soars in 2004\",\"But this year has seen it soar.\"],[\"Broadband soars in 2004\",\"In the spring it literally took to the skies as Lufthansa and British Airways trialled it on flights.\"],[\"Broadband soars in 2004\",\"This perhaps said more about how indispensable people were beginning to perceive the technology, rather than how useful sky-high broadband would actually be.\"],[\"Broadband soars in 2004\",\"It was flying high and by the autumn, five million Britons had signed up for high-speed net access at home.\"],[\"Broadband soars in 2004\",\"Such enthusiasm is unlikely to dampen any time soon and experts predict that by the end of next year the numbers will have risen to more than eight million, or more than 30% of homes.\"],[\"Broadband soars in 2004\",\"The two key factors in whetting people's appetite were falling prices and a huge marketing push.\"],[\"Broadband soars in 2004\",\"When operators such as BT and Telewest offered standard 512K broadband for less than \\u00a320 at the beginning of the year, it was as if an invisible barrier had been breached - broadband had truly gone mass market.\"],[\"Broadband soars in 2004\",\"A feeding frenzy followed as firms vied for eyeballs in a price war reminiscent of that following the mass market take-up of dial-up.\"],[\"Broadband soars in 2004\",\"Broadband for less than \\u00a310 was even touted by some firms, although such a low price raised eyebrows among more established companies questioning how they are able to sustain such business models.\"],[\"Broadband soars in 2004\",\"For those who became broadbanders in 2004 there was no turning back and the days of waiting for the modem to kick in began to seem as outdated an idea as a jungle without celebrities.\"],[\"Broadband soars in 2004\",\"The rest of the world was also falling in love with the benefits of fast internet access, to the tune of 100 million connections worldwide by April, prompting research firm Point Topic to declare it one of the fastest growing technologies ever.\"],[\"Broadband soars in 2004\",\"By September, the number of broadband connections in the UK finally overtook dial-up and in December BT announced that it was making a new broadband connection every 10 seconds.\"],[\"Broadband soars in 2004\",\"Broadband was being mentioned on the 10 O'clock News and in the tabloids; the Sun even carried a cartoon joke about it.\"],[\"Broadband soars in 2004\",\"But two of the most significant pieces of news for broadband were items that did not make the headlines.\"],[\"Broadband soars in 2004\",\"In May, BT quietly announced that it was shaving 70% off the cost of allowing other operators access to its telephone exchanges, so-called local loop unbundling.\"],[\"Broadband soars in 2004\",\"The vital local loop is the crucial link between telephone exchanges and homes.\"],[\"Broadband soars in 2004\",\"At the moment BT has a stranglehold on more than 80% of these lines making it the key voice in deciding what ADSL products get into homes.\"],[\"Broadband soars in 2004\",\"With cheaper local loop unbundling, rivals to BT can offer faster services that will leave the broadband of today looking positively tortoise-like.\"],[\"Broadband soars in 2004\",\"It will mean the UK will finally catch up with countries such as France and the Netherlands, where homes are routinely enjoying speeds of up to 15Mb (megabits per second).\"],[\"Broadband soars in 2004\",\"And the major price fall means that, rather than just talk about it, companies are actually starting to get their own equipment into BT's exchanges.\"],[\"Broadband soars in 2004\",\"It may not seem that exciting but it is a remarkable transition given that just a few years ago the arguments over local loop unbundling bore more than a passing resemblance to the Northern Ireland peace talks - fraught, bitter and with no end in sight.\"],[\"Broadband soars in 2004\",\"Another big piece of news for broadband users in 2004 was the extension of BT's reach, meaning more than 95% of the population could get broadband, regardless of how far away from the exchange they lived.\"],[\"Broadband soars in 2004\",\"There was a slight caveat for those wanting to upgrade to 1Mbps broadband, they still have to live within six kilometres of a broadband-enabled exchange.\"],[\"Broadband soars in 2004\",\"For thousands frustrated by their inability to get the technology, the news meant they could finally join in.\"],[\"Broadband soars in 2004\",\"Broadband is not just about fast access over the telephone and cable operators NTL and Telewest also had a bumper year.\"],[\"Broadband soars in 2004\",\"The biggest news for them was increased speeds, introducing 2Mb and 3Mb services for users and offering a free upgrade to those on 512K.\"],[\"Broadband soars in 2004\",\"The cable operators are limited in their reach and it is perhaps testament to how big a deal local loop unbundling could become that even they are considering extending their range via this route.\"],[\"Broadband soars in 2004\",\"Broadband can seem confusing for consumers, with the huge amount of operators offering so many different products, some with capped bandwidth and different length contracts and set-up fees.\"],[\"Broadband soars in 2004\",\"It is unlikely to get any less easy to understand in 2005 but remains a plane worth catching.\"],[\"Broadband soars in 2004\",\"As it gets faster and offers extras such as cheap telephone calls online, the only real thing to remember for the coming year is to enjoy the ride.\"],[\"Brewers' profits lose their fizz\",\" Heineken and Carlsberg, two of the world's largest brewers, have reported falling profits after beer sales in western Europe fell flat.\"],[\"Brewers' profits lose their fizz\",\"Dutch firm Heineken saw its annual profits drop 33% and warned that earnings in 2005 may also slide.\"],[\"Brewers' profits lose their fizz\",\"Danish brewer Carlsberg suffered a 3% fall in profits due to waning demand and increased marketing costs.\"],[\"Brewers' profits lose their fizz\",\"Both are looking to Russia and China to provide future growth as western European markets are largely mature.\"],[\"Brewers' profits lose their fizz\",\"Heineken's net income fell to 537m euros ($701m; \\u00a3371m) during 2004, from 798m euro a year ago.\"],[\"Brewers' profits lose their fizz\",\"It blamed weak demand in western Europe and currency losses.\"],[\"Brewers' profits lose their fizz\",\"It had warned in September that the weakening US dollar, which has cut the value of foreign sales, would knock 125m euros off its operating profits.\"],[\"Brewers' profits lose their fizz\",\"Despite the dip in profits, Heineken's sales have been improving and total revenue for the year was 10bn euros, up 8.1% from 9.26bn euros in 2003.\"],[\"Brewers' profits lose their fizz\",\"Heineken said it now plans to invest 100m euros in \\\"aggressive\\\" and \\\"high-impact\\\" marketing in Europe and the US in 2005.\"],[\"Brewers' profits lose their fizz\",\"Heineken, which also owns the Amstel and Murphy's stout brands, said it would also seek to cut costs.\"],[\"Brewers' profits lose their fizz\",\"This may involve closing down breweries.\"],[\"Brewers' profits lose their fizz\",\"Heineken increased its dividend payment by 25% to 40 euro cents, but warned that the continued impact of a weaker dollar and an increased marketing spend may lead to a drop in 2005 net profit.\"],[\"Brewers' profits lose their fizz\",\"Carlsberg, the world's fifth-largest brewer, saw annual pre-tax profits fall to 3.4bn Danish kroner (456m euros).\"],[\"Brewers' profits lose their fizz\",\"Its beer sales have been affected by the sluggish European economy and by the banning of smoking in pubs in several European countries.\"],[\"Brewers' profits lose their fizz\",\"Nevertheless, total sales increased 4% to 36bn kroner, thanks to strong sales of Carlsberg lager in Russia and Poland.\"],[\"Brewers' profits lose their fizz\",\"Carlsberg is more optimistic than Heineken about 2005, projecting a 15% rise in net profits for the year.\"],[\"Brewers' profits lose their fizz\",\"However, it also plans to cut 200 jobs in Sweden, where sales have been hit by demand for cheap, imported brands.\"],[\"Brewers' profits lose their fizz\",\"\\\"We remain cautious about the medium-to-long term outlook for revenue growth across western Europe for a host of economic, social and structural reasons,\\\" investment bank Merrill Lynch said of Carlsberg.\"],[\"Chinese exports rise 25% in 2004\",\" Exports from China leapt during 2004 over the previous year as the country continued to show breakneck growth.\"],[\"Chinese exports rise 25% in 2004\",\"The spurt put China's trade surplus - a sore point with some of its trading partners - at a six-year high.\"],[\"Chinese exports rise 25% in 2004\",\"It may also increase pressure on China to relax the peg joining its currency, the yuan, with the weakening dollar.\"],[\"Chinese exports rise 25% in 2004\",\"The figures released by the Ministry of Commerce come as China's tax chief confirmed that growth had topped 9% in 2004 for the second year in a row.\"],[\"Chinese exports rise 25% in 2004\",\"State Administration of Taxation head Xie Xuren said a tightening of controls on tax evasion had combined with the rapid expansion to produce a 25.7% rise in tax revenues to 2.572 trillion yuan ($311bn; \\u00a3165bn).\"],[\"Chinese exports rise 25% in 2004\",\"According to the Ministry of Commerce, China's exports totalled $63.8bn in December, taking the annual total up 35.4% to $593.4bn.\"],[\"Chinese exports rise 25% in 2004\",\"With imports rising a similar amount, the deficit rose to $43.4bn.\"],[\"Chinese exports rise 25% in 2004\",\"The increased tax take comes despite healthy tax rebates for many exporters totalling 420bn yuan in 2004, according to Mr Xie.\"],[\"Chinese exports rise 25% in 2004\",\"China's exporting success has made the trade deficit of the United States soar even further and made trade with China a sensitive political issue in Washington.\"],[\"Chinese exports rise 25% in 2004\",\"The peg keeping the yuan around 8.30 to the dollar is often blamed by US lawmakers for job losses at home.\"],[\"Chinese exports rise 25% in 2004\",\"A US report issued on Tuesday on behalf of a Congressionally-mandated panel said almost 1.5 million posts disappeared between 1989 and 2003.\"],[\"Chinese exports rise 25% in 2004\",\"The pace accelerated in the final three years of the period, said the report for the US-China Economic and Security Review Commission, moving out of labour-intensive industries and into more hi-tech sectors.\"],[\"Chinese exports rise 25% in 2004\",\"The US's overall trade deficit with China was $124bn in 2003, and is expected to rise to about $150bn for 2004.\"],[\"Huge rush for Jet Airways shares\",\" Indian airline Jet Airways' initial public offering was oversubscribed 16.2 times, bankers said on Friday.\"],[\"Huge rush for Jet Airways shares\",\"Over 85% of the bids were at the higher end of the price range of 1,050-1,125 rupees ($24-$26).\"],[\"Huge rush for Jet Airways shares\",\"Jet Airways, a low-fare airline, was founded by London-based ex-travel agent Naresh Goya, and controls 45% of the Indian domestic airline market.\"],[\"Huge rush for Jet Airways shares\",\"It sold 20% of its equity or 17.2 million shares in a bid to raise up to $443m (\\u00a3230.8m).\"],[\"Huge rush for Jet Airways shares\",\"The price at which its shares will begin trading will be agreed over the weekend, bankers said.\"],[\"Huge rush for Jet Airways shares\",\"\\\"The demand for the IPO was impressive.\"],[\"Huge rush for Jet Airways shares\",\"We believe that over the next two years, the domestic aviation sector promises strong growth, even though fuel prices could be high,\\\" said Hiten Mehta, manager of merchant banking firm, Fortune Financial Services.\"],[\"Huge rush for Jet Airways shares\",\"India began to open up its domestic airline market - previously dominated by state-run carrier Indian Airlines - in the 1990s.\"],[\"Huge rush for Jet Airways shares\",\"Jet began flying in 1993 and now has competitors including Air Deccan and Air Sahara.\"],[\"Huge rush for Jet Airways shares\",\"Budget carriers Kingfisher Airlines and SpiceJet are planning to launch operations in May this year.\"],[\"Huge rush for Jet Airways shares\",\"Jet has 42 aircraft and runs 271 scheduled flights daily within India.\"],[\"Huge rush for Jet Airways shares\",\"It recently won government permission to fly to London, Singapore and Kuala Lumpur.\"],[\"Tsunami 'to hit Sri Lanka banks'\",\" Sri Lanka's banks face hard times following December's tsunami disaster, officials have warned.\"],[\"Tsunami 'to hit Sri Lanka banks'\",\"The Sri Lanka Banks Association said the waves which killed more than 30,000 people also washed away huge amounts of property which was securing loans.\"],[\"Tsunami 'to hit Sri Lanka banks'\",\"According to its estimate, as much as 13.6% of the loans made by private banks to clients in the disaster zone has been written off or damaged.\"],[\"Tsunami 'to hit Sri Lanka banks'\",\"State-owned lenders may be even worse hit, it said.\"],[\"Tsunami 'to hit Sri Lanka banks'\",\"The association estimates that the private banking sector has 25bn rupees ($250m; \\u00a3135m) of loans outstanding in the disaster zone.\"],[\"Tsunami 'to hit Sri Lanka banks'\",\"On one hand, banks are dealing with the death of their customers, along with damaged or destroyed collateral.\"],[\"Tsunami 'to hit Sri Lanka banks'\",\"On the other, most are extending cheap loans for rebuilding and recovery, as well as giving their clients more time to repay existing borrowing.\"],[\"Tsunami 'to hit Sri Lanka banks'\",\"The combination means a revenue shortfall during 2005, SLBA chairman - and Commercial Bank managing director - AL Gooneratne told a news conference.\"],[\"Tsunami 'to hit Sri Lanka banks'\",\"\\\"Most banks have given moratoriums and will not be collecting interest, at least in this quarter,\\\" he said.\"],[\"Tsunami 'to hit Sri Lanka banks'\",\"In the public sector, more than one in ten of the state-owned People's Bank's customers in the south of Sri Lanka were affected, a bank spokesman told Reuters.\"],[\"Tsunami 'to hit Sri Lanka banks'\",\"He estimated the bank's loss at 3bn rupees.\"],[\"Fresh hope after Argentine crisis\",\" Three years after Argentina was hit by a deadly economic crisis, there is fresh hope.\"],[\"Fresh hope after Argentine crisis\",\"The country's economy is set to grow about 8% this year after seeing 9% growth last year, a sharp turnaround from 2002 when output fell 11%.\"],[\"Fresh hope after Argentine crisis\",\"The unemployment rate is improving, too: It is set to slip below 13% by the end of the year, down from 20% in May 2002.\"],[\"Fresh hope after Argentine crisis\",\"True, problems remain, but the overall picture is one of vast improvement.\"],[\"Fresh hope after Argentine crisis\",\"Even the International Monetary Fund (IMF) admits this.\"],[\"Fresh hope after Argentine crisis\",\"\\\"The Argentine authorities are proud, should be proud, of the strong performance of the economy,\\\" Thomas Dawson, an IMF director, said earlier this month.\"],[\"Fresh hope after Argentine crisis\",\"Argentina has made a remarkable recovery from a hideous and lengthy recession which in 2001 culminated in the government halting debt repayments to its private creditors.\"],[\"Fresh hope after Argentine crisis\",\"The debt default sparked a deep and prolonged economic crisis which, at least initially, was made worse by the government's decisions.\"],[\"Fresh hope after Argentine crisis\",\"Pension payments were halted and bank accounts frozen as part of austerity measures introduced by the government to deal with the country's massive debts.\"],[\"Fresh hope after Argentine crisis\",\"In response, angry crowds of ordinary Argentines took to the streets where dozens of lives were lost in clashes with the police.\"],[\"Fresh hope after Argentine crisis\",\"Two presidents and at least three finance minister resigned in less than a month.\"],[\"Fresh hope after Argentine crisis\",\"Argentina was on the brink of collapse.\"],[\"Fresh hope after Argentine crisis\",\"The fix was found in the currency markets with the abandonment of the peso's decade-long peg to the US dollar in February 2002.\"],[\"Fresh hope after Argentine crisis\",\"The subsequent devaluation saw thousands of people's life savings disappear.\"],[\"Fresh hope after Argentine crisis\",\"Scathes of companies went bust.\"],[\"Fresh hope after Argentine crisis\",\"\\\"Three years ago, every sector [of the economy] was hit by the crisis,\\\" said entrepreneur Drayton Valentine.\"],[\"Fresh hope after Argentine crisis\",\"It really was dire.\"],[\"Fresh hope after Argentine crisis\",\"But since then, the general mood on the ground has improved dramatically, in part because the devaluation helped attract fresh direct investment from abroad and stimulate business within Brazil.\"],[\"Fresh hope after Argentine crisis\",\"\\\"Agriculture and tourism are helping,\\\" said entrepreneur Drayton Valentine.\"],[\"Fresh hope after Argentine crisis\",\"Mr Valentine, who was born in the United States but grew up in Argentina, was fortunate: At the time of the crisis, his savings were held in dollar accounts abroad.\"],[\"Fresh hope after Argentine crisis\",\"But now he is using his money to help with the start-up a trading company.\"],[\"Fresh hope after Argentine crisis\",\"He explained that initially, his firm is going to export building materials to Spain and United States.\"],[\"Fresh hope after Argentine crisis\",\"Then, he would like to diversify to other areas, depending on the market.\"],[\"Fresh hope after Argentine crisis\",\"\\\"Locally there is a sense of recovery, many companies are exporting now,\\\" he said, noting that a lot of firms, which were closed during the crisis, are re-opening.\"],[\"Fresh hope after Argentine crisis\",\"But not all that shines is gold.\"],[\"Fresh hope after Argentine crisis\",\"Argentina is still burdened by its failure to pay private creditors at the end of 2001.\"],[\"Fresh hope after Argentine crisis\",\"President Nestor Kirchner's administration is still trying to hammer out an agreement with the creditors, but with the debts' nominal value standing at around $100bn it is not proving easy.\"],[\"Fresh hope after Argentine crisis\",\"Debt defaults make further lending agreements both difficult and expensive to negotiate.\"],[\"Fresh hope after Argentine crisis\",\"Argentina's current offer implies that the creditors would get just 25 cents for each dollar they are owed, according to the creditors.\"],[\"Fresh hope after Argentine crisis\",\"Understandably, they want more and until they do, both they and others are loath to continue lending.\"],[\"Fresh hope after Argentine crisis\",\"For President Kirchner, this proves a hopeless challenge.\"],[\"Fresh hope after Argentine crisis\",\"Real losses have been suffered and somebody has to pay, observed Jack Boorman, adviser to IMF's managing director, Rodrigo Rato.\"],[\"Fresh hope after Argentine crisis\",\"\\\"Everyone needs to keep in mind the enormous cost on the part of both creditors and the Argentine society and people that will have been endured by the time a settlement is reached,\\\" he said.\"],[\"Fresh hope after Argentine crisis\",\"\\\"The cost is enormous, and continues to be paid, and will not be reversed by any restructuring.\\\"\"],[\"Fresh hope after Argentine crisis\",\"With the international negotiations being troubled, it is of little help to President Kirchner that the domestic situation remains strained as well.\"],[\"Fresh hope after Argentine crisis\",\"This is partly because there are still bank account holders who are waiting to recover some of their deposits.\"],[\"Fresh hope after Argentine crisis\",\"\\\"The situation is bad for those who had previously chosen to save in Argentina, \\\" said Carlos Baez Silva, president of AARA, an association that represents bank account and bond holders.\"],[\"Fresh hope after Argentine crisis\",\"Few people have recovered more than about half their savings, Mr Baez Silva estimated, pointing out that many of the savers who have lost out are pensioners or others who once trusted the government, people who set aside money for the future in the belief that their investment would be safe.\"],[\"Fresh hope after Argentine crisis\",\"\\\"A lot of them invested in good faith,\\\" he said.\"],[\"Fresh hope after Argentine crisis\",\"\\\"The Argentine state responded by taking most of their investments.\\\"\"],[\"Fresh hope after Argentine crisis\",\"The affair has made Mr Baez Silva disillusioned with the country's legal system.\"],[\"Fresh hope after Argentine crisis\",\"On occasion, the Supreme Court has ruled against the interests of the people he represents, he says, insisting that the system cannot be trusted.\"],[\"Fresh hope after Argentine crisis\",\"\\\"People have to deposit their money in the banks, not necessarily because they trust them but because crime is so high that people cannot have their money in their homes beneath their mattresses.\\\"\"],[\"Fresh hope after Argentine crisis\",\"Mr Valentine, who was born in the United States but grew up in Argentina, agreed.\"],[\"Fresh hope after Argentine crisis\",\"\\\"If I have to save pesos [the local currency] there is not much problem, but I will think twice before I deposit dollars in a bank\\\".\"],[\"UK interest rates held at 4.75%\",\" The Bank of England has left interest rates on hold again at 4.75%, in a widely-predicted move.\"],[\"UK interest rates held at 4.75%\",\"Rates went up five times from November 2003 - as the bank sought to cool the housing market and consumer debt - but have remained unchanged since August.\"],[\"UK interest rates held at 4.75%\",\"Recent data has indicated a slowdown in manufacturing and consumer spending, as well as in mortgage approvals.\"],[\"UK interest rates held at 4.75%\",\"And retail sales disappointed over Christmas, with analysts putting the drop down to less consumer confidence.\"],[\"UK interest rates held at 4.75%\",\"Rising interest rates and the accompanying slowdown in the housing market have knocked consumers' optimism, causing a sharp fall in demand for expensive goods, according to a report earlier this week from the British Retail Consortium.\"],[\"UK interest rates held at 4.75%\",\"The BRC said Britain's retailers had endured their worst Christmas in a decade.\"],[\"UK interest rates held at 4.75%\",\"\\\"Today's no change decision is correct,\\\" said David Frost, Director General of the British Chambers of Commerce (BCC).\"],[\"UK interest rates held at 4.75%\",\"\\\"But, if there are clear signs that the economy slows, the MPC should be ready to take quick corrective action and cut rates.\"],[\"UK interest rates held at 4.75%\",\"\\\"Dismal reports from the retail trade about Christmas sales are worrying, if they indicate a more general weakening in consumer spending.\\\"\"],[\"UK interest rates held at 4.75%\",\"Mr Frost added: \\\"The housing market outlook remains highly uncertain.\"],[\"UK interest rates held at 4.75%\",\"\\\"It is widely accepted that, if house prices start falling more sharply, the risks facing the economy will worsen considerably.\\\"\"],[\"UK interest rates held at 4.75%\",\"CBI chief economist Ian McCafferty said the economy had \\\"slowed in recent months in response to rate rises\\\" but that it was difficult to gauge from the Christmas period the likely pace of activity through the summer.\"],[\"UK interest rates held at 4.75%\",\"\\\"The Bank is having to juggle the emergence of inflationary pressures, driven by a tight labour market and buoyant commodity prices, against the risk of an over-abrupt slowdown in consumer activity,\\\" he said.\"],[\"UK interest rates held at 4.75%\",\"\\\"Interest rates are likely to remain on hold for some time.\\\"\"],[\"UK interest rates held at 4.75%\",\"On Thursday there was more gloomy news on the manufacturing front, as the Office for National (ONS) statistics revealed British manufacturing output unexpectedly fell in November - for the fifth month in the past six.\"],[\"UK interest rates held at 4.75%\",\"The ONS said manufacturing output dropped 0.1% in November, matching a similar unrevised fall in October and confounding economists' expectations of a 0.3% rise.\"],[\"UK interest rates held at 4.75%\",\"Manufacturers' organisation, the EEF, said it expected the hold in interest rates to continue in the near future.\"],[\"UK interest rates held at 4.75%\",\"It also said there was evidence that manufacturers' confidence may be waning as the outlook for the world economy becomes more uncertain.\"],[\"UK interest rates held at 4.75%\",\"\\\"So far the evidence suggests that last year's rate increases have helped to rebalance the economy without damaging the recovery in manufacturing,\\\" said EEF chief economist, Steve Radley.\"],[\"UK interest rates held at 4.75%\",\"\\\"However, should the business outlook start to deteriorate, the Bank should stand ready to cut rates.\\\"\"],[\"UK interest rates held at 4.75%\",\"Some economists have predicted rates will drop later in the year, although others feel the Bank may still think there is a need for a rise to 5% before that happens.\"],[\"UK interest rates held at 4.75%\",\"The Bank remains concerned about the long-term risks posed by personal debt - which is rising at 15% a year - if economic conditions worsen.\"],[\"Local net TV takes off in Austria\",\" An Austrian village is testing technology that could represent the future of television.\"],[\"Local net TV takes off in Austria\",\"The people of Engerwitzdorf are filming, editing and producing their own regional news channel.\"],[\"Local net TV takes off in Austria\",\"The channel covers local politics, sports, events and anything that residents want to film and are prepared to upload for others to watch on PCs.\"],[\"Local net TV takes off in Austria\",\"The pilot has been so successful that Telekom Austria is now considering setting up other projects elsewhere.\"],[\"Local net TV takes off in Austria\",\"\\\"It's growing unbelievably fast,\\\" said Rudolf Fischer, head of Telekom Austria's fixed line division.\"],[\"Local net TV takes off in Austria\",\"The trial of Buntes Fernsehen (Multi-Coloured TV) was started in late 2004 and creates a net-based TV station run by the 8,000 residents of Engerwitzdorf.\"],[\"Local net TV takes off in Austria\",\"The hardware and software to turn video footage into edited programmes has been provided by Telekom Austria but this equipment, following training, has been turned over to the villagers.\"],[\"Local net TV takes off in Austria\",\"Any video programme created by the villagers is uploaded to a Buntes Fernsehen portal that lets people browse and download what they want to watch.\"],[\"Local net TV takes off in Austria\",\"Most people watch the TV on their home PC and a broadband connection is needed to get broadcast quality programmes.\"],[\"Local net TV takes off in Austria\",\"In the first four months of the project villagers have created 60 films and put together regular reports on local news items.\"],[\"Local net TV takes off in Austria\",\"\\\"They have adopted it very quickly,\\\" said Mr Fischer.\"],[\"Local net TV takes off in Austria\",\"\\\"They like the possibility to create their own content and see what's going on in the area.\\\"\"],[\"Local net TV takes off in Austria\",\"\\\"It's kind of the democratisation of local TV,\\\" he said, \\\"because none of the bigger broadcasters would ever do anything like this for that region.\\\"\"],[\"Local net TV takes off in Austria\",\"The Buntes Fernsehen project has been such a success that Telekom Austria is now considering setting up other schemes in similarly rural areas.\"],[\"Local net TV takes off in Austria\",\"Mr Fischer said it was taking the roll-out to other areas slowly because of the work involved in setting up the scheme, getting backers from local government and educating people how to make programmes.\"],[\"Local net TV takes off in Austria\",\"The Engerwitzdorf scheme is an outgrowth of Telekom Austria's online TV channel Aon which lets people watch programmes on their PC.\"],[\"Local net TV takes off in Austria\",\"Aon streams a couple of live channels, plus sports, news and music programmes on to the net and has a pay-for-download section that lets people watch what they want when they want to watch it.\"],[\"Local net TV takes off in Austria\",\"In October a larger TV-on-demand project is due to launch in Vienna that will let people download many programmes from the net.\"],[\"Rich pickings for hi-tech thieves\",\" Viruses, trojans and other malicious programs sent on to the net to catch you out are undergoing a subtle change.\"],[\"Rich pickings for hi-tech thieves\",\"The shift is happening as tech savvy criminals turn to technology to help them con people out of cash, steal valuable data or take over home PCs.\"],[\"Rich pickings for hi-tech thieves\",\"Viruses written to make headlines by infecting millions are getting rarer.\"],[\"Rich pickings for hi-tech thieves\",\"Instead programs are now crafted for directly criminal ends and firms are tightening up networks with defences to combat the new wave of malicious code.\"],[\"Rich pickings for hi-tech thieves\",\"The growing criminal use of malware has meant the end of the neat categorisation of different sorts of viruses and malicious programs.\"],[\"Rich pickings for hi-tech thieves\",\"Before now it has been broadly possible to name and categorise viruses by the method they use to spread and how they infect machines.\"],[\"Rich pickings for hi-tech thieves\",\"But many of the viruses written by criminals roll lots of technical tricks together into one nasty package.\"],[\"Rich pickings for hi-tech thieves\",\"\\\"You cannot put them in to the neat little box that you used to,\\\" said Pete Simpson, head of the threat laboratory at security firm Clearswift.\"],[\"Rich pickings for hi-tech thieves\",\"Now viruses are just as likely to spread by themselves like worms, or to exploit loopholes in browsers or hide in e-mail message attachments.\"],[\"Rich pickings for hi-tech thieves\",\"\\\"It's about outright criminality now,\\\" said Mr Simpson, explaining why this change has come about.\"],[\"Rich pickings for hi-tech thieves\",\"He said many of the criminal programs came from Eastern Europe where cash-rich organised gangs can find a ready supply of technical experts that will crank out code to order.\"],[\"Rich pickings for hi-tech thieves\",\"Former virus writer Marek Strihavka, aka Benny from the 29A virus writing group, recently quit the malware scene partly because it was being taken over by spyware writers, phishing gangs, and spammers who are more interested in money rather than the technology.\"],[\"Rich pickings for hi-tech thieves\",\"No longer do virus writers produce programs to show off their technical prowess to rivals in the underground world of malware authors.\"],[\"Rich pickings for hi-tech thieves\",\"Not least, said Paul King, principal security consultant at Cisco, because the defences against such attacks are so common.\"],[\"Rich pickings for hi-tech thieves\",\"\\\"In many ways the least likely way to do it is e-mail because most of us have got anti-virus and firewalls now,\\\" he said.\"],[\"Rich pickings for hi-tech thieves\",\"Few of the malicious programs written by hi-tech thieves are cleverly written, many are much more pragmatic and use tried and tested techniques to infect machines or to trick users into installing a program or handing over important data.\"],[\"Rich pickings for hi-tech thieves\",\"\\\"If you think of criminals they do not do clever,\\\" said Mr King, \\\"they just do what works.\\\"\"],[\"Rich pickings for hi-tech thieves\",\"As the tactics used by malicious programs change, said Mr King, so many firms were changing the way they defend themselves.\"],[\"Rich pickings for hi-tech thieves\",\"Now many scan machines that connect to the corporate networks to ensure they have not been compromised while off the core network.\"],[\"Rich pickings for hi-tech thieves\",\"Many will not let a machine connect and a worker get on with their job before the latest patches and settings have been uploaded.\"],[\"Rich pickings for hi-tech thieves\",\"As well as using different tactics, criminals also use technology for reasons that are much more transparent.\"],[\"Rich pickings for hi-tech thieves\",\"\\\"The main motivation now is money,\\\" said Gary Stowell, spokesman for St Bernard software.\"],[\"Rich pickings for hi-tech thieves\",\"Mr Stowell said organised crime gangs were turning to computer crime because the risks of being caught were low and the rates of return were very high.\"],[\"Rich pickings for hi-tech thieves\",\"With almost any phishing or spyware attack, criminals are guaranteed to catch some people out and have the contacts to exploit what they recover.\"],[\"Rich pickings for hi-tech thieves\",\"So-called spyware was proving very popular with criminals because it allowed them to take over machines for their own ends, to steal key data from users or to hijack web browsing sessions to point people at particular sites.\"],[\"Rich pickings for hi-tech thieves\",\"In some cases spyware was being written that searched for rival malicious programs on PCs it infects and then trying to erase them so it has sole ownership of that machine.\"],[\"Apple iPod family expands market\",\" Apple has expanded its iPod family with the release of its next generation of the digital music players.\"],[\"Apple iPod family expands market\",\"Its latest challenges to the growing digital music gadget market include an iPod mini model which can hold 6GB compared to a previous 4GB.\"],[\"Apple iPod family expands market\",\"The company, which hopes to keep its dominant place in the digital music market, also said the gold coloured version of the mini would be dropped.\"],[\"Apple iPod family expands market\",\"A 30GB version has also been added to the iPod Photo family.\"],[\"Apple iPod family expands market\",\"The latest models have a longer battery life and their prices have been cut by an average of \\u00a340.\"],[\"Apple iPod family expands market\",\"The original iPod took an early lead in the digital music player market thanks to its large storage capacity and simple design.\"],[\"Apple iPod family expands market\",\"During 2004 about 25 million portable players were sold, 10 million of which were Apple iPods.\"],[\"Apple iPod family expands market\",\"But analysts agree that the success is also down to its integration with the iTunes online store, which has given the company a 70% share of the legal download music market.\"],[\"Apple iPod family expands market\",\"Mike McGuire, a research director at analyst Gartner, told the BBC News website that Apple had done a good job in \\\"sealing off the market from competition\\\" so far.\"],[\"Apple iPod family expands market\",\"\\\"They have created a very seamless package which I think is the idea of the product - the design, function and the software are very impressive,\\\" he said.\"],[\"Apple iPod family expands market\",\"He added that the threat from others was always present, however.\"],[\"Apple iPod family expands market\",\"\\\"Creative, other Microsoft-partnered devices, Real, Sony and so on, are ratcheting up the marketing message and advertising,\\\" he said.\"],[\"Apple iPod family expands market\",\"Creative was very upbeat about how many of its Creative Zen players it had shipped by the end of last year, he said.\"],[\"Apple iPod family expands market\",\"Its second-generation models, like the Creative Zen Micro Photo, is due out in the summer.\"],[\"Apple iPod family expands market\",\"It will have 5GB of memory on board.\"],[\"Apple iPod family expands market\",\"Digital music players are now the gadget of choice among young Americans, according to recent research by the Pew Internet and American Life Project.\"],[\"Apple iPod family expands market\",\"One in 10 US adults - 22 million people - now owns a digital music player of some sort.\"],[\"Apple iPod family expands market\",\"Sales of legally downloaded songs also rose more than tenfold in 2004, according to the record industry, with 200 million tracks bought online in the US and Europe in 12 months.\"],[\"Apple iPod family expands market\",\"The IFPI industry body said that the popularity of portable music players was behind the growth.\"],[\"Apple iPod family expands market\",\"Analysts say that the ease of use and growth of music services available on the net will continue to drive the trend towards portable music players.\"],[\"Apple iPod family expands market\",\"People are also starting to use them in novel ways.\"],[\"Apple iPod family expands market\",\"Some are combining automatic syncing functions many of them have with other net functions to automatically distribute DIY radio shows, called podcasts.\"],[\"Apple iPod family expands market\",\"But 2005 will also see more competition from mobile phone operators who are keen to offer streaming services on much more powerful and sophisticated handsets.\"],[\"Apple iPod family expands market\",\"According to Mr McGuire, research suggests that people like the idea of building up huge libraries of music, which they can do with high-capacity storage devices, like iPods and Creative Zens.\"],[\"Apple iPod family expands market\",\"Mobiles do not yet have this capacity though, and there are issues about the ease of portability of mobile music.\"],[\"Apple iPod family expands market\",\"Mr McGuire said Apple was ensuring it kept a foot in the mobile music door with its recent deal with Motorola to produce a version of iTunes for Motorola phones.\"],[\"Iran jails blogger for 14 years\",\" An Iranian weblogger has been jailed for 14 years on charges of spying and aiding foreign counter-revolutionaries.\"],[\"Iran jails blogger for 14 years\",\"Arash Sigarchi was arrested last month after using his blog to criticise the arrest of other online journalists.\"],[\"Iran jails blogger for 14 years\",\"Mr Sigarchi, who also edits a newspaper in northern Iran, was sentenced by a revolutionary court in the Gilan area.\"],[\"Iran jails blogger for 14 years\",\"His sentence, criticised by human rights watchdog Reporters Without Borders, comes a day after an online \\\"day of action\\\" to secure his release.\"],[\"Iran jails blogger for 14 years\",\"Iranian authorities have recently clamped down on the growing popularity of weblogs, restricting access to major blogging sites from within Iran.\"],[\"Iran jails blogger for 14 years\",\"A second Iranian blogger, Motjaba Saminejad, who also used his website to report on bloggers' arrests, is still being held.\"],[\"Iran jails blogger for 14 years\",\"A spokesman for Reporters Without Borders, which tracks press freedom across the globe, described Mr Sigarchi's sentence as \\\"harsh\\\" and called on Iranian President Mohammed Khatami to work to secure his immediate release.\"],[\"Iran jails blogger for 14 years\",\"\\\"The authorities are trying to make an example of him,\\\" the organisation said in a statement.\"],[\"Iran jails blogger for 14 years\",\"\\\"By handing down this harsh sentence against a weblogger, their aim is to dissuade journalists and internet-users from expressing themselves online or contacting foreign media.\\\"\"],[\"Iran jails blogger for 14 years\",\"In the days before his arrest Mr Sigarchi gave interviews to the BBC Persian Service and the US-funded Radio Farda.\"],[\"Iran jails blogger for 14 years\",\"Iranian authorities have arrested about 20 online journalists during the current crackdown.\"],[\"Iran jails blogger for 14 years\",\"They accused Mr Sigarchi of a string of crimes against Iranian state, including espionage, insulting the founder of Iran's Islamic Republic, Ayatollah Ruhollah Khomenei, and current Supreme Leader Ayatollah Ali Khamenei.\"],[\"Iran jails blogger for 14 years\",\"Mr Sigarchi's lawyer labelled the revolutionary court \\\"illegal and incompetent\\\" and called for a retrial in a public court.\"],[\"Iran jails blogger for 14 years\",\"Mr Sigarchi was sentenced one day after an online campaign highlighted his case in a day of action in defence of bloggers around the world.\"],[\"Iran jails blogger for 14 years\",\"The Committee to Protect Bloggers designated 22 February 2005 as Free Mojtaba and Arash Day.\"],[\"Iran jails blogger for 14 years\",\"Around 10,000 people visited the campaign's website during the day.\"],[\"Iran jails blogger for 14 years\",\"About 12% of users were based in Iran, the campaign's director told the BBC News website.\"],[\"Iran jails blogger for 14 years\",\"Curt Hopkins said Mr Sigarchi's sentence would not dent the resolve of bloggers joining the campaign to help highlight the case.\"],[\"Iran jails blogger for 14 years\",\"\\\"The eyes of 8 million bloggers are going to be more focused on Iran since Sigarchi's sentence, not less.\"],[\"Iran jails blogger for 14 years\",\"\\\"The mullahs won't be able to make a move without it be spread across the blogosphere.\\\"\"],[\"Yahoo moves into desktop search\",\" Internet giant Yahoo has launched software to allow people to search e-mail and other files on their PCs.\"],[\"Yahoo moves into desktop search\",\"The firm is following in the footsteps of Microsoft, Google and Ask Jeeves, which have offered similar services.\"],[\"Yahoo moves into desktop search\",\"Search has become a lucrative and hotly-contested area of expansion for net firms, looking to extend loyalty beyond the web.\"],[\"Yahoo moves into desktop search\",\"With hard drives providing bigger storage, users could need more help to locate important files, such as photos.\"],[\"Yahoo moves into desktop search\",\"The desktop search technology has been licensed from a US-based firm X1 Technologies.\"],[\"Yahoo moves into desktop search\",\"It is designed to work alongside Microsoft's Outlook and Outlook Express e-mail programs.\"],[\"Yahoo moves into desktop search\",\"Searching e-mail effectively is becoming increasingly important, especially as the amount of spam increases.\"],[\"Yahoo moves into desktop search\",\"According to research from message analysts the Radicati Group, up to 45% of businesses' critical information is stored in e-mail and attachments.\"],[\"Yahoo moves into desktop search\",\"Yahoo's software can also work separately on the desktop, searching for music, photos and other files.\"],[\"Yahoo moves into desktop search\",\"Users can search under a variety of criteria, including file name, size, date and time.\"],[\"Yahoo moves into desktop search\",\"It doesn't yet incorporate web searching, although Yahoo has promised that future versions will allow users to search both web-based and desktop data.\"],[\"Yahoo moves into desktop search\",\"\\\"We are all getting more and more files on our desktop but the real commercial opportunity lies with linking this through to web content,\\\" said Julian Smith, an analyst with research firm Jupiter.\"],[\"Yahoo moves into desktop search\",\"\\\"It is all about extending the idea of search and getting a closer relationship with consumers by organising not just how they search on the internet but the files on your computer as well,\\\" he said.\"],[\"Yahoo moves into desktop search\",\"Search engines are often the first port of call for users when they go onto the web.\"],[\"Yahoo moves into desktop search\",\"The new foray into desktop search has rung alarm bells for human rights groups, concerned about the implications to privacy.\"],[\"Yahoo moves into desktop search\",\"And not everyone is impressed with the functionality of such services.\"],[\"Yahoo moves into desktop search\",\"Alexander Linden, vice president of emerging technologies at analyst firm Gartner,downloaded the Google product but has since removed it.\"],[\"Yahoo moves into desktop search\",\"\\\"It was just not very interesting,\\\" he said.\"],[\"Yahoo moves into desktop search\",\"He believes the rush to enter the desktop business is just a way of keeping up with rivals.\"],[\"Yahoo moves into desktop search\",\"\\\"Desktop search is just one of many features people would like but I'm suspicious of its usefulness,\\\" he said.\"],[\"Yahoo moves into desktop search\",\"More useful would be tools that can combine internet, intranet and desktop search alongside improvements to key word searching, he said.\"],[\"More women turn to net security\",\" Older people and women are increasingly taking charge of protecting home computers against malicious net attacks, according to a two-year study.\"],[\"More women turn to net security\",\"The number of women buying programs to protect PCs from virus, spam and spyware attacks rose by 11.2% each year between 2002 and 2004.\"],[\"More women turn to net security\",\"The study, for net security firm Preventon, shows that security messages are reaching a diversity of surfers.\"],[\"More women turn to net security\",\"It is thought that 40% of those buying home net security programs are retired.\"],[\"More women turn to net security\",\"For the last three years, that has gone up by an average of 13.2%.\"],[\"More women turn to net security\",\"But more retired women (53%) were buying security software than retired men.\"],[\"More women turn to net security\",\"The research reflects the changing stereotype and demographics of web users, as well as growing awareness of the greater risks that high-speed broadband net connections can pose to surfers.\"],[\"More women turn to net security\",\"The study predicts that 40% of all home PC net security buyers will be women in 2005.\"],[\"More women turn to net security\",\"They could even overtake men as the main buyers by 2007, if current rates persist, according to the research.\"],[\"More women turn to net security\",\"\\\"I think older people have become more vigilant about protecting their PCs as we tend to be more cautious and want an insurance policy in case something does go wrong\\\", said one over-60 woman who took part in the research.\"],[\"More women turn to net security\",\"\\\"You started off with young male stereotype computer users for last 10 years,\\\" Paul Goosens, head of Preventon told the BBC News website.\"],[\"More women turn to net security\",\"\\\"Now we are seeing real people - both sexes and very often it is women who have more access at home.\\\"\"],[\"More women turn to net security\",\"But net service providers still need to take more responsibility in making sure people are educated about net threats before they go online, particuarly if they are new to broadband, he said.\"],[\"More women turn to net security\",\"Programs also need to be tailored so that they can be installed by dial-up users with a slower connection too, said Mr Goosens.\"],[\"More women turn to net security\",\"Security software should be easy to use, with simple interfaces and instructions written in non-technical language, he added.\"],[\"More women turn to net security\",\"The nature of the security threats are also becoming more than just about e-mail viruses.\"],[\"More women turn to net security\",\"High-profile complaints about rogue diallers, and spyware or other programs that surreptitiously install themselves on computers, have also raised awareness about the need to have a combination of anti-virus, firewall and spyware-removal programs too.\"],[\"More women turn to net security\",\"Without protection, these kinds of programs can be picked up just through surfing the web normally.\"],[\"More women turn to net security\",\"More than 30,000 PCs a day globally are being recruited into networks that spread spam and viruses, a study from security from Symantec showed last year.\"],[\"More women turn to net security\",\"Viruses written to make headlines by infecting millions are also getting rarer, according to net security experts.\"],[\"More women turn to net security\",\"Programs are being unleashed to directly profit criminal gangs, many based in Eastern Europe, over those which are designed to show off technical skills or cause nuisance.\"],[\"More women turn to net security\",\"The research shows that more people are taking these criminal net threats more seriously because, said Mr Goosens, they are reported in the press much more.\"],[\"More women turn to net security\",\"\\\"You are seeing older users being educated by the media and are seeing them picking up on this threat.\"],[\"More women turn to net security\",\"They are asking the right questions,\\\" he explained.\"],[\"More women turn to net security\",\"\\\"It is more likely the younger users who naively assume that because they are using a reputable service provider, that they are safe to connect to the net.\\\"\"],[\"More women turn to net security\",\"An unprotected computer on a broadband connection can be breached and infected with viruses or spyware within minutes.\"],[\"More women turn to net security\",\"By the end of the year it is thought that more than 30% of UK homes will have broadband net access.\"],[\"More women turn to net security\",\"In July last year, the number of UK households accessing the net via broadband surpassed those using dial-up for the first time, according to the Office of National Statistics.\"],[\"Global digital divide 'narrowing'\",\" The \\\"digital divide\\\" between rich and poor nations is narrowing fast, according to a World Bank report.\"],[\"Global digital divide 'narrowing'\",\"The World Bank questioned a United Nation's campaign to increase usage and access to technology in poorer nations.\"],[\"Global digital divide 'narrowing'\",\"\\\"People in the developing world are getting more access at an incredible rate - far faster than... in the past,\\\" said the report.\"],[\"Global digital divide 'narrowing'\",\"But a spokesman for the UN's World Summit on the Information Society said the digital divide remained very real.\"],[\"Global digital divide 'narrowing'\",\"\\\"The digital divide is rapidly closing,\\\" the World Bank report said.\"],[\"Global digital divide 'narrowing'\",\"Half the world's population now has access to a fixed-line telephone, the report said, and 77% to a mobile network.\"],[\"Global digital divide 'narrowing'\",\"The report's figures surpass a WSIS campaign goal that calls for 50% access to telephones by 2015.\"],[\"Global digital divide 'narrowing'\",\"The UN hopes that widening access to technology such as mobile phones and the net will help eradicate poverty.\"],[\"Global digital divide 'narrowing'\",\"\\\"Developing countries are catching up with the rich world in terms of access [to mobile networks],\\\" the report said.\"],[\"Global digital divide 'narrowing'\",\"\\\"Africa is part of a worldwide trend of rapid rollout... this applies to countries rich and poor, reformed or not, African, Asian, European and Latin American.\\\"\"],[\"Global digital divide 'narrowing'\",\"A spokesman for the World Summit for the Information Society (WSIS), which is meeting this week in Geneva, told the BBC News website: \\\"The digital divide is very much real and needs to be addressed.\"],[\"Global digital divide 'narrowing'\",\"\\\"Some financing has to be found to help narrow the divide.\\\"\"],[\"Global digital divide 'narrowing'\",\"On Tuesday, a meeting of the WSIS in Geneva agreed to the creation of a Digital Solitary Fund.\"],[\"Global digital divide 'narrowing'\",\"\\\"The fund is voluntary and will help finance local community-based projects,\\\" said the WSIS spokesman.\"],[\"Global digital divide 'narrowing'\",\"Under the proposals agreed, voluntary contribution of 1% on contracts obtained by private technology service providers could be made to the Digital Solidarity Fund.\"],[\"Global digital divide 'narrowing'\",\"The exact financing mechanism of the fund is to be ironed out in the coming days, said the WSIS.\"],[\"Global digital divide 'narrowing'\",\"Sixty percent of resources collected by the fund will be made available for projects in least developed countries, 30% for projects in developing countries, and 10% for projects in developed countries.\"],[\"Mobiles get set for visual radio\",\" The growth in the mobile phone market in the past decade has been nothing less than astonishing, but the ability to communicate on the go is not the only reason we are hooked.\"],[\"Mobiles get set for visual radio\",\"Games, cameras and music players have all been added to our handsets in the last few years, but 2005 could see another big innovation that won't just see a change in our mobile phone habits - it might alter the way we listen to the radio.\"],[\"Mobiles get set for visual radio\",\"Finnish handset giant Nokia has been working on a technology called Visual Radio, which takes an existing FM signal from a radio station and enables that station to add enhancements such as information and pictures.\"],[\"Mobiles get set for visual radio\",\"It is not the first time that such an idea has been suggested - the early days of DAB Digital Radio had similar intentions that never really saw the light of day.\"],[\"Mobiles get set for visual radio\",\"One problem is that the name Visual Radio leads people to think of television but Reidar Wasenius, a senior project manager at Nokia, was adamant that Visual Radio should not be confused with the more traditional medium.\"],[\"Mobiles get set for visual radio\",\"He said: \\\"I'm very happy to say it's not television, what we're talking about is an enhancement of radio as we know it today.\"],[\"Mobiles get set for visual radio\",\"\\\"If you have a Visual Radio enabled handset, when you hear an artist you don't know, or there's a competition or vote that you'd like to participate in, you pull out your handset and with one click you turn on a visual channel parallel to the on-air broadcast you've just been listening to.\\\"\"],[\"Mobiles get set for visual radio\",\"That visual channel is run from a computer within the radio station, and sends out different kinds of information to the handset depending on what you are listening to.\"],[\"Mobiles get set for visual radio\",\"As well as details on the track or artist of a particular song, there is also the ability to interact immediately with the radio station itself, in a similar way to digital television's \\\"red button\\\" content.\"],[\"Mobiles get set for visual radio\",\"Possible interactive content includes competitions, votes and even the chance to rate the song that is playing.\"],[\"Mobiles get set for visual radio\",\"But the interactive aspect will make the service especially attractive to radio stations, who will be able to track the number of people taking part in such activities on a real-time basis.\"],[\"Mobiles get set for visual radio\",\"This in turn should lead to an additional source of revenue, as it is very likely that advertisers will be keen to exploit new opportunities to reach listeners.\"],[\"Mobiles get set for visual radio\",\"As the Visual Radio content is transmitted by existing GPRS technology you would need to have that service enabled by your network.\"],[\"Mobiles get set for visual radio\",\"And there will be a cost for the service as well, although it may depend on your usage.\"],[\"Mobiles get set for visual radio\",\"\\\"If you enjoy the visual channel occasionally and interact it'll be two or three pounds per month,\\\" said Mr Wasenius.\"],[\"Mobiles get set for visual radio\",\"\\\"But typically what we see happening is the operator offering a package deal for an 'all you can eat' arrangement per month.\\\"\"],[\"Mobiles get set for visual radio\",\"The payment system could therefore be similar to the way that broadband internet works versus dial-up connections.\"],[\"Mobiles get set for visual radio\",\"One thing that is for sure - assuming that Nokia retains its market share in handsets, it is estimating that there will be 100 million Visual Radio-enabled mobile phones in circulation by the end of 2006.\"],[\"Mobiles get set for visual radio\",\"\\\"Basically, Visual Radio is not really revolutionary, but rather an evolution where we are providing tools with which people can participate in radio much more easily than ever before.\\\"\"],[\"Mobiles get set for visual radio\",\"The first Visual Radio service in the UK will begin in a few months time with Virgin Radio, who are positive about the impact it could have on their listeners.\"],[\"Mobiles get set for visual radio\",\"Station manager Steve Taylor commented: \\\"Listeners can interact with the radio station in a new way.\"],[\"Mobiles get set for visual radio\",\"\\\"Not only does this give listeners more information on the music we play but means they can instantly purchase things they like; mp3 music downloads and the latest gig tickets.\\\"\"],[\"Mobiles get set for visual radio\",\"Initially Visual Radio functionality will be limited to two Nokia handsets due out soon - the 3230 and 7710 - but if successful, it is very likely that other manufacturers will want to join them.\"],[\"Mobiles get set for visual radio\",\"Listen again to the interview on the Radio Five Live website.\"],[\"Cable offers video-on-demand\",\" Cable firms NTL and Telewest have both launched video-on-demand services as the battle between satellite and cable TV heats up.\"],[\"Cable offers video-on-demand\",\"Movies from Sony Pictures, Walt Disney, Touchstone, Miramax, Columbia and Buena Vista will be among those on offer.\"],[\"Cable offers video-on-demand\",\"The service is similar to Sky Plus, as users can pause, fast forward and rewind content, but they cannot store programmes on their set top box - yet.\"],[\"Cable offers video-on-demand\",\"It could sound the death knell for some TV channels, Telewest predicts.\"],[\"Cable offers video-on-demand\",\"\\\"It allows us to demonstrate a clear competitive advantage over Sky for the first time in many years,\\\" said Telewest chief executive Eric Tveter.\"],[\"Cable offers video-on-demand\",\"\\\"Video-on-demand will offer a deeper range of content than currently exists on TV.\"],[\"Cable offers video-on-demand\",\"There will be less compromising around the TV schedule and some of the less popular channels may go by the wayside,\\\" said Philip Snalune, director of products at Telewest.\"],[\"Cable offers video-on-demand\",\"Telewest customers in Bristol and NTL viewers in Glasgow will be the first to test the new service, which sees a raft of movies on offer for 24 hour rental.\"],[\"Cable offers video-on-demand\",\"During the year, the service will be extended to all cable regions.\"],[\"Cable offers video-on-demand\",\"Films will range in price from \\u00a31 or \\u00a32 for archived movies to \\u00a33.50 for current releases.\"],[\"Cable offers video-on-demand\",\"New releases initially on offer will include 50 First dates, Kill Bill: Volume 2, Gothika and The Station Agent.\"],[\"Cable offers video-on-demand\",\"In addition, NTL is offering children's programmes, adult content, music video and concerts.\"],[\"Cable offers video-on-demand\",\"Telewest will launch similar services later in the year.\"],[\"Cable offers video-on-demand\",\"NTL is also offering viewers the chance to catch up with programmes they have missed.\"],[\"Cable offers video-on-demand\",\"Its pick of the week service will offer a selection of BBC programmes from the previous seven days such as Eastenders, Casualty, Top Gear and Antiques Roadshow.\"],[\"Cable offers video-on-demand\",\"The BBC is trialling a similar service, offering broadband users the chance to watch programmes already broadcast on their PC.\"],[\"Cable offers video-on-demand\",\"For Telewest it is the beginning of a \\u00a320m investment in TV-on-demand which will also see the launch of a personal video recorder (PVR).\"],[\"Cable offers video-on-demand\",\"PVR has been a big success for Sky because it gives customers control over programmes.\"],[\"Cable offers video-on-demand\",\"Satellite customers without PVR cannot pause, rewind or fast forward their programmes.\"],[\"Cable offers video-on-demand\",\"With both services on offer from Telewest, Mr Tveter is confident the cable firm can dent not just the viewing figures for terrestrial TV but also gain a huge competitive advantage over Sky.\"],[\"Cable offers video-on-demand\",\"\\\"We offer the best of both worlds and most households have an interest in having both video-on-demand and PVR,\\\" he said.\"],[\"Cable offers video-on-demand\",\"Video rental stores may also have to watch their back.\"],[\"Cable offers video-on-demand\",\"\\\"Video-on-demand is better than having a video-store in your living room and is more convenient,\\\" he said.\"],[\"Cable offers video-on-demand\",\"NTL said it had not ruled out the possibility of offering a PVR but for the moment is concentrating on video-on-demand.\"],[\"Cable offers video-on-demand\",\"\\\"PVR is a recording mechanism whereas what we are offering is truly on demand,\\\" said a spokesman for the company.\"],[\"Cable offers video-on-demand\",\"Video-on-demand has the added advantage of not requiring a separate set-top box or extra remote controls, he added.\"],[\"Cable offers video-on-demand\",\"Adam Thomas, an analyst at research firm Informa Media believes the time is ripe for video-on-demand to flourish.\"],[\"Cable offers video-on-demand\",\"\\\"While Sky will remain the dominant force in UK pay TV for some time to come, NTL and Telewest seem well placed to successfully ride this second wave of VOD enthusiasm and, if marketed correctly, this could help them eat into Sky's lead,\\\" he said.\"],[\"Game makers get Xbox 2 sneak peek\",\" Microsoft has given game makers a glimpse of the new Xbox 2 console.\"],[\"Game makers get Xbox 2 sneak peek\",\"Some details of the Xbox's performance and what gaming will be like with the device were given at the annual Game Developers Conference in the US.\"],[\"Game makers get Xbox 2 sneak peek\",\"Xbox frontman J. Allard said the console looked set to be capable of one trillion calculations per second.\"],[\"Game makers get Xbox 2 sneak peek\",\"Also all titles for the new Xbox will have the same interface to make it easy to play online and buy extras for characters or other add-ons for games.\"],[\"Game makers get Xbox 2 sneak peek\",\"Microsoft is saving the official unveiling of the Xbox 2, codenamed Xenon, for the E3 show in May and the device could be on shop shelves by November.\"],[\"Game makers get Xbox 2 sneak peek\",\"However, during his keynote speech at GDC Mr Allard, who heads development of game-making tools for the console, gave a glimpse into how some of its core software will work.\"],[\"Game makers get Xbox 2 sneak peek\",\"He said gaming was entering a \\\"high-definition\\\" era that demanded detailed and convincing graphics that could adequately compete with the HDTV people were starting to watch as well as the HD DVDs that will soon start to appear.\"],[\"Game makers get Xbox 2 sneak peek\",\"Industry watchers took this to mean that the Xbox 2 will push for HDTV quality graphics as standard as well as multi-channel audio to give gamers an authentic experience.\"],[\"Game makers get Xbox 2 sneak peek\",\"Mr Allard said Microsoft had to work hard to ensure that it was easy for game makers to produce titles for the Xbox 2 and for players to get playing.\"],[\"Game makers get Xbox 2 sneak peek\",\"To this end Microsoft was building in to Xbox hardware systems to support headset chat, buddy list controls and custom soundtracks so developers were free to concentrate on the games.\"],[\"Game makers get Xbox 2 sneak peek\",\"The Xbox would also support well-known industry specifications, such as DirectX, to make it simple for game studios to make titles for the console.\"],[\"Game makers get Xbox 2 sneak peek\",\"For gamers this emphasis on ease of use would mean every Xbox title uses the same interface to set up online play and get at music stored on the hardware.\"],[\"Game makers get Xbox 2 sneak peek\",\"This interface will hold details of a player's statistics and skill level on a \\\"gamer card\\\" as well as give access to a store where people can spend small amounts of cash to buy extras for their avatars or add-ons, such as new maps or vehicles, for games they possess.\"],[\"Game makers get Xbox 2 sneak peek\",\"This ability to personalise games and in-game characters would be key in the future, said Mr Allard.\"],[\"Game makers get Xbox 2 sneak peek\",\"Only with such consistency would the Xbox be able to support the 10-20 million subscribers that it was aiming for, said Mr Allard.\"],[\"Game makers get Xbox 2 sneak peek\",\"During his speech Mr Allard took several swipes at the Playstation and said processors for consoles had to be made with developers, not just engineers, in mind.\"],[\"Game makers get Xbox 2 sneak peek\",\"\\\"Our approach is Bruce Lee, not brute force,\\\" he said.\"]],\"hovertemplate\":\"Number of Tokens in Sentence=%{y}<br>title=%{customdata[0]}<br>sentences=%{customdata[1]}<extra></extra>\",\"legendgroup\":\"\",\"marker\":{\"color\":\"#636efa\"},\"name\":\"\",\"notched\":false,\"offsetgroup\":\"\",\"orientation\":\"v\",\"showlegend\":false,\"x0\":\" \",\"xaxis\":\"x\",\"y\":[18,31,22,6,23,36,30,19,14,26,14,21,8,17,25,32,16,23,18,18,34,15,23,43,9,14,40,15,21,25,9,33,31,17,33,22,13,24,38,10,39,20,23,13,24,21,26,19,21,19,18,26,18,53,31,25,29,30,16,27,12,37,20,19,22,14,29,42,28,25,38,28,32,28,18,24,37,26,31,32,14,19,31,30,26,30,19,53,17,21,27,27,18,17,26,10,7,15,12,38,14,19,16,32,24,24,48,11,5,13,24,22,22,26,29,37,31,31,25,25,17,18,37,20,28,38,27,19,23,13,25,9,9,14,8,8,12,33,22,29,22,20,20,15,27,22,19,11,36,43,19,24,29,23,19,26,20,12,5,11,24,17,14,26,19,25,45,31,28,19,11,16,26,22,25,18,20,22,31,29,9,22,16,24,23,43,23,28,19,21,16,24,15,30,26,31,23,22,25,24,20,39,18,17,34,28,27,22,23,26,21,45,33,33,41,13,29,28,14,24,29,18,41,36,43,37,39,10,31,16,20,18,48,19,35,55,40,63,10,36,25,18,8,12,18,16,24,25,48,17,25,34,39,23,29,23,29,23,24,32,15,30,23,26,131,26,67,33,25,25,20,24,17,23,29,53,26,37,46,19,16,28,37,4,30,30,18,31,23,35,15,31,19,30,47,34,28,37,29,29,28,18,28,28,30,24,15,44,36,29,33,49,11,39,29,27,24,16,22,20,13,11,10,30,27,19,21,36,26,16,24,11,21,30,29,22,13,35,8,13,33,11,28,14,25,40,22,36,24,27,28,26,38,24,9,19,25,24,22,26,23,26,37,30,40,8,19,36,17,55,54,21,33,29,17,30,33,41,27,17,16,28,27,18,17,25,6,18,22,20,22,28,11,30,24,24,8,11,15,17,34,29,25,18,33,29,10,25,21,26,32,31,23,22,35,20,25,16,23,41,20,43,18,45,32,33,29,32,13,8,42,17,29,25,16,17,26,37,30,29,39,38,36,34,35,32,17,25,26,34,34,35,31,26,33,36,29,32,17,24,35,25,28,26,32,25,28,22,28,24,19,12,21,25,28,10,12,18,26,27,27,26,18,19,33,10,38,13,26,30,20,11,15,15,21,8,32,31,35,29,38,32,12,23,47,36,26,39,20,31,29,16,17,24,27,23,28,22,10,37,42,36,42,19,45,21,28,31,10,18,35,21,35,28,22,34,22,18,18,26,21,31,27,17,32,27,19,13,29,19,25,22,24,25,23,37,20,7,17,43,27,30,16,24,31,53,29,38,49,19,67,23,20,23,30,35,20,16,25,29,15,19,21,37,19,19,31,19,21,21,21,30,25,37,31,19,30,23,33,28,14,21,23,27,24,32,24,23,24,42,25,14,21,21,9,12,29,8,19,41,27,31,28,19,20,37,17,20,15,14,15,32,28,23,31,11,20,28,3,49,62,16,23,34,27,25,32,17,42,33,23,21,18,26,12,34,45,30,42,22,18,11,65,30,13,16,25,28,21,20,24,21,33,32,13,15,12,30,36,14,13,20,7,11,21,25,22,20,30,27,21,34,18,16,8,20,28,25,32,51,37,53,25,20,23,23,28,29,34,36,37,33,46,19,32,37,33,36,33,21,23,31,24,15,23,15,20,47,8,18,36,22,39,36,15,21,23,19,17,29,18,41,25,18,25,15,19,29,35,25,18,24,28,38,34,22,26,13,14,34,16,27,31,9,23,30,25,39,21,44,30,35,38,45,33,27,20,35,14,32,30,37,30,51,42,32,20,25,29,37,33,19,30,29,22,21,19,36,11,30,40,31,27,8,41,35,26,28,24,25,40,20,27,23,32,52,38,17,29,31,25,28,41,29,23,34,35,32,19,10,42,24,17,19,13,15,19,28,32,14,31,21,27,30,25,37,14,17,34,31,15,12,33,29,26,29,25,15,8,29,15,8,25,5,34,14,35,18,19,17,39,9,18,39,14,26,22,12,29,39,22,26,20,38,58,14,13,20,28,38,18,33,24,29,21,18,41,17,28,30,27,13,26,44,46,14,41,40,23,25,38,23,34,30,14,19,29,20,29,40,34,30,21,23,13,22,35,29,39,31,43,27,23,31,15,26,27,28,19,33,31,23,33,57,24,23,34,47,25,24,23,25,19,21,30,28,45,35,19,28,29,14,21,23,19,34,36,34,13,31,25,20,10,27,20,35,18,27,11,27,27,39,24,31,22,23,27,29,26,31,44,20,37,26,14,54,31,29,21,15,21,27,27,24,21,22,25,21,17,18,19,31,21,19,29,38,40,18,24,12,25,12,19,26,25,25,31,22,16,19,16,35,20,23,48,31,24,38,28,23,18,52,18,33,22,31,30,21,11,34,23,23,35,21,21,30,22,15,28,24,21,25,37,43,14,21,22,27,23,36,35,52,39,34,43,34,71,32,43,19,36,33,24,20,28,27,20,42,34,32,19,34,40,12,28,25,33,18,31,19,39,35,14,20,24,20,12,17,31,23,36,17,16,38,30,11,27,28,25,26,25,58,14,29,21,33,38,38,44,35,32,33,30,32,61,23,28,32,15],\"y0\":\" \",\"yaxis\":\"y\",\"type\":\"box\"}],                        {\"template\":{\"data\":{\"bar\":[{\"error_x\":{\"color\":\"#2a3f5f\"},\"error_y\":{\"color\":\"#2a3f5f\"},\"marker\":{\"line\":{\"color\":\"#E5ECF6\",\"width\":0.5},\"pattern\":{\"fillmode\":\"overlay\",\"size\":10,\"solidity\":0.2}},\"type\":\"bar\"}],\"barpolar\":[{\"marker\":{\"line\":{\"color\":\"#E5ECF6\",\"width\":0.5},\"pattern\":{\"fillmode\":\"overlay\",\"size\":10,\"solidity\":0.2}},\"type\":\"barpolar\"}],\"carpet\":[{\"aaxis\":{\"endlinecolor\":\"#2a3f5f\",\"gridcolor\":\"white\",\"linecolor\":\"white\",\"minorgridcolor\":\"white\",\"startlinecolor\":\"#2a3f5f\"},\"baxis\":{\"endlinecolor\":\"#2a3f5f\",\"gridcolor\":\"white\",\"linecolor\":\"white\",\"minorgridcolor\":\"white\",\"startlinecolor\":\"#2a3f5f\"},\"type\":\"carpet\"}],\"choropleth\":[{\"colorbar\":{\"outlinewidth\":0,\"ticks\":\"\"},\"type\":\"choropleth\"}],\"contour\":[{\"colorbar\":{\"outlinewidth\":0,\"ticks\":\"\"},\"colorscale\":[[0.0,\"#0d0887\"],[0.1111111111111111,\"#46039f\"],[0.2222222222222222,\"#7201a8\"],[0.3333333333333333,\"#9c179e\"],[0.4444444444444444,\"#bd3786\"],[0.5555555555555556,\"#d8576b\"],[0.6666666666666666,\"#ed7953\"],[0.7777777777777778,\"#fb9f3a\"],[0.8888888888888888,\"#fdca26\"],[1.0,\"#f0f921\"]],\"type\":\"contour\"}],\"contourcarpet\":[{\"colorbar\":{\"outlinewidth\":0,\"ticks\":\"\"},\"type\":\"contourcarpet\"}],\"heatmap\":[{\"colorbar\":{\"outlinewidth\":0,\"ticks\":\"\"},\"colorscale\":[[0.0,\"#0d0887\"],[0.1111111111111111,\"#46039f\"],[0.2222222222222222,\"#7201a8\"],[0.3333333333333333,\"#9c179e\"],[0.4444444444444444,\"#bd3786\"],[0.5555555555555556,\"#d8576b\"],[0.6666666666666666,\"#ed7953\"],[0.7777777777777778,\"#fb9f3a\"],[0.8888888888888888,\"#fdca26\"],[1.0,\"#f0f921\"]],\"type\":\"heatmap\"}],\"heatmapgl\":[{\"colorbar\":{\"outlinewidth\":0,\"ticks\":\"\"},\"colorscale\":[[0.0,\"#0d0887\"],[0.1111111111111111,\"#46039f\"],[0.2222222222222222,\"#7201a8\"],[0.3333333333333333,\"#9c179e\"],[0.4444444444444444,\"#bd3786\"],[0.5555555555555556,\"#d8576b\"],[0.6666666666666666,\"#ed7953\"],[0.7777777777777778,\"#fb9f3a\"],[0.8888888888888888,\"#fdca26\"],[1.0,\"#f0f921\"]],\"type\":\"heatmapgl\"}],\"histogram\":[{\"marker\":{\"pattern\":{\"fillmode\":\"overlay\",\"size\":10,\"solidity\":0.2}},\"type\":\"histogram\"}],\"histogram2d\":[{\"colorbar\":{\"outlinewidth\":0,\"ticks\":\"\"},\"colorscale\":[[0.0,\"#0d0887\"],[0.1111111111111111,\"#46039f\"],[0.2222222222222222,\"#7201a8\"],[0.3333333333333333,\"#9c179e\"],[0.4444444444444444,\"#bd3786\"],[0.5555555555555556,\"#d8576b\"],[0.6666666666666666,\"#ed7953\"],[0.7777777777777778,\"#fb9f3a\"],[0.8888888888888888,\"#fdca26\"],[1.0,\"#f0f921\"]],\"type\":\"histogram2d\"}],\"histogram2dcontour\":[{\"colorbar\":{\"outlinewidth\":0,\"ticks\":\"\"},\"colorscale\":[[0.0,\"#0d0887\"],[0.1111111111111111,\"#46039f\"],[0.2222222222222222,\"#7201a8\"],[0.3333333333333333,\"#9c179e\"],[0.4444444444444444,\"#bd3786\"],[0.5555555555555556,\"#d8576b\"],[0.6666666666666666,\"#ed7953\"],[0.7777777777777778,\"#fb9f3a\"],[0.8888888888888888,\"#fdca26\"],[1.0,\"#f0f921\"]],\"type\":\"histogram2dcontour\"}],\"mesh3d\":[{\"colorbar\":{\"outlinewidth\":0,\"ticks\":\"\"},\"type\":\"mesh3d\"}],\"parcoords\":[{\"line\":{\"colorbar\":{\"outlinewidth\":0,\"ticks\":\"\"}},\"type\":\"parcoords\"}],\"pie\":[{\"automargin\":true,\"type\":\"pie\"}],\"scatter\":[{\"marker\":{\"colorbar\":{\"outlinewidth\":0,\"ticks\":\"\"}},\"type\":\"scatter\"}],\"scatter3d\":[{\"line\":{\"colorbar\":{\"outlinewidth\":0,\"ticks\":\"\"}},\"marker\":{\"colorbar\":{\"outlinewidth\":0,\"ticks\":\"\"}},\"type\":\"scatter3d\"}],\"scattercarpet\":[{\"marker\":{\"colorbar\":{\"outlinewidth\":0,\"ticks\":\"\"}},\"type\":\"scattercarpet\"}],\"scattergeo\":[{\"marker\":{\"colorbar\":{\"outlinewidth\":0,\"ticks\":\"\"}},\"type\":\"scattergeo\"}],\"scattergl\":[{\"marker\":{\"colorbar\":{\"outlinewidth\":0,\"ticks\":\"\"}},\"type\":\"scattergl\"}],\"scattermapbox\":[{\"marker\":{\"colorbar\":{\"outlinewidth\":0,\"ticks\":\"\"}},\"type\":\"scattermapbox\"}],\"scatterpolar\":[{\"marker\":{\"colorbar\":{\"outlinewidth\":0,\"ticks\":\"\"}},\"type\":\"scatterpolar\"}],\"scatterpolargl\":[{\"marker\":{\"colorbar\":{\"outlinewidth\":0,\"ticks\":\"\"}},\"type\":\"scatterpolargl\"}],\"scatterternary\":[{\"marker\":{\"colorbar\":{\"outlinewidth\":0,\"ticks\":\"\"}},\"type\":\"scatterternary\"}],\"surface\":[{\"colorbar\":{\"outlinewidth\":0,\"ticks\":\"\"},\"colorscale\":[[0.0,\"#0d0887\"],[0.1111111111111111,\"#46039f\"],[0.2222222222222222,\"#7201a8\"],[0.3333333333333333,\"#9c179e\"],[0.4444444444444444,\"#bd3786\"],[0.5555555555555556,\"#d8576b\"],[0.6666666666666666,\"#ed7953\"],[0.7777777777777778,\"#fb9f3a\"],[0.8888888888888888,\"#fdca26\"],[1.0,\"#f0f921\"]],\"type\":\"surface\"}],\"table\":[{\"cells\":{\"fill\":{\"color\":\"#EBF0F8\"},\"line\":{\"color\":\"white\"}},\"header\":{\"fill\":{\"color\":\"#C8D4E3\"},\"line\":{\"color\":\"white\"}},\"type\":\"table\"}]},\"layout\":{\"annotationdefaults\":{\"arrowcolor\":\"#2a3f5f\",\"arrowhead\":0,\"arrowwidth\":1},\"autotypenumbers\":\"strict\",\"coloraxis\":{\"colorbar\":{\"outlinewidth\":0,\"ticks\":\"\"}},\"colorscale\":{\"diverging\":[[0,\"#8e0152\"],[0.1,\"#c51b7d\"],[0.2,\"#de77ae\"],[0.3,\"#f1b6da\"],[0.4,\"#fde0ef\"],[0.5,\"#f7f7f7\"],[0.6,\"#e6f5d0\"],[0.7,\"#b8e186\"],[0.8,\"#7fbc41\"],[0.9,\"#4d9221\"],[1,\"#276419\"]],\"sequential\":[[0.0,\"#0d0887\"],[0.1111111111111111,\"#46039f\"],[0.2222222222222222,\"#7201a8\"],[0.3333333333333333,\"#9c179e\"],[0.4444444444444444,\"#bd3786\"],[0.5555555555555556,\"#d8576b\"],[0.6666666666666666,\"#ed7953\"],[0.7777777777777778,\"#fb9f3a\"],[0.8888888888888888,\"#fdca26\"],[1.0,\"#f0f921\"]],\"sequentialminus\":[[0.0,\"#0d0887\"],[0.1111111111111111,\"#46039f\"],[0.2222222222222222,\"#7201a8\"],[0.3333333333333333,\"#9c179e\"],[0.4444444444444444,\"#bd3786\"],[0.5555555555555556,\"#d8576b\"],[0.6666666666666666,\"#ed7953\"],[0.7777777777777778,\"#fb9f3a\"],[0.8888888888888888,\"#fdca26\"],[1.0,\"#f0f921\"]]},\"colorway\":[\"#636efa\",\"#EF553B\",\"#00cc96\",\"#ab63fa\",\"#FFA15A\",\"#19d3f3\",\"#FF6692\",\"#B6E880\",\"#FF97FF\",\"#FECB52\"],\"font\":{\"color\":\"#2a3f5f\"},\"geo\":{\"bgcolor\":\"white\",\"lakecolor\":\"white\",\"landcolor\":\"#E5ECF6\",\"showlakes\":true,\"showland\":true,\"subunitcolor\":\"white\"},\"hoverlabel\":{\"align\":\"left\"},\"hovermode\":\"closest\",\"mapbox\":{\"style\":\"light\"},\"paper_bgcolor\":\"white\",\"plot_bgcolor\":\"#E5ECF6\",\"polar\":{\"angularaxis\":{\"gridcolor\":\"white\",\"linecolor\":\"white\",\"ticks\":\"\"},\"bgcolor\":\"#E5ECF6\",\"radialaxis\":{\"gridcolor\":\"white\",\"linecolor\":\"white\",\"ticks\":\"\"}},\"scene\":{\"xaxis\":{\"backgroundcolor\":\"#E5ECF6\",\"gridcolor\":\"white\",\"gridwidth\":2,\"linecolor\":\"white\",\"showbackground\":true,\"ticks\":\"\",\"zerolinecolor\":\"white\"},\"yaxis\":{\"backgroundcolor\":\"#E5ECF6\",\"gridcolor\":\"white\",\"gridwidth\":2,\"linecolor\":\"white\",\"showbackground\":true,\"ticks\":\"\",\"zerolinecolor\":\"white\"},\"zaxis\":{\"backgroundcolor\":\"#E5ECF6\",\"gridcolor\":\"white\",\"gridwidth\":2,\"linecolor\":\"white\",\"showbackground\":true,\"ticks\":\"\",\"zerolinecolor\":\"white\"}},\"shapedefaults\":{\"line\":{\"color\":\"#2a3f5f\"}},\"ternary\":{\"aaxis\":{\"gridcolor\":\"white\",\"linecolor\":\"white\",\"ticks\":\"\"},\"baxis\":{\"gridcolor\":\"white\",\"linecolor\":\"white\",\"ticks\":\"\"},\"bgcolor\":\"#E5ECF6\",\"caxis\":{\"gridcolor\":\"white\",\"linecolor\":\"white\",\"ticks\":\"\"}},\"title\":{\"x\":0.05},\"xaxis\":{\"automargin\":true,\"gridcolor\":\"white\",\"linecolor\":\"white\",\"ticks\":\"\",\"title\":{\"standoff\":15},\"zerolinecolor\":\"white\",\"zerolinewidth\":2},\"yaxis\":{\"automargin\":true,\"gridcolor\":\"white\",\"linecolor\":\"white\",\"ticks\":\"\",\"title\":{\"standoff\":15},\"zerolinecolor\":\"white\",\"zerolinewidth\":2}}},\"xaxis\":{\"anchor\":\"y\",\"domain\":[0.0,1.0]},\"yaxis\":{\"anchor\":\"x\",\"domain\":[0.0,1.0],\"title\":{\"text\":\"Number of Tokens in Sentence\"}},\"legend\":{\"tracegroupgap\":0},\"margin\":{\"t\":60},\"boxmode\":\"group\"},                        {\"responsive\": true}                    ).then(function(){\n",
       "                            \n",
       "var gd = document.getElementById('017fae1d-1a88-4564-a867-4e8bdd5b7502');\n",
       "var x = new MutationObserver(function (mutations, observer) {{\n",
       "        var display = window.getComputedStyle(gd).display;\n",
       "        if (!display || display === 'none') {{\n",
       "            console.log([gd, 'removed!']);\n",
       "            Plotly.purge(gd);\n",
       "            observer.disconnect();\n",
       "        }}\n",
       "}});\n",
       "\n",
       "// Listen for the removal of the full notebook cells\n",
       "var notebookContainer = gd.closest('#notebook-container');\n",
       "if (notebookContainer) {{\n",
       "    x.observe(notebookContainer, {childList: true});\n",
       "}}\n",
       "\n",
       "// Listen for the clearing of the current output cell\n",
       "var outputEl = gd.closest('.output');\n",
       "if (outputEl) {{\n",
       "    x.observe(outputEl, {childList: true});\n",
       "}}\n",
       "\n",
       "                        })                };                });            </script>        </div>"
      ]
     },
     "metadata": {},
     "output_type": "display_data"
    }
   ],
   "source": [
    "# Verify that indeed the number of tokens in each sentence is less than the maximum sequence length of 128\n",
    "# Visualize the distribution of the number of tokens in each sentence\n",
    "fig = px.box(news_data_sentence, y=\"num_tokens\",\n",
    "            points=\"all\",\n",
    "            labels={\"num_tokens\": \"Number of Tokens in Sentence\"},\n",
    "            hover_data=[\"title\", \"sentences\"])\n",
    "fig.show()"
   ]
  },
  {
   "cell_type": "markdown",
   "id": "6b2a3853",
   "metadata": {},
   "source": [
    "With the exception of an outlier sentence with 131 tokens, the rest of the sentences have less than 128 tokens, meaning to say they will not be truncated during inference; no information loss due to truncation. Even for the outlier sentence, information loss due to truncation is minimal, only a loss of 5 tokens (although 128 tokens, we have to allocate 2 token spaces for the CLS and SEP tokens; meaning that we effectively only have space for 126 tokens; 131 - 126 = 5)"
   ]
  },
  {
   "cell_type": "code",
   "execution_count": 89,
   "id": "47e44640",
   "metadata": {},
   "outputs": [],
   "source": [
    "# Visualize the top 50 words in the news\n",
    "\n",
    "# Get stopwords and remove punctuations from them\n",
    "stop_words = [re.sub(r\"[^a-z]\", \"\", stopword) for stopword in stopwords.words(\"english\")] + [\"ha\"]"
   ]
  },
  {
   "cell_type": "code",
   "execution_count": 65,
   "id": "80401e4b",
   "metadata": {},
   "outputs": [],
   "source": [
    "# Initialize Stemmer\n",
    "stemmer = PorterStemmer()"
   ]
  },
  {
   "cell_type": "code",
   "execution_count": 112,
   "id": "4f259797",
   "metadata": {},
   "outputs": [],
   "source": [
    "def process_sentence(sentence, stop_words = None, stemmer = None):\n",
    "    \"\"\"\n",
    "        Function to process sentence. Does the following:\n",
    "        \n",
    "        1) Convert to lowercase\n",
    "        2) Remove non-alphabetic characters\n",
    "        3) Perform stemming\n",
    "        4) Extract Bigrams\n",
    "        5) Remove stopwords\n",
    "        \n",
    "        Returns string\n",
    "    \"\"\"\n",
    "    # Convert to lowercase\n",
    "    sentence = sentence.lower()\n",
    "    \n",
    "    # Remove non-alphabetic characters\n",
    "    sentence = re.sub(r\"[^a-z ]\", \"\", sentence)\n",
    "    \n",
    "    # Remove stopwords\n",
    "    tokens = [token for token in sentence.split() if token not in stop_words]\n",
    "    \n",
    "    # Perform stemming\n",
    "    tokens = [stemmer.stem(word) for word in tokens]\n",
    "    \n",
    "    # Extract Bigrams\n",
    "    bigrams = [\"_\".join(tokens[i:i+2]) for i in range(len(tokens)-1)]\n",
    "    \n",
    "    # Return tokens + bigrams\n",
    "    return \" \".join([token for token in (tokens + bigrams)])"
   ]
  },
  {
   "cell_type": "code",
   "execution_count": 113,
   "id": "89dfd28c",
   "metadata": {},
   "outputs": [],
   "source": [
    "news_data_sentence[\"processed_sentences\"] = news_data_sentence.sentences.apply(\n",
    "    lambda sentence: process_sentence(sentence, stop_words, stemmer))"
   ]
  },
  {
   "cell_type": "code",
   "execution_count": 114,
   "id": "104a770e",
   "metadata": {},
   "outputs": [
    {
     "data": {
      "text/plain": [
       "'world number one lindsay davenport criticis wimbledon issu equal prize money women world_number number_one one_lindsay lindsay_davenport davenport_criticis criticis_wimbledon wimbledon_issu issu_equal equal_prize prize_money money_women'"
      ]
     },
     "execution_count": 114,
     "metadata": {},
     "output_type": "execute_result"
    }
   ],
   "source": [
    "news_data_sentence[\"processed_sentences\"][0]"
   ]
  },
  {
   "cell_type": "code",
   "execution_count": 115,
   "id": "583f574b",
   "metadata": {},
   "outputs": [],
   "source": [
    "# Calculate the frequency of each token (Do by tf-idf instead, by tf need to clean a lot of stopwords for things to make sense)\n",
    "freq = pd.Series(\" \".join(news_data_sentence.processed_sentences).split()).value_counts().to_frame(name=\"freq_counts\")"
   ]
  },
  {
   "cell_type": "code",
   "execution_count": 120,
   "id": "f7b8f6cd",
   "metadata": {},
   "outputs": [
    {
     "data": {
      "text/html": [
       "<div>\n",
       "<style scoped>\n",
       "    .dataframe tbody tr th:only-of-type {\n",
       "        vertical-align: middle;\n",
       "    }\n",
       "\n",
       "    .dataframe tbody tr th {\n",
       "        vertical-align: top;\n",
       "    }\n",
       "\n",
       "    .dataframe thead th {\n",
       "        text-align: right;\n",
       "    }\n",
       "</style>\n",
       "<table border=\"1\" class=\"dataframe\">\n",
       "  <thead>\n",
       "    <tr style=\"text-align: right;\">\n",
       "      <th></th>\n",
       "      <th>freq_counts</th>\n",
       "    </tr>\n",
       "  </thead>\n",
       "  <tbody>\n",
       "    <tr>\n",
       "      <th>said</th>\n",
       "      <td>206</td>\n",
       "    </tr>\n",
       "    <tr>\n",
       "      <th>mr</th>\n",
       "      <td>128</td>\n",
       "    </tr>\n",
       "    <tr>\n",
       "      <th>year</th>\n",
       "      <td>84</td>\n",
       "    </tr>\n",
       "    <tr>\n",
       "      <th>would</th>\n",
       "      <td>76</td>\n",
       "    </tr>\n",
       "    <tr>\n",
       "      <th>peopl</th>\n",
       "      <td>73</td>\n",
       "    </tr>\n",
       "    <tr>\n",
       "      <th>also</th>\n",
       "      <td>68</td>\n",
       "    </tr>\n",
       "    <tr>\n",
       "      <th>world</th>\n",
       "      <td>50</td>\n",
       "    </tr>\n",
       "    <tr>\n",
       "      <th>new</th>\n",
       "      <td>46</td>\n",
       "    </tr>\n",
       "    <tr>\n",
       "      <th>say</th>\n",
       "      <td>44</td>\n",
       "    </tr>\n",
       "    <tr>\n",
       "      <th>one</th>\n",
       "      <td>42</td>\n",
       "    </tr>\n",
       "  </tbody>\n",
       "</table>\n",
       "</div>"
      ],
      "text/plain": [
       "       freq_counts\n",
       "said           206\n",
       "mr             128\n",
       "year            84\n",
       "would           76\n",
       "peopl           73\n",
       "also            68\n",
       "world           50\n",
       "new             46\n",
       "say             44\n",
       "one             42"
      ]
     },
     "execution_count": 120,
     "metadata": {},
     "output_type": "execute_result"
    }
   ],
   "source": [
    "freq.head(10)"
   ]
  },
  {
   "cell_type": "code",
   "execution_count": null,
   "id": "7c2411be",
   "metadata": {},
   "outputs": [],
   "source": []
  }
 ],
 "metadata": {
  "kernelspec": {
   "display_name": "Python 3 (ipykernel)",
   "language": "python",
   "name": "python3"
  },
  "language_info": {
   "codemirror_mode": {
    "name": "ipython",
    "version": 3
   },
   "file_extension": ".py",
   "mimetype": "text/x-python",
   "name": "python",
   "nbconvert_exporter": "python",
   "pygments_lexer": "ipython3",
   "version": "3.7.11"
  }
 },
 "nbformat": 4,
 "nbformat_minor": 5
}
