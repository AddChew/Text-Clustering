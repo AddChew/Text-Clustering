{
 "cells": [
  {
   "cell_type": "code",
   "execution_count": 15,
   "id": "14186c65",
   "metadata": {},
   "outputs": [],
   "source": [
    "# import nltk\n",
    "# nltk.download('punkt')\n",
    "\n",
    "import pandas as pd\n",
    "from nltk.tokenize import sent_tokenize"
   ]
  },
  {
   "cell_type": "code",
   "execution_count": 29,
   "id": "e171ce6a",
   "metadata": {},
   "outputs": [],
   "source": [
    "df = pd.read_csv(\"news_data.csv\")"
   ]
  },
  {
   "cell_type": "code",
   "execution_count": 30,
   "id": "99f664f9",
   "metadata": {},
   "outputs": [],
   "source": [
    "df[\"num_words\"] = df.content.str.lower() \\\n",
    "                            .str.replace(r\"[^a-z ]\", \"\", regex = True) \\\n",
    "                            .str.split() \\\n",
    "                            .str.len()"
   ]
  },
  {
   "cell_type": "markdown",
   "id": "bb6dc22a",
   "metadata": {},
   "source": [
    "### Split by sentences"
   ]
  },
  {
   "cell_type": "code",
   "execution_count": 43,
   "id": "794527b6",
   "metadata": {},
   "outputs": [],
   "source": [
    "# Split article by sentence\n",
    "df[\"sentences\"] = df.content.apply(sent_tokenize)"
   ]
  },
  {
   "cell_type": "code",
   "execution_count": 50,
   "id": "05284980",
   "metadata": {},
   "outputs": [],
   "source": [
    "# Put each sentence into its own row\n",
    "sentence_df = df[[\"title\", \"sentences\"]].explode(column = \"sentences\", ignore_index = True)"
   ]
  },
  {
   "cell_type": "code",
   "execution_count": 53,
   "id": "40e37135",
   "metadata": {},
   "outputs": [],
   "source": [
    "sentence_df[\"num_words\"] = sentence_df.sentences.str.lower() \\\n",
    "                                                .str.replace(r\"[^a-z ]\", \"\", regex = True) \\\n",
    "                                                .str.split() \\\n",
    "                                                .str.len()"
   ]
  },
  {
   "cell_type": "code",
   "execution_count": 55,
   "id": "6c69f981",
   "metadata": {},
   "outputs": [
    {
     "data": {
      "text/plain": [
       "count    1139.000000\n",
       "mean       20.238806\n",
       "std         8.341305\n",
       "min         2.000000\n",
       "25%        15.000000\n",
       "50%        19.000000\n",
       "75%        25.000000\n",
       "max       105.000000\n",
       "Name: num_words, dtype: float64"
      ]
     },
     "execution_count": 55,
     "metadata": {},
     "output_type": "execute_result"
    }
   ],
   "source": [
    "sentence_df.num_words.describe()"
   ]
  },
  {
   "cell_type": "code",
   "execution_count": 56,
   "id": "1152877f",
   "metadata": {},
   "outputs": [],
   "source": [
    "sentence_df.to_csv(\"news_data_sentences.csv\", index = False)"
   ]
  },
  {
   "cell_type": "code",
   "execution_count": null,
   "id": "56a1aed0",
   "metadata": {},
   "outputs": [],
   "source": []
  }
 ],
 "metadata": {
  "kernelspec": {
   "display_name": "Python 3 (ipykernel)",
   "language": "python",
   "name": "python3"
  },
  "language_info": {
   "codemirror_mode": {
    "name": "ipython",
    "version": 3
   },
   "file_extension": ".py",
   "mimetype": "text/x-python",
   "name": "python",
   "nbconvert_exporter": "python",
   "pygments_lexer": "ipython3",
   "version": "3.7.11"
  }
 },
 "nbformat": 4,
 "nbformat_minor": 5
}
